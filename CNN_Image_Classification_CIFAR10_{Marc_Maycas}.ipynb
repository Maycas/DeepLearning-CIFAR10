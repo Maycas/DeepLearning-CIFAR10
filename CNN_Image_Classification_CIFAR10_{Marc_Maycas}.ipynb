{
  "cells": [
    {
      "cell_type": "markdown",
      "metadata": {
        "id": "dWY7kSPW9oJm"
      },
      "source": [
        "![Nuclio logo](https://nuclio.school/wp-content/uploads/2018/12/nucleoDS-newBlack.png)"
      ]
    },
    {
      "cell_type": "markdown",
      "metadata": {
        "id": "vtYbGHwAiZh-"
      },
      "source": [
        "# Deep Learning - Using Neural Networks to classify CIFAR10 Images\n",
        "\n",
        "Can you classify an image from the CIFAR10 image library using a Neural Network?\n",
        "\n",
        "## Table of Contents\n",
        "\n",
        "* [1. Introduction](#introduction)\n",
        "* [2. Importing libraries](#libraries)\n",
        "* [3. Importing and preparing the data](#data)\n",
        "* [4. Neural Network models](#nn_models)\n",
        "    * [4.1. Simplest model](#simplest_model)\n",
        "        * [4.1.1. Model definition](#model_definition)\n",
        "        * [4.1.2. Optimizer, error function](#optimizer_error)\n",
        "        * [4.1.3. Model training](#training)\n",
        "        * [4.1.4. Model evaluation](#evaluation)\n",
        "    * [4.2. Adding more Dense layers](#more_dense_layers)\n",
        "    * [4.3. Do batch sizes matter?](#batch_sizes)\n",
        "    * [4.4. Exploring the effects of adding Dropout](#dropout)\n",
        "    * [4.5. Simple Convolutional Neural Network](#simple_cnn)\n",
        "    * [4.6. Extending the Convolutional Neural Network](#cnn_extended)\n",
        "    * [4.7. Fine tuning the convolutional layer a little bit more](#cnn_tunning)\n",
        "    * [4.8. Adam Optimizer parameters fine tuning](#adam_tuning)\n",
        "    * [4.9. Using Data Augmentation](#data_augmentation)\n",
        "        * [4.9.1. Creating an image train generator](#train_generator)\n",
        "        * [4.9.2. Training the model with the image train generator](#train_generator_training_model)\n",
        "    * [4.10. Using an already trained 3rd party model (Transfer Learning)](#transfer_learning)\n",
        "* [5. Models comparison](#comparison)"
      ]
    },
    {
      "cell_type": "markdown",
      "metadata": {
        "id": "LhuRAp6JbKeV"
      },
      "source": [
        "## 1. Introduction <a class=\"anchor\" id=\"introduction\"></a>\n",
        "\n",
        "The main goal of this project is to test several Neural Networks configurations in order to do the proper classification of the CIFAR10 image dataset."
      ]
    },
    {
      "cell_type": "markdown",
      "metadata": {
        "id": "e5awq5ZU9oJn"
      },
      "source": [
        "## 2. Importing libraries <a class=\"anchor\" id=\"libraries\"></a>"
      ]
    },
    {
      "cell_type": "code",
      "execution_count": 18,
      "metadata": {
        "id": "6e89W2u_9oJo"
      },
      "outputs": [],
      "source": [
        "# data manipulation libraries\n",
        "import numpy as np\n",
        "import pandas as pd\n",
        "\n",
        "# neural network libraries\n",
        "from tensorflow import keras as ks\n",
        "from tensorflow.keras.callbacks import EarlyStopping\n",
        "from tensorflow.keras.preprocessing.image import ImageDataGenerator\n",
        "from tensorflow.keras.optimizers import Adam\n",
        "from tensorflow.keras.applications import vgg16\n",
        "from tensorflow.keras.models import Model\n",
        "\n",
        "# plotting libraries\n",
        "from matplotlib import pyplot as plt\n",
        "\n",
        "# time libraries\n",
        "import time\n",
        "import datetime"
      ]
    },
    {
      "cell_type": "code",
      "execution_count": 19,
      "metadata": {
        "id": "NoGtbCzWgJzy"
      },
      "outputs": [],
      "source": [
        "# constants\n",
        "EPOCHS = 100\n",
        "INPUT_SHAPE = (32, 32, 3)\n",
        "ACC_TARGET = 0.8 # accuracy target we want to at least achieve with our models"
      ]
    },
    {
      "cell_type": "markdown",
      "metadata": {
        "id": "u9zAKyhKcZN-"
      },
      "source": [
        "## 3. Importing and preparing the data <a class=\"anchor\" id=\"data\"></a>"
      ]
    },
    {
      "cell_type": "markdown",
      "metadata": {
        "id": "C7DMbMPWc4oR"
      },
      "source": [
        "CIFAR10 is an existing dataset already available in the Keras library. These are already ready in train and test datasets (we'll need to create the validation dataset later).\n",
        "\n",
        "**Important detail:**\n",
        "> The neural network requires the inputs to be real numbers, and we will do it by forcing the division of the values ​​within the 28x28 matrices (which have values​​ from 0 to 255) by 255.0 (a real)"
      ]
    },
    {
      "cell_type": "code",
      "execution_count": 20,
      "metadata": {
        "id": "OD46dV17dt6U"
      },
      "outputs": [],
      "source": [
        "cifar10 = ks.datasets.cifar10\n",
        "(x_train, y_train), (x_test, y_test) = cifar10.load_data()\n",
        "x_train, x_test = x_train / 255.0, x_test / 255.0"
      ]
    },
    {
      "cell_type": "markdown",
      "metadata": {
        "id": "71MqCgF7eEGc"
      },
      "source": [
        "Let's explore the data to see what we have."
      ]
    },
    {
      "cell_type": "code",
      "execution_count": 21,
      "metadata": {
        "colab": {
          "base_uri": "https://localhost:8080/"
        },
        "id": "ng6qgszVhz5C",
        "outputId": "282815d0-ce95-4bb6-d2c7-0bae277564c2"
      },
      "outputs": [
        {
          "output_type": "stream",
          "name": "stdout",
          "text": [
            "Train: X = (50000, 32, 32, 3), y = (50000, 1)\n",
            "Test: X = (10000, 32, 32, 3), y = (10000, 1)\n"
          ]
        }
      ],
      "source": [
        "print('Train: X = %s, y = %s' % (x_train.shape, y_train.shape))\n",
        "print('Test: X = %s, y = %s' % (x_test.shape, y_test.shape))"
      ]
    },
    {
      "cell_type": "markdown",
      "metadata": {
        "id": "fmMIFvQviF4K"
      },
      "source": [
        "For training, we have 50000 images of 32x32 pixels, split in the color channels (R, G, B). For testing, we only have 1000 images, but, obviously, of the same format as the training dataset.\n",
        "\n",
        "Let's see what are the different categories we have in the dataset."
      ]
    },
    {
      "cell_type": "code",
      "execution_count": 22,
      "metadata": {
        "colab": {
          "base_uri": "https://localhost:8080/"
        },
        "id": "UbUEb0owi_Si",
        "outputId": "3fe14011-6bfb-4611-a5f8-9e54838c05fd"
      },
      "outputs": [
        {
          "output_type": "execute_result",
          "data": {
            "text/plain": [
              "array([0, 1, 2, 3, 4, 5, 6, 7, 8, 9], dtype=uint8)"
            ]
          },
          "metadata": {},
          "execution_count": 22
        }
      ],
      "source": [
        "np.unique(y_train)"
      ]
    },
    {
      "cell_type": "markdown",
      "metadata": {
        "id": "EluUfJNVkHP1"
      },
      "source": [
        "As expected, there are 10 categories that are already encoded into numbers. However, we will generate a label list for future plotting purposes."
      ]
    },
    {
      "cell_type": "code",
      "execution_count": 23,
      "metadata": {
        "colab": {
          "base_uri": "https://localhost:8080/"
        },
        "id": "u4bhmZ9AermK",
        "outputId": "fa9da566-1333-4732-cdd2-f691201a7f73"
      },
      "outputs": [
        {
          "output_type": "stream",
          "name": "stdout",
          "text": [
            "Number of labels: 10\n"
          ]
        }
      ],
      "source": [
        "cifar10_labels = [\n",
        "'airplane', # id 0\n",
        "'automobile', # id 1\n",
        "'bird', # id 2\n",
        "'cat', # id 3\n",
        "'deer', # id 4\n",
        "'dog', # id 5\n",
        "'frog', # id 6\n",
        "'horse', # id 7\n",
        "'ship', # id 8\n",
        "'truck', # id 9\n",
        "]\n",
        "\n",
        "print('Number of labels: %s' % len(cifar10_labels))"
      ]
    },
    {
      "cell_type": "markdown",
      "metadata": {
        "id": "wnJ_AAsUe58S"
      },
      "source": [
        "Let's show a sample of the images from the CIFAR10 dataset, to see if it looks anything like what we expect.\n",
        "\n",
        "First, we see what types of data we have, then we map those arrays in a grayscale using the **. Get_cmap ()** method of Plotly with the first nine numbers of the dataset."
      ]
    },
    {
      "cell_type": "code",
      "execution_count": 24,
      "metadata": {
        "colab": {
          "base_uri": "https://localhost:8080/",
          "height": 316
        },
        "id": "nutbRgW2fQJD",
        "outputId": "5ec78740-b101-467a-b97c-b9cddce14ae2"
      },
      "outputs": [
        {
          "output_type": "stream",
          "name": "stdout",
          "text": [
            "Train: X=(50000, 32, 32, 3), y=(50000, 1)\n",
            "Test: X=(10000, 32, 32, 3), y=(10000, 1)\n"
          ]
        },
        {
          "output_type": "display_data",
          "data": {
            "image/png": "[encoded data removed]",
            "text/plain": [
              "<Figure size 432x288 with 9 Axes>"
            ]
          },
          "metadata": {
            "needs_background": "light"
          }
        }
      ],
      "source": [
        "# Let's show a sample of the images of CIFAR10\n",
        "\n",
        "print('Train: X=%s, y=%s' % (x_train.shape, y_train.shape))\n",
        "print('Test: X=%s, y=%s' % (x_test.shape, y_test.shape))\n",
        "\n",
        "for i in range(9):\n",
        "\n",
        "    plt.subplot(330 + 1 + i)\n",
        "    plt.imshow(x_train[i], cmap = plt.get_cmap('gray'))\n",
        "    plt.title(cifar10_labels[y_train[i,0]])\n",
        "\n",
        "plt.subplots_adjust(hspace = 1)\n",
        "plt.show()"
      ]
    },
    {
      "cell_type": "markdown",
      "metadata": {
        "id": "pj5shRnYfM6B"
      },
      "source": [
        "Let's start preparing the datasets for the models we will train. \n",
        "\n",
        "We are we going to validate while we train (very practical). We'll be removing the last 10000 entries in `x_train` for our validation dataset. "
      ]
    },
    {
      "cell_type": "code",
      "execution_count": 26,
      "metadata": {
        "id": "qnNcWFfUfpZw"
      },
      "outputs": [],
      "source": [
        "# generating the validation dataset\n",
        "x_val = x_train[-10000:]\n",
        "y_val = y_train[-10000:]\n",
        "\n",
        "# modifying the training dataset to exclude the validation dataset\n",
        "x_train = x_train[:-10000]\n",
        "y_train = y_train[:-10000]"
      ]
    },
    {
      "cell_type": "markdown",
      "metadata": {
        "id": "vN3z9WfHgUR2"
      },
      "source": [
        "When we add convolution layers, we need to \"pre-treat the data\", because **the convolution expects an array of 4 fields** (more like coloured \"images\"), in the case of MNIST. However, CIFAR10 already has the right shape, so we don't have to do anything, but as we always say: you should better check its size.\n",
        "\n",
        "Therefore, when exiting the Convolution, you always have to do a Flatten, because FullDense layers expect arrays, not matrices !!\n",
        "\n",
        "Let's validate the format."
      ]
    },
    {
      "cell_type": "code",
      "execution_count": 27,
      "metadata": {
        "colab": {
          "base_uri": "https://localhost:8080/"
        },
        "id": "tMu4txbogaC-",
        "outputId": "5752a7d5-2745-4ecf-ef3f-611b784f6075"
      },
      "outputs": [
        {
          "output_type": "stream",
          "name": "stdout",
          "text": [
            "Train: X = (40000, 32, 32, 3), y = (40000, 1)\n",
            "Test: X = (10000, 32, 32, 3), y = (10000, 1)\n",
            "Validation: X = (10000, 32, 32, 3), y = (10000, 1)\n"
          ]
        }
      ],
      "source": [
        "# We validate the result\n",
        "print('Train: X = %s, y = %s' % (x_train.shape, y_train.shape))\n",
        "print('Test: X = %s, y = %s' % (x_test.shape, y_test.shape))\n",
        "print('Validation: X = %s, y = %s' % (x_val.shape, y_val.shape))"
      ]
    },
    {
      "cell_type": "markdown",
      "metadata": {
        "id": "6_dptlpJ9oJp"
      },
      "source": [
        "## 4. Neural Network Models <a class=\"anchor\" id=\"nn_models\"></a>"
      ]
    },
    {
      "cell_type": "markdown",
      "metadata": {
        "id": "VL-BxxMUwKGb"
      },
      "source": [
        "In the following sections, we are going to define and train up to 10 different Neural Network models to see which arquitecture is providing the best accuracy.\n",
        "\n",
        "Nonetheless, before starting with the models let's set a couple of previous tunings that will help us later with the training"
      ]
    },
    {
      "cell_type": "code",
      "execution_count": 28,
      "metadata": {
        "id": "EAyT8T88nkmZ"
      },
      "outputs": [],
      "source": [
        "# defining callbacks for EarlyStopping\n",
        "callback_loss = EarlyStopping(monitor = 'val_loss', patience = 3, restore_best_weights = True)\n",
        "callback_accuracy = EarlyStopping(monitor = 'val_accuracy', patience = 3, restore_best_weights = True)\n",
        "\n",
        "# list to keep the model results for final comparison\n",
        "model_evaluations = []"
      ]
    },
    {
      "cell_type": "markdown",
      "metadata": {
        "id": "cyobCD-Nwq_K"
      },
      "source": [
        "### 4.1. Simplest model <a class=\"anchor\" id=\"simplest_model\"></a>"
      ]
    },
    {
      "cell_type": "markdown",
      "metadata": {
        "id": "8umoQ2-cpnDx"
      },
      "source": [
        "Let's start with the simplest model possible with a single Dense Layer"
      ]
    },
    {
      "cell_type": "markdown",
      "metadata": {
        "id": "lA9xDzw1eZ8M"
      },
      "source": [
        "#### 4.1.1. Model definition <a class=\"anchor\" id=\"model_definition\"></a>\n"
      ]
    },
    {
      "cell_type": "code",
      "execution_count": 29,
      "metadata": {
        "colab": {
          "base_uri": "https://localhost:8080/"
        },
        "id": "JoDemzDV9oJp",
        "outputId": "f302306a-fa8c-44f2-cb17-6eb96bc0a83e"
      },
      "outputs": [
        {
          "output_type": "stream",
          "name": "stdout",
          "text": [
            "Model: \"sequential_1\"\n",
            "_________________________________________________________________\n",
            " Layer (type)                Output Shape              Param #   \n",
            "=================================================================\n",
            " flatten_1 (Flatten)         (None, 3072)              0         \n",
            "                                                                 \n",
            " dense_2 (Dense)             (None, 128)               393344    \n",
            "                                                                 \n",
            " dense_3 (Dense)             (None, 10)                1290      \n",
            "                                                                 \n",
            "=================================================================\n",
            "Total params: 394,634\n",
            "Trainable params: 394,634\n",
            "Non-trainable params: 0\n",
            "_________________________________________________________________\n"
          ]
        }
      ],
      "source": [
        "model = ks.Sequential()\n",
        "\n",
        "# Neural Network Layers\n",
        "model.add(ks.layers.Flatten(input_shape = INPUT_SHAPE))\n",
        "model.add(ks.layers.Dense(128, activation='relu'))\n",
        "model.add(ks.layers.Dense(10, activation='softmax'))\n",
        "\n",
        "# review model\n",
        "model.summary()"
      ]
    },
    {
      "cell_type": "markdown",
      "metadata": {
        "id": "Y6bEaf7l9oJq"
      },
      "source": [
        "#### 4.1.2. Optimizer, error function <a class=\"anchor\" id=\"optimizer_error\"></a>\n"
      ]
    },
    {
      "cell_type": "code",
      "execution_count": 32,
      "metadata": {
        "id": "eDfwXObn9oJr"
      },
      "outputs": [],
      "source": [
        "# compiling model\n",
        "model.compile(optimizer='Adam',\n",
        "              loss='sparse_categorical_crossentropy',\n",
        "              metrics=['accuracy'])"
      ]
    },
    {
      "cell_type": "markdown",
      "metadata": {
        "id": "x4CSQVcD9oJu"
      },
      "source": [
        "#### 4.1.3. Training <a class=\"anchor\" id=\"training\"></a>\n",
        "\n",
        "In order to train the model we have setup a global constant of 100 EPOCHS, which we expect to never reach, as we have implemented a callback to stop training once the accuracy or the cross entropy loss doesn't improve that much. Additionally, we are going to keep the best weights to get the most optimal results for the model."
      ]
    },
    {
      "cell_type": "code",
      "execution_count": 33,
      "metadata": {
        "colab": {
          "base_uri": "https://localhost:8080/"
        },
        "id": "ecp-nOVj9oJu",
        "outputId": "e4bd265f-67de-40e4-8720-aee26d14b1ae"
      },
      "outputs": [
        {
          "output_type": "stream",
          "name": "stdout",
          "text": [
            "Epoch 1/100\n",
            "313/313 [==============================] - 2s 4ms/step - loss: 1.9600 - accuracy: 0.3068 - val_loss: 1.8550 - val_accuracy: 0.3409\n",
            "Epoch 2/100\n",
            "313/313 [==============================] - 1s 3ms/step - loss: 1.7922 - accuracy: 0.3685 - val_loss: 1.7830 - val_accuracy: 0.3730\n",
            "Epoch 3/100\n",
            "313/313 [==============================] - 1s 3ms/step - loss: 1.7187 - accuracy: 0.3921 - val_loss: 1.7141 - val_accuracy: 0.3986\n",
            "Epoch 4/100\n",
            "313/313 [==============================] - 1s 3ms/step - loss: 1.6759 - accuracy: 0.4051 - val_loss: 1.7408 - val_accuracy: 0.3910\n",
            "Epoch 5/100\n",
            "313/313 [==============================] - 1s 3ms/step - loss: 1.6413 - accuracy: 0.4189 - val_loss: 1.6766 - val_accuracy: 0.4096\n",
            "Epoch 6/100\n",
            "313/313 [==============================] - 1s 3ms/step - loss: 1.6176 - accuracy: 0.4281 - val_loss: 1.6790 - val_accuracy: 0.3953\n",
            "Epoch 7/100\n",
            "313/313 [==============================] - 1s 3ms/step - loss: 1.5981 - accuracy: 0.4344 - val_loss: 1.6220 - val_accuracy: 0.4262\n",
            "Epoch 8/100\n",
            "313/313 [==============================] - 1s 3ms/step - loss: 1.5756 - accuracy: 0.4412 - val_loss: 1.7062 - val_accuracy: 0.4026\n",
            "Epoch 9/100\n",
            "313/313 [==============================] - 1s 3ms/step - loss: 1.5689 - accuracy: 0.4431 - val_loss: 1.5933 - val_accuracy: 0.4400\n",
            "Epoch 10/100\n",
            "313/313 [==============================] - 1s 3ms/step - loss: 1.5454 - accuracy: 0.4512 - val_loss: 1.6090 - val_accuracy: 0.4266\n",
            "Epoch 11/100\n",
            "313/313 [==============================] - 1s 3ms/step - loss: 1.5327 - accuracy: 0.4590 - val_loss: 1.6365 - val_accuracy: 0.4229\n",
            "Epoch 12/100\n",
            "313/313 [==============================] - 1s 3ms/step - loss: 1.5294 - accuracy: 0.4572 - val_loss: 1.5788 - val_accuracy: 0.4405\n",
            "Epoch 13/100\n",
            "313/313 [==============================] - 1s 3ms/step - loss: 1.5115 - accuracy: 0.4660 - val_loss: 1.5756 - val_accuracy: 0.4383\n",
            "Epoch 14/100\n",
            "313/313 [==============================] - 1s 3ms/step - loss: 1.5024 - accuracy: 0.4669 - val_loss: 1.6045 - val_accuracy: 0.4311\n",
            "Epoch 15/100\n",
            "313/313 [==============================] - 1s 3ms/step - loss: 1.4934 - accuracy: 0.4731 - val_loss: 1.6333 - val_accuracy: 0.4234\n",
            "\n",
            "Training time: 0:00:15.473846\n"
          ]
        }
      ],
      "source": [
        "# calculating computational time\n",
        "t = time.perf_counter()\n",
        "\n",
        "# training model\n",
        "history = model.fit(\n",
        "                    x_train, \n",
        "                    y_train, \n",
        "                    epochs = EPOCHS, \n",
        "                    use_multiprocessing = False, \n",
        "                    batch_size = 128, \n",
        "                    validation_data = (x_val, y_val),\n",
        "                    callbacks = [callback_accuracy, callback_loss]\n",
        "          )\n",
        "\n",
        "# show total elapsed time\n",
        "elapsed_time = datetime.timedelta(seconds=(time.perf_counter() - t))\n",
        "print('\\nTraining time:', elapsed_time)"
      ]
    },
    {
      "cell_type": "markdown",
      "metadata": {
        "id": "n6Byf3JG9oJu"
      },
      "source": [
        "#### 4.1.4. Evaluation <a class=\"anchor\" id=\"evaluation\"></a>"
      ]
    },
    {
      "cell_type": "markdown",
      "metadata": {
        "id": "wv_HHqewe_I8"
      },
      "source": [
        "Let's obtain a graph of how the entropy and the accuracy evolve in each epoch in the training data and in the validation"
      ]
    },
    {
      "cell_type": "code",
      "execution_count": 34,
      "metadata": {
        "colab": {
          "base_uri": "https://localhost:8080/",
          "height": 545
        },
        "id": "GrH8OFmF9oJv",
        "outputId": "db51ecbc-ca1e-44dd-b7ad-98430483278d"
      },
      "outputs": [
        {
          "output_type": "display_data",
          "data": {
            "image/png": "[encoded data removed]",
            "text/plain": [
              "<Figure size 432x288 with 1 Axes>"
            ]
          },
          "metadata": {
            "needs_background": "light"
          }
        },
        {
          "output_type": "display_data",
          "data": {
            "image/png": "[encoded data removed]",
            "text/plain": [
              "<Figure size 432x288 with 1 Axes>"
            ]
          },
          "metadata": {
            "needs_background": "light"
          }
        }
      ],
      "source": [
        "# cross entropy loss plot\n",
        "plt.title('Cross Entropy Loss')\n",
        "plt.plot(history.history['loss'], color='blue', label='train')\n",
        "plt.plot(history.history['val_loss'], color='orange', label='val')\n",
        "plt.legend()\n",
        "plt.show()\n",
        "\n",
        "# accuracy plot\n",
        "plt.title('Classification Accuracy')\n",
        "plt.plot(history.history['accuracy'], color='blue', label='train')\n",
        "plt.plot(history.history['val_accuracy'], color='orange', label='val')\n",
        "plt.legend()\n",
        "plt.show()"
      ]
    },
    {
      "cell_type": "markdown",
      "metadata": {
        "id": "8m1hEUQWuH-s"
      },
      "source": [
        "The callbacks have stopped before EPOCH = 100 as we reached the top accuracy a lot before, and from that training session we got the best parameters parameters. However, we have seen that the validation accuracy looks really bad, so our hopes are not that high fo the test accuracy, but let's check it out."
      ]
    },
    {
      "cell_type": "code",
      "execution_count": 35,
      "metadata": {
        "id": "j9IaZ3-W9oJv",
        "colab": {
          "base_uri": "https://localhost:8080/"
        },
        "outputId": "fefcc346-2c62-4ec4-c2a7-4424ec4fb889"
      },
      "outputs": [
        {
          "output_type": "stream",
          "name": "stdout",
          "text": [
            "Test Accuracy for the model -> 44.31 %\n"
          ]
        }
      ],
      "source": [
        "_, acc = model.evaluate(x_test, y_test, verbose=0)\n",
        "print(f'Test Accuracy for the model -> {round((acc * 100.0), 4)} %')"
      ]
    },
    {
      "cell_type": "markdown",
      "metadata": {
        "id": "BT7Xpz409oJv"
      },
      "source": [
        "As expected, the model is really bad. With this accuracy we can say that this is a really bad model that requires an improvement.\n",
        "\n",
        "Let's see what kind of predictions we're getting on the test set (let's paint the images and their classifications)."
      ]
    },
    {
      "cell_type": "code",
      "execution_count": 36,
      "metadata": {
        "id": "G4gqi32X9oJw"
      },
      "outputs": [],
      "source": [
        "predictions = model.predict(x_test)"
      ]
    },
    {
      "cell_type": "code",
      "execution_count": 37,
      "metadata": {
        "id": "P02wctIA9oJw"
      },
      "outputs": [],
      "source": [
        "# plotting helper functions\n",
        "def plot_image(i, predictions_array, true_label, img):\n",
        "    predictions_array, true_label, img = predictions_array, true_label[i], img[i]\n",
        "    plt.grid(False)\n",
        "    plt.xticks([])\n",
        "    plt.yticks([])\n",
        "\n",
        "    plt.imshow(img, cmap=plt.cm.binary)\n",
        "\n",
        "    predicted_label = np.argmax(predictions_array)\n",
        "    if predicted_label == true_label:\n",
        "        color = 'blue'\n",
        "    else:\n",
        "        color = 'red'\n",
        "\n",
        "    plt.xlabel(\"{} {:2.0f}% ({})\".format(predicted_label,\n",
        "                                100*np.max(predictions_array),\n",
        "                                true_label[0]),\n",
        "                                color=color)\n",
        "\n",
        "def plot_value_array(i, predictions_array, true_label):\n",
        "    predictions_array, true_label = predictions_array, true_label[i]\n",
        "    plt.grid(False)\n",
        "    plt.xticks(range(10))\n",
        "    plt.yticks([])\n",
        "    thisplot = plt.bar(range(10), predictions_array, color=\"#777777\")\n",
        "    plt.ylim([0, 1])\n",
        "    predicted_label = np.argmax(predictions_array)\n",
        "\n",
        "    thisplot[predicted_label].set_color('red')\n",
        "    thisplot[true_label[0]].set_color('blue')\n",
        "\n",
        "def plot_cifar_results(predictions, x_test, y_test, num_rows = 5, num_cols = 4):\n",
        "    i = 0\n",
        "    for l in cifar10_labels:\n",
        "        print(i, l)\n",
        "        i += 1\n",
        "\n",
        "    num_images = num_rows * num_cols\n",
        "    start = np.random.randint(1000 - num_images)\n",
        "    plt.figure(figsize = (2 * 2 * num_cols, 2 * num_rows))\n",
        "    for i in range(num_images):\n",
        "        plt.subplot(num_rows, 2 * num_cols, 2 * i +1)\n",
        "        plot_image(i + start, predictions[i + start], y_test, x_test)\n",
        "        plt.subplot(num_rows, 2 * num_cols, 2 * i + 2)\n",
        "        plot_value_array(i + start, predictions[i + start], y_test)\n",
        "    plt.tight_layout()\n",
        "    plt.show()"
      ]
    },
    {
      "cell_type": "markdown",
      "metadata": {
        "id": "pReYC9POMGzh"
      },
      "source": [
        "We draw the first images, with the predictions and their real values ​​(a total of 20 images, so as not to abuse your laptops)\n",
        "\n",
        "We color the correct predictions in blue and the failures in red. Although I have printed the labels first so that we have a reference to the graphic."
      ]
    },
    {
      "cell_type": "code",
      "execution_count": 38,
      "metadata": {
        "colab": {
          "base_uri": "https://localhost:8080/",
          "height": 903
        },
        "id": "RdDRgwmF1dCP",
        "outputId": "17703d6a-aa7c-4c09-f834-9a865949a2c5"
      },
      "outputs": [
        {
          "output_type": "stream",
          "name": "stdout",
          "text": [
            "0 airplane\n",
            "1 automobile\n",
            "2 bird\n",
            "3 cat\n",
            "4 deer\n",
            "5 dog\n",
            "6 frog\n",
            "7 horse\n",
            "8 ship\n",
            "9 truck\n"
          ]
        },
        {
          "output_type": "display_data",
          "data": {
            "image/png": "[encoded data removed]",
            "text/plain": [
              "<Figure size 1152x720 with 40 Axes>"
            ]
          },
          "metadata": {
            "needs_background": "light"
          }
        }
      ],
      "source": [
        "plot_cifar_results(predictions, x_test, y_test)"
      ]
    },
    {
      "cell_type": "markdown",
      "metadata": {
        "id": "vZfe34uxMSgs"
      },
      "source": [
        "Let's see if we can build up the previous model to improve the accuracy, but before that, let's store the accuracy of this model so we can compare it at the end with all the other models."
      ]
    },
    {
      "cell_type": "code",
      "execution_count": 39,
      "metadata": {
        "id": "XSJCkokFNM-4"
      },
      "outputs": [],
      "source": [
        "# keeping accuracies for a final analysis\n",
        "model_evaluations.append(\n",
        "    {\n",
        "        'model_name': \"Single Dense Layer\",\n",
        "        'training_time': elapsed_time,\n",
        "        'accuracy': acc\n",
        "    }\n",
        ")"
      ]
    },
    {
      "cell_type": "markdown",
      "metadata": {
        "id": "MAmeAwEiP9jB"
      },
      "source": [
        "### 4.2. Adding more Dense layers <a class=\"anchor\" id=\"more_dense_layers\"></a>"
      ]
    },
    {
      "cell_type": "markdown",
      "metadata": {
        "id": "sQdTUdNURg18"
      },
      "source": [
        "Before defining the model we will create some additional functions to avoid code repetition and possible errors. The idea is to prepare as much of a pipeline as possible so we can analyse results more easily."
      ]
    },
    {
      "cell_type": "code",
      "execution_count": 40,
      "metadata": {
        "id": "SGbXu-d0l-2B"
      },
      "outputs": [],
      "source": [
        "def model_evaluation(model, x_test, y_test, history, plot_graphs = True, plot_images = True):\n",
        "    if plot_graphs:\n",
        "        # cross entropy loss plot\n",
        "        plt.title('Cross Entropy Loss')\n",
        "        plt.plot(history.history['loss'], color='blue', label='train')\n",
        "        plt.plot(history.history['val_loss'], color='orange', label='val')\n",
        "        plt.legend()\n",
        "        plt.show()\n",
        "\n",
        "        # accuracy plot\n",
        "        plt.title('Classification Accuracy')\n",
        "        plt.plot(history.history['accuracy'], color='blue', label='train')\n",
        "        plt.plot(history.history['val_accuracy'], color='orange', label='val')\n",
        "        plt.legend()\n",
        "        plt.show()\n",
        "\n",
        "    # accuracy evaluation\n",
        "    _, acc = model.evaluate(x_test, y_test, verbose=0)\n",
        "    print(f'Test Accuracy for the model -> {round((acc * 100.0), 4)} %\\n')\n",
        "\n",
        "    predictions = model.predict(x_test)\n",
        "\n",
        "    if plot_images:\n",
        "        plot_cifar_results(predictions, x_test, y_test)\n",
        "    \n",
        "    return acc\n",
        "\n",
        "def storing_evaluation_results(model_list, model_name, accuracy, training_time):\n",
        "    model_list.append(\n",
        "        {\n",
        "          'model_name': model_name,\n",
        "          'training_time': training_time,\n",
        "          'accuracy': accuracy\n",
        "        }\n",
        "    )"
      ]
    },
    {
      "cell_type": "markdown",
      "metadata": {
        "id": "TYJwVGc1tQcg"
      },
      "source": [
        "From the previous model, we have seen that with just one fully Dense layer is not enough for the model to work properly, in this case, we will be adding more Dense Layers to see if the result improves."
      ]
    },
    {
      "cell_type": "code",
      "execution_count": 41,
      "metadata": {
        "colab": {
          "base_uri": "https://localhost:8080/"
        },
        "id": "Je-5r55WSP47",
        "outputId": "e9888827-08f8-44eb-fe0b-72a768fdd699"
      },
      "outputs": [
        {
          "output_type": "stream",
          "name": "stdout",
          "text": [
            "DEFINITION\n",
            "Model: \"sequential_2\"\n",
            "_________________________________________________________________\n",
            " Layer (type)                Output Shape              Param #   \n",
            "=================================================================\n",
            " flatten_2 (Flatten)         (None, 3072)              0         \n",
            "                                                                 \n",
            " dense_4 (Dense)             (None, 512)               1573376   \n",
            "                                                                 \n",
            " dense_5 (Dense)             (None, 256)               131328    \n",
            "                                                                 \n",
            " dense_6 (Dense)             (None, 128)               32896     \n",
            "                                                                 \n",
            " dense_7 (Dense)             (None, 64)                8256      \n",
            "                                                                 \n",
            " dense_8 (Dense)             (None, 10)                650       \n",
            "                                                                 \n",
            "=================================================================\n",
            "Total params: 1,746,506\n",
            "Trainable params: 1,746,506\n",
            "Non-trainable params: 0\n",
            "_________________________________________________________________\n",
            "\n",
            "Compiling model...\n",
            "\n",
            "TRAINING\n",
            "Epoch 1/100\n",
            "313/313 [==============================] - 2s 4ms/step - loss: 1.9576 - accuracy: 0.2855 - val_loss: 1.8240 - val_accuracy: 0.3428\n",
            "Epoch 2/100\n",
            "313/313 [==============================] - 1s 3ms/step - loss: 1.7378 - accuracy: 0.3756 - val_loss: 1.7094 - val_accuracy: 0.3854\n",
            "Epoch 3/100\n",
            "313/313 [==============================] - 1s 3ms/step - loss: 1.6489 - accuracy: 0.4083 - val_loss: 1.6274 - val_accuracy: 0.4204\n",
            "Epoch 4/100\n",
            "313/313 [==============================] - 1s 3ms/step - loss: 1.5870 - accuracy: 0.4320 - val_loss: 1.6255 - val_accuracy: 0.4180\n",
            "Epoch 5/100\n",
            "313/313 [==============================] - 1s 3ms/step - loss: 1.5381 - accuracy: 0.4476 - val_loss: 1.5782 - val_accuracy: 0.4399\n",
            "Epoch 6/100\n",
            "313/313 [==============================] - 1s 5ms/step - loss: 1.4989 - accuracy: 0.4633 - val_loss: 1.5216 - val_accuracy: 0.4595\n",
            "Epoch 7/100\n",
            "313/313 [==============================] - 1s 3ms/step - loss: 1.4677 - accuracy: 0.4740 - val_loss: 1.5235 - val_accuracy: 0.4540\n",
            "Epoch 8/100\n",
            "313/313 [==============================] - 1s 3ms/step - loss: 1.4321 - accuracy: 0.4880 - val_loss: 1.4870 - val_accuracy: 0.4711\n",
            "Epoch 9/100\n",
            "313/313 [==============================] - 1s 3ms/step - loss: 1.4156 - accuracy: 0.4947 - val_loss: 1.6082 - val_accuracy: 0.4414\n",
            "Epoch 10/100\n",
            "313/313 [==============================] - 1s 3ms/step - loss: 1.3902 - accuracy: 0.5022 - val_loss: 1.5045 - val_accuracy: 0.4758\n",
            "Epoch 11/100\n",
            "313/313 [==============================] - 1s 4ms/step - loss: 1.3682 - accuracy: 0.5088 - val_loss: 1.5162 - val_accuracy: 0.4700\n",
            "\n",
            "\n",
            "Training time: 0:00:13.509562\n",
            "\n",
            "EVALUATION\n",
            "Test Accuracy for the model -> 48.29 %\n",
            "\n"
          ]
        }
      ],
      "source": [
        "# MODEL DEFINITION\n",
        "print(\"DEFINITION\")\n",
        "\n",
        "model = ks.Sequential()\n",
        "\n",
        "# Neural Network Layers\n",
        "model.add(ks.layers.Flatten(input_shape = INPUT_SHAPE))\n",
        "model.add(ks.layers.Dense(512, activation='relu'))\n",
        "model.add(ks.layers.Dense(256, activation='relu'))\n",
        "model.add(ks.layers.Dense(128, activation='relu'))\n",
        "model.add(ks.layers.Dense(64, activation='relu'))\n",
        "model.add(ks.layers.Dense(10, activation='softmax'))\n",
        "\n",
        "# review model\n",
        "model.summary()\n",
        "\n",
        "\n",
        "# COMPILING MODEL\n",
        "print(\"\\nCompiling model...\")\n",
        "model.compile(optimizer='Adam',\n",
        "              loss='sparse_categorical_crossentropy',\n",
        "              metrics=['accuracy'])\n",
        "\n",
        "\n",
        "# TRAINING\n",
        "print(\"\\nTRAINING\")\n",
        "# calculating computational time\n",
        "t = time.perf_counter()\n",
        "# training model\n",
        "history = model.fit(\n",
        "                    x_train, \n",
        "                    y_train, \n",
        "                    epochs = EPOCHS, \n",
        "                    use_multiprocessing = False, \n",
        "                    batch_size = 128, \n",
        "                    validation_data = (x_val, y_val),\n",
        "                    callbacks = [callback_accuracy, callback_loss]\n",
        "          )\n",
        "# show total elapsed time\n",
        "elapsed_time = datetime.timedelta(seconds=(time.perf_counter() - t))\n",
        "print('\\n\\nTraining time:', elapsed_time)\n",
        "\n",
        "\n",
        "# EVALUATION\n",
        "print(\"\\nEVALUATION\")\n",
        "acc = model_evaluation(model, x_test, y_test, history, False, False)"
      ]
    },
    {
      "cell_type": "code",
      "execution_count": 42,
      "metadata": {
        "id": "Rxg4N2ipoUDp"
      },
      "outputs": [],
      "source": [
        "# STORING RESULTS\n",
        "\n",
        "# keeping accuracies for a final analysis\n",
        "storing_evaluation_results(model_evaluations, 'Several Dense Layers', acc, elapsed_time)"
      ]
    },
    {
      "cell_type": "markdown",
      "metadata": {
        "id": "qjnxdz8z7arp"
      },
      "source": [
        "### 4.3. Do batch sizes matter? <a class=\"anchor\" id=\"batch_sizes\"></a>"
      ]
    },
    {
      "cell_type": "markdown",
      "metadata": {
        "id": "ht8EXjUt7mmr"
      },
      "source": [
        "Let's explore if the batch sizes of data can help us improve the training of our model or not. We will increase batch_size to 512, instead of 128."
      ]
    },
    {
      "cell_type": "code",
      "execution_count": 43,
      "metadata": {
        "colab": {
          "base_uri": "https://localhost:8080/"
        },
        "id": "N3qvIBMP7vMW",
        "outputId": "75ef4065-0c2f-404e-db69-0e20c295a3ec"
      },
      "outputs": [
        {
          "output_type": "stream",
          "name": "stdout",
          "text": [
            "DEFINITION\n",
            "Model: \"sequential_3\"\n",
            "_________________________________________________________________\n",
            " Layer (type)                Output Shape              Param #   \n",
            "=================================================================\n",
            " flatten_3 (Flatten)         (None, 3072)              0         \n",
            "                                                                 \n",
            " dense_9 (Dense)             (None, 512)               1573376   \n",
            "                                                                 \n",
            " dense_10 (Dense)            (None, 256)               131328    \n",
            "                                                                 \n",
            " dense_11 (Dense)            (None, 128)               32896     \n",
            "                                                                 \n",
            " dense_12 (Dense)            (None, 64)                8256      \n",
            "                                                                 \n",
            " dense_13 (Dense)            (None, 10)                650       \n",
            "                                                                 \n",
            "=================================================================\n",
            "Total params: 1,746,506\n",
            "Trainable params: 1,746,506\n",
            "Non-trainable params: 0\n",
            "_________________________________________________________________\n",
            "\n",
            "Compiling model...\n",
            "\n",
            "TRAINING\n",
            "Epoch 1/100\n",
            "79/79 [==============================] - 1s 9ms/step - loss: 2.0588 - accuracy: 0.2477 - val_loss: 1.9763 - val_accuracy: 0.2875\n",
            "Epoch 2/100\n",
            "79/79 [==============================] - 0s 6ms/step - loss: 1.8389 - accuracy: 0.3436 - val_loss: 1.8695 - val_accuracy: 0.3387\n",
            "Epoch 3/100\n",
            "79/79 [==============================] - 0s 6ms/step - loss: 1.7493 - accuracy: 0.3724 - val_loss: 1.8118 - val_accuracy: 0.3586\n",
            "Epoch 4/100\n",
            "79/79 [==============================] - 0s 6ms/step - loss: 1.6825 - accuracy: 0.3999 - val_loss: 1.7426 - val_accuracy: 0.3777\n",
            "Epoch 5/100\n",
            "79/79 [==============================] - 0s 6ms/step - loss: 1.6206 - accuracy: 0.4270 - val_loss: 1.7138 - val_accuracy: 0.3929\n",
            "Epoch 6/100\n",
            "79/79 [==============================] - 0s 6ms/step - loss: 1.5798 - accuracy: 0.4371 - val_loss: 1.6138 - val_accuracy: 0.4271\n",
            "Epoch 7/100\n",
            "79/79 [==============================] - 0s 6ms/step - loss: 1.5433 - accuracy: 0.4498 - val_loss: 1.6017 - val_accuracy: 0.4243\n",
            "Epoch 8/100\n",
            "79/79 [==============================] - 1s 8ms/step - loss: 1.5205 - accuracy: 0.4591 - val_loss: 1.5904 - val_accuracy: 0.4292\n",
            "Epoch 9/100\n",
            "79/79 [==============================] - 1s 7ms/step - loss: 1.4838 - accuracy: 0.4707 - val_loss: 1.5385 - val_accuracy: 0.4579\n",
            "Epoch 10/100\n",
            "79/79 [==============================] - 0s 6ms/step - loss: 1.4456 - accuracy: 0.4835 - val_loss: 1.5450 - val_accuracy: 0.4499\n",
            "Epoch 11/100\n",
            "79/79 [==============================] - 0s 6ms/step - loss: 1.4308 - accuracy: 0.4880 - val_loss: 1.5651 - val_accuracy: 0.4575\n",
            "Epoch 12/100\n",
            "79/79 [==============================] - 0s 6ms/step - loss: 1.4146 - accuracy: 0.4940 - val_loss: 1.5195 - val_accuracy: 0.4630\n",
            "Epoch 13/100\n",
            "79/79 [==============================] - 0s 6ms/step - loss: 1.3805 - accuracy: 0.5036 - val_loss: 1.5043 - val_accuracy: 0.4636\n",
            "Epoch 14/100\n",
            "79/79 [==============================] - 1s 7ms/step - loss: 1.3594 - accuracy: 0.5121 - val_loss: 1.4651 - val_accuracy: 0.4867\n",
            "Epoch 15/100\n",
            "79/79 [==============================] - 1s 7ms/step - loss: 1.3501 - accuracy: 0.5192 - val_loss: 1.4684 - val_accuracy: 0.4851\n",
            "Epoch 16/100\n",
            "79/79 [==============================] - 1s 7ms/step - loss: 1.3290 - accuracy: 0.5257 - val_loss: 1.4777 - val_accuracy: 0.4794\n",
            "Epoch 17/100\n",
            "79/79 [==============================] - 1s 9ms/step - loss: 1.3021 - accuracy: 0.5341 - val_loss: 1.4542 - val_accuracy: 0.4884\n",
            "Epoch 18/100\n",
            "79/79 [==============================] - 0s 6ms/step - loss: 1.2873 - accuracy: 0.5407 - val_loss: 1.4737 - val_accuracy: 0.4844\n",
            "Epoch 19/100\n",
            "79/79 [==============================] - 0s 6ms/step - loss: 1.2619 - accuracy: 0.5498 - val_loss: 1.4768 - val_accuracy: 0.4919\n",
            "Epoch 20/100\n",
            "79/79 [==============================] - 0s 6ms/step - loss: 1.2608 - accuracy: 0.5500 - val_loss: 1.4649 - val_accuracy: 0.4825\n",
            "\n",
            "\n",
            "Training time: 0:00:11.501708\n",
            "\n",
            "EVALUATION\n",
            "Test Accuracy for the model -> 49.2 %\n",
            "\n"
          ]
        }
      ],
      "source": [
        "# MODEL DEFINITION\n",
        "print(\"DEFINITION\")\n",
        "\n",
        "model = ks.Sequential()\n",
        "\n",
        "# Neural Network Layers\n",
        "model.add(ks.layers.Flatten(input_shape = INPUT_SHAPE))\n",
        "model.add(ks.layers.Dense(512, activation='relu'))\n",
        "model.add(ks.layers.Dense(256, activation='relu'))\n",
        "model.add(ks.layers.Dense(128, activation='relu'))\n",
        "model.add(ks.layers.Dense(64, activation='relu'))\n",
        "model.add(ks.layers.Dense(10, activation='softmax'))\n",
        "\n",
        "# review model\n",
        "model.summary()\n",
        "\n",
        "\n",
        "# COMPILING MODEL\n",
        "print(\"\\nCompiling model...\")\n",
        "model.compile(optimizer='Adam',\n",
        "              loss='sparse_categorical_crossentropy',\n",
        "              metrics=['accuracy'])\n",
        "\n",
        "\n",
        "# TRAINING\n",
        "print(\"\\nTRAINING\")\n",
        "# calculating computational time\n",
        "t = time.perf_counter()\n",
        "# training model\n",
        "history = model.fit(\n",
        "                    x_train, \n",
        "                    y_train, \n",
        "                    epochs = EPOCHS, \n",
        "                    use_multiprocessing = False, \n",
        "                    batch_size = 512, \n",
        "                    validation_data = (x_val, y_val),\n",
        "                    callbacks = [callback_accuracy, callback_loss]\n",
        "          )\n",
        "# show total elapsed time\n",
        "elapsed_time = datetime.timedelta(seconds=(time.perf_counter() - t))\n",
        "print('\\n\\nTraining time:', elapsed_time)\n",
        "\n",
        "\n",
        "# EVALUATION\n",
        "print(\"\\nEVALUATION\")\n",
        "acc = model_evaluation(model, x_test, y_test, history, False, False)"
      ]
    },
    {
      "cell_type": "code",
      "execution_count": 44,
      "metadata": {
        "id": "pL21gu-Y8FFC"
      },
      "outputs": [],
      "source": [
        "storing_evaluation_results(model_evaluations, 'Increasing Batch Size', acc, elapsed_time)"
      ]
    },
    {
      "cell_type": "markdown",
      "metadata": {
        "id": "6f78h3jm6l60"
      },
      "source": [
        "### 4.4. Exploring the effects of adding Dropout <a class=\"anchor\" id=\"dropout\"></a>\n"
      ]
    },
    {
      "cell_type": "markdown",
      "metadata": {
        "id": "7lJ74-mP6vVo"
      },
      "source": [
        "Dropout is referred to the effect of randomly removing nodes in a neural network and it is a technique to avoid overfitting. This makes sense to do in the Dense or fully connected layers. \n",
        "\n",
        "Let's see if that improves the results."
      ]
    },
    {
      "cell_type": "code",
      "execution_count": 45,
      "metadata": {
        "id": "9iMfFpsi6vww",
        "colab": {
          "base_uri": "https://localhost:8080/"
        },
        "outputId": "af1a58c0-7a70-4c88-c6c0-2b5c50bf375f"
      },
      "outputs": [
        {
          "output_type": "stream",
          "name": "stdout",
          "text": [
            "DEFINITION\n",
            "Model: \"sequential_4\"\n",
            "_________________________________________________________________\n",
            " Layer (type)                Output Shape              Param #   \n",
            "=================================================================\n",
            " flatten_4 (Flatten)         (None, 3072)              0         \n",
            "                                                                 \n",
            " dense_14 (Dense)            (None, 512)               1573376   \n",
            "                                                                 \n",
            " dropout (Dropout)           (None, 512)               0         \n",
            "                                                                 \n",
            " dense_15 (Dense)            (None, 256)               131328    \n",
            "                                                                 \n",
            " dropout_1 (Dropout)         (None, 256)               0         \n",
            "                                                                 \n",
            " dense_16 (Dense)            (None, 128)               32896     \n",
            "                                                                 \n",
            " dropout_2 (Dropout)         (None, 128)               0         \n",
            "                                                                 \n",
            " dense_17 (Dense)            (None, 64)                8256      \n",
            "                                                                 \n",
            " dropout_3 (Dropout)         (None, 64)                0         \n",
            "                                                                 \n",
            " dense_18 (Dense)            (None, 10)                650       \n",
            "                                                                 \n",
            "=================================================================\n",
            "Total params: 1,746,506\n",
            "Trainable params: 1,746,506\n",
            "Non-trainable params: 0\n",
            "_________________________________________________________________\n",
            "\n",
            "Compiling model...\n",
            "\n",
            "TRAINING\n",
            "Epoch 1/100\n",
            "40/40 [==============================] - 1s 16ms/step - loss: 2.2470 - accuracy: 0.1467 - val_loss: 2.1039 - val_accuracy: 0.1996\n",
            "Epoch 2/100\n",
            "40/40 [==============================] - 0s 10ms/step - loss: 2.0730 - accuracy: 0.2223 - val_loss: 1.9661 - val_accuracy: 0.2807\n",
            "Epoch 3/100\n",
            "40/40 [==============================] - 0s 10ms/step - loss: 1.9873 - accuracy: 0.2622 - val_loss: 1.8908 - val_accuracy: 0.3203\n",
            "Epoch 4/100\n",
            "40/40 [==============================] - 0s 9ms/step - loss: 1.9307 - accuracy: 0.2923 - val_loss: 1.9779 - val_accuracy: 0.2929\n",
            "Epoch 5/100\n",
            "40/40 [==============================] - 0s 9ms/step - loss: 1.9106 - accuracy: 0.3056 - val_loss: 1.8044 - val_accuracy: 0.3451\n",
            "Epoch 6/100\n",
            "40/40 [==============================] - 0s 9ms/step - loss: 1.8598 - accuracy: 0.3275 - val_loss: 1.8031 - val_accuracy: 0.3518\n",
            "Epoch 7/100\n",
            "40/40 [==============================] - 0s 10ms/step - loss: 1.8393 - accuracy: 0.3375 - val_loss: 1.7532 - val_accuracy: 0.3676\n",
            "Epoch 8/100\n",
            "40/40 [==============================] - 0s 9ms/step - loss: 1.8118 - accuracy: 0.3426 - val_loss: 1.7757 - val_accuracy: 0.3649\n",
            "Epoch 9/100\n",
            "40/40 [==============================] - 0s 9ms/step - loss: 1.7996 - accuracy: 0.3492 - val_loss: 1.7535 - val_accuracy: 0.3664\n",
            "Epoch 10/100\n",
            "40/40 [==============================] - 0s 10ms/step - loss: 1.7732 - accuracy: 0.3652 - val_loss: 1.6837 - val_accuracy: 0.3913\n",
            "Epoch 11/100\n",
            "40/40 [==============================] - 0s 9ms/step - loss: 1.7606 - accuracy: 0.3659 - val_loss: 1.6943 - val_accuracy: 0.3929\n",
            "Epoch 12/100\n",
            "40/40 [==============================] - 0s 9ms/step - loss: 1.7503 - accuracy: 0.3676 - val_loss: 1.7044 - val_accuracy: 0.3918\n",
            "Epoch 13/100\n",
            "40/40 [==============================] - 0s 11ms/step - loss: 1.7403 - accuracy: 0.3767 - val_loss: 1.6657 - val_accuracy: 0.4047\n",
            "Epoch 14/100\n",
            "40/40 [==============================] - 0s 11ms/step - loss: 1.7319 - accuracy: 0.3765 - val_loss: 1.6658 - val_accuracy: 0.4050\n",
            "Epoch 15/100\n",
            "40/40 [==============================] - 0s 11ms/step - loss: 1.7262 - accuracy: 0.3775 - val_loss: 1.6523 - val_accuracy: 0.4075\n",
            "Epoch 16/100\n",
            "40/40 [==============================] - 0s 9ms/step - loss: 1.7156 - accuracy: 0.3811 - val_loss: 1.6879 - val_accuracy: 0.3804\n",
            "Epoch 17/100\n",
            "40/40 [==============================] - 0s 9ms/step - loss: 1.7151 - accuracy: 0.3794 - val_loss: 1.6447 - val_accuracy: 0.4090\n",
            "Epoch 18/100\n",
            "40/40 [==============================] - 0s 10ms/step - loss: 1.6906 - accuracy: 0.3903 - val_loss: 1.6404 - val_accuracy: 0.4124\n",
            "Epoch 19/100\n",
            "40/40 [==============================] - 0s 12ms/step - loss: 1.6834 - accuracy: 0.3927 - val_loss: 1.6281 - val_accuracy: 0.4155\n",
            "Epoch 20/100\n",
            "40/40 [==============================] - 0s 11ms/step - loss: 1.6813 - accuracy: 0.3942 - val_loss: 1.6053 - val_accuracy: 0.4290\n",
            "Epoch 21/100\n",
            "40/40 [==============================] - 0s 9ms/step - loss: 1.6746 - accuracy: 0.3976 - val_loss: 1.6215 - val_accuracy: 0.4255\n",
            "Epoch 22/100\n",
            "40/40 [==============================] - 0s 9ms/step - loss: 1.6613 - accuracy: 0.4032 - val_loss: 1.6342 - val_accuracy: 0.4108\n",
            "Epoch 23/100\n",
            "40/40 [==============================] - 0s 10ms/step - loss: 1.6631 - accuracy: 0.4015 - val_loss: 1.6202 - val_accuracy: 0.4245\n",
            "\n",
            "\n",
            "Training time: 0:00:10.583700\n",
            "\n",
            "EVALUATION\n",
            "Test Accuracy for the model -> 44.09 %\n",
            "\n"
          ]
        }
      ],
      "source": [
        "# MODEL DEFINITION\n",
        "print(\"DEFINITION\")\n",
        "\n",
        "model = ks.Sequential()\n",
        "\n",
        "# Neural Network Layers\n",
        "model.add(ks.layers.Flatten(input_shape = INPUT_SHAPE))\n",
        "model.add(ks.layers.Dense(512, activation='relu'))\n",
        "model.add(ks.layers.Dropout(0.25))\n",
        "model.add(ks.layers.Dense(256, activation='relu'))\n",
        "model.add(ks.layers.Dropout(0.25))\n",
        "model.add(ks.layers.Dense(128, activation='relu'))\n",
        "model.add(ks.layers.Dropout(0.25))\n",
        "model.add(ks.layers.Dense(64, activation='relu'))\n",
        "model.add(ks.layers.Dropout(0.25))\n",
        "model.add(ks.layers.Dense(10, activation='softmax'))\n",
        "\n",
        "# review model\n",
        "model.summary()\n",
        "\n",
        "\n",
        "# COMPILING MODEL\n",
        "print(\"\\nCompiling model...\")\n",
        "model.compile(optimizer='Adam',\n",
        "              loss='sparse_categorical_crossentropy',\n",
        "              metrics=['accuracy'])\n",
        "\n",
        "\n",
        "# TRAINING\n",
        "print(\"\\nTRAINING\")\n",
        "# calculating computational time\n",
        "t = time.perf_counter()\n",
        "# training model\n",
        "history = model.fit(\n",
        "                    x_train, \n",
        "                    y_train, \n",
        "                    epochs = EPOCHS, \n",
        "                    use_multiprocessing = False, \n",
        "                    batch_size = 1024, \n",
        "                    validation_data = (x_val, y_val),\n",
        "                    callbacks = [callback_accuracy, callback_loss]\n",
        "          )\n",
        "# show total elapsed time\n",
        "elapsed_time = datetime.timedelta(seconds=(time.perf_counter() - t))\n",
        "print('\\n\\nTraining time:', elapsed_time)\n",
        "\n",
        "\n",
        "# EVALUATION\n",
        "print(\"\\nEVALUATION\")\n",
        "acc = model_evaluation(model, x_test, y_test, history, False, False)"
      ]
    },
    {
      "cell_type": "code",
      "source": [
        "storing_evaluation_results(model_evaluations, 'Adding Dropout Layers', acc, elapsed_time)"
      ],
      "metadata": {
        "id": "KZo_kffq-zfk"
      },
      "execution_count": 46,
      "outputs": []
    },
    {
      "cell_type": "markdown",
      "source": [
        "### 4.5. Simple Convolutional Neural Network <a class=\"anchor\" id=\"simple_cnn\"></a>"
      ],
      "metadata": {
        "id": "acjdP-IMkC0C"
      }
    },
    {
      "cell_type": "markdown",
      "source": [
        "Up until now, we have tried to solve the classification problem by forcing the neural network to learn about values of pixels (features) in different color spaces, but what if we could provide it with \"vision\". If the network was able to see and understand the shapes of the image data it gets, we believe it would be more efficient.\n",
        "\n",
        "Let's start with a simple Convolutional Network and expand from there."
      ],
      "metadata": {
        "id": "ij_M9ZXikIbb"
      }
    },
    {
      "cell_type": "code",
      "source": [
        "# MODEL DEFINITION\n",
        "print(\"DEFINITION\")\n",
        "\n",
        "model = ks.Sequential()\n",
        "\n",
        "# Neural Network Layers\n",
        "model.add(ks.layers.Conv2D(32, (3, 3), strides=1, activation='relu', padding='same', input_shape=INPUT_SHAPE))\n",
        "model.add(ks.layers.MaxPooling2D((2, 2)))\n",
        "\n",
        "model.add(ks.layers.Flatten()) \n",
        "model.add(ks.layers.Dense(512, activation='relu'))\n",
        "model.add(ks.layers.Dropout(0.25))\n",
        "model.add(ks.layers.Dense(256, activation='relu'))\n",
        "model.add(ks.layers.Dropout(0.25))\n",
        "model.add(ks.layers.Dense(128, activation='relu'))\n",
        "model.add(ks.layers.Dropout(0.25))\n",
        "model.add(ks.layers.Dense(64, activation='relu'))\n",
        "model.add(ks.layers.Dropout(0.25))\n",
        "model.add(ks.layers.Dense(10, activation='softmax'))\n",
        "\n",
        "\n",
        "# review model\n",
        "model.summary()\n",
        "\n",
        "\n",
        "# COMPILING MODEL\n",
        "print(\"\\nCompiling model...\")\n",
        "model.compile(optimizer='Adam',\n",
        "              loss='sparse_categorical_crossentropy',\n",
        "              metrics=['accuracy'])\n",
        "\n",
        "\n",
        "# TRAINING\n",
        "print(\"\\nTRAINING\")\n",
        "# calculating computational time\n",
        "t = time.perf_counter()\n",
        "# training model\n",
        "history = model.fit(\n",
        "                    x_train, \n",
        "                    y_train, \n",
        "                    epochs = EPOCHS, \n",
        "                    use_multiprocessing = False, \n",
        "                    batch_size = 512, \n",
        "                    validation_data = (x_val, y_val),\n",
        "                    callbacks = [callback_accuracy, callback_loss]\n",
        "          )\n",
        "# show total elapsed time\n",
        "elapsed_time = datetime.timedelta(seconds=(time.perf_counter() - t))\n",
        "print('\\n\\nTraining time:', elapsed_time)\n",
        "\n",
        "\n",
        "# EVALUATION\n",
        "print(\"\\nEVALUATION\")\n",
        "acc = model_evaluation(model, x_test, y_test, history, False, False)"
      ],
      "metadata": {
        "colab": {
          "base_uri": "https://localhost:8080/"
        },
        "id": "Fs_9gOakkcC0",
        "outputId": "1abb857f-b8f8-4a08-9e31-fd0d6c30877e"
      },
      "execution_count": 47,
      "outputs": [
        {
          "output_type": "stream",
          "name": "stdout",
          "text": [
            "DEFINITION\n",
            "Model: \"sequential_5\"\n",
            "_________________________________________________________________\n",
            " Layer (type)                Output Shape              Param #   \n",
            "=================================================================\n",
            " conv2d (Conv2D)             (None, 32, 32, 32)        896       \n",
            "                                                                 \n",
            " max_pooling2d (MaxPooling2D  (None, 16, 16, 32)       0         \n",
            " )                                                               \n",
            "                                                                 \n",
            " flatten_5 (Flatten)         (None, 8192)              0         \n",
            "                                                                 \n",
            " dense_19 (Dense)            (None, 512)               4194816   \n",
            "                                                                 \n",
            " dropout_4 (Dropout)         (None, 512)               0         \n",
            "                                                                 \n",
            " dense_20 (Dense)            (None, 256)               131328    \n",
            "                                                                 \n",
            " dropout_5 (Dropout)         (None, 256)               0         \n",
            "                                                                 \n",
            " dense_21 (Dense)            (None, 128)               32896     \n",
            "                                                                 \n",
            " dropout_6 (Dropout)         (None, 128)               0         \n",
            "                                                                 \n",
            " dense_22 (Dense)            (None, 64)                8256      \n",
            "                                                                 \n",
            " dropout_7 (Dropout)         (None, 64)                0         \n",
            "                                                                 \n",
            " dense_23 (Dense)            (None, 10)                650       \n",
            "                                                                 \n",
            "=================================================================\n",
            "Total params: 4,368,842\n",
            "Trainable params: 4,368,842\n",
            "Non-trainable params: 0\n",
            "_________________________________________________________________\n",
            "\n",
            "Compiling model...\n",
            "\n",
            "TRAINING\n",
            "Epoch 1/100\n",
            "79/79 [==============================] - 2s 15ms/step - loss: 2.0353 - accuracy: 0.2188 - val_loss: 1.7630 - val_accuracy: 0.3522\n",
            "Epoch 2/100\n",
            "79/79 [==============================] - 1s 11ms/step - loss: 1.6497 - accuracy: 0.3862 - val_loss: 1.4919 - val_accuracy: 0.4561\n",
            "Epoch 3/100\n",
            "79/79 [==============================] - 1s 11ms/step - loss: 1.4353 - accuracy: 0.4796 - val_loss: 1.3773 - val_accuracy: 0.5087\n",
            "Epoch 4/100\n",
            "79/79 [==============================] - 1s 11ms/step - loss: 1.3016 - accuracy: 0.5397 - val_loss: 1.2229 - val_accuracy: 0.5652\n",
            "Epoch 5/100\n",
            "79/79 [==============================] - 1s 10ms/step - loss: 1.1777 - accuracy: 0.5831 - val_loss: 1.2863 - val_accuracy: 0.5545\n",
            "Epoch 6/100\n",
            "79/79 [==============================] - 1s 11ms/step - loss: 1.1066 - accuracy: 0.6129 - val_loss: 1.1773 - val_accuracy: 0.5882\n",
            "Epoch 7/100\n",
            "79/79 [==============================] - 1s 11ms/step - loss: 1.0155 - accuracy: 0.6463 - val_loss: 1.0424 - val_accuracy: 0.6356\n",
            "Epoch 8/100\n",
            "79/79 [==============================] - 1s 11ms/step - loss: 0.9342 - accuracy: 0.6745 - val_loss: 1.0395 - val_accuracy: 0.6428\n",
            "Epoch 9/100\n",
            "79/79 [==============================] - 1s 11ms/step - loss: 0.8705 - accuracy: 0.6988 - val_loss: 1.0448 - val_accuracy: 0.6351\n",
            "Epoch 10/100\n",
            "79/79 [==============================] - 1s 11ms/step - loss: 0.8131 - accuracy: 0.7193 - val_loss: 1.0304 - val_accuracy: 0.6477\n",
            "Epoch 11/100\n",
            "79/79 [==============================] - 1s 10ms/step - loss: 0.7607 - accuracy: 0.7405 - val_loss: 1.0496 - val_accuracy: 0.6496\n",
            "Epoch 12/100\n",
            "79/79 [==============================] - 1s 11ms/step - loss: 0.6988 - accuracy: 0.7598 - val_loss: 1.0956 - val_accuracy: 0.6395\n",
            "Epoch 13/100\n",
            "79/79 [==============================] - 1s 11ms/step - loss: 0.6658 - accuracy: 0.7709 - val_loss: 1.0745 - val_accuracy: 0.6576\n",
            "\n",
            "\n",
            "Training time: 0:00:13.322599\n",
            "\n",
            "EVALUATION\n",
            "Test Accuracy for the model -> 64.08 %\n",
            "\n"
          ]
        }
      ]
    },
    {
      "cell_type": "markdown",
      "source": [
        "With just one convolutional layer, the increase in accuracy has been impressive, but not enough."
      ],
      "metadata": {
        "id": "W_j200Jgk2hk"
      }
    },
    {
      "cell_type": "code",
      "source": [
        "storing_evaluation_results(model_evaluations, 'Simple Convolutional Neural Network', acc, elapsed_time)"
      ],
      "metadata": {
        "id": "jx-iG7tXkt1W"
      },
      "execution_count": 48,
      "outputs": []
    },
    {
      "cell_type": "markdown",
      "source": [
        "### 4.6. Extending the Convolutional Neural Network <a class=\"anchor\" id=\"cnn_extended\"></a>"
      ],
      "metadata": {
        "id": "OBZHDMDRAmKY"
      }
    },
    {
      "cell_type": "markdown",
      "source": [
        "We have seen that by adding one layer of a convolutional neural network, the accuracy of the model improves a lot. Let's try adding more convolutional layers, following the examples of more complex architectures of neural networks that have several convolutional layers and then fully connected layers at the end."
      ],
      "metadata": {
        "id": "plLjD1X3A_7h"
      }
    },
    {
      "cell_type": "code",
      "source": [
        "# MODEL DEFINITION\n",
        "print(\"DEFINITION\")\n",
        "\n",
        "model = ks.Sequential()\n",
        "\n",
        "# Neural Network Layers\n",
        "model.add(ks.layers.Conv2D(16, (3, 3), strides = 1, activation = 'relu', padding = 'same', input_shape = INPUT_SHAPE))\n",
        "model.add(ks.layers.MaxPooling2D((2, 2)))\n",
        "\n",
        "model.add(ks.layers.Conv2D(64, (3, 3), strides = 1, activation = 'relu', padding = 'same'))\n",
        "model.add(ks.layers.MaxPooling2D((2, 2)))\n",
        "\n",
        "model.add(ks.layers.Conv2D(128, (3, 3), strides = 1, activation = 'relu', padding = 'same'))\n",
        "model.add(ks.layers.MaxPooling2D((2, 2)))\n",
        "\n",
        "model.add(ks.layers.Conv2D(256, (3, 3), strides = 1, activation = 'relu', padding = 'same'))\n",
        "model.add(ks.layers.MaxPooling2D((2, 2)))\n",
        "\n",
        "model.add(ks.layers.Flatten()) \n",
        "model.add(ks.layers.Dense(512, activation='relu'))\n",
        "model.add(ks.layers.Dropout(0.25))\n",
        "model.add(ks.layers.Dense(256, activation='relu'))\n",
        "model.add(ks.layers.Dropout(0.25))\n",
        "model.add(ks.layers.Dense(128, activation='relu'))\n",
        "model.add(ks.layers.Dropout(0.25))\n",
        "model.add(ks.layers.Dense(64, activation='relu'))\n",
        "model.add(ks.layers.Dropout(0.25))\n",
        "model.add(ks.layers.Dense(10, activation='softmax'))\n",
        "\n",
        "# review model\n",
        "model.summary()\n",
        "\n",
        "\n",
        "# COMPILING MODEL\n",
        "print(\"\\nCompiling model...\")\n",
        "model.compile(optimizer='Adam',\n",
        "              loss='sparse_categorical_crossentropy',\n",
        "              metrics=['accuracy'])\n",
        "\n",
        "\n",
        "# TRAINING\n",
        "print(\"\\nTRAINING\")\n",
        "# calculating computational time\n",
        "t = time.perf_counter()\n",
        "# training model\n",
        "history = model.fit(\n",
        "                    x_train, \n",
        "                    y_train, \n",
        "                    epochs = EPOCHS, \n",
        "                    use_multiprocessing = False, \n",
        "                    batch_size = 512, \n",
        "                    validation_data = (x_val, y_val),\n",
        "                    callbacks = [callback_accuracy, callback_loss]\n",
        "          )\n",
        "# show total elapsed time\n",
        "elapsed_time = datetime.timedelta(seconds=(time.perf_counter() - t))\n",
        "print('\\n\\nTraining time:', elapsed_time)\n",
        "\n",
        "\n",
        "# EVALUATION\n",
        "print(\"\\nEVALUATION\")\n",
        "acc = model_evaluation(model, x_test, y_test, history, False, False)"
      ],
      "metadata": {
        "colab": {
          "base_uri": "https://localhost:8080/"
        },
        "id": "mKxsAfMqKxbz",
        "outputId": "5b5fe049-cec5-4ad6-e3ad-454da330bd43"
      },
      "execution_count": 49,
      "outputs": [
        {
          "output_type": "stream",
          "name": "stdout",
          "text": [
            "DEFINITION\n",
            "Model: \"sequential_6\"\n",
            "_________________________________________________________________\n",
            " Layer (type)                Output Shape              Param #   \n",
            "=================================================================\n",
            " conv2d_1 (Conv2D)           (None, 32, 32, 16)        448       \n",
            "                                                                 \n",
            " max_pooling2d_1 (MaxPooling  (None, 16, 16, 16)       0         \n",
            " 2D)                                                             \n",
            "                                                                 \n",
            " conv2d_2 (Conv2D)           (None, 16, 16, 64)        9280      \n",
            "                                                                 \n",
            " max_pooling2d_2 (MaxPooling  (None, 8, 8, 64)         0         \n",
            " 2D)                                                             \n",
            "                                                                 \n",
            " conv2d_3 (Conv2D)           (None, 8, 8, 128)         73856     \n",
            "                                                                 \n",
            " max_pooling2d_3 (MaxPooling  (None, 4, 4, 128)        0         \n",
            " 2D)                                                             \n",
            "                                                                 \n",
            " conv2d_4 (Conv2D)           (None, 4, 4, 256)         295168    \n",
            "                                                                 \n",
            " max_pooling2d_4 (MaxPooling  (None, 2, 2, 256)        0         \n",
            " 2D)                                                             \n",
            "                                                                 \n",
            " flatten_6 (Flatten)         (None, 1024)              0         \n",
            "                                                                 \n",
            " dense_24 (Dense)            (None, 512)               524800    \n",
            "                                                                 \n",
            " dropout_8 (Dropout)         (None, 512)               0         \n",
            "                                                                 \n",
            " dense_25 (Dense)            (None, 256)               131328    \n",
            "                                                                 \n",
            " dropout_9 (Dropout)         (None, 256)               0         \n",
            "                                                                 \n",
            " dense_26 (Dense)            (None, 128)               32896     \n",
            "                                                                 \n",
            " dropout_10 (Dropout)        (None, 128)               0         \n",
            "                                                                 \n",
            " dense_27 (Dense)            (None, 64)                8256      \n",
            "                                                                 \n",
            " dropout_11 (Dropout)        (None, 64)                0         \n",
            "                                                                 \n",
            " dense_28 (Dense)            (None, 10)                650       \n",
            "                                                                 \n",
            "=================================================================\n",
            "Total params: 1,076,682\n",
            "Trainable params: 1,076,682\n",
            "Non-trainable params: 0\n",
            "_________________________________________________________________\n",
            "\n",
            "Compiling model...\n",
            "\n",
            "TRAINING\n",
            "Epoch 1/100\n",
            "79/79 [==============================] - 2s 20ms/step - loss: 2.1165 - accuracy: 0.1879 - val_loss: 1.8125 - val_accuracy: 0.3295\n",
            "Epoch 2/100\n",
            "79/79 [==============================] - 1s 15ms/step - loss: 1.7463 - accuracy: 0.3439 - val_loss: 1.5225 - val_accuracy: 0.4304\n",
            "Epoch 3/100\n",
            "79/79 [==============================] - 1s 15ms/step - loss: 1.4872 - accuracy: 0.4555 - val_loss: 1.3652 - val_accuracy: 0.5049\n",
            "Epoch 4/100\n",
            "79/79 [==============================] - 1s 15ms/step - loss: 1.3165 - accuracy: 0.5299 - val_loss: 1.2229 - val_accuracy: 0.5569\n",
            "Epoch 5/100\n",
            "79/79 [==============================] - 1s 15ms/step - loss: 1.1661 - accuracy: 0.5878 - val_loss: 1.1081 - val_accuracy: 0.6092\n",
            "Epoch 6/100\n",
            "79/79 [==============================] - 1s 15ms/step - loss: 1.0588 - accuracy: 0.6279 - val_loss: 1.0218 - val_accuracy: 0.6390\n",
            "Epoch 7/100\n",
            "79/79 [==============================] - 1s 15ms/step - loss: 0.9533 - accuracy: 0.6726 - val_loss: 0.9828 - val_accuracy: 0.6597\n",
            "Epoch 8/100\n",
            "79/79 [==============================] - 1s 15ms/step - loss: 0.8739 - accuracy: 0.6973 - val_loss: 0.9792 - val_accuracy: 0.6653\n",
            "Epoch 9/100\n",
            "79/79 [==============================] - 1s 15ms/step - loss: 0.7940 - accuracy: 0.7302 - val_loss: 0.8900 - val_accuracy: 0.6975\n",
            "Epoch 10/100\n",
            "79/79 [==============================] - 1s 15ms/step - loss: 0.7215 - accuracy: 0.7567 - val_loss: 0.8707 - val_accuracy: 0.7071\n",
            "Epoch 11/100\n",
            "79/79 [==============================] - 1s 15ms/step - loss: 0.6353 - accuracy: 0.7862 - val_loss: 0.9300 - val_accuracy: 0.6923\n",
            "Epoch 12/100\n",
            "79/79 [==============================] - 1s 15ms/step - loss: 0.5656 - accuracy: 0.8110 - val_loss: 0.9923 - val_accuracy: 0.6906\n",
            "Epoch 13/100\n",
            "79/79 [==============================] - 1s 15ms/step - loss: 0.5219 - accuracy: 0.8241 - val_loss: 1.0132 - val_accuracy: 0.6978\n",
            "\n",
            "\n",
            "Training time: 0:00:17.257452\n",
            "\n",
            "EVALUATION\n",
            "Test Accuracy for the model -> 69.76 %\n",
            "\n"
          ]
        }
      ]
    },
    {
      "cell_type": "markdown",
      "source": [
        "Adding convolutional layers has deeply increased the accuracy of our previous neural network"
      ],
      "metadata": {
        "id": "S_0L0JkhfrUp"
      }
    },
    {
      "cell_type": "code",
      "source": [
        "storing_evaluation_results(model_evaluations, 'Complex Convolutional Neural Network', acc, elapsed_time)"
      ],
      "metadata": {
        "id": "BvYohxPbLr3t"
      },
      "execution_count": 50,
      "outputs": []
    },
    {
      "cell_type": "markdown",
      "source": [
        "### 4.7. Fine tuning the convolutional layer a little bit more <a class=\"anchor\" id=\"cnn_tuning\"></a>"
      ],
      "metadata": {
        "id": "oWudsJNQiC3_"
      }
    },
    {
      "cell_type": "markdown",
      "source": [
        "Another idea to increase the accuracy would be to make the convolutional layer bigger (VGG16 has 5 convolutional layers with higher amount of nodes than the previous model), and also make the classification layer (the fully connected one) a lot way bigger."
      ],
      "metadata": {
        "id": "6S8DYEoDowkm"
      }
    },
    {
      "cell_type": "code",
      "source": [
        "# MODEL DEFINITION\n",
        "print(\"DEFINITION\")\n",
        "\n",
        "model = ks.Sequential()\n",
        "\n",
        "# Neural Network Layers\n",
        "model.add(ks.layers.Conv2D(64, (3, 3), strides = 1, activation = 'relu', padding = 'same', input_shape = INPUT_SHAPE))\n",
        "model.add(ks.layers.MaxPooling2D((2, 2)))\n",
        "\n",
        "model.add(ks.layers.Conv2D(128, (3, 3), strides = 1, activation = 'relu', padding = 'same'))\n",
        "model.add(ks.layers.MaxPooling2D((2, 2)))\n",
        "\n",
        "model.add(ks.layers.Conv2D(256, (3, 3), strides = 1, activation = 'relu', padding = 'same'))\n",
        "model.add(ks.layers.MaxPooling2D((2, 2)))\n",
        "\n",
        "model.add(ks.layers.Conv2D(512, (3, 3), strides = 1, activation = 'relu', padding = 'same'))\n",
        "model.add(ks.layers.MaxPooling2D((2, 2)))\n",
        "\n",
        "model.add(ks.layers.Conv2D(512, (3, 3), strides = 1, activation = 'relu', padding = 'same'))\n",
        "model.add(ks.layers.MaxPooling2D((2, 2)))\n",
        "\n",
        "model.add(ks.layers.Flatten()) \n",
        "model.add(ks.layers.Dense(4096, activation='relu'))\n",
        "model.add(ks.layers.Dropout(0.25))\n",
        "model.add(ks.layers.Dense(1024, activation='relu'))\n",
        "model.add(ks.layers.Dropout(0.25))\n",
        "model.add(ks.layers.Dense(10, activation='softmax'))\n",
        "\n",
        "# review model\n",
        "model.summary()\n",
        "\n",
        "\n",
        "# COMPILING MODEL\n",
        "print(\"\\nCompiling model...\")\n",
        "model.compile(optimizer='Adam',\n",
        "              loss='sparse_categorical_crossentropy',\n",
        "              metrics=['accuracy'])\n",
        "\n",
        "\n",
        "# TRAINING\n",
        "print(\"\\nTRAINING\")\n",
        "# calculating computational time\n",
        "t = time.perf_counter()\n",
        "# training model\n",
        "history = model.fit(\n",
        "                    x_train, \n",
        "                    y_train, \n",
        "                    epochs = EPOCHS, \n",
        "                    use_multiprocessing = False, \n",
        "                    batch_size = 512, \n",
        "                    validation_data = (x_val, y_val),\n",
        "                    callbacks = [callback_accuracy, callback_loss]\n",
        "          )\n",
        "# show total elapsed time\n",
        "elapsed_time = datetime.timedelta(seconds=(time.perf_counter() - t))\n",
        "print('\\n\\nTraining time:', elapsed_time)\n",
        "\n",
        "\n",
        "# EVALUATION\n",
        "print(\"\\nEVALUATION\")\n",
        "acc = model_evaluation(model, x_test, y_test, history, False, False)"
      ],
      "metadata": {
        "colab": {
          "base_uri": "https://localhost:8080/"
        },
        "id": "M7pKBEmpnHWD",
        "outputId": "ede14dd1-4de8-493e-a79e-c44b7e36f8ae"
      },
      "execution_count": 51,
      "outputs": [
        {
          "output_type": "stream",
          "name": "stdout",
          "text": [
            "DEFINITION\n",
            "Model: \"sequential_7\"\n",
            "_________________________________________________________________\n",
            " Layer (type)                Output Shape              Param #   \n",
            "=================================================================\n",
            " conv2d_5 (Conv2D)           (None, 32, 32, 64)        1792      \n",
            "                                                                 \n",
            " max_pooling2d_5 (MaxPooling  (None, 16, 16, 64)       0         \n",
            " 2D)                                                             \n",
            "                                                                 \n",
            " conv2d_6 (Conv2D)           (None, 16, 16, 128)       73856     \n",
            "                                                                 \n",
            " max_pooling2d_6 (MaxPooling  (None, 8, 8, 128)        0         \n",
            " 2D)                                                             \n",
            "                                                                 \n",
            " conv2d_7 (Conv2D)           (None, 8, 8, 256)         295168    \n",
            "                                                                 \n",
            " max_pooling2d_7 (MaxPooling  (None, 4, 4, 256)        0         \n",
            " 2D)                                                             \n",
            "                                                                 \n",
            " conv2d_8 (Conv2D)           (None, 4, 4, 512)         1180160   \n",
            "                                                                 \n",
            " max_pooling2d_8 (MaxPooling  (None, 2, 2, 512)        0         \n",
            " 2D)                                                             \n",
            "                                                                 \n",
            " conv2d_9 (Conv2D)           (None, 2, 2, 512)         2359808   \n",
            "                                                                 \n",
            " max_pooling2d_9 (MaxPooling  (None, 1, 1, 512)        0         \n",
            " 2D)                                                             \n",
            "                                                                 \n",
            " flatten_7 (Flatten)         (None, 512)               0         \n",
            "                                                                 \n",
            " dense_29 (Dense)            (None, 4096)              2101248   \n",
            "                                                                 \n",
            " dropout_12 (Dropout)        (None, 4096)              0         \n",
            "                                                                 \n",
            " dense_30 (Dense)            (None, 1024)              4195328   \n",
            "                                                                 \n",
            " dropout_13 (Dropout)        (None, 1024)              0         \n",
            "                                                                 \n",
            " dense_31 (Dense)            (None, 10)                10250     \n",
            "                                                                 \n",
            "=================================================================\n",
            "Total params: 10,217,610\n",
            "Trainable params: 10,217,610\n",
            "Non-trainable params: 0\n",
            "_________________________________________________________________\n",
            "\n",
            "Compiling model...\n",
            "\n",
            "TRAINING\n",
            "Epoch 1/100\n",
            "79/79 [==============================] - 6s 51ms/step - loss: 2.0216 - accuracy: 0.2170 - val_loss: 1.7580 - val_accuracy: 0.3378\n",
            "Epoch 2/100\n",
            "79/79 [==============================] - 3s 40ms/step - loss: 1.5205 - accuracy: 0.4194 - val_loss: 1.3259 - val_accuracy: 0.5085\n",
            "Epoch 3/100\n",
            "79/79 [==============================] - 3s 40ms/step - loss: 1.2126 - accuracy: 0.5537 - val_loss: 1.2295 - val_accuracy: 0.5553\n",
            "Epoch 4/100\n",
            "79/79 [==============================] - 3s 41ms/step - loss: 0.9946 - accuracy: 0.6407 - val_loss: 0.9636 - val_accuracy: 0.6655\n",
            "Epoch 5/100\n",
            "79/79 [==============================] - 3s 40ms/step - loss: 0.8154 - accuracy: 0.7094 - val_loss: 1.0343 - val_accuracy: 0.6383\n",
            "Epoch 6/100\n",
            "79/79 [==============================] - 3s 41ms/step - loss: 0.6901 - accuracy: 0.7551 - val_loss: 1.0127 - val_accuracy: 0.6699\n",
            "Epoch 7/100\n",
            "79/79 [==============================] - 3s 42ms/step - loss: 0.5683 - accuracy: 0.8008 - val_loss: 0.8235 - val_accuracy: 0.7236\n",
            "Epoch 8/100\n",
            "79/79 [==============================] - 3s 40ms/step - loss: 0.4424 - accuracy: 0.8467 - val_loss: 0.8579 - val_accuracy: 0.7386\n",
            "Epoch 9/100\n",
            "79/79 [==============================] - 3s 40ms/step - loss: 0.3703 - accuracy: 0.8708 - val_loss: 1.0193 - val_accuracy: 0.6960\n",
            "Epoch 10/100\n",
            "79/79 [==============================] - 3s 40ms/step - loss: 0.3017 - accuracy: 0.8955 - val_loss: 1.1178 - val_accuracy: 0.6977\n",
            "\n",
            "\n",
            "Training time: 0:00:35.047863\n",
            "\n",
            "EVALUATION\n",
            "Test Accuracy for the model -> 71.95 %\n",
            "\n"
          ]
        }
      ]
    },
    {
      "cell_type": "code",
      "source": [
        "storing_evaluation_results(model_evaluations, 'VGG16-like CNN', acc, elapsed_time)"
      ],
      "metadata": {
        "id": "8euIA2BHpfy5"
      },
      "execution_count": 52,
      "outputs": []
    },
    {
      "cell_type": "markdown",
      "source": [
        "### 4.8. Adam Optimizer parameters fine tuning<a class=\"anchor\" id=\"adam_tuning\"></a>"
      ],
      "metadata": {
        "id": "AVghaYf97SBv"
      }
    },
    {
      "cell_type": "markdown",
      "source": [
        "Up until now, we have been focusing on the architecture of the convolutional neural network, but we haven't checked anything related to the optimizer function we are using, Adam. \n",
        "\n",
        "The idea with this model is to explore if fine tuning parameters such as the learning rate and the momentums, we manage to escape from local minimums and reach global minimums."
      ],
      "metadata": {
        "id": "dIC95cut7nFK"
      }
    },
    {
      "cell_type": "code",
      "source": [
        "# MODEL DEFINITION\n",
        "print(\"DEFINITION\")\n",
        "\n",
        "model = ks.Sequential()\n",
        "\n",
        "# Neural Network Layers\n",
        "model.add(ks.layers.Conv2D(64, (3, 3), strides = 1, activation = 'relu', padding = 'same', input_shape = INPUT_SHAPE))\n",
        "model.add(ks.layers.MaxPooling2D((2, 2)))\n",
        "\n",
        "model.add(ks.layers.Conv2D(128, (3, 3), strides = 1, activation = 'relu', padding = 'same'))\n",
        "model.add(ks.layers.MaxPooling2D((2, 2)))\n",
        "\n",
        "model.add(ks.layers.Conv2D(256, (3, 3), strides = 1, activation = 'relu', padding = 'same'))\n",
        "model.add(ks.layers.MaxPooling2D((2, 2)))\n",
        "\n",
        "model.add(ks.layers.Conv2D(512, (3, 3), strides = 1, activation = 'relu', padding = 'same'))\n",
        "model.add(ks.layers.MaxPooling2D((2, 2)))\n",
        "\n",
        "model.add(ks.layers.Conv2D(512, (3, 3), strides = 1, activation = 'relu', padding = 'same'))\n",
        "model.add(ks.layers.MaxPooling2D((2, 2)))\n",
        "\n",
        "model.add(ks.layers.Flatten()) \n",
        "model.add(ks.layers.Dense(4096, activation='relu'))\n",
        "model.add(ks.layers.Dropout(0.25))\n",
        "model.add(ks.layers.Dense(1024, activation='relu'))\n",
        "model.add(ks.layers.Dropout(0.25))\n",
        "model.add(ks.layers.Dense(10, activation='softmax'))\n",
        "\n",
        "# review model\n",
        "model.summary()\n",
        "\n",
        "\n",
        "# COMPILING MODEL\n",
        "print(\"\\nCompiling model...\")\n",
        "optimizer = Adam(learning_rate = 0.001, decay = 0, beta_1 = 0.9, beta_2 = 0.999, epsilon = 1e-08)\n",
        "model.compile(optimizer = optimizer,\n",
        "              loss = 'sparse_categorical_crossentropy',\n",
        "              metrics = ['accuracy'])\n",
        "\n",
        "\n",
        "# TRAINING\n",
        "print(\"\\nTRAINING\")\n",
        "# calculating computational time\n",
        "t = time.perf_counter()\n",
        "# training model\n",
        "history = model.fit(\n",
        "                    x_train, \n",
        "                    y_train, \n",
        "                    epochs = EPOCHS, \n",
        "                    use_multiprocessing = False, \n",
        "                    batch_size = 512, \n",
        "                    validation_data = (x_val, y_val),\n",
        "                    callbacks = [callback_accuracy, callback_loss]\n",
        "          )\n",
        "# show total elapsed time\n",
        "elapsed_time = datetime.timedelta(seconds=(time.perf_counter() - t))\n",
        "print('\\n\\nTraining time:', elapsed_time)\n",
        "\n",
        "\n",
        "# EVALUATION\n",
        "print(\"\\nEVALUATION\")\n",
        "acc = model_evaluation(model, x_test, y_test, history, False, False)"
      ],
      "metadata": {
        "colab": {
          "base_uri": "https://localhost:8080/"
        },
        "id": "bQGD4jNV7nba",
        "outputId": "39961aaf-4822-478d-d403-d9e6d4d8eedd"
      },
      "execution_count": 53,
      "outputs": [
        {
          "output_type": "stream",
          "name": "stdout",
          "text": [
            "DEFINITION\n",
            "Model: \"sequential_8\"\n",
            "_________________________________________________________________\n",
            " Layer (type)                Output Shape              Param #   \n",
            "=================================================================\n",
            " conv2d_10 (Conv2D)          (None, 32, 32, 64)        1792      \n",
            "                                                                 \n",
            " max_pooling2d_10 (MaxPoolin  (None, 16, 16, 64)       0         \n",
            " g2D)                                                            \n",
            "                                                                 \n",
            " conv2d_11 (Conv2D)          (None, 16, 16, 128)       73856     \n",
            "                                                                 \n",
            " max_pooling2d_11 (MaxPoolin  (None, 8, 8, 128)        0         \n",
            " g2D)                                                            \n",
            "                                                                 \n",
            " conv2d_12 (Conv2D)          (None, 8, 8, 256)         295168    \n",
            "                                                                 \n",
            " max_pooling2d_12 (MaxPoolin  (None, 4, 4, 256)        0         \n",
            " g2D)                                                            \n",
            "                                                                 \n",
            " conv2d_13 (Conv2D)          (None, 4, 4, 512)         1180160   \n",
            "                                                                 \n",
            " max_pooling2d_13 (MaxPoolin  (None, 2, 2, 512)        0         \n",
            " g2D)                                                            \n",
            "                                                                 \n",
            " conv2d_14 (Conv2D)          (None, 2, 2, 512)         2359808   \n",
            "                                                                 \n",
            " max_pooling2d_14 (MaxPoolin  (None, 1, 1, 512)        0         \n",
            " g2D)                                                            \n",
            "                                                                 \n",
            " flatten_8 (Flatten)         (None, 512)               0         \n",
            "                                                                 \n",
            " dense_32 (Dense)            (None, 4096)              2101248   \n",
            "                                                                 \n",
            " dropout_14 (Dropout)        (None, 4096)              0         \n",
            "                                                                 \n",
            " dense_33 (Dense)            (None, 1024)              4195328   \n",
            "                                                                 \n",
            " dropout_15 (Dropout)        (None, 1024)              0         \n",
            "                                                                 \n",
            " dense_34 (Dense)            (None, 10)                10250     \n",
            "                                                                 \n",
            "=================================================================\n",
            "Total params: 10,217,610\n",
            "Trainable params: 10,217,610\n",
            "Non-trainable params: 0\n",
            "_________________________________________________________________\n",
            "\n",
            "Compiling model...\n",
            "\n",
            "TRAINING\n",
            "Epoch 1/100\n",
            "79/79 [==============================] - 4s 45ms/step - loss: 2.0007 - accuracy: 0.2172 - val_loss: 1.7796 - val_accuracy: 0.3223\n",
            "Epoch 2/100\n",
            "79/79 [==============================] - 3s 42ms/step - loss: 1.5181 - accuracy: 0.4208 - val_loss: 1.3546 - val_accuracy: 0.4903\n",
            "Epoch 3/100\n",
            "79/79 [==============================] - 3s 41ms/step - loss: 1.2095 - accuracy: 0.5523 - val_loss: 1.1077 - val_accuracy: 0.5939\n",
            "Epoch 4/100\n",
            "79/79 [==============================] - 3s 41ms/step - loss: 1.0093 - accuracy: 0.6339 - val_loss: 1.0832 - val_accuracy: 0.6104\n",
            "Epoch 5/100\n",
            "79/79 [==============================] - 3s 41ms/step - loss: 0.8446 - accuracy: 0.6970 - val_loss: 0.9848 - val_accuracy: 0.6492\n",
            "Epoch 6/100\n",
            "79/79 [==============================] - 3s 40ms/step - loss: 0.7131 - accuracy: 0.7477 - val_loss: 0.8553 - val_accuracy: 0.7048\n",
            "Epoch 7/100\n",
            "79/79 [==============================] - 3s 40ms/step - loss: 0.5916 - accuracy: 0.7925 - val_loss: 0.8132 - val_accuracy: 0.7240\n",
            "Epoch 8/100\n",
            "79/79 [==============================] - 3s 40ms/step - loss: 0.4804 - accuracy: 0.8299 - val_loss: 1.1598 - val_accuracy: 0.6564\n",
            "Epoch 9/100\n",
            "79/79 [==============================] - 3s 41ms/step - loss: 0.4088 - accuracy: 0.8587 - val_loss: 0.9899 - val_accuracy: 0.7069\n",
            "Epoch 10/100\n",
            "79/79 [==============================] - 3s 40ms/step - loss: 0.3123 - accuracy: 0.8915 - val_loss: 0.9657 - val_accuracy: 0.7250\n",
            "\n",
            "\n",
            "Training time: 0:00:33.857192\n",
            "\n",
            "EVALUATION\n",
            "Test Accuracy for the model -> 72.01 %\n",
            "\n"
          ]
        }
      ]
    },
    {
      "cell_type": "code",
      "source": [
        "storing_evaluation_results(model_evaluations, 'Fine tuning Adam Optimizer parameters', acc, elapsed_time)"
      ],
      "metadata": {
        "id": "IqNiL5da8gQw"
      },
      "execution_count": 54,
      "outputs": []
    },
    {
      "cell_type": "markdown",
      "source": [
        "### 4.9. Using Data Augmentation <a class=\"anchor\" id=\"data_augmentation\"></a>"
      ],
      "metadata": {
        "id": "34EH2rdYomWU"
      }
    },
    {
      "cell_type": "markdown",
      "source": [
        "With a pretty complex convolutional network, we managed to increase the accuracy quite a lot. However, we are always aiming for a better model. The following approach will make use of Data Augmentation to improve the accuracy of the model by using very simple techniques of image processing to artificially expand the size of the training data by creating modified versions of the images of the original data."
      ],
      "metadata": {
        "id": "uiF7HQ9eiIL6"
      }
    },
    {
      "cell_type": "markdown",
      "source": [
        "#### 4.9.1. Creating an Image Train Generator <a class=\"anchor\" id=\"train_generator\"></a>"
      ],
      "metadata": {
        "id": "UOjcMk82qaD2"
      }
    },
    {
      "cell_type": "code",
      "source": [
        "#TODO: REVIEW if comment or not\n",
        "y_train_encoded = ks.utils.to_categorical(y_train)\n",
        "y_val_encoded = ks.utils.to_categorical(y_val)\n",
        "y_test_encoded = ks.utils.to_categorical(y_test)"
      ],
      "metadata": {
        "id": "9WaWg4_kaQwf"
      },
      "execution_count": 57,
      "outputs": []
    },
    {
      "cell_type": "code",
      "source": [
        "generator_batch_size = 64\n",
        "\n",
        "# train data\n",
        "train_datagen = ImageDataGenerator(\n",
        "    rotation_range = 20,\n",
        "    shear_range = 0.2,\n",
        "    zoom_range = 0.2,\n",
        "    horizontal_flip = True,\n",
        "    width_shift_range = 0.1,\n",
        "    height_shift_range = 0.1,\n",
        ")\n",
        "train_generator = train_datagen.flow(\n",
        "    x_train,\n",
        "    y_train_encoded, \n",
        "    batch_size = generator_batch_size\n",
        ")\n",
        "\n",
        "# validation data\n",
        "validation_datagen = ImageDataGenerator()\n",
        "validation_generator = validation_datagen.flow(\n",
        "    x_val, \n",
        "    y_val_encoded, \n",
        "    batch_size = generator_batch_size\n",
        ")"
      ],
      "metadata": {
        "id": "vd3zJHwxqC6x"
      },
      "execution_count": 98,
      "outputs": []
    },
    {
      "cell_type": "code",
      "source": [
        "# checking the transformations of the already created generators\n",
        "\n",
        "sample = np.random.choice(range(0,4999))\n",
        "\n",
        "example_generator = train_datagen.flow(\n",
        "    x_train[sample:sample+1],\n",
        "    y_train[sample:sample+1],\n",
        "    batch_size=1\n",
        ")\n",
        "\n",
        "plt.figure(figsize=(12, 12))\n",
        "for i in range(0,15):\n",
        "    plt.subplot(5, 3, i+1)\n",
        "    for X,y in example_generator:\n",
        "        image = X[0]\n",
        "        plt.imshow(image)\n",
        "        break\n",
        "plt.tight_layout()\n",
        "plt.show()"
      ],
      "metadata": {
        "colab": {
          "base_uri": "https://localhost:8080/",
          "height": 873
        },
        "id": "pkOmUADHrUYg",
        "outputId": "3e7bd733-7ae7-4425-ebec-deb6655a4bc4"
      },
      "execution_count": 61,
      "outputs": [
        {
          "output_type": "display_data",
          "data": {
            "image/png": "[encoded data removed]",
            "text/plain": [
              "<Figure size 864x864 with 15 Axes>"
            ]
          },
          "metadata": {
            "needs_background": "light"
          }
        }
      ]
    },
    {
      "cell_type": "markdown",
      "source": [
        "#### 4.9.2. Training the model with the image train generator <a class=\"anchor\" id=\"train_generator_training_model\"></a>"
      ],
      "metadata": {
        "id": "M-fXLseos3ek"
      }
    },
    {
      "cell_type": "code",
      "source": [
        "#TODO: Review\n",
        "\n",
        "# MODEL DEFINITION\n",
        "print(\"DEFINITION\")\n",
        "\n",
        "model = ks.Sequential()\n",
        "\n",
        "# Neural Network Layers\n",
        "\n",
        "model.add(ks.layers.Conv2D(64, (3, 3), strides = 1, activation = 'relu', padding = 'same', input_shape = INPUT_SHAPE))\n",
        "model.add(ks.layers.MaxPooling2D((2, 2)))\n",
        "\n",
        "model.add(ks.layers.Conv2D(128, (3, 3), strides = 1, activation = 'relu', padding = 'same'))\n",
        "model.add(ks.layers.MaxPooling2D((2, 2)))\n",
        "\n",
        "model.add(ks.layers.Conv2D(256, (3, 3), strides = 1, activation = 'relu', padding = 'same'))\n",
        "model.add(ks.layers.MaxPooling2D((2, 2)))\n",
        "\n",
        "model.add(ks.layers.Conv2D(512, (3, 3), strides = 1, activation = 'relu', padding = 'same'))\n",
        "model.add(ks.layers.MaxPooling2D((2, 2)))\n",
        "\n",
        "model.add(ks.layers.Conv2D(512, (3, 3), strides = 1, activation = 'relu', padding = 'same'))\n",
        "model.add(ks.layers.MaxPooling2D((2, 2)))\n",
        "\n",
        "model.add(ks.layers.Flatten()) \n",
        "model.add(ks.layers.Dense(4096, activation='relu'))\n",
        "model.add(ks.layers.Dropout(0.25))\n",
        "model.add(ks.layers.Dense(1024, activation='relu'))\n",
        "model.add(ks.layers.Dropout(0.25))\n",
        "model.add(ks.layers.Dense(10, activation='softmax'))\n",
        "\n",
        "# review model\n",
        "model.summary()\n",
        "\n",
        "\n",
        "# COMPILING MODEL\n",
        "print(\"\\nCompiling model...\")\n",
        "model.compile(optimizer = 'Adam',\n",
        "              loss = 'categorical_crossentropy',\n",
        "              metrics = ['accuracy'])\n",
        "\n",
        "\n",
        "# TRAINING\n",
        "print(\"\\nTRAINING\")\n",
        "# calculating computational time\n",
        "t = time.perf_counter()\n",
        "# training model\n",
        "history = model.fit(\n",
        "                    train_generator, \n",
        "                    validation_data = validation_generator,\n",
        "                    #validation_data = (x_val, y_val),\n",
        "                    epochs = EPOCHS, \n",
        "                    steps_per_epoch = int(x_train.shape[0] / generator_batch_size),\n",
        "                    #validation_steps = int(x_val.shape[0] / generator_batch_size),\n",
        "                    use_multiprocessing = False, \n",
        "                    callbacks = [callback_accuracy, callback_loss]\n",
        "          )\n",
        "# show total elapsed time\n",
        "elapsed_time = datetime.timedelta(seconds=(time.perf_counter() - t))\n",
        "print('\\n\\nTraining time:', elapsed_time)\n",
        "\n",
        "\n",
        "# EVALUATION\n",
        "print(\"\\nEVALUATION\")\n",
        "acc = model_evaluation(model, x_test, y_test, history, True, True)"
      ],
      "metadata": {
        "colab": {
          "base_uri": "https://localhost:8080/",
          "height": 1000
        },
        "id": "qa0qtfUOs31s",
        "outputId": "698ee9d4-4c8a-4107-9e8d-df92337807f6"
      },
      "execution_count": 62,
      "outputs": [
        {
          "output_type": "stream",
          "name": "stdout",
          "text": [
            "DEFINITION\n",
            "Model: \"sequential_9\"\n",
            "_________________________________________________________________\n",
            " Layer (type)                Output Shape              Param #   \n",
            "=================================================================\n",
            " conv2d_15 (Conv2D)          (None, 32, 32, 64)        1792      \n",
            "                                                                 \n",
            " max_pooling2d_15 (MaxPoolin  (None, 16, 16, 64)       0         \n",
            " g2D)                                                            \n",
            "                                                                 \n",
            " conv2d_16 (Conv2D)          (None, 16, 16, 128)       73856     \n",
            "                                                                 \n",
            " max_pooling2d_16 (MaxPoolin  (None, 8, 8, 128)        0         \n",
            " g2D)                                                            \n",
            "                                                                 \n",
            " conv2d_17 (Conv2D)          (None, 8, 8, 256)         295168    \n",
            "                                                                 \n",
            " max_pooling2d_17 (MaxPoolin  (None, 4, 4, 256)        0         \n",
            " g2D)                                                            \n",
            "                                                                 \n",
            " conv2d_18 (Conv2D)          (None, 4, 4, 512)         1180160   \n",
            "                                                                 \n",
            " max_pooling2d_18 (MaxPoolin  (None, 2, 2, 512)        0         \n",
            " g2D)                                                            \n",
            "                                                                 \n",
            " conv2d_19 (Conv2D)          (None, 2, 2, 512)         2359808   \n",
            "                                                                 \n",
            " max_pooling2d_19 (MaxPoolin  (None, 1, 1, 512)        0         \n",
            " g2D)                                                            \n",
            "                                                                 \n",
            " flatten_9 (Flatten)         (None, 512)               0         \n",
            "                                                                 \n",
            " dense_35 (Dense)            (None, 4096)              2101248   \n",
            "                                                                 \n",
            " dropout_16 (Dropout)        (None, 4096)              0         \n",
            "                                                                 \n",
            " dense_36 (Dense)            (None, 1024)              4195328   \n",
            "                                                                 \n",
            " dropout_17 (Dropout)        (None, 1024)              0         \n",
            "                                                                 \n",
            " dense_37 (Dense)            (None, 10)                10250     \n",
            "                                                                 \n",
            "=================================================================\n",
            "Total params: 10,217,610\n",
            "Trainable params: 10,217,610\n",
            "Non-trainable params: 0\n",
            "_________________________________________________________________\n",
            "\n",
            "Compiling model...\n",
            "\n",
            "TRAINING\n",
            "Epoch 1/100\n",
            "625/625 [==============================] - 22s 34ms/step - loss: 1.8474 - accuracy: 0.2868 - val_loss: 1.6052 - val_accuracy: 0.3813\n",
            "Epoch 2/100\n",
            "625/625 [==============================] - 21s 33ms/step - loss: 1.4470 - accuracy: 0.4650 - val_loss: 1.1915 - val_accuracy: 0.5641\n",
            "Epoch 3/100\n",
            "625/625 [==============================] - 21s 33ms/step - loss: 1.2791 - accuracy: 0.5354 - val_loss: 1.1192 - val_accuracy: 0.5959\n",
            "Epoch 4/100\n",
            "625/625 [==============================] - 23s 37ms/step - loss: 1.1800 - accuracy: 0.5789 - val_loss: 1.0655 - val_accuracy: 0.6263\n",
            "Epoch 5/100\n",
            "625/625 [==============================] - 20s 33ms/step - loss: 1.1070 - accuracy: 0.6090 - val_loss: 1.1891 - val_accuracy: 0.5802\n",
            "Epoch 6/100\n",
            "625/625 [==============================] - 20s 33ms/step - loss: 1.0400 - accuracy: 0.6349 - val_loss: 0.9501 - val_accuracy: 0.6630\n",
            "Epoch 7/100\n",
            "625/625 [==============================] - 21s 33ms/step - loss: 0.9982 - accuracy: 0.6529 - val_loss: 0.9675 - val_accuracy: 0.6766\n",
            "Epoch 8/100\n",
            "625/625 [==============================] - 20s 33ms/step - loss: 0.9558 - accuracy: 0.6697 - val_loss: 0.8866 - val_accuracy: 0.6890\n",
            "Epoch 9/100\n",
            "625/625 [==============================] - 21s 33ms/step - loss: 0.9167 - accuracy: 0.6804 - val_loss: 0.8954 - val_accuracy: 0.7013\n",
            "Epoch 10/100\n",
            "625/625 [==============================] - 20s 33ms/step - loss: 0.8961 - accuracy: 0.6887 - val_loss: 0.8378 - val_accuracy: 0.7179\n",
            "Epoch 11/100\n",
            "625/625 [==============================] - 21s 33ms/step - loss: 0.8755 - accuracy: 0.6991 - val_loss: 0.8007 - val_accuracy: 0.7235\n",
            "Epoch 12/100\n",
            "625/625 [==============================] - 21s 33ms/step - loss: 0.8491 - accuracy: 0.7056 - val_loss: 0.7500 - val_accuracy: 0.7435\n",
            "Epoch 13/100\n",
            "625/625 [==============================] - 21s 33ms/step - loss: 0.8347 - accuracy: 0.7092 - val_loss: 0.7052 - val_accuracy: 0.7609\n",
            "Epoch 14/100\n",
            "625/625 [==============================] - 21s 33ms/step - loss: 0.8224 - accuracy: 0.7175 - val_loss: 0.7539 - val_accuracy: 0.7328\n",
            "Epoch 15/100\n",
            "625/625 [==============================] - 20s 33ms/step - loss: 0.8046 - accuracy: 0.7221 - val_loss: 0.7279 - val_accuracy: 0.7542\n",
            "Epoch 16/100\n",
            "625/625 [==============================] - 21s 33ms/step - loss: 0.7894 - accuracy: 0.7292 - val_loss: 0.7548 - val_accuracy: 0.7476\n",
            "\n",
            "\n",
            "Training time: 0:05:33.667006\n",
            "\n",
            "EVALUATION\n"
          ]
        },
        {
          "output_type": "display_data",
          "data": {
            "image/png": "[encoded data removed]",
            "text/plain": [
              "<Figure size 432x288 with 1 Axes>"
            ]
          },
          "metadata": {
            "needs_background": "light"
          }
        },
        {
          "output_type": "display_data",
          "data": {
            "image/png": "[encoded data removed]",
            "text/plain": [
              "<Figure size 432x288 with 1 Axes>"
            ]
          },
          "metadata": {
            "needs_background": "light"
          }
        },
        {
          "output_type": "error",
          "ename": "ValueError",
          "evalue": "ignored",
          "traceback": [
            "\u001b[0;31m---------------------------------------------------------------------------\u001b[0m",
            "\u001b[0;31mValueError\u001b[0m                                Traceback (most recent call last)",
            "\u001b[0;32m<ipython-input-62-813da58efbba>\u001b[0m in \u001b[0;36m<module>\u001b[0;34m()\u001b[0m\n\u001b[1;32m     63\u001b[0m \u001b[0;31m# EVALUATION\u001b[0m\u001b[0;34m\u001b[0m\u001b[0;34m\u001b[0m\u001b[0;34m\u001b[0m\u001b[0m\n\u001b[1;32m     64\u001b[0m \u001b[0mprint\u001b[0m\u001b[0;34m(\u001b[0m\u001b[0;34m\"\\nEVALUATION\"\u001b[0m\u001b[0;34m)\u001b[0m\u001b[0;34m\u001b[0m\u001b[0;34m\u001b[0m\u001b[0m\n\u001b[0;32m---> 65\u001b[0;31m \u001b[0macc\u001b[0m \u001b[0;34m=\u001b[0m \u001b[0mmodel_evaluation\u001b[0m\u001b[0;34m(\u001b[0m\u001b[0mmodel\u001b[0m\u001b[0;34m,\u001b[0m \u001b[0mx_test\u001b[0m\u001b[0;34m,\u001b[0m \u001b[0my_test\u001b[0m\u001b[0;34m,\u001b[0m \u001b[0mhistory\u001b[0m\u001b[0;34m,\u001b[0m \u001b[0;32mTrue\u001b[0m\u001b[0;34m,\u001b[0m \u001b[0;32mFalse\u001b[0m\u001b[0;34m)\u001b[0m\u001b[0;34m\u001b[0m\u001b[0;34m\u001b[0m\u001b[0m\n\u001b[0m",
            "\u001b[0;32m<ipython-input-40-e0c54d3b445b>\u001b[0m in \u001b[0;36mmodel_evaluation\u001b[0;34m(model, x_test, y_test, history, plot_graphs, plot_images)\u001b[0m\n\u001b[1;32m     16\u001b[0m \u001b[0;34m\u001b[0m\u001b[0m\n\u001b[1;32m     17\u001b[0m     \u001b[0;31m# accuracy evaluation\u001b[0m\u001b[0;34m\u001b[0m\u001b[0;34m\u001b[0m\u001b[0;34m\u001b[0m\u001b[0m\n\u001b[0;32m---> 18\u001b[0;31m     \u001b[0m_\u001b[0m\u001b[0;34m,\u001b[0m \u001b[0macc\u001b[0m \u001b[0;34m=\u001b[0m \u001b[0mmodel\u001b[0m\u001b[0;34m.\u001b[0m\u001b[0mevaluate\u001b[0m\u001b[0;34m(\u001b[0m\u001b[0mx_test\u001b[0m\u001b[0;34m,\u001b[0m \u001b[0my_test\u001b[0m\u001b[0;34m,\u001b[0m \u001b[0mverbose\u001b[0m\u001b[0;34m=\u001b[0m\u001b[0;36m0\u001b[0m\u001b[0;34m)\u001b[0m\u001b[0;34m\u001b[0m\u001b[0;34m\u001b[0m\u001b[0m\n\u001b[0m\u001b[1;32m     19\u001b[0m     \u001b[0mprint\u001b[0m\u001b[0;34m(\u001b[0m\u001b[0;34mf'Test Accuracy for the model -> {round((acc * 100.0), 4)} %\\n'\u001b[0m\u001b[0;34m)\u001b[0m\u001b[0;34m\u001b[0m\u001b[0;34m\u001b[0m\u001b[0m\n\u001b[1;32m     20\u001b[0m \u001b[0;34m\u001b[0m\u001b[0m\n",
            "\u001b[0;32m/usr/local/lib/python3.7/dist-packages/keras/utils/traceback_utils.py\u001b[0m in \u001b[0;36merror_handler\u001b[0;34m(*args, **kwargs)\u001b[0m\n\u001b[1;32m     65\u001b[0m     \u001b[0;32mexcept\u001b[0m \u001b[0mException\u001b[0m \u001b[0;32mas\u001b[0m \u001b[0me\u001b[0m\u001b[0;34m:\u001b[0m  \u001b[0;31m# pylint: disable=broad-except\u001b[0m\u001b[0;34m\u001b[0m\u001b[0;34m\u001b[0m\u001b[0m\n\u001b[1;32m     66\u001b[0m       \u001b[0mfiltered_tb\u001b[0m \u001b[0;34m=\u001b[0m \u001b[0m_process_traceback_frames\u001b[0m\u001b[0;34m(\u001b[0m\u001b[0me\u001b[0m\u001b[0;34m.\u001b[0m\u001b[0m__traceback__\u001b[0m\u001b[0;34m)\u001b[0m\u001b[0;34m\u001b[0m\u001b[0;34m\u001b[0m\u001b[0m\n\u001b[0;32m---> 67\u001b[0;31m       \u001b[0;32mraise\u001b[0m \u001b[0me\u001b[0m\u001b[0;34m.\u001b[0m\u001b[0mwith_traceback\u001b[0m\u001b[0;34m(\u001b[0m\u001b[0mfiltered_tb\u001b[0m\u001b[0;34m)\u001b[0m \u001b[0;32mfrom\u001b[0m \u001b[0;32mNone\u001b[0m\u001b[0;34m\u001b[0m\u001b[0;34m\u001b[0m\u001b[0m\n\u001b[0m\u001b[1;32m     68\u001b[0m     \u001b[0;32mfinally\u001b[0m\u001b[0;34m:\u001b[0m\u001b[0;34m\u001b[0m\u001b[0;34m\u001b[0m\u001b[0m\n\u001b[1;32m     69\u001b[0m       \u001b[0;32mdel\u001b[0m \u001b[0mfiltered_tb\u001b[0m\u001b[0;34m\u001b[0m\u001b[0;34m\u001b[0m\u001b[0m\n",
            "\u001b[0;32m/usr/local/lib/python3.7/dist-packages/tensorflow/python/framework/func_graph.py\u001b[0m in \u001b[0;36mautograph_handler\u001b[0;34m(*args, **kwargs)\u001b[0m\n\u001b[1;32m   1127\u001b[0m           \u001b[0;32mexcept\u001b[0m \u001b[0mException\u001b[0m \u001b[0;32mas\u001b[0m \u001b[0me\u001b[0m\u001b[0;34m:\u001b[0m  \u001b[0;31m# pylint:disable=broad-except\u001b[0m\u001b[0;34m\u001b[0m\u001b[0;34m\u001b[0m\u001b[0m\n\u001b[1;32m   1128\u001b[0m             \u001b[0;32mif\u001b[0m \u001b[0mhasattr\u001b[0m\u001b[0;34m(\u001b[0m\u001b[0me\u001b[0m\u001b[0;34m,\u001b[0m \u001b[0;34m\"ag_error_metadata\"\u001b[0m\u001b[0;34m)\u001b[0m\u001b[0;34m:\u001b[0m\u001b[0;34m\u001b[0m\u001b[0;34m\u001b[0m\u001b[0m\n\u001b[0;32m-> 1129\u001b[0;31m               \u001b[0;32mraise\u001b[0m \u001b[0me\u001b[0m\u001b[0;34m.\u001b[0m\u001b[0mag_error_metadata\u001b[0m\u001b[0;34m.\u001b[0m\u001b[0mto_exception\u001b[0m\u001b[0;34m(\u001b[0m\u001b[0me\u001b[0m\u001b[0;34m)\u001b[0m\u001b[0;34m\u001b[0m\u001b[0;34m\u001b[0m\u001b[0m\n\u001b[0m\u001b[1;32m   1130\u001b[0m             \u001b[0;32melse\u001b[0m\u001b[0;34m:\u001b[0m\u001b[0;34m\u001b[0m\u001b[0;34m\u001b[0m\u001b[0m\n\u001b[1;32m   1131\u001b[0m               \u001b[0;32mraise\u001b[0m\u001b[0;34m\u001b[0m\u001b[0;34m\u001b[0m\u001b[0m\n",
            "\u001b[0;31mValueError\u001b[0m: in user code:\n\n    File \"/usr/local/lib/python3.7/dist-packages/keras/engine/training.py\", line 1366, in test_function  *\n        return step_function(self, iterator)\n    File \"/usr/local/lib/python3.7/dist-packages/keras/engine/training.py\", line 1356, in step_function  **\n        outputs = model.distribute_strategy.run(run_step, args=(data,))\n    File \"/usr/local/lib/python3.7/dist-packages/keras/engine/training.py\", line 1349, in run_step  **\n        outputs = model.test_step(data)\n    File \"/usr/local/lib/python3.7/dist-packages/keras/engine/training.py\", line 1306, in test_step\n        y, y_pred, sample_weight, regularization_losses=self.losses)\n    File \"/usr/local/lib/python3.7/dist-packages/keras/engine/compile_utils.py\", line 201, in __call__\n        loss_value = loss_obj(y_t, y_p, sample_weight=sw)\n    File \"/usr/local/lib/python3.7/dist-packages/keras/losses.py\", line 141, in __call__\n        losses = call_fn(y_true, y_pred)\n    File \"/usr/local/lib/python3.7/dist-packages/keras/losses.py\", line 245, in call  **\n        return ag_fn(y_true, y_pred, **self._fn_kwargs)\n    File \"/usr/local/lib/python3.7/dist-packages/keras/losses.py\", line 1665, in categorical_crossentropy\n        y_true, y_pred, from_logits=from_logits, axis=axis)\n    File \"/usr/local/lib/python3.7/dist-packages/keras/backend.py\", line 4994, in categorical_crossentropy\n        target.shape.assert_is_compatible_with(output.shape)\n\n    ValueError: Shapes (None, 1) and (None, 10) are incompatible\n"
          ]
        }
      ]
    },
    {
      "cell_type": "code",
      "source": [
        "acc = model_evaluation(model, x_test, y_test_encoded, history, True, True)"
      ],
      "metadata": {
        "colab": {
          "base_uri": "https://localhost:8080/",
          "height": 1000
        },
        "id": "yz24F__BcWng",
        "outputId": "5f931f75-0a0d-41ee-e606-388561bea729"
      },
      "execution_count": 95,
      "outputs": [
        {
          "output_type": "display_data",
          "data": {
            "image/png": "[encoded data removed]",
            "text/plain": [
              "<Figure size 432x288 with 1 Axes>"
            ]
          },
          "metadata": {
            "needs_background": "light"
          }
        },
        {
          "output_type": "display_data",
          "data": {
            "image/png": "[encoded data removed]",
            "text/plain": [
              "<Figure size 432x288 with 1 Axes>"
            ]
          },
          "metadata": {
            "needs_background": "light"
          }
        },
        {
          "output_type": "stream",
          "name": "stdout",
          "text": [
            "Test Accuracy for the model -> 74.72 %\n",
            "\n",
            "0 airplane\n",
            "1 automobile\n",
            "2 bird\n",
            "3 cat\n",
            "4 deer\n",
            "5 dog\n",
            "6 frog\n",
            "7 horse\n",
            "8 ship\n",
            "9 truck\n"
          ]
        },
        {
          "output_type": "error",
          "ename": "ValueError",
          "evalue": "ignored",
          "traceback": [
            "\u001b[0;31m---------------------------------------------------------------------------\u001b[0m",
            "\u001b[0;31mValueError\u001b[0m                                Traceback (most recent call last)",
            "\u001b[0;32m<ipython-input-95-0a5e434ad267>\u001b[0m in \u001b[0;36m<module>\u001b[0;34m()\u001b[0m\n\u001b[0;32m----> 1\u001b[0;31m \u001b[0macc\u001b[0m \u001b[0;34m=\u001b[0m \u001b[0mmodel_evaluation\u001b[0m\u001b[0;34m(\u001b[0m\u001b[0mmodel\u001b[0m\u001b[0;34m,\u001b[0m \u001b[0mx_test\u001b[0m\u001b[0;34m,\u001b[0m \u001b[0my_test_encoded\u001b[0m\u001b[0;34m,\u001b[0m \u001b[0mhistory\u001b[0m\u001b[0;34m,\u001b[0m \u001b[0;32mTrue\u001b[0m\u001b[0;34m,\u001b[0m \u001b[0;32mTrue\u001b[0m\u001b[0;34m)\u001b[0m\u001b[0;34m\u001b[0m\u001b[0;34m\u001b[0m\u001b[0m\n\u001b[0m",
            "\u001b[0;32m<ipython-input-40-e0c54d3b445b>\u001b[0m in \u001b[0;36mmodel_evaluation\u001b[0;34m(model, x_test, y_test, history, plot_graphs, plot_images)\u001b[0m\n\u001b[1;32m     22\u001b[0m \u001b[0;34m\u001b[0m\u001b[0m\n\u001b[1;32m     23\u001b[0m     \u001b[0;32mif\u001b[0m \u001b[0mplot_images\u001b[0m\u001b[0;34m:\u001b[0m\u001b[0;34m\u001b[0m\u001b[0;34m\u001b[0m\u001b[0m\n\u001b[0;32m---> 24\u001b[0;31m         \u001b[0mplot_cifar_results\u001b[0m\u001b[0;34m(\u001b[0m\u001b[0mpredictions\u001b[0m\u001b[0;34m,\u001b[0m \u001b[0mx_test\u001b[0m\u001b[0;34m,\u001b[0m \u001b[0my_test\u001b[0m\u001b[0;34m)\u001b[0m\u001b[0;34m\u001b[0m\u001b[0;34m\u001b[0m\u001b[0m\n\u001b[0m\u001b[1;32m     25\u001b[0m \u001b[0;34m\u001b[0m\u001b[0m\n\u001b[1;32m     26\u001b[0m     \u001b[0;32mreturn\u001b[0m \u001b[0macc\u001b[0m\u001b[0;34m\u001b[0m\u001b[0;34m\u001b[0m\u001b[0m\n",
            "\u001b[0;32m<ipython-input-37-eb1674cf0bb4>\u001b[0m in \u001b[0;36mplot_cifar_results\u001b[0;34m(predictions, x_test, y_test, num_rows, num_cols)\u001b[0m\n\u001b[1;32m     42\u001b[0m     \u001b[0;32mfor\u001b[0m \u001b[0mi\u001b[0m \u001b[0;32min\u001b[0m \u001b[0mrange\u001b[0m\u001b[0;34m(\u001b[0m\u001b[0mnum_images\u001b[0m\u001b[0;34m)\u001b[0m\u001b[0;34m:\u001b[0m\u001b[0;34m\u001b[0m\u001b[0;34m\u001b[0m\u001b[0m\n\u001b[1;32m     43\u001b[0m         \u001b[0mplt\u001b[0m\u001b[0;34m.\u001b[0m\u001b[0msubplot\u001b[0m\u001b[0;34m(\u001b[0m\u001b[0mnum_rows\u001b[0m\u001b[0;34m,\u001b[0m \u001b[0;36m2\u001b[0m \u001b[0;34m*\u001b[0m \u001b[0mnum_cols\u001b[0m\u001b[0;34m,\u001b[0m \u001b[0;36m2\u001b[0m \u001b[0;34m*\u001b[0m \u001b[0mi\u001b[0m \u001b[0;34m+\u001b[0m\u001b[0;36m1\u001b[0m\u001b[0;34m)\u001b[0m\u001b[0;34m\u001b[0m\u001b[0;34m\u001b[0m\u001b[0m\n\u001b[0;32m---> 44\u001b[0;31m         \u001b[0mplot_image\u001b[0m\u001b[0;34m(\u001b[0m\u001b[0mi\u001b[0m \u001b[0;34m+\u001b[0m \u001b[0mstart\u001b[0m\u001b[0;34m,\u001b[0m \u001b[0mpredictions\u001b[0m\u001b[0;34m[\u001b[0m\u001b[0mi\u001b[0m \u001b[0;34m+\u001b[0m \u001b[0mstart\u001b[0m\u001b[0;34m]\u001b[0m\u001b[0;34m,\u001b[0m \u001b[0my_test\u001b[0m\u001b[0;34m,\u001b[0m \u001b[0mx_test\u001b[0m\u001b[0;34m)\u001b[0m\u001b[0;34m\u001b[0m\u001b[0;34m\u001b[0m\u001b[0m\n\u001b[0m\u001b[1;32m     45\u001b[0m         \u001b[0mplt\u001b[0m\u001b[0;34m.\u001b[0m\u001b[0msubplot\u001b[0m\u001b[0;34m(\u001b[0m\u001b[0mnum_rows\u001b[0m\u001b[0;34m,\u001b[0m \u001b[0;36m2\u001b[0m \u001b[0;34m*\u001b[0m \u001b[0mnum_cols\u001b[0m\u001b[0;34m,\u001b[0m \u001b[0;36m2\u001b[0m \u001b[0;34m*\u001b[0m \u001b[0mi\u001b[0m \u001b[0;34m+\u001b[0m \u001b[0;36m2\u001b[0m\u001b[0;34m)\u001b[0m\u001b[0;34m\u001b[0m\u001b[0;34m\u001b[0m\u001b[0m\n\u001b[1;32m     46\u001b[0m         \u001b[0mplot_value_array\u001b[0m\u001b[0;34m(\u001b[0m\u001b[0mi\u001b[0m \u001b[0;34m+\u001b[0m \u001b[0mstart\u001b[0m\u001b[0;34m,\u001b[0m \u001b[0mpredictions\u001b[0m\u001b[0;34m[\u001b[0m\u001b[0mi\u001b[0m \u001b[0;34m+\u001b[0m \u001b[0mstart\u001b[0m\u001b[0;34m]\u001b[0m\u001b[0;34m,\u001b[0m \u001b[0my_test\u001b[0m\u001b[0;34m)\u001b[0m\u001b[0;34m\u001b[0m\u001b[0;34m\u001b[0m\u001b[0m\n",
            "\u001b[0;32m<ipython-input-37-eb1674cf0bb4>\u001b[0m in \u001b[0;36mplot_image\u001b[0;34m(i, predictions_array, true_label, img)\u001b[0m\n\u001b[1;32m      9\u001b[0m \u001b[0;34m\u001b[0m\u001b[0m\n\u001b[1;32m     10\u001b[0m     \u001b[0mpredicted_label\u001b[0m \u001b[0;34m=\u001b[0m \u001b[0mnp\u001b[0m\u001b[0;34m.\u001b[0m\u001b[0margmax\u001b[0m\u001b[0;34m(\u001b[0m\u001b[0mpredictions_array\u001b[0m\u001b[0;34m)\u001b[0m\u001b[0;34m\u001b[0m\u001b[0;34m\u001b[0m\u001b[0m\n\u001b[0;32m---> 11\u001b[0;31m     \u001b[0;32mif\u001b[0m \u001b[0mpredicted_label\u001b[0m \u001b[0;34m==\u001b[0m \u001b[0mtrue_label\u001b[0m\u001b[0;34m:\u001b[0m\u001b[0;34m\u001b[0m\u001b[0;34m\u001b[0m\u001b[0m\n\u001b[0m\u001b[1;32m     12\u001b[0m         \u001b[0mcolor\u001b[0m \u001b[0;34m=\u001b[0m \u001b[0;34m'blue'\u001b[0m\u001b[0;34m\u001b[0m\u001b[0;34m\u001b[0m\u001b[0m\n\u001b[1;32m     13\u001b[0m     \u001b[0;32melse\u001b[0m\u001b[0;34m:\u001b[0m\u001b[0;34m\u001b[0m\u001b[0;34m\u001b[0m\u001b[0m\n",
            "\u001b[0;31mValueError\u001b[0m: The truth value of an array with more than one element is ambiguous. Use a.any() or a.all()"
          ]
        },
        {
          "output_type": "display_data",
          "data": {
            "image/png": "[encoded data removed]",
            "text/plain": [
              "<Figure size 1152x720 with 1 Axes>"
            ]
          },
          "metadata": {}
        }
      ]
    },
    {
      "cell_type": "code",
      "source": [
        "storing_evaluation_results(model_evaluations, 'CNN using Data Augmentation', acc, elapsed_time)"
      ],
      "metadata": {
        "id": "GmwVZWk4tYVU"
      },
      "execution_count": 65,
      "outputs": []
    },
    {
      "cell_type": "markdown",
      "source": [
        "### 4.10. Improving neural network for better accuracy with Data Augmentation <a class=\"anchor\" id=\"transfer_learning\"></a>"
      ],
      "metadata": {
        "id": "Ob3pVsqJfhcx"
      }
    },
    {
      "cell_type": "code",
      "source": [
        "# TODO: To review\n",
        "\n",
        "# MODEL DEFINITION\n",
        "print(\"DEFINITION\")\n",
        "\n",
        "model = ks.Sequential()\n",
        "\n",
        "# Neural Network Layers\n",
        "\n",
        "model.add(ks.layers.Conv2D(64, (3, 3), activation='relu', kernel_initializer='he_uniform', padding='same', input_shape=(32, 32, 3)))\n",
        "model.add(ks.layers.BatchNormalization())\n",
        "model.add(ks.layers.Conv2D(64, (3, 3), activation='relu', kernel_initializer='he_uniform', padding='same'))\n",
        "model.add(ks.layers.BatchNormalization())\n",
        "model.add(ks.layers.MaxPooling2D((2, 2)))\n",
        "model.add(ks.layers.Dropout(0.3))\n",
        "\n",
        "model.add(ks.layers.Conv2D(128, (3, 3), activation='relu', kernel_initializer='he_uniform', padding='same'))\n",
        "model.add(ks.layers.BatchNormalization())\n",
        "model.add(ks.layers.Conv2D(128, (3, 3), activation='relu', kernel_initializer='he_uniform', padding='same'))\n",
        "model.add(ks.layers.BatchNormalization())\n",
        "model.add(ks.layers.MaxPooling2D((2, 2)))\n",
        "model.add(ks.layers.Dropout(0.3))\n",
        "\n",
        "model.add(ks.layers.Conv2D(256, (3, 3), activation='relu', kernel_initializer='he_uniform', padding='same'))\n",
        "model.add(ks.layers.BatchNormalization())\n",
        "model.add(ks.layers.Conv2D(256, (3, 3), activation='relu', kernel_initializer='he_uniform', padding='same'))\n",
        "model.add(ks.layers.BatchNormalization())\n",
        "model.add(ks.layers.MaxPooling2D((2, 2)))\n",
        "model.add(ks.layers.Dropout(0.3))\n",
        "\n",
        "model.add(ks.layers.Flatten())\n",
        "model.add(ks.layers.Dense(128, activation='relu', kernel_initializer='he_uniform'))\n",
        "model.add(ks.layers.BatchNormalization())\n",
        "model.add(ks.layers.Dropout(0.3))\n",
        "model.add(ks.layers.Dense(10, activation='softmax'))\n",
        "\n",
        "# compile model\n",
        "model.compile(optimizer='Adam', loss='categorical_crossentropy', metrics=['accuracy'])\n",
        "\n",
        "# review model\n",
        "model.summary()\n",
        "\n",
        "\n",
        "# COMPILING MODEL\n",
        "print(\"\\nCompiling model...\")\n",
        "model.compile(optimizer = 'Adam',\n",
        "              loss = 'categorical_crossentropy',\n",
        "              metrics = ['accuracy'])\n",
        "\n",
        "\n",
        "# TRAINING\n",
        "print(\"\\nTRAINING\")\n",
        "# calculating computational time\n",
        "t = time.perf_counter()\n",
        "# training model\n",
        "history = model.fit(\n",
        "                    train_generator, \n",
        "                    validation_data = validation_generator,\n",
        "                    epochs = EPOCHS, \n",
        "                    steps_per_epoch = int(x_train.shape[0] / generator_batch_size),\n",
        "                    use_multiprocessing = False, \n",
        "                    callbacks = [callback_accuracy, callback_loss]\n",
        "          )\n",
        "# show total elapsed time\n",
        "elapsed_time = datetime.timedelta(seconds=(time.perf_counter() - t))\n",
        "print('\\n\\nTraining time:', elapsed_time)\n",
        "\n",
        "\n",
        "# EVALUATION\n",
        "print(\"\\nEVALUATION\")\n",
        "acc = model_evaluation(model, x_test, y_test_encoded, history, True, False)"
      ],
      "metadata": {
        "colab": {
          "base_uri": "https://localhost:8080/",
          "height": 1000
        },
        "id": "Wz_sARGoffx8",
        "outputId": "26835dd2-4fbb-47fd-bb56-65d2b6564783"
      },
      "execution_count": 101,
      "outputs": [
        {
          "output_type": "stream",
          "name": "stdout",
          "text": [
            "DEFINITION\n",
            "Model: \"sequential_14\"\n",
            "_________________________________________________________________\n",
            " Layer (type)                Output Shape              Param #   \n",
            "=================================================================\n",
            " conv2d_44 (Conv2D)          (None, 32, 32, 64)        1792      \n",
            "                                                                 \n",
            " batch_normalization_27 (Bat  (None, 32, 32, 64)       256       \n",
            " chNormalization)                                                \n",
            "                                                                 \n",
            " conv2d_45 (Conv2D)          (None, 32, 32, 64)        36928     \n",
            "                                                                 \n",
            " batch_normalization_28 (Bat  (None, 32, 32, 64)       256       \n",
            " chNormalization)                                                \n",
            "                                                                 \n",
            " max_pooling2d_32 (MaxPoolin  (None, 16, 16, 64)       0         \n",
            " g2D)                                                            \n",
            "                                                                 \n",
            " dropout_33 (Dropout)        (None, 16, 16, 64)        0         \n",
            "                                                                 \n",
            " conv2d_46 (Conv2D)          (None, 16, 16, 128)       73856     \n",
            "                                                                 \n",
            " batch_normalization_29 (Bat  (None, 16, 16, 128)      512       \n",
            " chNormalization)                                                \n",
            "                                                                 \n",
            " conv2d_47 (Conv2D)          (None, 16, 16, 128)       147584    \n",
            "                                                                 \n",
            " batch_normalization_30 (Bat  (None, 16, 16, 128)      512       \n",
            " chNormalization)                                                \n",
            "                                                                 \n",
            " max_pooling2d_33 (MaxPoolin  (None, 8, 8, 128)        0         \n",
            " g2D)                                                            \n",
            "                                                                 \n",
            " dropout_34 (Dropout)        (None, 8, 8, 128)         0         \n",
            "                                                                 \n",
            " conv2d_48 (Conv2D)          (None, 8, 8, 256)         295168    \n",
            "                                                                 \n",
            " batch_normalization_31 (Bat  (None, 8, 8, 256)        1024      \n",
            " chNormalization)                                                \n",
            "                                                                 \n",
            " conv2d_49 (Conv2D)          (None, 8, 8, 256)         590080    \n",
            "                                                                 \n",
            " batch_normalization_32 (Bat  (None, 8, 8, 256)        1024      \n",
            " chNormalization)                                                \n",
            "                                                                 \n",
            " max_pooling2d_34 (MaxPoolin  (None, 4, 4, 256)        0         \n",
            " g2D)                                                            \n",
            "                                                                 \n",
            " dropout_35 (Dropout)        (None, 4, 4, 256)         0         \n",
            "                                                                 \n",
            " flatten_13 (Flatten)        (None, 4096)              0         \n",
            "                                                                 \n",
            " dense_44 (Dense)            (None, 128)               524416    \n",
            "                                                                 \n",
            " batch_normalization_33 (Bat  (None, 128)              512       \n",
            " chNormalization)                                                \n",
            "                                                                 \n",
            " dropout_36 (Dropout)        (None, 128)               0         \n",
            "                                                                 \n",
            " dense_45 (Dense)            (None, 10)                1290      \n",
            "                                                                 \n",
            "=================================================================\n",
            "Total params: 1,675,210\n",
            "Trainable params: 1,673,162\n",
            "Non-trainable params: 2,048\n",
            "_________________________________________________________________\n",
            "\n",
            "Compiling model...\n",
            "\n",
            "TRAINING\n",
            "Epoch 1/100\n",
            "625/625 [==============================] - 22s 33ms/step - loss: 1.6251 - accuracy: 0.4284 - val_loss: 1.1207 - val_accuracy: 0.6064\n",
            "Epoch 2/100\n",
            "625/625 [==============================] - 20s 32ms/step - loss: 1.2096 - accuracy: 0.5672 - val_loss: 0.9873 - val_accuracy: 0.6583\n",
            "Epoch 3/100\n",
            "625/625 [==============================] - 20s 33ms/step - loss: 1.0183 - accuracy: 0.6416 - val_loss: 1.0475 - val_accuracy: 0.6529\n",
            "Epoch 4/100\n",
            "625/625 [==============================] - 20s 32ms/step - loss: 0.8962 - accuracy: 0.6854 - val_loss: 0.8707 - val_accuracy: 0.6953\n",
            "Epoch 5/100\n",
            "625/625 [==============================] - 21s 34ms/step - loss: 0.8274 - accuracy: 0.7136 - val_loss: 0.8171 - val_accuracy: 0.7257\n",
            "Epoch 6/100\n",
            "625/625 [==============================] - 20s 33ms/step - loss: 0.7662 - accuracy: 0.7319 - val_loss: 0.8144 - val_accuracy: 0.7319\n",
            "Epoch 7/100\n",
            "625/625 [==============================] - 20s 33ms/step - loss: 0.7241 - accuracy: 0.7504 - val_loss: 0.6814 - val_accuracy: 0.7717\n",
            "Epoch 8/100\n",
            "625/625 [==============================] - 21s 33ms/step - loss: 0.6811 - accuracy: 0.7635 - val_loss: 0.6193 - val_accuracy: 0.7862\n",
            "Epoch 9/100\n",
            "625/625 [==============================] - 21s 33ms/step - loss: 0.6381 - accuracy: 0.7797 - val_loss: 0.7188 - val_accuracy: 0.7671\n",
            "Epoch 10/100\n",
            "625/625 [==============================] - 20s 33ms/step - loss: 0.6151 - accuracy: 0.7899 - val_loss: 0.6017 - val_accuracy: 0.8076\n",
            "Epoch 11/100\n",
            "625/625 [==============================] - 20s 33ms/step - loss: 0.5921 - accuracy: 0.7973 - val_loss: 0.5804 - val_accuracy: 0.8033\n",
            "Epoch 12/100\n",
            "625/625 [==============================] - 21s 33ms/step - loss: 0.5783 - accuracy: 0.8029 - val_loss: 0.4681 - val_accuracy: 0.8414\n",
            "Epoch 13/100\n",
            "625/625 [==============================] - 20s 32ms/step - loss: 0.5519 - accuracy: 0.8128 - val_loss: 0.5252 - val_accuracy: 0.8251\n",
            "Epoch 14/100\n",
            "625/625 [==============================] - 20s 32ms/step - loss: 0.5340 - accuracy: 0.8173 - val_loss: 0.4736 - val_accuracy: 0.8396\n",
            "Epoch 15/100\n",
            "625/625 [==============================] - 20s 32ms/step - loss: 0.5146 - accuracy: 0.8225 - val_loss: 0.5990 - val_accuracy: 0.8038\n",
            "\n",
            "\n",
            "Training time: 0:05:08.508088\n",
            "\n",
            "EVALUATION\n"
          ]
        },
        {
          "output_type": "display_data",
          "data": {
            "image/png": "[encoded data removed]",
            "text/plain": [
              "<Figure size 432x288 with 1 Axes>"
            ]
          },
          "metadata": {
            "needs_background": "light"
          }
        },
        {
          "output_type": "display_data",
          "data": {
            "image/png": "[encoded data removed]",
            "text/plain": [
              "<Figure size 432x288 with 1 Axes>"
            ]
          },
          "metadata": {
            "needs_background": "light"
          }
        },
        {
          "output_type": "stream",
          "name": "stdout",
          "text": [
            "Test Accuracy for the model -> 83.84 %\n",
            "\n"
          ]
        }
      ]
    },
    {
      "cell_type": "markdown",
      "source": [
        "### 4.10. Using an already trained 3rd party model (Transfer Learning)<a class=\"anchor\" id=\"transfer_learning\"></a>"
      ],
      "metadata": {
        "id": "J2Hyj6t_yzrt"
      }
    },
    {
      "cell_type": "markdown",
      "source": [
        "In this section we will be using the xCeption model in Keras. "
      ],
      "metadata": {
        "id": "nvGmqBZ11Rwr"
      }
    },
    {
      "cell_type": "code",
      "source": [
        "vgg = vgg16.VGG16(include_top = False, weights = 'imagenet', input_shape = INPUT_SHAPE)\n",
        "vgg.summary()"
      ],
      "metadata": {
        "id": "v0aBZYLv24ym"
      },
      "execution_count": null,
      "outputs": []
    },
    {
      "cell_type": "code",
      "source": [
        "output = vgg.layers[-1].output\n",
        "new_output_layer = ks.layers.Flatten()(output)\n",
        "vgg_model = Model(vgg.input, new_output_layer)"
      ],
      "metadata": {
        "id": "dBK9-IlR35FN"
      },
      "execution_count": null,
      "outputs": []
    },
    {
      "cell_type": "code",
      "source": [
        "vgg_model.summary()"
      ],
      "metadata": {
        "id": "urFOLNfZ4jaF"
      },
      "execution_count": null,
      "outputs": []
    },
    {
      "cell_type": "code",
      "source": [
        "vgg_model.trainable = True\n",
        "\n",
        "trainable = False\n",
        "for layer in vgg_model.layers:\n",
        "  if layer.name=='block4_conv1':\n",
        "    trainable = True\n",
        "\n",
        "  layer.trainable = trainable"
      ],
      "metadata": {
        "id": "ellwUrxO5292"
      },
      "execution_count": null,
      "outputs": []
    },
    {
      "cell_type": "code",
      "source": [
        "layers = [(layer, layer.name, layer.trainable) for layer in vgg_model.layers]\n",
        "pd.DataFrame(layers, columns=['Layer type', 'Name of layer', 'Trainable?'])"
      ],
      "metadata": {
        "id": "BpQaZ3ug597v"
      },
      "execution_count": null,
      "outputs": []
    },
    {
      "cell_type": "code",
      "source": [
        "vgg_model.summary()"
      ],
      "metadata": {
        "id": "sQBwH7Ca95pH"
      },
      "execution_count": null,
      "outputs": []
    },
    {
      "cell_type": "code",
      "source": [
        "input_shape = vgg_model.output_shape[1]\n",
        "input_shape"
      ],
      "metadata": {
        "id": "tpzeA3bS5alP"
      },
      "execution_count": null,
      "outputs": []
    },
    {
      "cell_type": "code",
      "source": [
        "# MODEL DEFINITION\n",
        "print(\"DEFINITION\")\n",
        "\n",
        "model = ks.Sequential()\n",
        "\n",
        "# Neural Network Layers\n",
        "model.add(vgg_model)\n",
        "model.add(ks.layers.Dense(4096, activation='relu', input_shape = (input_shape,)))\n",
        "model.add(ks.layers.Dropout(0.25))\n",
        "model.add(ks.layers.Dense(1024, activation='relu'))\n",
        "model.add(ks.layers.Dropout(0.25))\n",
        "model.add(ks.layers.Dense(10, activation='softmax'))\n",
        "\n",
        "# review model\n",
        "model.summary()\n",
        "\n",
        "\n",
        "# COMPILING MODEL\n",
        "print(\"\\nCompiling model...\")\n",
        "model.compile(optimizer='Adam',\n",
        "              loss='categorical_crossentropy',\n",
        "              metrics=['accuracy'])\n",
        "\n",
        "\n",
        "# TRAINING\n",
        "print(\"\\nTRAINING\")\n",
        "# calculating computational time\n",
        "t = time.perf_counter()\n",
        "# training model\n",
        "history = model.fit(\n",
        "                    x_train, \n",
        "                    y_train, \n",
        "                    epochs = EPOCHS, \n",
        "                    use_multiprocessing = False, \n",
        "                    batch_size = 128, \n",
        "                    validation_data = (x_val, y_val),\n",
        "                    callbacks = [callback_accuracy, callback_loss]\n",
        "          )\n",
        "# show total elapsed time\n",
        "elapsed_time = datetime.timedelta(seconds=(time.perf_counter() - t))\n",
        "print('\\n\\nTraining time:', elapsed_time)\n",
        "\n",
        "\n",
        "# EVALUATION\n",
        "print(\"\\nEVALUATION\")\n",
        "acc = model_evaluation(model, x_test, y_test, history, False, False)"
      ],
      "metadata": {
        "id": "9L1Lp2HC4_x-"
      },
      "execution_count": null,
      "outputs": []
    },
    {
      "cell_type": "code",
      "source": [
        "storing_evaluation_results(model_evaluations, 'Using already trained VGG', acc, elapsed_time)"
      ],
      "metadata": {
        "id": "wY59Bv088V-Q"
      },
      "execution_count": null,
      "outputs": []
    },
    {
      "cell_type": "markdown",
      "metadata": {
        "id": "ZHZ5rEsUfHJu"
      },
      "source": [
        "## 5. Models comparison <a class=\"anchor\" id=\"comparison\"></a>"
      ]
    },
    {
      "cell_type": "code",
      "execution_count": null,
      "metadata": {
        "id": "M2hKFTKXmNwI"
      },
      "outputs": [],
      "source": [
        "# generating a dataframe with all models and its results\n",
        "df = pd.DataFrame(model_evaluations)\n",
        "\n",
        "# converting training_time timedelta to seconds\n",
        "df['training_time'] = df['training_time'].apply(lambda x: round(x.total_seconds(), 2))\n"
      ]
    },
    {
      "cell_type": "code",
      "source": [
        "df"
      ],
      "metadata": {
        "id": "g8upucca-cfE"
      },
      "execution_count": null,
      "outputs": []
    },
    {
      "cell_type": "code",
      "source": [
        "plt.title('Neural Network Accuracy')\n",
        "plt.bar(x = df['model_name'], height = df['accuracy'])\n",
        "plt.axhline(y=ACC_TARGET, color='g', linestyle='-')\n",
        "plt.axhline(y=ACC_TARGET - 0.1, color='r', linestyle='-')\n",
        "plt.xticks(rotation = 90)\n",
        "plt.show()\n",
        "\n",
        "plt.title('Training elapsed time')\n",
        "plt.bar(x = df['model_name'], height = df['training_time'])\n",
        "plt.xticks(rotation = 90)\n",
        "plt.show()"
      ],
      "metadata": {
        "id": "9H_9hDAR-I1U"
      },
      "execution_count": null,
      "outputs": []
    }
  ],
  "metadata": {
    "accelerator": "GPU",
    "colab": {
      "collapsed_sections": [],
      "name": "CNN- Image Classification - CIFAR10 - {Marc_Maycas}.ipynb",
      "provenance": [],
      "machine_shape": "hm"
    },
    "kernelspec": {
      "display_name": "ml_env",
      "language": "python",
      "name": "ml_env"
    },
    "language_info": {
      "codemirror_mode": {
        "name": "ipython",
        "version": 3
      },
      "file_extension": ".py",
      "mimetype": "text/x-python",
      "name": "python",
      "nbconvert_exporter": "python",
      "pygments_lexer": "ipython3",
      "version": "3.7.4"
    }
  },
  "nbformat": 4,
  "nbformat_minor": 0
}