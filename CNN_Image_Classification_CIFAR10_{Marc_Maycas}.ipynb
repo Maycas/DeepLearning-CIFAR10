{
  "cells": [
    {
      "cell_type": "markdown",
      "metadata": {
        "id": "dWY7kSPW9oJm"
      },
      "source": [
        "![Nuclio logo](https://nuclio.school/wp-content/uploads/2018/12/nucleoDS-newBlack.png)"
      ]
    },
    {
      "cell_type": "markdown",
      "metadata": {
        "id": "vtYbGHwAiZh-"
      },
      "source": [
        "# Deep Learning - Using Neural Networks to classify CIFAR10 Images\n",
        "\n",
        "Can you classify an image from the CIFAR10 image library using a Neural Network?\n",
        "\n",
        "## Table of Contents\n",
        "\n",
        "* [1. Introduction](#introduction)\n",
        "* [2. Importing libraries](#libraries)\n",
        "* [3. Importing and preparing the data](#data)\n",
        "* [4. Neural Network models](#nn_models)\n",
        "    * [4.1. Simplest model](#simplest_model)\n",
        "        * [4.1.1. Model definition](#model_definition)\n",
        "        * [4.1.2. Optimizer, error function](#optimizer_error)\n",
        "        * [4.1.3. Model training](#training)\n",
        "        * [4.1.4. Model evaluation](#evaluation)\n",
        "    * [4.2. Adding more Dense layers](#more_dense_layers)\n",
        "    * [4.3. Do batch sizes matter?](#batch_sizes)\n",
        "    * [4.4. Exploring the effects of adding Dropout](#dropout)\n",
        "    * [4.5. Simple Convolutional Neural Network](#simple_cnn)\n",
        "    * [4.6. Extending the Convolutional Neural Network](#cnn_extended)\n",
        "    * [4.7. Fine tuning the convolutional layer a little bit more](#cnn_tunning)\n",
        "    * [4.8. Adam Optimizer parameters fine tuning](#adam_tuning)\n",
        "    * [4.9. Using Data Augmentation](#data_augmentation)\n",
        "        * [4.9.1. Creating an image train generator](#train_generator)\n",
        "        * [4.9.2. Training the model with the image train generator](#train_generator_training_model)\n",
        "    * [4.10. Using an already trained 3rd party model (Transfer Learning)](#transfer_learning)\n",
        "* [5. Models comparison](#comparison)"
      ]
    },
    {
      "cell_type": "markdown",
      "metadata": {
        "id": "LhuRAp6JbKeV"
      },
      "source": [
        "## 1. Introduction <a class=\"anchor\" id=\"introduction\"></a>\n",
        "\n",
        "The main goal of this project is to test several Neural Networks configurations in order to do the proper classification of the CIFAR10 image dataset."
      ]
    },
    {
      "cell_type": "markdown",
      "metadata": {
        "id": "e5awq5ZU9oJn"
      },
      "source": [
        "## 2. Importing libraries <a class=\"anchor\" id=\"libraries\"></a>"
      ]
    },
    {
      "cell_type": "code",
      "execution_count": 1,
      "metadata": {
        "id": "6e89W2u_9oJo"
      },
      "outputs": [],
      "source": [
        "# data manipulation libraries\n",
        "import numpy as np\n",
        "import pandas as pd\n",
        "\n",
        "# neural network libraries\n",
        "from tensorflow import keras as ks\n",
        "from tensorflow.keras.callbacks import EarlyStopping\n",
        "from tensorflow.keras.preprocessing.image import ImageDataGenerator\n",
        "from tensorflow.keras.optimizers import Adam\n",
        "from tensorflow.keras.applications import vgg16\n",
        "from tensorflow.keras.models import Model\n",
        "\n",
        "# plotting libraries\n",
        "from matplotlib import pyplot as plt\n",
        "\n",
        "# time libraries\n",
        "import time\n",
        "import datetime"
      ]
    },
    {
      "cell_type": "code",
      "execution_count": 2,
      "metadata": {
        "id": "NoGtbCzWgJzy"
      },
      "outputs": [],
      "source": [
        "# constants\n",
        "EPOCHS = 100\n",
        "INPUT_SHAPE = (32, 32, 3)\n",
        "ACC_TARGET = 0.8 # accuracy target we want to at least achieve with our models"
      ]
    },
    {
      "cell_type": "markdown",
      "metadata": {
        "id": "u9zAKyhKcZN-"
      },
      "source": [
        "## 3. Importing and preparing the data <a class=\"anchor\" id=\"data\"></a>"
      ]
    },
    {
      "cell_type": "markdown",
      "metadata": {
        "id": "C7DMbMPWc4oR"
      },
      "source": [
        "CIFAR10 is an existing dataset already available in the Keras library. These are already ready in train and test datasets (we'll need to create the validation dataset later).\n",
        "\n",
        "**Important detail:**\n",
        "> The neural network requires the inputs to be real numbers, and we will do it by forcing the division of the values ​​within the 28x28 matrices (which have values​​ from 0 to 255) by 255.0 (a real)"
      ]
    },
    {
      "cell_type": "code",
      "execution_count": 3,
      "metadata": {
        "id": "OD46dV17dt6U"
      },
      "outputs": [],
      "source": [
        "cifar10 = ks.datasets.cifar10\n",
        "(x_train, y_train), (x_test, y_test) = cifar10.load_data()\n",
        "x_train, x_test = x_train / 255.0, x_test / 255.0"
      ]
    },
    {
      "cell_type": "markdown",
      "metadata": {
        "id": "71MqCgF7eEGc"
      },
      "source": [
        "Let's explore the data to see what we have."
      ]
    },
    {
      "cell_type": "code",
      "execution_count": 4,
      "metadata": {
        "colab": {
          "base_uri": "https://localhost:8080/"
        },
        "id": "ng6qgszVhz5C",
        "outputId": "7b2024bd-0a2f-4036-b4e3-9bbed5c93e77"
      },
      "outputs": [
        {
          "output_type": "stream",
          "name": "stdout",
          "text": [
            "Train: X = (50000, 32, 32, 3), y = (50000, 1)\n",
            "Test: X = (10000, 32, 32, 3), y = (10000, 1)\n"
          ]
        }
      ],
      "source": [
        "print('Train: X = %s, y = %s' % (x_train.shape, y_train.shape))\n",
        "print('Test: X = %s, y = %s' % (x_test.shape, y_test.shape))"
      ]
    },
    {
      "cell_type": "markdown",
      "metadata": {
        "id": "fmMIFvQviF4K"
      },
      "source": [
        "For training, we have 50000 images of 32x32 pixels, split in the color channels (R, G, B). For testing, we only have 1000 images, but, obviously, of the same format as the training dataset.\n",
        "\n",
        "Let's see what are the different categories we have in the dataset."
      ]
    },
    {
      "cell_type": "code",
      "execution_count": 5,
      "metadata": {
        "colab": {
          "base_uri": "https://localhost:8080/"
        },
        "id": "UbUEb0owi_Si",
        "outputId": "ef52c92c-f6ee-40bb-b5fb-9a430b14ff5d"
      },
      "outputs": [
        {
          "output_type": "execute_result",
          "data": {
            "text/plain": [
              "array([0, 1, 2, 3, 4, 5, 6, 7, 8, 9], dtype=uint8)"
            ]
          },
          "metadata": {},
          "execution_count": 5
        }
      ],
      "source": [
        "np.unique(y_train)"
      ]
    },
    {
      "cell_type": "markdown",
      "metadata": {
        "id": "EluUfJNVkHP1"
      },
      "source": [
        "As expected, there are 10 categories that are already encoded into numbers. However, we will generate a label list for future plotting purposes."
      ]
    },
    {
      "cell_type": "code",
      "execution_count": 6,
      "metadata": {
        "colab": {
          "base_uri": "https://localhost:8080/"
        },
        "id": "u4bhmZ9AermK",
        "outputId": "60553c7f-12eb-4021-efa7-66c2a255d296"
      },
      "outputs": [
        {
          "output_type": "stream",
          "name": "stdout",
          "text": [
            "Number of labels: 10\n"
          ]
        }
      ],
      "source": [
        "cifar10_labels = [\n",
        "'airplane', # id 0\n",
        "'automobile', # id 1\n",
        "'bird', # id 2\n",
        "'cat', # id 3\n",
        "'deer', # id 4\n",
        "'dog', # id 5\n",
        "'frog', # id 6\n",
        "'horse', # id 7\n",
        "'ship', # id 8\n",
        "'truck', # id 9\n",
        "]\n",
        "\n",
        "print('Number of labels: %s' % len(cifar10_labels))"
      ]
    },
    {
      "cell_type": "markdown",
      "metadata": {
        "id": "wnJ_AAsUe58S"
      },
      "source": [
        "Let's show a sample of the images from the CIFAR10 dataset, to see if it looks anything like what we expect.\n",
        "\n",
        "First, we see what types of data we have, then we map those arrays in a grayscale using the **. Get_cmap ()** method of Plotly with the first nine numbers of the dataset."
      ]
    },
    {
      "cell_type": "code",
      "execution_count": 7,
      "metadata": {
        "colab": {
          "base_uri": "https://localhost:8080/",
          "height": 316
        },
        "id": "nutbRgW2fQJD",
        "outputId": "f289fc62-6437-4978-ecca-4c4d3cb9c6de"
      },
      "outputs": [
        {
          "output_type": "stream",
          "name": "stdout",
          "text": [
            "Train: X=(50000, 32, 32, 3), y=(50000, 1)\n",
            "Test: X=(10000, 32, 32, 3), y=(10000, 1)\n"
          ]
        },
        {
          "output_type": "display_data",
          "data": {
            "image/png": "[encoded data removed]",
            "text/plain": [
              "<Figure size 432x288 with 9 Axes>"
            ]
          },
          "metadata": {
            "needs_background": "light"
          }
        }
      ],
      "source": [
        "# Let's show a sample of the images of CIFAR10\n",
        "\n",
        "print('Train: X=%s, y=%s' % (x_train.shape, y_train.shape))\n",
        "print('Test: X=%s, y=%s' % (x_test.shape, y_test.shape))\n",
        "\n",
        "for i in range(9):\n",
        "\n",
        "    plt.subplot(330 + 1 + i)\n",
        "    plt.imshow(x_train[i], cmap = plt.get_cmap('gray'))\n",
        "    plt.title(cifar10_labels[y_train[i,0]])\n",
        "\n",
        "plt.subplots_adjust(hspace = 1)\n",
        "plt.show()"
      ]
    },
    {
      "cell_type": "markdown",
      "metadata": {
        "id": "pj5shRnYfM6B"
      },
      "source": [
        "Let's start preparing the datasets for the models we will train. \n",
        "\n",
        "We are we going to validate while we train (very practical). We'll be removing the last 10000 entries in `x_train` for our validation dataset. "
      ]
    },
    {
      "cell_type": "code",
      "execution_count": 8,
      "metadata": {
        "id": "qnNcWFfUfpZw"
      },
      "outputs": [],
      "source": [
        "# generating the validation dataset\n",
        "x_val = x_train[-10000:]\n",
        "y_val = y_train[-10000:]\n",
        "\n",
        "# modifying the training dataset to exclude the validation dataset\n",
        "x_train = x_train[:-10000]\n",
        "y_train = y_train[:-10000]"
      ]
    },
    {
      "cell_type": "markdown",
      "metadata": {
        "id": "vN3z9WfHgUR2"
      },
      "source": [
        "When we add convolution layers, we need to \"pre-treat the data\", because **the convolution expects an array of 4 fields** (more like coloured \"images\"), in the case of MNIST. However, CIFAR10 already has the right shape, so we don't have to do anything, but as we always say: you should better check its size.\n",
        "\n",
        "Therefore, when exiting the Convolution, you always have to do a Flatten, because FullDense layers expect arrays, not matrices !!\n",
        "\n",
        "Let's validate the format."
      ]
    },
    {
      "cell_type": "code",
      "execution_count": 9,
      "metadata": {
        "colab": {
          "base_uri": "https://localhost:8080/"
        },
        "id": "tMu4txbogaC-",
        "outputId": "70c44155-5291-4040-9df5-c4205b9bf545"
      },
      "outputs": [
        {
          "output_type": "stream",
          "name": "stdout",
          "text": [
            "Train: X = (40000, 32, 32, 3), y = (40000, 1)\n",
            "Test: X = (10000, 32, 32, 3), y = (10000, 1)\n",
            "Validation: X = (10000, 32, 32, 3), y = (10000, 1)\n"
          ]
        }
      ],
      "source": [
        "# We validate the result\n",
        "print('Train: X = %s, y = %s' % (x_train.shape, y_train.shape))\n",
        "print('Test: X = %s, y = %s' % (x_test.shape, y_test.shape))\n",
        "print('Validation: X = %s, y = %s' % (x_val.shape, y_val.shape))"
      ]
    },
    {
      "cell_type": "markdown",
      "metadata": {
        "id": "6_dptlpJ9oJp"
      },
      "source": [
        "## 4. Neural Network Models <a class=\"anchor\" id=\"nn_models\"></a>"
      ]
    },
    {
      "cell_type": "markdown",
      "metadata": {
        "id": "VL-BxxMUwKGb"
      },
      "source": [
        "In the following sections, we are going to define and train up to 10 different Neural Network models to see which arquitecture is providing the best accuracy.\n",
        "\n",
        "Nonetheless, before starting with the models let's set a couple of previous tunings that will help us later with the training"
      ]
    },
    {
      "cell_type": "code",
      "execution_count": 10,
      "metadata": {
        "id": "EAyT8T88nkmZ"
      },
      "outputs": [],
      "source": [
        "# defining callbacks for EarlyStopping\n",
        "callback_loss = EarlyStopping(monitor = 'val_loss', patience = 3, restore_best_weights = True)\n",
        "callback_accuracy = EarlyStopping(monitor = 'val_accuracy', patience = 3, restore_best_weights = True)\n",
        "\n",
        "# list to keep the model results for final comparison\n",
        "model_evaluations = []"
      ]
    },
    {
      "cell_type": "markdown",
      "metadata": {
        "id": "cyobCD-Nwq_K"
      },
      "source": [
        "### 4.1. Simplest model <a class=\"anchor\" id=\"simplest_model\"></a>"
      ]
    },
    {
      "cell_type": "markdown",
      "metadata": {
        "id": "8umoQ2-cpnDx"
      },
      "source": [
        "Let's start with the simplest model possible with a single Dense Layer"
      ]
    },
    {
      "cell_type": "markdown",
      "metadata": {
        "id": "lA9xDzw1eZ8M"
      },
      "source": [
        "#### 4.1.1. Model definition <a class=\"anchor\" id=\"model_definition\"></a>\n"
      ]
    },
    {
      "cell_type": "code",
      "execution_count": 11,
      "metadata": {
        "colab": {
          "base_uri": "https://localhost:8080/"
        },
        "id": "JoDemzDV9oJp",
        "outputId": "a6166f45-76de-440b-d271-c5196773cad6"
      },
      "outputs": [
        {
          "output_type": "stream",
          "name": "stdout",
          "text": [
            "Model: \"sequential\"\n",
            "_________________________________________________________________\n",
            " Layer (type)                Output Shape              Param #   \n",
            "=================================================================\n",
            " flatten (Flatten)           (None, 3072)              0         \n",
            "                                                                 \n",
            " dense (Dense)               (None, 128)               393344    \n",
            "                                                                 \n",
            " dense_1 (Dense)             (None, 10)                1290      \n",
            "                                                                 \n",
            "=================================================================\n",
            "Total params: 394,634\n",
            "Trainable params: 394,634\n",
            "Non-trainable params: 0\n",
            "_________________________________________________________________\n"
          ]
        }
      ],
      "source": [
        "model = ks.Sequential()\n",
        "\n",
        "# Neural Network Layers\n",
        "model.add(ks.layers.Flatten(input_shape = INPUT_SHAPE))\n",
        "model.add(ks.layers.Dense(128, activation='relu'))\n",
        "model.add(ks.layers.Dense(10, activation='softmax'))\n",
        "\n",
        "# review model\n",
        "model.summary()"
      ]
    },
    {
      "cell_type": "markdown",
      "metadata": {
        "id": "Y6bEaf7l9oJq"
      },
      "source": [
        "#### 4.1.2. Optimizer, error function <a class=\"anchor\" id=\"optimizer_error\"></a>\n"
      ]
    },
    {
      "cell_type": "code",
      "execution_count": 12,
      "metadata": {
        "id": "eDfwXObn9oJr"
      },
      "outputs": [],
      "source": [
        "# compiling model\n",
        "model.compile(optimizer='Adam',\n",
        "              loss='sparse_categorical_crossentropy',\n",
        "              metrics=['accuracy'])"
      ]
    },
    {
      "cell_type": "markdown",
      "metadata": {
        "id": "x4CSQVcD9oJu"
      },
      "source": [
        "#### 4.1.3. Training <a class=\"anchor\" id=\"training\"></a>\n",
        "\n",
        "In order to train the model we have setup a global constant of 100 EPOCHS, which we expect to never reach, as we have implemented a callback to stop training once the accuracy or the cross entropy loss doesn't improve that much. Additionally, we are going to keep the best weights to get the most optimal results for the model."
      ]
    },
    {
      "cell_type": "code",
      "execution_count": 13,
      "metadata": {
        "colab": {
          "base_uri": "https://localhost:8080/"
        },
        "id": "ecp-nOVj9oJu",
        "outputId": "60b5e935-f34b-441a-cbc0-66d921e26fe3"
      },
      "outputs": [
        {
          "output_type": "stream",
          "name": "stdout",
          "text": [
            "Epoch 1/100\n",
            "313/313 [==============================] - 3s 6ms/step - loss: 1.9584 - accuracy: 0.3033 - val_loss: 1.8843 - val_accuracy: 0.3287\n",
            "Epoch 2/100\n",
            "313/313 [==============================] - 2s 5ms/step - loss: 1.8175 - accuracy: 0.3568 - val_loss: 1.7884 - val_accuracy: 0.3715\n",
            "Epoch 3/100\n",
            "313/313 [==============================] - 2s 5ms/step - loss: 1.7610 - accuracy: 0.3789 - val_loss: 1.7639 - val_accuracy: 0.3806\n",
            "Epoch 4/100\n",
            "313/313 [==============================] - 2s 5ms/step - loss: 1.7194 - accuracy: 0.3948 - val_loss: 1.7568 - val_accuracy: 0.3761\n",
            "Epoch 5/100\n",
            "313/313 [==============================] - 2s 5ms/step - loss: 1.6907 - accuracy: 0.4031 - val_loss: 1.7296 - val_accuracy: 0.3869\n",
            "Epoch 6/100\n",
            "313/313 [==============================] - 2s 5ms/step - loss: 1.6633 - accuracy: 0.4124 - val_loss: 1.6982 - val_accuracy: 0.4041\n",
            "Epoch 7/100\n",
            "313/313 [==============================] - 1s 5ms/step - loss: 1.6495 - accuracy: 0.4158 - val_loss: 1.6988 - val_accuracy: 0.3946\n",
            "Epoch 8/100\n",
            "313/313 [==============================] - 2s 5ms/step - loss: 1.6224 - accuracy: 0.4280 - val_loss: 1.6764 - val_accuracy: 0.4084\n",
            "Epoch 9/100\n",
            "313/313 [==============================] - 1s 4ms/step - loss: 1.6123 - accuracy: 0.4298 - val_loss: 1.6689 - val_accuracy: 0.4056\n",
            "Epoch 10/100\n",
            "313/313 [==============================] - 1s 4ms/step - loss: 1.6002 - accuracy: 0.4336 - val_loss: 1.6477 - val_accuracy: 0.4177\n",
            "Epoch 11/100\n",
            "313/313 [==============================] - 1s 4ms/step - loss: 1.5818 - accuracy: 0.4415 - val_loss: 1.6304 - val_accuracy: 0.4297\n",
            "Epoch 12/100\n",
            "313/313 [==============================] - 1s 4ms/step - loss: 1.5726 - accuracy: 0.4446 - val_loss: 1.6331 - val_accuracy: 0.4286\n",
            "Epoch 13/100\n",
            "313/313 [==============================] - 1s 4ms/step - loss: 1.5671 - accuracy: 0.4442 - val_loss: 1.6416 - val_accuracy: 0.4179\n",
            "Epoch 14/100\n",
            "313/313 [==============================] - 1s 4ms/step - loss: 1.5546 - accuracy: 0.4476 - val_loss: 1.6607 - val_accuracy: 0.4194\n",
            "\n",
            "Training time: 0:00:22.123515\n"
          ]
        }
      ],
      "source": [
        "# calculating computational time\n",
        "t = time.perf_counter()\n",
        "\n",
        "# training model\n",
        "history = model.fit(\n",
        "                    x_train, \n",
        "                    y_train, \n",
        "                    epochs = EPOCHS, \n",
        "                    use_multiprocessing = False, \n",
        "                    batch_size = 128, \n",
        "                    validation_data = (x_val, y_val),\n",
        "                    callbacks = [callback_accuracy, callback_loss]\n",
        "          )\n",
        "\n",
        "# show total elapsed time\n",
        "elapsed_time = datetime.timedelta(seconds=(time.perf_counter() - t))\n",
        "print('\\nTraining time:', elapsed_time)"
      ]
    },
    {
      "cell_type": "markdown",
      "metadata": {
        "id": "n6Byf3JG9oJu"
      },
      "source": [
        "#### 4.1.4. Evaluation <a class=\"anchor\" id=\"evaluation\"></a>"
      ]
    },
    {
      "cell_type": "markdown",
      "metadata": {
        "id": "wv_HHqewe_I8"
      },
      "source": [
        "Let's obtain a graph of how the entropy and the accuracy evolve in each epoch in the training data and in the validation"
      ]
    },
    {
      "cell_type": "code",
      "execution_count": 14,
      "metadata": {
        "colab": {
          "base_uri": "https://localhost:8080/",
          "height": 545
        },
        "id": "GrH8OFmF9oJv",
        "outputId": "ee5fdcaf-c852-490e-f513-2a19c85ec736"
      },
      "outputs": [
        {
          "output_type": "display_data",
          "data": {
            "image/png": "[encoded data removed]",
            "text/plain": [
              "<Figure size 432x288 with 1 Axes>"
            ]
          },
          "metadata": {
            "needs_background": "light"
          }
        },
        {
          "output_type": "display_data",
          "data": {
            "image/png": "[encoded data removed]",
            "text/plain": [
              "<Figure size 432x288 with 1 Axes>"
            ]
          },
          "metadata": {
            "needs_background": "light"
          }
        }
      ],
      "source": [
        "# cross entropy loss plot\n",
        "plt.title('Cross Entropy Loss')\n",
        "plt.plot(history.history['loss'], color='blue', label='train')\n",
        "plt.plot(history.history['val_loss'], color='orange', label='val')\n",
        "plt.legend()\n",
        "plt.show()\n",
        "\n",
        "# accuracy plot\n",
        "plt.title('Classification Accuracy')\n",
        "plt.plot(history.history['accuracy'], color='blue', label='train')\n",
        "plt.plot(history.history['val_accuracy'], color='orange', label='val')\n",
        "plt.legend()\n",
        "plt.show()"
      ]
    },
    {
      "cell_type": "markdown",
      "metadata": {
        "id": "8m1hEUQWuH-s"
      },
      "source": [
        "The callbacks have stopped before EPOCH = 100 as we reached the top accuracy a lot before, and from that training session we got the best parameters parameters. However, we have seen that the validation accuracy looks really bad, so our hopes are not that high fo the test accuracy, but let's check it out."
      ]
    },
    {
      "cell_type": "code",
      "execution_count": 15,
      "metadata": {
        "id": "j9IaZ3-W9oJv",
        "colab": {
          "base_uri": "https://localhost:8080/"
        },
        "outputId": "7ebfe93e-7487-4efa-93e6-cbd5c98b0a3f"
      },
      "outputs": [
        {
          "output_type": "stream",
          "name": "stdout",
          "text": [
            "Test Accuracy for the model -> 43.51 %\n"
          ]
        }
      ],
      "source": [
        "_, acc = model.evaluate(x_test, y_test, verbose=0)\n",
        "print(f'Test Accuracy for the model -> {round((acc * 100.0), 4)} %')"
      ]
    },
    {
      "cell_type": "markdown",
      "metadata": {
        "id": "BT7Xpz409oJv"
      },
      "source": [
        "As expected, the model is really bad. With this accuracy we can say that this is a really bad model that requires an improvement.\n",
        "\n",
        "Let's see what kind of predictions we're getting on the test set (let's paint the images and their classifications)."
      ]
    },
    {
      "cell_type": "code",
      "execution_count": 16,
      "metadata": {
        "id": "G4gqi32X9oJw"
      },
      "outputs": [],
      "source": [
        "predictions = model.predict(x_test)"
      ]
    },
    {
      "cell_type": "code",
      "execution_count": 17,
      "metadata": {
        "id": "P02wctIA9oJw"
      },
      "outputs": [],
      "source": [
        "# plotting helper functions\n",
        "def plot_image(i, predictions_array, true_label, img):\n",
        "    predictions_array, true_label, img = predictions_array, true_label[i], img[i]\n",
        "    plt.grid(False)\n",
        "    plt.xticks([])\n",
        "    plt.yticks([])\n",
        "\n",
        "    plt.imshow(img, cmap=plt.cm.binary)\n",
        "\n",
        "    predicted_label = np.argmax(predictions_array)\n",
        "    if predicted_label == true_label:\n",
        "        color = 'blue'\n",
        "    else:\n",
        "        color = 'red'\n",
        "\n",
        "    plt.xlabel(\"{} {:2.0f}% ({})\".format(predicted_label,\n",
        "                                100*np.max(predictions_array),\n",
        "                                true_label[0]),\n",
        "                                color=color)\n",
        "\n",
        "def plot_value_array(i, predictions_array, true_label):\n",
        "    predictions_array, true_label = predictions_array, true_label[i]\n",
        "    plt.grid(False)\n",
        "    plt.xticks(range(10))\n",
        "    plt.yticks([])\n",
        "    thisplot = plt.bar(range(10), predictions_array, color=\"#777777\")\n",
        "    plt.ylim([0, 1])\n",
        "    predicted_label = np.argmax(predictions_array)\n",
        "\n",
        "    thisplot[predicted_label].set_color('red')\n",
        "    thisplot[true_label[0]].set_color('blue')\n",
        "\n",
        "def plot_cifar_results(predictions, x_test, y_test, num_rows = 5, num_cols = 4):\n",
        "    i = 0\n",
        "    for l in cifar10_labels:\n",
        "        print(i, l)\n",
        "        i += 1\n",
        "\n",
        "    num_images = num_rows * num_cols\n",
        "    start = np.random.randint(1000 - num_images)\n",
        "    plt.figure(figsize = (2 * 2 * num_cols, 2 * num_rows))\n",
        "    for i in range(num_images):\n",
        "        plt.subplot(num_rows, 2 * num_cols, 2 * i +1)\n",
        "        plot_image(i + start, predictions[i + start], y_test, x_test)\n",
        "        plt.subplot(num_rows, 2 * num_cols, 2 * i + 2)\n",
        "        plot_value_array(i + start, predictions[i + start], y_test)\n",
        "    plt.tight_layout()\n",
        "    plt.show()"
      ]
    },
    {
      "cell_type": "markdown",
      "metadata": {
        "id": "pReYC9POMGzh"
      },
      "source": [
        "We draw the first images, with the predictions and their real values ​​(a total of 20 images, so as not to abuse your laptops)\n",
        "\n",
        "We color the correct predictions in blue and the failures in red. Although I have printed the labels first so that we have a reference to the graphic."
      ]
    },
    {
      "cell_type": "code",
      "execution_count": 18,
      "metadata": {
        "colab": {
          "base_uri": "https://localhost:8080/",
          "height": 903
        },
        "id": "RdDRgwmF1dCP",
        "outputId": "a8381b0e-7bf2-446f-bec6-8daa2ea1e5ae"
      },
      "outputs": [
        {
          "output_type": "stream",
          "name": "stdout",
          "text": [
            "0 airplane\n",
            "1 automobile\n",
            "2 bird\n",
            "3 cat\n",
            "4 deer\n",
            "5 dog\n",
            "6 frog\n",
            "7 horse\n",
            "8 ship\n",
            "9 truck\n"
          ]
        },
        {
          "output_type": "display_data",
          "data": {
            "image/png": "[encoded data removed]",
            "text/plain": [
              "<Figure size 1152x720 with 40 Axes>"
            ]
          },
          "metadata": {
            "needs_background": "light"
          }
        }
      ],
      "source": [
        "plot_cifar_results(predictions, x_test, y_test)"
      ]
    },
    {
      "cell_type": "markdown",
      "metadata": {
        "id": "vZfe34uxMSgs"
      },
      "source": [
        "Let's see if we can build up the previous model to improve the accuracy, but before that, let's store the accuracy of this model so we can compare it at the end with all the other models."
      ]
    },
    {
      "cell_type": "code",
      "execution_count": 19,
      "metadata": {
        "id": "XSJCkokFNM-4"
      },
      "outputs": [],
      "source": [
        "# keeping accuracies for a final analysis\n",
        "model_evaluations.append(\n",
        "    {\n",
        "        'model_name': \"Single Dense Layer\",\n",
        "        'training_time': elapsed_time,\n",
        "        'accuracy': acc\n",
        "    }\n",
        ")"
      ]
    },
    {
      "cell_type": "markdown",
      "metadata": {
        "id": "MAmeAwEiP9jB"
      },
      "source": [
        "### 4.2. Adding more Dense layers <a class=\"anchor\" id=\"more_dense_layers\"></a>"
      ]
    },
    {
      "cell_type": "markdown",
      "metadata": {
        "id": "sQdTUdNURg18"
      },
      "source": [
        "Before defining the model we will create some additional functions to avoid code repetition and possible errors. The idea is to prepare as much of a pipeline as possible so we can analyse results more easily."
      ]
    },
    {
      "cell_type": "code",
      "execution_count": 20,
      "metadata": {
        "id": "SGbXu-d0l-2B"
      },
      "outputs": [],
      "source": [
        "def model_evaluation(model, x_test, y_test, history, plot_graphs = True, plot_images = True):\n",
        "    if plot_graphs:\n",
        "        # cross entropy loss plot\n",
        "        plt.title('Cross Entropy Loss')\n",
        "        plt.plot(history.history['loss'], color='blue', label='train')\n",
        "        plt.plot(history.history['val_loss'], color='orange', label='val')\n",
        "        plt.legend()\n",
        "        plt.show()\n",
        "\n",
        "        # accuracy plot\n",
        "        plt.title('Classification Accuracy')\n",
        "        plt.plot(history.history['accuracy'], color='blue', label='train')\n",
        "        plt.plot(history.history['val_accuracy'], color='orange', label='val')\n",
        "        plt.legend()\n",
        "        plt.show()\n",
        "\n",
        "    # accuracy evaluation\n",
        "    _, acc = model.evaluate(x_test, y_test, verbose=0)\n",
        "    print(f'Test Accuracy for the model -> {round((acc * 100.0), 4)} %\\n')\n",
        "\n",
        "    predictions = model.predict(x_test)\n",
        "\n",
        "    if plot_images:\n",
        "        plot_cifar_results(predictions, x_test, y_test)\n",
        "    \n",
        "    return acc\n",
        "\n",
        "def storing_evaluation_results(model_list, model_name, accuracy, training_time):\n",
        "    model_list.append(\n",
        "        {\n",
        "          'model_name': model_name,\n",
        "          'training_time': training_time,\n",
        "          'accuracy': accuracy\n",
        "        }\n",
        "    )"
      ]
    },
    {
      "cell_type": "markdown",
      "metadata": {
        "id": "TYJwVGc1tQcg"
      },
      "source": [
        "From the previous model, we have seen that with just one fully Dense layer is not enough for the model to work properly, in this case, we will be adding more Dense Layers to see if the result improves."
      ]
    },
    {
      "cell_type": "code",
      "execution_count": 21,
      "metadata": {
        "colab": {
          "base_uri": "https://localhost:8080/"
        },
        "id": "Je-5r55WSP47",
        "outputId": "78fed6c1-952b-4d02-afcc-b11d1a693654"
      },
      "outputs": [
        {
          "output_type": "stream",
          "name": "stdout",
          "text": [
            "DEFINITION\n",
            "Model: \"sequential_1\"\n",
            "_________________________________________________________________\n",
            " Layer (type)                Output Shape              Param #   \n",
            "=================================================================\n",
            " flatten_1 (Flatten)         (None, 3072)              0         \n",
            "                                                                 \n",
            " dense_2 (Dense)             (None, 512)               1573376   \n",
            "                                                                 \n",
            " dense_3 (Dense)             (None, 256)               131328    \n",
            "                                                                 \n",
            " dense_4 (Dense)             (None, 128)               32896     \n",
            "                                                                 \n",
            " dense_5 (Dense)             (None, 64)                8256      \n",
            "                                                                 \n",
            " dense_6 (Dense)             (None, 10)                650       \n",
            "                                                                 \n",
            "=================================================================\n",
            "Total params: 1,746,506\n",
            "Trainable params: 1,746,506\n",
            "Non-trainable params: 0\n",
            "_________________________________________________________________\n",
            "\n",
            "Compiling model...\n",
            "\n",
            "TRAINING\n",
            "Epoch 1/100\n",
            "313/313 [==============================] - 2s 5ms/step - loss: 1.9700 - accuracy: 0.2821 - val_loss: 1.8330 - val_accuracy: 0.3400\n",
            "Epoch 2/100\n",
            "313/313 [==============================] - 1s 5ms/step - loss: 1.7454 - accuracy: 0.3699 - val_loss: 1.7186 - val_accuracy: 0.3874\n",
            "Epoch 3/100\n",
            "313/313 [==============================] - 2s 5ms/step - loss: 1.6449 - accuracy: 0.4086 - val_loss: 1.7264 - val_accuracy: 0.3805\n",
            "Epoch 4/100\n",
            "313/313 [==============================] - 1s 4ms/step - loss: 1.5780 - accuracy: 0.4323 - val_loss: 1.5977 - val_accuracy: 0.4299\n",
            "Epoch 5/100\n",
            "313/313 [==============================] - 1s 4ms/step - loss: 1.5327 - accuracy: 0.4502 - val_loss: 1.5665 - val_accuracy: 0.4428\n",
            "Epoch 6/100\n",
            "313/313 [==============================] - 1s 4ms/step - loss: 1.4953 - accuracy: 0.4658 - val_loss: 1.5245 - val_accuracy: 0.4583\n",
            "Epoch 7/100\n",
            "313/313 [==============================] - 1s 4ms/step - loss: 1.4494 - accuracy: 0.4828 - val_loss: 1.5014 - val_accuracy: 0.4660\n",
            "Epoch 8/100\n",
            "313/313 [==============================] - 1s 4ms/step - loss: 1.4330 - accuracy: 0.4867 - val_loss: 1.5401 - val_accuracy: 0.4517\n",
            "Epoch 9/100\n",
            "313/313 [==============================] - 1s 4ms/step - loss: 1.4102 - accuracy: 0.4942 - val_loss: 1.5013 - val_accuracy: 0.4717\n",
            "Epoch 10/100\n",
            "313/313 [==============================] - 1s 4ms/step - loss: 1.3727 - accuracy: 0.5076 - val_loss: 1.4777 - val_accuracy: 0.4842\n",
            "Epoch 11/100\n",
            "313/313 [==============================] - 1s 4ms/step - loss: 1.3555 - accuracy: 0.5154 - val_loss: 1.4654 - val_accuracy: 0.4844\n",
            "Epoch 12/100\n",
            "313/313 [==============================] - 1s 4ms/step - loss: 1.3341 - accuracy: 0.5228 - val_loss: 1.4942 - val_accuracy: 0.4703\n",
            "Epoch 13/100\n",
            "313/313 [==============================] - 1s 4ms/step - loss: 1.3056 - accuracy: 0.5321 - val_loss: 1.4553 - val_accuracy: 0.4871\n",
            "Epoch 14/100\n",
            "313/313 [==============================] - 1s 4ms/step - loss: 1.2874 - accuracy: 0.5387 - val_loss: 1.4618 - val_accuracy: 0.4873\n",
            "Epoch 15/100\n",
            "313/313 [==============================] - 1s 4ms/step - loss: 1.2593 - accuracy: 0.5515 - val_loss: 1.4438 - val_accuracy: 0.4958\n",
            "Epoch 16/100\n",
            "313/313 [==============================] - 1s 4ms/step - loss: 1.2357 - accuracy: 0.5555 - val_loss: 1.4314 - val_accuracy: 0.5026\n",
            "Epoch 17/100\n",
            "313/313 [==============================] - 1s 4ms/step - loss: 1.2214 - accuracy: 0.5646 - val_loss: 1.4580 - val_accuracy: 0.4967\n",
            "Epoch 18/100\n",
            "313/313 [==============================] - 1s 4ms/step - loss: 1.1977 - accuracy: 0.5718 - val_loss: 1.4609 - val_accuracy: 0.4877\n",
            "Epoch 19/100\n",
            "313/313 [==============================] - 1s 4ms/step - loss: 1.1705 - accuracy: 0.5835 - val_loss: 1.4803 - val_accuracy: 0.4993\n",
            "\n",
            "\n",
            "Training time: 0:00:26.705277\n",
            "\n",
            "EVALUATION\n",
            "Test Accuracy for the model -> 50.32 %\n",
            "\n"
          ]
        }
      ],
      "source": [
        "# MODEL DEFINITION\n",
        "print(\"DEFINITION\")\n",
        "\n",
        "model = ks.Sequential()\n",
        "\n",
        "# Neural Network Layers\n",
        "model.add(ks.layers.Flatten(input_shape = INPUT_SHAPE))\n",
        "model.add(ks.layers.Dense(512, activation='relu'))\n",
        "model.add(ks.layers.Dense(256, activation='relu'))\n",
        "model.add(ks.layers.Dense(128, activation='relu'))\n",
        "model.add(ks.layers.Dense(64, activation='relu'))\n",
        "model.add(ks.layers.Dense(10, activation='softmax'))\n",
        "\n",
        "# review model\n",
        "model.summary()\n",
        "\n",
        "\n",
        "# COMPILING MODEL\n",
        "print(\"\\nCompiling model...\")\n",
        "model.compile(optimizer='Adam',\n",
        "              loss='sparse_categorical_crossentropy',\n",
        "              metrics=['accuracy'])\n",
        "\n",
        "\n",
        "# TRAINING\n",
        "print(\"\\nTRAINING\")\n",
        "# calculating computational time\n",
        "t = time.perf_counter()\n",
        "# training model\n",
        "history = model.fit(\n",
        "                    x_train, \n",
        "                    y_train, \n",
        "                    epochs = EPOCHS, \n",
        "                    use_multiprocessing = False, \n",
        "                    batch_size = 128, \n",
        "                    validation_data = (x_val, y_val),\n",
        "                    callbacks = [callback_accuracy, callback_loss]\n",
        "          )\n",
        "# show total elapsed time\n",
        "elapsed_time = datetime.timedelta(seconds=(time.perf_counter() - t))\n",
        "print('\\n\\nTraining time:', elapsed_time)\n",
        "\n",
        "\n",
        "# EVALUATION\n",
        "print(\"\\nEVALUATION\")\n",
        "acc = model_evaluation(model, x_test, y_test, history, False, False)"
      ]
    },
    {
      "cell_type": "code",
      "execution_count": 22,
      "metadata": {
        "id": "Rxg4N2ipoUDp"
      },
      "outputs": [],
      "source": [
        "# STORING RESULTS\n",
        "\n",
        "# keeping accuracies for a final analysis\n",
        "storing_evaluation_results(model_evaluations, 'Several Dense Layers', acc, elapsed_time)"
      ]
    },
    {
      "cell_type": "markdown",
      "metadata": {
        "id": "qjnxdz8z7arp"
      },
      "source": [
        "### 4.3. Do batch sizes matter? <a class=\"anchor\" id=\"batch_sizes\"></a>"
      ]
    },
    {
      "cell_type": "markdown",
      "metadata": {
        "id": "ht8EXjUt7mmr"
      },
      "source": [
        "Let's explore if the batch sizes of data can help us improve the training of our model or not. We will increase batch_size to 512, instead of 128."
      ]
    },
    {
      "cell_type": "code",
      "execution_count": 23,
      "metadata": {
        "colab": {
          "base_uri": "https://localhost:8080/"
        },
        "id": "N3qvIBMP7vMW",
        "outputId": "2f91124a-c26a-41e1-ad06-859169df2690"
      },
      "outputs": [
        {
          "output_type": "stream",
          "name": "stdout",
          "text": [
            "DEFINITION\n",
            "Model: \"sequential_2\"\n",
            "_________________________________________________________________\n",
            " Layer (type)                Output Shape              Param #   \n",
            "=================================================================\n",
            " flatten_2 (Flatten)         (None, 3072)              0         \n",
            "                                                                 \n",
            " dense_7 (Dense)             (None, 512)               1573376   \n",
            "                                                                 \n",
            " dense_8 (Dense)             (None, 256)               131328    \n",
            "                                                                 \n",
            " dense_9 (Dense)             (None, 128)               32896     \n",
            "                                                                 \n",
            " dense_10 (Dense)            (None, 64)                8256      \n",
            "                                                                 \n",
            " dense_11 (Dense)            (None, 10)                650       \n",
            "                                                                 \n",
            "=================================================================\n",
            "Total params: 1,746,506\n",
            "Trainable params: 1,746,506\n",
            "Non-trainable params: 0\n",
            "_________________________________________________________________\n",
            "\n",
            "Compiling model...\n",
            "\n",
            "TRAINING\n",
            "Epoch 1/100\n",
            "79/79 [==============================] - 2s 16ms/step - loss: 2.0666 - accuracy: 0.2410 - val_loss: 1.9207 - val_accuracy: 0.2921\n",
            "Epoch 2/100\n",
            "79/79 [==============================] - 1s 9ms/step - loss: 1.8265 - accuracy: 0.3417 - val_loss: 1.8179 - val_accuracy: 0.3527\n",
            "Epoch 3/100\n",
            "79/79 [==============================] - 0s 6ms/step - loss: 1.7310 - accuracy: 0.3805 - val_loss: 1.7806 - val_accuracy: 0.3645\n",
            "Epoch 4/100\n",
            "79/79 [==============================] - 0s 6ms/step - loss: 1.6672 - accuracy: 0.4044 - val_loss: 1.6544 - val_accuracy: 0.4202\n",
            "Epoch 5/100\n",
            "79/79 [==============================] - 0s 6ms/step - loss: 1.6104 - accuracy: 0.4247 - val_loss: 1.6587 - val_accuracy: 0.4061\n",
            "Epoch 6/100\n",
            "79/79 [==============================] - 0s 6ms/step - loss: 1.5783 - accuracy: 0.4363 - val_loss: 1.6683 - val_accuracy: 0.4125\n",
            "Epoch 7/100\n",
            "79/79 [==============================] - 1s 7ms/step - loss: 1.5409 - accuracy: 0.4510 - val_loss: 1.6297 - val_accuracy: 0.4240\n",
            "Epoch 8/100\n",
            "79/79 [==============================] - 1s 7ms/step - loss: 1.5047 - accuracy: 0.4627 - val_loss: 1.5839 - val_accuracy: 0.4342\n",
            "Epoch 9/100\n",
            "79/79 [==============================] - 0s 6ms/step - loss: 1.4574 - accuracy: 0.4794 - val_loss: 1.5746 - val_accuracy: 0.4386\n",
            "Epoch 10/100\n",
            "79/79 [==============================] - 1s 6ms/step - loss: 1.4377 - accuracy: 0.4848 - val_loss: 1.5302 - val_accuracy: 0.4594\n",
            "Epoch 11/100\n",
            "79/79 [==============================] - 1s 6ms/step - loss: 1.4167 - accuracy: 0.4967 - val_loss: 1.5374 - val_accuracy: 0.4502\n",
            "Epoch 12/100\n",
            "79/79 [==============================] - 1s 6ms/step - loss: 1.3986 - accuracy: 0.5019 - val_loss: 1.4768 - val_accuracy: 0.4818\n",
            "Epoch 13/100\n",
            "79/79 [==============================] - 0s 6ms/step - loss: 1.3693 - accuracy: 0.5103 - val_loss: 1.4993 - val_accuracy: 0.4718\n",
            "Epoch 14/100\n",
            "79/79 [==============================] - 0s 6ms/step - loss: 1.3572 - accuracy: 0.5163 - val_loss: 1.4776 - val_accuracy: 0.4827\n",
            "Epoch 15/100\n",
            "79/79 [==============================] - 0s 6ms/step - loss: 1.3251 - accuracy: 0.5285 - val_loss: 1.4831 - val_accuracy: 0.4785\n",
            "\n",
            "\n",
            "Training time: 0:00:09.870251\n",
            "\n",
            "EVALUATION\n",
            "Test Accuracy for the model -> 48.48 %\n",
            "\n"
          ]
        }
      ],
      "source": [
        "# MODEL DEFINITION\n",
        "print(\"DEFINITION\")\n",
        "\n",
        "model = ks.Sequential()\n",
        "\n",
        "# Neural Network Layers\n",
        "model.add(ks.layers.Flatten(input_shape = INPUT_SHAPE))\n",
        "model.add(ks.layers.Dense(512, activation='relu'))\n",
        "model.add(ks.layers.Dense(256, activation='relu'))\n",
        "model.add(ks.layers.Dense(128, activation='relu'))\n",
        "model.add(ks.layers.Dense(64, activation='relu'))\n",
        "model.add(ks.layers.Dense(10, activation='softmax'))\n",
        "\n",
        "# review model\n",
        "model.summary()\n",
        "\n",
        "\n",
        "# COMPILING MODEL\n",
        "print(\"\\nCompiling model...\")\n",
        "model.compile(optimizer='Adam',\n",
        "              loss='sparse_categorical_crossentropy',\n",
        "              metrics=['accuracy'])\n",
        "\n",
        "\n",
        "# TRAINING\n",
        "print(\"\\nTRAINING\")\n",
        "# calculating computational time\n",
        "t = time.perf_counter()\n",
        "# training model\n",
        "history = model.fit(\n",
        "                    x_train, \n",
        "                    y_train, \n",
        "                    epochs = EPOCHS, \n",
        "                    use_multiprocessing = False, \n",
        "                    batch_size = 512, \n",
        "                    validation_data = (x_val, y_val),\n",
        "                    callbacks = [callback_accuracy, callback_loss]\n",
        "          )\n",
        "# show total elapsed time\n",
        "elapsed_time = datetime.timedelta(seconds=(time.perf_counter() - t))\n",
        "print('\\n\\nTraining time:', elapsed_time)\n",
        "\n",
        "\n",
        "# EVALUATION\n",
        "print(\"\\nEVALUATION\")\n",
        "acc = model_evaluation(model, x_test, y_test, history, False, False)"
      ]
    },
    {
      "cell_type": "code",
      "execution_count": 24,
      "metadata": {
        "id": "pL21gu-Y8FFC"
      },
      "outputs": [],
      "source": [
        "storing_evaluation_results(model_evaluations, 'Increasing Batch Size', acc, elapsed_time)"
      ]
    },
    {
      "cell_type": "markdown",
      "metadata": {
        "id": "6f78h3jm6l60"
      },
      "source": [
        "### 4.4. Exploring the effects of adding Dropout <a class=\"anchor\" id=\"dropout\"></a>\n"
      ]
    },
    {
      "cell_type": "markdown",
      "metadata": {
        "id": "7lJ74-mP6vVo"
      },
      "source": [
        "Dropout is referred to the effect of randomly removing nodes in a neural network and it is a technique to avoid overfitting. This makes sense to do in the Dense or fully connected layers. \n",
        "\n",
        "Let's see if that improves the results."
      ]
    },
    {
      "cell_type": "code",
      "execution_count": 25,
      "metadata": {
        "id": "9iMfFpsi6vww",
        "colab": {
          "base_uri": "https://localhost:8080/"
        },
        "outputId": "673940ad-504a-4cb8-d692-bd672b42ac89"
      },
      "outputs": [
        {
          "output_type": "stream",
          "name": "stdout",
          "text": [
            "DEFINITION\n",
            "Model: \"sequential_3\"\n",
            "_________________________________________________________________\n",
            " Layer (type)                Output Shape              Param #   \n",
            "=================================================================\n",
            " flatten_3 (Flatten)         (None, 3072)              0         \n",
            "                                                                 \n",
            " dense_12 (Dense)            (None, 512)               1573376   \n",
            "                                                                 \n",
            " dropout (Dropout)           (None, 512)               0         \n",
            "                                                                 \n",
            " dense_13 (Dense)            (None, 256)               131328    \n",
            "                                                                 \n",
            " dropout_1 (Dropout)         (None, 256)               0         \n",
            "                                                                 \n",
            " dense_14 (Dense)            (None, 128)               32896     \n",
            "                                                                 \n",
            " dropout_2 (Dropout)         (None, 128)               0         \n",
            "                                                                 \n",
            " dense_15 (Dense)            (None, 64)                8256      \n",
            "                                                                 \n",
            " dropout_3 (Dropout)         (None, 64)                0         \n",
            "                                                                 \n",
            " dense_16 (Dense)            (None, 10)                650       \n",
            "                                                                 \n",
            "=================================================================\n",
            "Total params: 1,746,506\n",
            "Trainable params: 1,746,506\n",
            "Non-trainable params: 0\n",
            "_________________________________________________________________\n",
            "\n",
            "Compiling model...\n",
            "\n",
            "TRAINING\n",
            "Epoch 1/100\n",
            "40/40 [==============================] - 1s 18ms/step - loss: 2.2586 - accuracy: 0.1433 - val_loss: 2.0805 - val_accuracy: 0.2274\n",
            "Epoch 2/100\n",
            "40/40 [==============================] - 0s 10ms/step - loss: 2.0681 - accuracy: 0.2214 - val_loss: 1.9602 - val_accuracy: 0.2799\n",
            "Epoch 3/100\n",
            "40/40 [==============================] - 0s 10ms/step - loss: 1.9730 - accuracy: 0.2689 - val_loss: 1.8921 - val_accuracy: 0.3146\n",
            "Epoch 4/100\n",
            "40/40 [==============================] - 0s 9ms/step - loss: 1.9176 - accuracy: 0.3007 - val_loss: 1.8423 - val_accuracy: 0.3464\n",
            "Epoch 5/100\n",
            "40/40 [==============================] - 0s 9ms/step - loss: 1.8748 - accuracy: 0.3205 - val_loss: 1.7885 - val_accuracy: 0.3557\n",
            "Epoch 6/100\n",
            "40/40 [==============================] - 0s 9ms/step - loss: 1.8416 - accuracy: 0.3327 - val_loss: 1.7739 - val_accuracy: 0.3656\n",
            "Epoch 7/100\n",
            "40/40 [==============================] - 0s 9ms/step - loss: 1.8345 - accuracy: 0.3389 - val_loss: 1.7774 - val_accuracy: 0.3621\n",
            "Epoch 8/100\n",
            "40/40 [==============================] - 0s 10ms/step - loss: 1.8210 - accuracy: 0.3408 - val_loss: 1.7432 - val_accuracy: 0.3679\n",
            "Epoch 9/100\n",
            "40/40 [==============================] - 0s 9ms/step - loss: 1.7968 - accuracy: 0.3546 - val_loss: 1.7711 - val_accuracy: 0.3707\n",
            "Epoch 10/100\n",
            "40/40 [==============================] - 0s 9ms/step - loss: 1.7908 - accuracy: 0.3533 - val_loss: 1.7006 - val_accuracy: 0.3889\n",
            "Epoch 11/100\n",
            "40/40 [==============================] - 0s 9ms/step - loss: 1.7675 - accuracy: 0.3607 - val_loss: 1.7516 - val_accuracy: 0.3846\n",
            "Epoch 12/100\n",
            "40/40 [==============================] - 0s 10ms/step - loss: 1.7572 - accuracy: 0.3653 - val_loss: 1.6748 - val_accuracy: 0.3947\n",
            "Epoch 13/100\n",
            "40/40 [==============================] - 0s 9ms/step - loss: 1.7393 - accuracy: 0.3704 - val_loss: 1.6804 - val_accuracy: 0.4044\n",
            "Epoch 14/100\n",
            "40/40 [==============================] - 0s 9ms/step - loss: 1.7311 - accuracy: 0.3739 - val_loss: 1.6962 - val_accuracy: 0.3883\n",
            "Epoch 15/100\n",
            "40/40 [==============================] - 0s 10ms/step - loss: 1.7380 - accuracy: 0.3739 - val_loss: 1.6611 - val_accuracy: 0.4073\n",
            "Epoch 16/100\n",
            "40/40 [==============================] - 0s 10ms/step - loss: 1.7075 - accuracy: 0.3845 - val_loss: 1.6563 - val_accuracy: 0.4078\n",
            "Epoch 17/100\n",
            "40/40 [==============================] - 0s 10ms/step - loss: 1.7036 - accuracy: 0.3856 - val_loss: 1.6660 - val_accuracy: 0.4082\n",
            "Epoch 18/100\n",
            "40/40 [==============================] - 0s 9ms/step - loss: 1.7027 - accuracy: 0.3860 - val_loss: 1.6504 - val_accuracy: 0.4066\n",
            "Epoch 19/100\n",
            "40/40 [==============================] - 0s 9ms/step - loss: 1.6873 - accuracy: 0.3943 - val_loss: 1.6615 - val_accuracy: 0.4115\n",
            "Epoch 20/100\n",
            "40/40 [==============================] - 0s 9ms/step - loss: 1.6913 - accuracy: 0.3904 - val_loss: 1.6542 - val_accuracy: 0.4107\n",
            "Epoch 21/100\n",
            "40/40 [==============================] - 0s 9ms/step - loss: 1.6860 - accuracy: 0.3944 - val_loss: 1.6131 - val_accuracy: 0.4292\n",
            "Epoch 22/100\n",
            "40/40 [==============================] - 0s 9ms/step - loss: 1.6637 - accuracy: 0.4011 - val_loss: 1.6646 - val_accuracy: 0.4078\n",
            "Epoch 23/100\n",
            "40/40 [==============================] - 0s 10ms/step - loss: 1.6687 - accuracy: 0.3978 - val_loss: 1.6220 - val_accuracy: 0.4263\n",
            "Epoch 24/100\n",
            "40/40 [==============================] - 0s 10ms/step - loss: 1.6707 - accuracy: 0.3997 - val_loss: 1.6165 - val_accuracy: 0.4217\n",
            "\n",
            "\n",
            "Training time: 0:00:10.687806\n",
            "\n",
            "EVALUATION\n",
            "Test Accuracy for the model -> 43.4 %\n",
            "\n"
          ]
        }
      ],
      "source": [
        "# MODEL DEFINITION\n",
        "print(\"DEFINITION\")\n",
        "\n",
        "model = ks.Sequential()\n",
        "\n",
        "# Neural Network Layers\n",
        "model.add(ks.layers.Flatten(input_shape = INPUT_SHAPE))\n",
        "model.add(ks.layers.Dense(512, activation='relu'))\n",
        "model.add(ks.layers.Dropout(0.25))\n",
        "model.add(ks.layers.Dense(256, activation='relu'))\n",
        "model.add(ks.layers.Dropout(0.25))\n",
        "model.add(ks.layers.Dense(128, activation='relu'))\n",
        "model.add(ks.layers.Dropout(0.25))\n",
        "model.add(ks.layers.Dense(64, activation='relu'))\n",
        "model.add(ks.layers.Dropout(0.25))\n",
        "model.add(ks.layers.Dense(10, activation='softmax'))\n",
        "\n",
        "# review model\n",
        "model.summary()\n",
        "\n",
        "\n",
        "# COMPILING MODEL\n",
        "print(\"\\nCompiling model...\")\n",
        "model.compile(optimizer='Adam',\n",
        "              loss='sparse_categorical_crossentropy',\n",
        "              metrics=['accuracy'])\n",
        "\n",
        "\n",
        "# TRAINING\n",
        "print(\"\\nTRAINING\")\n",
        "# calculating computational time\n",
        "t = time.perf_counter()\n",
        "# training model\n",
        "history = model.fit(\n",
        "                    x_train, \n",
        "                    y_train, \n",
        "                    epochs = EPOCHS, \n",
        "                    use_multiprocessing = False, \n",
        "                    batch_size = 1024, \n",
        "                    validation_data = (x_val, y_val),\n",
        "                    callbacks = [callback_accuracy, callback_loss]\n",
        "          )\n",
        "# show total elapsed time\n",
        "elapsed_time = datetime.timedelta(seconds=(time.perf_counter() - t))\n",
        "print('\\n\\nTraining time:', elapsed_time)\n",
        "\n",
        "\n",
        "# EVALUATION\n",
        "print(\"\\nEVALUATION\")\n",
        "acc = model_evaluation(model, x_test, y_test, history, False, False)"
      ]
    },
    {
      "cell_type": "code",
      "source": [
        "storing_evaluation_results(model_evaluations, 'Adding Dropout Layers', acc, elapsed_time)"
      ],
      "metadata": {
        "id": "KZo_kffq-zfk"
      },
      "execution_count": 26,
      "outputs": []
    },
    {
      "cell_type": "markdown",
      "source": [
        "### 4.5. Simple Convolutional Neural Network <a class=\"anchor\" id=\"simple_cnn\"></a>"
      ],
      "metadata": {
        "id": "acjdP-IMkC0C"
      }
    },
    {
      "cell_type": "markdown",
      "source": [
        "Up until now, we have tried to solve the classification problem by forcing the neural network to learn about values of pixels (features) in different color spaces, but what if we could provide it with \"vision\". If the network was able to see and understand the shapes of the image data it gets, we believe it would be more efficient.\n",
        "\n",
        "Let's start with a simple Convolutional Network and expand from there."
      ],
      "metadata": {
        "id": "ij_M9ZXikIbb"
      }
    },
    {
      "cell_type": "code",
      "source": [
        "# MODEL DEFINITION\n",
        "print(\"DEFINITION\")\n",
        "\n",
        "model = ks.Sequential()\n",
        "\n",
        "# Neural Network Layers\n",
        "model.add(ks.layers.Conv2D(32, (3, 3), strides=1, activation='relu', padding='same', input_shape=INPUT_SHAPE))\n",
        "model.add(ks.layers.MaxPooling2D((2, 2)))\n",
        "\n",
        "model.add(ks.layers.Flatten()) \n",
        "model.add(ks.layers.Dense(512, activation='relu'))\n",
        "model.add(ks.layers.Dropout(0.25))\n",
        "model.add(ks.layers.Dense(256, activation='relu'))\n",
        "model.add(ks.layers.Dropout(0.25))\n",
        "model.add(ks.layers.Dense(128, activation='relu'))\n",
        "model.add(ks.layers.Dropout(0.25))\n",
        "model.add(ks.layers.Dense(64, activation='relu'))\n",
        "model.add(ks.layers.Dropout(0.25))\n",
        "model.add(ks.layers.Dense(10, activation='softmax'))\n",
        "\n",
        "\n",
        "# review model\n",
        "model.summary()\n",
        "\n",
        "\n",
        "# COMPILING MODEL\n",
        "print(\"\\nCompiling model...\")\n",
        "model.compile(optimizer='Adam',\n",
        "              loss='sparse_categorical_crossentropy',\n",
        "              metrics=['accuracy'])\n",
        "\n",
        "\n",
        "# TRAINING\n",
        "print(\"\\nTRAINING\")\n",
        "# calculating computational time\n",
        "t = time.perf_counter()\n",
        "# training model\n",
        "history = model.fit(\n",
        "                    x_train, \n",
        "                    y_train, \n",
        "                    epochs = EPOCHS, \n",
        "                    use_multiprocessing = False, \n",
        "                    batch_size = 512, \n",
        "                    validation_data = (x_val, y_val),\n",
        "                    callbacks = [callback_accuracy, callback_loss]\n",
        "          )\n",
        "# show total elapsed time\n",
        "elapsed_time = datetime.timedelta(seconds=(time.perf_counter() - t))\n",
        "print('\\n\\nTraining time:', elapsed_time)\n",
        "\n",
        "\n",
        "# EVALUATION\n",
        "print(\"\\nEVALUATION\")\n",
        "acc = model_evaluation(model, x_test, y_test, history, False, False)"
      ],
      "metadata": {
        "colab": {
          "base_uri": "https://localhost:8080/"
        },
        "id": "Fs_9gOakkcC0",
        "outputId": "b678b422-0578-4291-b093-b152de9c4037"
      },
      "execution_count": 27,
      "outputs": [
        {
          "output_type": "stream",
          "name": "stdout",
          "text": [
            "DEFINITION\n",
            "Model: \"sequential_4\"\n",
            "_________________________________________________________________\n",
            " Layer (type)                Output Shape              Param #   \n",
            "=================================================================\n",
            " conv2d (Conv2D)             (None, 32, 32, 32)        896       \n",
            "                                                                 \n",
            " max_pooling2d (MaxPooling2D  (None, 16, 16, 32)       0         \n",
            " )                                                               \n",
            "                                                                 \n",
            " flatten_4 (Flatten)         (None, 8192)              0         \n",
            "                                                                 \n",
            " dense_17 (Dense)            (None, 512)               4194816   \n",
            "                                                                 \n",
            " dropout_4 (Dropout)         (None, 512)               0         \n",
            "                                                                 \n",
            " dense_18 (Dense)            (None, 256)               131328    \n",
            "                                                                 \n",
            " dropout_5 (Dropout)         (None, 256)               0         \n",
            "                                                                 \n",
            " dense_19 (Dense)            (None, 128)               32896     \n",
            "                                                                 \n",
            " dropout_6 (Dropout)         (None, 128)               0         \n",
            "                                                                 \n",
            " dense_20 (Dense)            (None, 64)                8256      \n",
            "                                                                 \n",
            " dropout_7 (Dropout)         (None, 64)                0         \n",
            "                                                                 \n",
            " dense_21 (Dense)            (None, 10)                650       \n",
            "                                                                 \n",
            "=================================================================\n",
            "Total params: 4,368,842\n",
            "Trainable params: 4,368,842\n",
            "Non-trainable params: 0\n",
            "_________________________________________________________________\n",
            "\n",
            "Compiling model...\n",
            "\n",
            "TRAINING\n",
            "Epoch 1/100\n",
            "79/79 [==============================] - 3s 17ms/step - loss: 2.1139 - accuracy: 0.1921 - val_loss: 1.8219 - val_accuracy: 0.3281\n",
            "Epoch 2/100\n",
            "79/79 [==============================] - 1s 11ms/step - loss: 1.7014 - accuracy: 0.3624 - val_loss: 1.4598 - val_accuracy: 0.4686\n",
            "Epoch 3/100\n",
            "79/79 [==============================] - 1s 11ms/step - loss: 1.4590 - accuracy: 0.4678 - val_loss: 1.3157 - val_accuracy: 0.5252\n",
            "Epoch 4/100\n",
            "79/79 [==============================] - 1s 11ms/step - loss: 1.3071 - accuracy: 0.5294 - val_loss: 1.2964 - val_accuracy: 0.5319\n",
            "Epoch 5/100\n",
            "79/79 [==============================] - 1s 11ms/step - loss: 1.2000 - accuracy: 0.5703 - val_loss: 1.2192 - val_accuracy: 0.5767\n",
            "Epoch 6/100\n",
            "79/79 [==============================] - 1s 11ms/step - loss: 1.1181 - accuracy: 0.6027 - val_loss: 1.1299 - val_accuracy: 0.6020\n",
            "Epoch 7/100\n",
            "79/79 [==============================] - 1s 11ms/step - loss: 1.0428 - accuracy: 0.6321 - val_loss: 1.1186 - val_accuracy: 0.6050\n",
            "Epoch 8/100\n",
            "79/79 [==============================] - 1s 11ms/step - loss: 0.9780 - accuracy: 0.6578 - val_loss: 1.0787 - val_accuracy: 0.6255\n",
            "Epoch 9/100\n",
            "79/79 [==============================] - 1s 11ms/step - loss: 0.9214 - accuracy: 0.6766 - val_loss: 1.0547 - val_accuracy: 0.6402\n",
            "Epoch 10/100\n",
            "79/79 [==============================] - 1s 11ms/step - loss: 0.8497 - accuracy: 0.7082 - val_loss: 1.0489 - val_accuracy: 0.6419\n",
            "Epoch 11/100\n",
            "79/79 [==============================] - 1s 11ms/step - loss: 0.7889 - accuracy: 0.7265 - val_loss: 1.1129 - val_accuracy: 0.6322\n",
            "Epoch 12/100\n",
            "79/79 [==============================] - 1s 11ms/step - loss: 0.7418 - accuracy: 0.7442 - val_loss: 1.0649 - val_accuracy: 0.6519\n",
            "Epoch 13/100\n",
            "79/79 [==============================] - 1s 11ms/step - loss: 0.6915 - accuracy: 0.7626 - val_loss: 1.0675 - val_accuracy: 0.6496\n",
            "\n",
            "\n",
            "Training time: 0:00:14.134618\n",
            "\n",
            "EVALUATION\n",
            "Test Accuracy for the model -> 63.65 %\n",
            "\n"
          ]
        }
      ]
    },
    {
      "cell_type": "markdown",
      "source": [
        "With just one convolutional layer, the increase in accuracy has been impressive, but not enough."
      ],
      "metadata": {
        "id": "W_j200Jgk2hk"
      }
    },
    {
      "cell_type": "code",
      "source": [
        "storing_evaluation_results(model_evaluations, 'Simple Convolutional Neural Network', acc, elapsed_time)"
      ],
      "metadata": {
        "id": "jx-iG7tXkt1W"
      },
      "execution_count": 28,
      "outputs": []
    },
    {
      "cell_type": "markdown",
      "source": [
        "### 4.6. Extending the Convolutional Neural Network <a class=\"anchor\" id=\"cnn_extended\"></a>"
      ],
      "metadata": {
        "id": "OBZHDMDRAmKY"
      }
    },
    {
      "cell_type": "markdown",
      "source": [
        "We have seen that by adding one layer of a convolutional neural network, the accuracy of the model improves a lot. Let's try adding more convolutional layers, following the examples of more complex architectures of neural networks that have several convolutional layers and then fully connected layers at the end."
      ],
      "metadata": {
        "id": "plLjD1X3A_7h"
      }
    },
    {
      "cell_type": "code",
      "source": [
        "# MODEL DEFINITION\n",
        "print(\"DEFINITION\")\n",
        "\n",
        "model = ks.Sequential()\n",
        "\n",
        "# Neural Network Layers\n",
        "model.add(ks.layers.Conv2D(16, (3, 3), strides = 1, activation = 'relu', padding = 'same', input_shape = INPUT_SHAPE))\n",
        "model.add(ks.layers.MaxPooling2D((2, 2)))\n",
        "\n",
        "model.add(ks.layers.Conv2D(64, (3, 3), strides = 1, activation = 'relu', padding = 'same'))\n",
        "model.add(ks.layers.MaxPooling2D((2, 2)))\n",
        "\n",
        "model.add(ks.layers.Conv2D(128, (3, 3), strides = 1, activation = 'relu', padding = 'same'))\n",
        "model.add(ks.layers.MaxPooling2D((2, 2)))\n",
        "\n",
        "model.add(ks.layers.Conv2D(256, (3, 3), strides = 1, activation = 'relu', padding = 'same'))\n",
        "model.add(ks.layers.MaxPooling2D((2, 2)))\n",
        "\n",
        "model.add(ks.layers.Flatten()) \n",
        "model.add(ks.layers.Dense(512, activation='relu'))\n",
        "model.add(ks.layers.Dropout(0.25))\n",
        "model.add(ks.layers.Dense(256, activation='relu'))\n",
        "model.add(ks.layers.Dropout(0.25))\n",
        "model.add(ks.layers.Dense(128, activation='relu'))\n",
        "model.add(ks.layers.Dropout(0.25))\n",
        "model.add(ks.layers.Dense(64, activation='relu'))\n",
        "model.add(ks.layers.Dropout(0.25))\n",
        "model.add(ks.layers.Dense(10, activation='softmax'))\n",
        "\n",
        "# review model\n",
        "model.summary()\n",
        "\n",
        "\n",
        "# COMPILING MODEL\n",
        "print(\"\\nCompiling model...\")\n",
        "model.compile(optimizer='Adam',\n",
        "              loss='sparse_categorical_crossentropy',\n",
        "              metrics=['accuracy'])\n",
        "\n",
        "\n",
        "# TRAINING\n",
        "print(\"\\nTRAINING\")\n",
        "# calculating computational time\n",
        "t = time.perf_counter()\n",
        "# training model\n",
        "history = model.fit(\n",
        "                    x_train, \n",
        "                    y_train, \n",
        "                    epochs = EPOCHS, \n",
        "                    use_multiprocessing = False, \n",
        "                    batch_size = 512, \n",
        "                    validation_data = (x_val, y_val),\n",
        "                    callbacks = [callback_accuracy, callback_loss]\n",
        "          )\n",
        "# show total elapsed time\n",
        "elapsed_time = datetime.timedelta(seconds=(time.perf_counter() - t))\n",
        "print('\\n\\nTraining time:', elapsed_time)\n",
        "\n",
        "\n",
        "# EVALUATION\n",
        "print(\"\\nEVALUATION\")\n",
        "acc = model_evaluation(model, x_test, y_test, history, False, False)"
      ],
      "metadata": {
        "colab": {
          "base_uri": "https://localhost:8080/"
        },
        "id": "mKxsAfMqKxbz",
        "outputId": "559e6965-edb1-4fc9-8b65-477ca5346f16"
      },
      "execution_count": 29,
      "outputs": [
        {
          "output_type": "stream",
          "name": "stdout",
          "text": [
            "DEFINITION\n",
            "Model: \"sequential_5\"\n",
            "_________________________________________________________________\n",
            " Layer (type)                Output Shape              Param #   \n",
            "=================================================================\n",
            " conv2d_1 (Conv2D)           (None, 32, 32, 16)        448       \n",
            "                                                                 \n",
            " max_pooling2d_1 (MaxPooling  (None, 16, 16, 16)       0         \n",
            " 2D)                                                             \n",
            "                                                                 \n",
            " conv2d_2 (Conv2D)           (None, 16, 16, 64)        9280      \n",
            "                                                                 \n",
            " max_pooling2d_2 (MaxPooling  (None, 8, 8, 64)         0         \n",
            " 2D)                                                             \n",
            "                                                                 \n",
            " conv2d_3 (Conv2D)           (None, 8, 8, 128)         73856     \n",
            "                                                                 \n",
            " max_pooling2d_3 (MaxPooling  (None, 4, 4, 128)        0         \n",
            " 2D)                                                             \n",
            "                                                                 \n",
            " conv2d_4 (Conv2D)           (None, 4, 4, 256)         295168    \n",
            "                                                                 \n",
            " max_pooling2d_4 (MaxPooling  (None, 2, 2, 256)        0         \n",
            " 2D)                                                             \n",
            "                                                                 \n",
            " flatten_5 (Flatten)         (None, 1024)              0         \n",
            "                                                                 \n",
            " dense_22 (Dense)            (None, 512)               524800    \n",
            "                                                                 \n",
            " dropout_8 (Dropout)         (None, 512)               0         \n",
            "                                                                 \n",
            " dense_23 (Dense)            (None, 256)               131328    \n",
            "                                                                 \n",
            " dropout_9 (Dropout)         (None, 256)               0         \n",
            "                                                                 \n",
            " dense_24 (Dense)            (None, 128)               32896     \n",
            "                                                                 \n",
            " dropout_10 (Dropout)        (None, 128)               0         \n",
            "                                                                 \n",
            " dense_25 (Dense)            (None, 64)                8256      \n",
            "                                                                 \n",
            " dropout_11 (Dropout)        (None, 64)                0         \n",
            "                                                                 \n",
            " dense_26 (Dense)            (None, 10)                650       \n",
            "                                                                 \n",
            "=================================================================\n",
            "Total params: 1,076,682\n",
            "Trainable params: 1,076,682\n",
            "Non-trainable params: 0\n",
            "_________________________________________________________________\n",
            "\n",
            "Compiling model...\n",
            "\n",
            "TRAINING\n",
            "Epoch 1/100\n",
            "79/79 [==============================] - 3s 22ms/step - loss: 2.0561 - accuracy: 0.2068 - val_loss: 1.7466 - val_accuracy: 0.3509\n",
            "Epoch 2/100\n",
            "79/79 [==============================] - 1s 15ms/step - loss: 1.6739 - accuracy: 0.3701 - val_loss: 1.4539 - val_accuracy: 0.4725\n",
            "Epoch 3/100\n",
            "79/79 [==============================] - 1s 15ms/step - loss: 1.4338 - accuracy: 0.4761 - val_loss: 1.7062 - val_accuracy: 0.4485\n",
            "Epoch 4/100\n",
            "79/79 [==============================] - 1s 15ms/step - loss: 1.3038 - accuracy: 0.5356 - val_loss: 1.2578 - val_accuracy: 0.5532\n",
            "Epoch 5/100\n",
            "79/79 [==============================] - 1s 15ms/step - loss: 1.1549 - accuracy: 0.5891 - val_loss: 1.1130 - val_accuracy: 0.5968\n",
            "Epoch 6/100\n",
            "79/79 [==============================] - 1s 15ms/step - loss: 1.0475 - accuracy: 0.6320 - val_loss: 1.0354 - val_accuracy: 0.6363\n",
            "Epoch 7/100\n",
            "79/79 [==============================] - 1s 15ms/step - loss: 0.9561 - accuracy: 0.6669 - val_loss: 1.0406 - val_accuracy: 0.6418\n",
            "Epoch 8/100\n",
            "79/79 [==============================] - 1s 15ms/step - loss: 0.8582 - accuracy: 0.7012 - val_loss: 0.9493 - val_accuracy: 0.6760\n",
            "Epoch 9/100\n",
            "79/79 [==============================] - 1s 15ms/step - loss: 0.7682 - accuracy: 0.7371 - val_loss: 1.0915 - val_accuracy: 0.6328\n",
            "Epoch 10/100\n",
            "79/79 [==============================] - 1s 15ms/step - loss: 0.7384 - accuracy: 0.7484 - val_loss: 1.0254 - val_accuracy: 0.6707\n",
            "Epoch 11/100\n",
            "79/79 [==============================] - 1s 15ms/step - loss: 0.6588 - accuracy: 0.7785 - val_loss: 0.9207 - val_accuracy: 0.6954\n",
            "Epoch 12/100\n",
            "79/79 [==============================] - 1s 15ms/step - loss: 0.5647 - accuracy: 0.8097 - val_loss: 0.9167 - val_accuracy: 0.7099\n",
            "Epoch 13/100\n",
            "79/79 [==============================] - 1s 15ms/step - loss: 0.5024 - accuracy: 0.8317 - val_loss: 0.9859 - val_accuracy: 0.7064\n",
            "Epoch 14/100\n",
            "79/79 [==============================] - 1s 16ms/step - loss: 0.4686 - accuracy: 0.8426 - val_loss: 0.9748 - val_accuracy: 0.7144\n",
            "Epoch 15/100\n",
            "79/79 [==============================] - 1s 18ms/step - loss: 0.4114 - accuracy: 0.8636 - val_loss: 0.9937 - val_accuracy: 0.7120\n",
            "\n",
            "\n",
            "Training time: 0:00:20.675975\n",
            "\n",
            "EVALUATION\n",
            "Test Accuracy for the model -> 69.63 %\n",
            "\n"
          ]
        }
      ]
    },
    {
      "cell_type": "markdown",
      "source": [
        "Adding convolutional layers has deeply increased the accuracy of our previous neural network"
      ],
      "metadata": {
        "id": "S_0L0JkhfrUp"
      }
    },
    {
      "cell_type": "code",
      "source": [
        "storing_evaluation_results(model_evaluations, 'Complex Convolutional Neural Network', acc, elapsed_time)"
      ],
      "metadata": {
        "id": "BvYohxPbLr3t"
      },
      "execution_count": 30,
      "outputs": []
    },
    {
      "cell_type": "markdown",
      "source": [
        "### 4.7. Fine tuning the convolutional layer a little bit more <a class=\"anchor\" id=\"cnn_tuning\"></a>"
      ],
      "metadata": {
        "id": "oWudsJNQiC3_"
      }
    },
    {
      "cell_type": "markdown",
      "source": [
        "Another idea to increase the accuracy would be to make the convolutional layer bigger (VGG16 has 5 convolutional layers with higher amount of nodes than the previous model), and also make the classification layer (the fully connected one) a lot way bigger."
      ],
      "metadata": {
        "id": "6S8DYEoDowkm"
      }
    },
    {
      "cell_type": "code",
      "source": [
        "# MODEL DEFINITION\n",
        "print(\"DEFINITION\")\n",
        "\n",
        "model = ks.Sequential()\n",
        "\n",
        "# Neural Network Layers\n",
        "model.add(ks.layers.Conv2D(64, (3, 3), strides = 1, activation = 'relu', padding = 'same', input_shape = INPUT_SHAPE))\n",
        "model.add(ks.layers.MaxPooling2D((2, 2)))\n",
        "\n",
        "model.add(ks.layers.Conv2D(128, (3, 3), strides = 1, activation = 'relu', padding = 'same'))\n",
        "model.add(ks.layers.MaxPooling2D((2, 2)))\n",
        "\n",
        "model.add(ks.layers.Conv2D(256, (3, 3), strides = 1, activation = 'relu', padding = 'same'))\n",
        "model.add(ks.layers.MaxPooling2D((2, 2)))\n",
        "\n",
        "model.add(ks.layers.Conv2D(512, (3, 3), strides = 1, activation = 'relu', padding = 'same'))\n",
        "model.add(ks.layers.MaxPooling2D((2, 2)))\n",
        "\n",
        "model.add(ks.layers.Conv2D(512, (3, 3), strides = 1, activation = 'relu', padding = 'same'))\n",
        "model.add(ks.layers.MaxPooling2D((2, 2)))\n",
        "\n",
        "model.add(ks.layers.Flatten()) \n",
        "model.add(ks.layers.Dense(4096, activation='relu'))\n",
        "model.add(ks.layers.Dropout(0.25))\n",
        "model.add(ks.layers.Dense(1024, activation='relu'))\n",
        "model.add(ks.layers.Dropout(0.25))\n",
        "model.add(ks.layers.Dense(10, activation='softmax'))\n",
        "\n",
        "# review model\n",
        "model.summary()\n",
        "\n",
        "\n",
        "# COMPILING MODEL\n",
        "print(\"\\nCompiling model...\")\n",
        "model.compile(optimizer='Adam',\n",
        "              loss='sparse_categorical_crossentropy',\n",
        "              metrics=['accuracy'])\n",
        "\n",
        "\n",
        "# TRAINING\n",
        "print(\"\\nTRAINING\")\n",
        "# calculating computational time\n",
        "t = time.perf_counter()\n",
        "# training model\n",
        "history = model.fit(\n",
        "                    x_train, \n",
        "                    y_train, \n",
        "                    epochs = EPOCHS, \n",
        "                    use_multiprocessing = False, \n",
        "                    batch_size = 512, \n",
        "                    validation_data = (x_val, y_val),\n",
        "                    callbacks = [callback_accuracy, callback_loss]\n",
        "          )\n",
        "# show total elapsed time\n",
        "elapsed_time = datetime.timedelta(seconds=(time.perf_counter() - t))\n",
        "print('\\n\\nTraining time:', elapsed_time)\n",
        "\n",
        "\n",
        "# EVALUATION\n",
        "print(\"\\nEVALUATION\")\n",
        "acc = model_evaluation(model, x_test, y_test, history, False, False)"
      ],
      "metadata": {
        "colab": {
          "base_uri": "https://localhost:8080/"
        },
        "id": "M7pKBEmpnHWD",
        "outputId": "64c0001c-97ea-48e8-8259-371d3bc62fb1"
      },
      "execution_count": 31,
      "outputs": [
        {
          "output_type": "stream",
          "name": "stdout",
          "text": [
            "DEFINITION\n",
            "Model: \"sequential_6\"\n",
            "_________________________________________________________________\n",
            " Layer (type)                Output Shape              Param #   \n",
            "=================================================================\n",
            " conv2d_5 (Conv2D)           (None, 32, 32, 64)        1792      \n",
            "                                                                 \n",
            " max_pooling2d_5 (MaxPooling  (None, 16, 16, 64)       0         \n",
            " 2D)                                                             \n",
            "                                                                 \n",
            " conv2d_6 (Conv2D)           (None, 16, 16, 128)       73856     \n",
            "                                                                 \n",
            " max_pooling2d_6 (MaxPooling  (None, 8, 8, 128)        0         \n",
            " 2D)                                                             \n",
            "                                                                 \n",
            " conv2d_7 (Conv2D)           (None, 8, 8, 256)         295168    \n",
            "                                                                 \n",
            " max_pooling2d_7 (MaxPooling  (None, 4, 4, 256)        0         \n",
            " 2D)                                                             \n",
            "                                                                 \n",
            " conv2d_8 (Conv2D)           (None, 4, 4, 512)         1180160   \n",
            "                                                                 \n",
            " max_pooling2d_8 (MaxPooling  (None, 2, 2, 512)        0         \n",
            " 2D)                                                             \n",
            "                                                                 \n",
            " conv2d_9 (Conv2D)           (None, 2, 2, 512)         2359808   \n",
            "                                                                 \n",
            " max_pooling2d_9 (MaxPooling  (None, 1, 1, 512)        0         \n",
            " 2D)                                                             \n",
            "                                                                 \n",
            " flatten_6 (Flatten)         (None, 512)               0         \n",
            "                                                                 \n",
            " dense_27 (Dense)            (None, 4096)              2101248   \n",
            "                                                                 \n",
            " dropout_12 (Dropout)        (None, 4096)              0         \n",
            "                                                                 \n",
            " dense_28 (Dense)            (None, 1024)              4195328   \n",
            "                                                                 \n",
            " dropout_13 (Dropout)        (None, 1024)              0         \n",
            "                                                                 \n",
            " dense_29 (Dense)            (None, 10)                10250     \n",
            "                                                                 \n",
            "=================================================================\n",
            "Total params: 10,217,610\n",
            "Trainable params: 10,217,610\n",
            "Non-trainable params: 0\n",
            "_________________________________________________________________\n",
            "\n",
            "Compiling model...\n",
            "\n",
            "TRAINING\n",
            "Epoch 1/100\n",
            "79/79 [==============================] - 6s 51ms/step - loss: 2.0455 - accuracy: 0.2115 - val_loss: 1.6869 - val_accuracy: 0.3544\n",
            "Epoch 2/100\n",
            "79/79 [==============================] - 3s 40ms/step - loss: 1.5225 - accuracy: 0.4248 - val_loss: 1.5004 - val_accuracy: 0.4578\n",
            "Epoch 3/100\n",
            "79/79 [==============================] - 3s 41ms/step - loss: 1.2865 - accuracy: 0.5300 - val_loss: 1.3766 - val_accuracy: 0.5183\n",
            "Epoch 4/100\n",
            "79/79 [==============================] - 3s 40ms/step - loss: 1.0322 - accuracy: 0.6249 - val_loss: 1.1800 - val_accuracy: 0.5811\n",
            "Epoch 5/100\n",
            "79/79 [==============================] - 3s 41ms/step - loss: 0.8822 - accuracy: 0.6858 - val_loss: 0.8778 - val_accuracy: 0.6874\n",
            "Epoch 6/100\n",
            "79/79 [==============================] - 3s 41ms/step - loss: 0.7365 - accuracy: 0.7388 - val_loss: 0.8646 - val_accuracy: 0.6915\n",
            "Epoch 7/100\n",
            "79/79 [==============================] - 3s 40ms/step - loss: 0.6128 - accuracy: 0.7845 - val_loss: 0.8607 - val_accuracy: 0.7142\n",
            "Epoch 8/100\n",
            "79/79 [==============================] - 3s 40ms/step - loss: 0.4800 - accuracy: 0.8335 - val_loss: 0.9048 - val_accuracy: 0.7100\n",
            "Epoch 9/100\n",
            "79/79 [==============================] - 3s 40ms/step - loss: 0.3875 - accuracy: 0.8658 - val_loss: 0.9443 - val_accuracy: 0.7099\n",
            "Epoch 10/100\n",
            "79/79 [==============================] - 3s 40ms/step - loss: 0.3063 - accuracy: 0.8933 - val_loss: 0.9957 - val_accuracy: 0.7176\n",
            "\n",
            "\n",
            "Training time: 0:00:35.333414\n",
            "\n",
            "EVALUATION\n",
            "Test Accuracy for the model -> 71.3 %\n",
            "\n"
          ]
        }
      ]
    },
    {
      "cell_type": "code",
      "source": [
        "storing_evaluation_results(model_evaluations, 'VGG16-like CNN', acc, elapsed_time)"
      ],
      "metadata": {
        "id": "8euIA2BHpfy5"
      },
      "execution_count": 32,
      "outputs": []
    },
    {
      "cell_type": "markdown",
      "source": [
        "### 4.8. Adam Optimizer parameters fine tuning<a class=\"anchor\" id=\"adam_tuning\"></a>"
      ],
      "metadata": {
        "id": "AVghaYf97SBv"
      }
    },
    {
      "cell_type": "markdown",
      "source": [
        "Up until now, we have been focusing on the architecture of the convolutional neural network, but we haven't checked anything related to the optimizer function we are using, Adam. \n",
        "\n",
        "The idea with this model is to explore if fine tuning parameters such as the learning rate and the momentums, we manage to escape from local minimums and reach global minimums."
      ],
      "metadata": {
        "id": "dIC95cut7nFK"
      }
    },
    {
      "cell_type": "code",
      "source": [
        "# MODEL DEFINITION\n",
        "print(\"DEFINITION\")\n",
        "\n",
        "model = ks.Sequential()\n",
        "\n",
        "# Neural Network Layers\n",
        "model.add(ks.layers.Conv2D(64, (3, 3), strides = 1, activation = 'relu', padding = 'same', input_shape = INPUT_SHAPE))\n",
        "model.add(ks.layers.MaxPooling2D((2, 2)))\n",
        "\n",
        "model.add(ks.layers.Conv2D(128, (3, 3), strides = 1, activation = 'relu', padding = 'same'))\n",
        "model.add(ks.layers.MaxPooling2D((2, 2)))\n",
        "\n",
        "model.add(ks.layers.Conv2D(256, (3, 3), strides = 1, activation = 'relu', padding = 'same'))\n",
        "model.add(ks.layers.MaxPooling2D((2, 2)))\n",
        "\n",
        "model.add(ks.layers.Conv2D(512, (3, 3), strides = 1, activation = 'relu', padding = 'same'))\n",
        "model.add(ks.layers.MaxPooling2D((2, 2)))\n",
        "\n",
        "model.add(ks.layers.Conv2D(512, (3, 3), strides = 1, activation = 'relu', padding = 'same'))\n",
        "model.add(ks.layers.MaxPooling2D((2, 2)))\n",
        "\n",
        "model.add(ks.layers.Flatten()) \n",
        "model.add(ks.layers.Dense(4096, activation='relu'))\n",
        "model.add(ks.layers.Dropout(0.25))\n",
        "model.add(ks.layers.Dense(1024, activation='relu'))\n",
        "model.add(ks.layers.Dropout(0.25))\n",
        "model.add(ks.layers.Dense(10, activation='softmax'))\n",
        "\n",
        "# review model\n",
        "model.summary()\n",
        "\n",
        "\n",
        "# COMPILING MODEL\n",
        "print(\"\\nCompiling model...\")\n",
        "optimizer = Adam(learning_rate = 0.001, decay = 0, beta_1 = 0.9, beta_2 = 0.999, epsilon = 1e-08)\n",
        "model.compile(optimizer = optimizer,\n",
        "              loss = 'sparse_categorical_crossentropy',\n",
        "              metrics = ['accuracy'])\n",
        "\n",
        "\n",
        "# TRAINING\n",
        "print(\"\\nTRAINING\")\n",
        "# calculating computational time\n",
        "t = time.perf_counter()\n",
        "# training model\n",
        "history = model.fit(\n",
        "                    x_train, \n",
        "                    y_train, \n",
        "                    epochs = EPOCHS, \n",
        "                    use_multiprocessing = False, \n",
        "                    batch_size = 512, \n",
        "                    validation_data = (x_val, y_val),\n",
        "                    callbacks = [callback_accuracy, callback_loss]\n",
        "          )\n",
        "# show total elapsed time\n",
        "elapsed_time = datetime.timedelta(seconds=(time.perf_counter() - t))\n",
        "print('\\n\\nTraining time:', elapsed_time)\n",
        "\n",
        "\n",
        "# EVALUATION\n",
        "print(\"\\nEVALUATION\")\n",
        "acc = model_evaluation(model, x_test, y_test, history, False, False)"
      ],
      "metadata": {
        "colab": {
          "base_uri": "https://localhost:8080/"
        },
        "id": "bQGD4jNV7nba",
        "outputId": "a8e81ded-77af-41a0-bd24-fbbf1999a46a"
      },
      "execution_count": 33,
      "outputs": [
        {
          "output_type": "stream",
          "name": "stdout",
          "text": [
            "DEFINITION\n",
            "Model: \"sequential_7\"\n",
            "_________________________________________________________________\n",
            " Layer (type)                Output Shape              Param #   \n",
            "=================================================================\n",
            " conv2d_10 (Conv2D)          (None, 32, 32, 64)        1792      \n",
            "                                                                 \n",
            " max_pooling2d_10 (MaxPoolin  (None, 16, 16, 64)       0         \n",
            " g2D)                                                            \n",
            "                                                                 \n",
            " conv2d_11 (Conv2D)          (None, 16, 16, 128)       73856     \n",
            "                                                                 \n",
            " max_pooling2d_11 (MaxPoolin  (None, 8, 8, 128)        0         \n",
            " g2D)                                                            \n",
            "                                                                 \n",
            " conv2d_12 (Conv2D)          (None, 8, 8, 256)         295168    \n",
            "                                                                 \n",
            " max_pooling2d_12 (MaxPoolin  (None, 4, 4, 256)        0         \n",
            " g2D)                                                            \n",
            "                                                                 \n",
            " conv2d_13 (Conv2D)          (None, 4, 4, 512)         1180160   \n",
            "                                                                 \n",
            " max_pooling2d_13 (MaxPoolin  (None, 2, 2, 512)        0         \n",
            " g2D)                                                            \n",
            "                                                                 \n",
            " conv2d_14 (Conv2D)          (None, 2, 2, 512)         2359808   \n",
            "                                                                 \n",
            " max_pooling2d_14 (MaxPoolin  (None, 1, 1, 512)        0         \n",
            " g2D)                                                            \n",
            "                                                                 \n",
            " flatten_7 (Flatten)         (None, 512)               0         \n",
            "                                                                 \n",
            " dense_30 (Dense)            (None, 4096)              2101248   \n",
            "                                                                 \n",
            " dropout_14 (Dropout)        (None, 4096)              0         \n",
            "                                                                 \n",
            " dense_31 (Dense)            (None, 1024)              4195328   \n",
            "                                                                 \n",
            " dropout_15 (Dropout)        (None, 1024)              0         \n",
            "                                                                 \n",
            " dense_32 (Dense)            (None, 10)                10250     \n",
            "                                                                 \n",
            "=================================================================\n",
            "Total params: 10,217,610\n",
            "Trainable params: 10,217,610\n",
            "Non-trainable params: 0\n",
            "_________________________________________________________________\n",
            "\n",
            "Compiling model...\n",
            "\n",
            "TRAINING\n",
            "Epoch 1/100\n",
            "79/79 [==============================] - 4s 45ms/step - loss: 2.0033 - accuracy: 0.2254 - val_loss: 1.6825 - val_accuracy: 0.3450\n",
            "Epoch 2/100\n",
            "79/79 [==============================] - 3s 41ms/step - loss: 1.5087 - accuracy: 0.4231 - val_loss: 1.3475 - val_accuracy: 0.4974\n",
            "Epoch 3/100\n",
            "79/79 [==============================] - 3s 40ms/step - loss: 1.2048 - accuracy: 0.5598 - val_loss: 1.1182 - val_accuracy: 0.5895\n",
            "Epoch 4/100\n",
            "79/79 [==============================] - 3s 40ms/step - loss: 1.0053 - accuracy: 0.6359 - val_loss: 0.9793 - val_accuracy: 0.6480\n",
            "Epoch 5/100\n",
            "79/79 [==============================] - 3s 40ms/step - loss: 0.8361 - accuracy: 0.7031 - val_loss: 0.9915 - val_accuracy: 0.6520\n",
            "Epoch 6/100\n",
            "79/79 [==============================] - 3s 40ms/step - loss: 0.7199 - accuracy: 0.7476 - val_loss: 0.8599 - val_accuracy: 0.7055\n",
            "Epoch 7/100\n",
            "79/79 [==============================] - 3s 40ms/step - loss: 0.5939 - accuracy: 0.7919 - val_loss: 0.8821 - val_accuracy: 0.7108\n",
            "Epoch 8/100\n",
            "79/79 [==============================] - 3s 40ms/step - loss: 0.4733 - accuracy: 0.8361 - val_loss: 1.1455 - val_accuracy: 0.6580\n",
            "Epoch 9/100\n",
            "79/79 [==============================] - 3s 40ms/step - loss: 0.3907 - accuracy: 0.8652 - val_loss: 0.8933 - val_accuracy: 0.7323\n",
            "\n",
            "\n",
            "Training time: 0:00:30.525731\n",
            "\n",
            "EVALUATION\n",
            "Test Accuracy for the model -> 70.36 %\n",
            "\n"
          ]
        }
      ]
    },
    {
      "cell_type": "code",
      "source": [
        "storing_evaluation_results(model_evaluations, 'Fine tuning Adam Optimizer parameters', acc, elapsed_time)"
      ],
      "metadata": {
        "id": "IqNiL5da8gQw"
      },
      "execution_count": 34,
      "outputs": []
    },
    {
      "cell_type": "markdown",
      "source": [
        "### 4.9. Using Data Augmentation <a class=\"anchor\" id=\"data_augmentation\"></a>"
      ],
      "metadata": {
        "id": "34EH2rdYomWU"
      }
    },
    {
      "cell_type": "markdown",
      "source": [
        "With a pretty complex convolutional network, we managed to increase the accuracy quite a lot. However, we are always aiming for a better model. The following approach will make use of Data Augmentation to improve the accuracy of the model by using very simple techniques of image processing to artificially expand the size of the training data by creating modified versions of the images of the original data."
      ],
      "metadata": {
        "id": "uiF7HQ9eiIL6"
      }
    },
    {
      "cell_type": "markdown",
      "source": [
        "#### 4.9.1. Creating an Image Train Generator <a class=\"anchor\" id=\"train_generator\"></a>"
      ],
      "metadata": {
        "id": "UOjcMk82qaD2"
      }
    },
    {
      "cell_type": "code",
      "source": [
        "# train data\n",
        "\n",
        "batch_size = 64\n",
        "\n",
        "train_datagen = ImageDataGenerator(\n",
        "      rotation_range = 15,\n",
        "      shear_range = 0.2,\n",
        "      zoom_range = 0.2,\n",
        "      horizontal_flip = True,\n",
        "      width_shift_range = 0.1,\n",
        "      height_shift_range = 0.1,\n",
        "    )\n",
        "train_generator = train_datagen.flow(\n",
        "    x_train,\n",
        "    y_train, \n",
        "    batch_size = batch_size\n",
        ")\n",
        "\n",
        "\n",
        "# validation data\n",
        "validation_datagen = ImageDataGenerator()\n",
        "validation_generator = validation_datagen.flow(\n",
        "    x_val, \n",
        "    y_val, \n",
        "    batch_size = int(batch_size / 2)\n",
        ")"
      ],
      "metadata": {
        "id": "vd3zJHwxqC6x"
      },
      "execution_count": 35,
      "outputs": []
    },
    {
      "cell_type": "code",
      "source": [
        "# checking the transformations of the already created generators\n",
        "\n",
        "sample = np.random.choice(range(0,4999))\n",
        "\n",
        "example_generator = train_datagen.flow(\n",
        "    x_train[sample:sample+1],\n",
        "    y_train[sample:sample+1],\n",
        "    batch_size=1\n",
        ")\n",
        "\n",
        "plt.figure(figsize=(12, 12))\n",
        "for i in range(0,15):\n",
        "    plt.subplot(5, 3, i+1)\n",
        "    for X,y in example_generator:\n",
        "        image = X[0]\n",
        "        plt.imshow(image)\n",
        "        break\n",
        "plt.tight_layout()\n",
        "plt.show()"
      ],
      "metadata": {
        "colab": {
          "base_uri": "https://localhost:8080/",
          "height": 873
        },
        "id": "pkOmUADHrUYg",
        "outputId": "f5512c93-e653-4d90-8241-ccdace0e8a11"
      },
      "execution_count": 36,
      "outputs": [
        {
          "output_type": "display_data",
          "data": {
            "image/png": "[encoded data removed]",
            "text/plain": [
              "<Figure size 864x864 with 15 Axes>"
            ]
          },
          "metadata": {
            "needs_background": "light"
          }
        }
      ]
    },
    {
      "cell_type": "markdown",
      "source": [
        "#### 4.9.2. Training the model with the image train generator <a class=\"anchor\" id=\"train_generator_training_model\"></a>"
      ],
      "metadata": {
        "id": "M-fXLseos3ek"
      }
    },
    {
      "cell_type": "code",
      "source": [
        "#TODO: Review\n",
        "\n",
        "# MODEL DEFINITION\n",
        "print(\"DEFINITION\")\n",
        "\n",
        "model = ks.Sequential()\n",
        "\n",
        "# Neural Network Layers\n",
        "\n",
        "model.add(ks.layers.Conv2D(64, (3, 3), strides = 1, activation = 'relu', padding = 'same', input_shape = INPUT_SHAPE))\n",
        "model.add(ks.layers.MaxPooling2D((2, 2)))\n",
        "\n",
        "model.add(ks.layers.Conv2D(128, (3, 3), strides = 1, activation = 'relu', padding = 'same'))\n",
        "model.add(ks.layers.MaxPooling2D((2, 2)))\n",
        "\n",
        "model.add(ks.layers.Conv2D(256, (3, 3), strides = 1, activation = 'relu', padding = 'same'))\n",
        "model.add(ks.layers.MaxPooling2D((2, 2)))\n",
        "\n",
        "model.add(ks.layers.Conv2D(512, (3, 3), strides = 1, activation = 'relu', padding = 'same'))\n",
        "model.add(ks.layers.MaxPooling2D((2, 2)))\n",
        "\n",
        "model.add(ks.layers.Conv2D(512, (3, 3), strides = 1, activation = 'relu', padding = 'same'))\n",
        "model.add(ks.layers.MaxPooling2D((2, 2)))\n",
        "\n",
        "model.add(ks.layers.Flatten()) \n",
        "model.add(ks.layers.Dense(4096, activation='relu'))\n",
        "model.add(ks.layers.Dropout(0.25))\n",
        "model.add(ks.layers.Dense(1024, activation='relu'))\n",
        "model.add(ks.layers.Dropout(0.25))\n",
        "model.add(ks.layers.Dense(10, activation='softmax'))\n",
        "\n",
        "# review model\n",
        "model.summary()\n",
        "\n",
        "\n",
        "# COMPILING MODEL\n",
        "print(\"\\nCompiling model...\")\n",
        "#new_Adam = Adam(learning_rate = 0.001, decay = 0, beta_1 = 0.9, beta_2 = 0.999, epsilon = 1e-08)\n",
        "model.compile(optimizer='Adam',\n",
        "              loss='sparse_categorical_crossentropy',\n",
        "              metrics=['accuracy'])\n",
        "\n",
        "\n",
        "# TRAINING\n",
        "print(\"\\nTRAINING\")\n",
        "# calculating computational time\n",
        "t = time.perf_counter()\n",
        "# training model\n",
        "history = model.fit(\n",
        "                    train_generator, \n",
        "                    validation_data = validation_generator,\n",
        "                    #validation_data = (x_val, y_val),\n",
        "                    epochs = EPOCHS, \n",
        "                    steps_per_epoch = int(x_train.shape[0] / batch_size),\n",
        "                    validation_steps = int(x_val.shape[0] / batch_size),\n",
        "                    use_multiprocessing = False, \n",
        "                    callbacks = [callback_accuracy, callback_loss]\n",
        "          )\n",
        "# show total elapsed time\n",
        "elapsed_time = datetime.timedelta(seconds=(time.perf_counter() - t))\n",
        "print('\\n\\nTraining time:', elapsed_time)\n",
        "\n",
        "\n",
        "# EVALUATION\n",
        "print(\"\\nEVALUATION\")\n",
        "acc = model_evaluation(model, x_test, y_test, history, True, False)"
      ],
      "metadata": {
        "colab": {
          "base_uri": "https://localhost:8080/",
          "height": 1000
        },
        "id": "qa0qtfUOs31s",
        "outputId": "527ab9d5-0047-499b-aa97-8b5e9392fb4d"
      },
      "execution_count": 37,
      "outputs": [
        {
          "output_type": "stream",
          "name": "stdout",
          "text": [
            "DEFINITION\n",
            "Model: \"sequential_8\"\n",
            "_________________________________________________________________\n",
            " Layer (type)                Output Shape              Param #   \n",
            "=================================================================\n",
            " conv2d_15 (Conv2D)          (None, 32, 32, 64)        1792      \n",
            "                                                                 \n",
            " max_pooling2d_15 (MaxPoolin  (None, 16, 16, 64)       0         \n",
            " g2D)                                                            \n",
            "                                                                 \n",
            " conv2d_16 (Conv2D)          (None, 16, 16, 128)       73856     \n",
            "                                                                 \n",
            " max_pooling2d_16 (MaxPoolin  (None, 8, 8, 128)        0         \n",
            " g2D)                                                            \n",
            "                                                                 \n",
            " conv2d_17 (Conv2D)          (None, 8, 8, 256)         295168    \n",
            "                                                                 \n",
            " max_pooling2d_17 (MaxPoolin  (None, 4, 4, 256)        0         \n",
            " g2D)                                                            \n",
            "                                                                 \n",
            " conv2d_18 (Conv2D)          (None, 4, 4, 512)         1180160   \n",
            "                                                                 \n",
            " max_pooling2d_18 (MaxPoolin  (None, 2, 2, 512)        0         \n",
            " g2D)                                                            \n",
            "                                                                 \n",
            " conv2d_19 (Conv2D)          (None, 2, 2, 512)         2359808   \n",
            "                                                                 \n",
            " max_pooling2d_19 (MaxPoolin  (None, 1, 1, 512)        0         \n",
            " g2D)                                                            \n",
            "                                                                 \n",
            " flatten_8 (Flatten)         (None, 512)               0         \n",
            "                                                                 \n",
            " dense_33 (Dense)            (None, 4096)              2101248   \n",
            "                                                                 \n",
            " dropout_16 (Dropout)        (None, 4096)              0         \n",
            "                                                                 \n",
            " dense_34 (Dense)            (None, 1024)              4195328   \n",
            "                                                                 \n",
            " dropout_17 (Dropout)        (None, 1024)              0         \n",
            "                                                                 \n",
            " dense_35 (Dense)            (None, 10)                10250     \n",
            "                                                                 \n",
            "=================================================================\n",
            "Total params: 10,217,610\n",
            "Trainable params: 10,217,610\n",
            "Non-trainable params: 0\n",
            "_________________________________________________________________\n",
            "\n",
            "Compiling model...\n",
            "\n",
            "TRAINING\n",
            "Epoch 1/100\n",
            "625/625 [==============================] - 27s 42ms/step - loss: 1.8090 - accuracy: 0.1047 - val_loss: 1.4947 - val_accuracy: 0.1338\n",
            "Epoch 2/100\n",
            "625/625 [==============================] - 26s 42ms/step - loss: 1.3941 - accuracy: 0.0943 - val_loss: 1.1899 - val_accuracy: 0.1002\n",
            "Epoch 3/100\n",
            "625/625 [==============================] - 26s 41ms/step - loss: 1.2387 - accuracy: 0.0988 - val_loss: 1.0568 - val_accuracy: 0.0877\n",
            "Epoch 4/100\n",
            "625/625 [==============================] - 26s 42ms/step - loss: 1.1375 - accuracy: 0.0997 - val_loss: 1.0303 - val_accuracy: 0.0911\n",
            "\n",
            "\n",
            "Training time: 0:01:44.649210\n",
            "\n",
            "EVALUATION\n"
          ]
        },
        {
          "output_type": "display_data",
          "data": {
            "image/png": "[encoded data removed]",
            "text/plain": [
              "<Figure size 432x288 with 1 Axes>"
            ]
          },
          "metadata": {
            "needs_background": "light"
          }
        },
        {
          "output_type": "display_data",
          "data": {
            "image/png": "[encoded data removed]",
            "text/plain": [
              "<Figure size 432x288 with 1 Axes>"
            ]
          },
          "metadata": {
            "needs_background": "light"
          }
        },
        {
          "output_type": "stream",
          "name": "stdout",
          "text": [
            "Test Accuracy for the model -> 13.56 %\n",
            "\n"
          ]
        }
      ]
    },
    {
      "cell_type": "code",
      "source": [
        "storing_evaluation_results(model_evaluations, 'CNN using Data Augmentation', acc, elapsed_time)"
      ],
      "metadata": {
        "id": "GmwVZWk4tYVU"
      },
      "execution_count": 38,
      "outputs": []
    },
    {
      "cell_type": "markdown",
      "source": [
        "### 4.10. Using an already trained 3rd party model (Transfer Learning)<a class=\"anchor\" id=\"transfer_learning\"></a>"
      ],
      "metadata": {
        "id": "J2Hyj6t_yzrt"
      }
    },
    {
      "cell_type": "markdown",
      "source": [
        "In this section we will be using the xCeption model in Keras. "
      ],
      "metadata": {
        "id": "nvGmqBZ11Rwr"
      }
    },
    {
      "cell_type": "code",
      "source": [
        "vgg = vgg16.VGG16(include_top = False, weights = 'imagenet', input_shape = INPUT_SHAPE)\n",
        "vgg.summary()"
      ],
      "metadata": {
        "colab": {
          "base_uri": "https://localhost:8080/"
        },
        "id": "v0aBZYLv24ym",
        "outputId": "367fab22-7e7c-4317-e040-3ab5f6fb25fd"
      },
      "execution_count": 39,
      "outputs": [
        {
          "output_type": "stream",
          "name": "stdout",
          "text": [
            "Model: \"vgg16\"\n",
            "_________________________________________________________________\n",
            " Layer (type)                Output Shape              Param #   \n",
            "=================================================================\n",
            " input_1 (InputLayer)        [(None, 32, 32, 3)]       0         \n",
            "                                                                 \n",
            " block1_conv1 (Conv2D)       (None, 32, 32, 64)        1792      \n",
            "                                                                 \n",
            " block1_conv2 (Conv2D)       (None, 32, 32, 64)        36928     \n",
            "                                                                 \n",
            " block1_pool (MaxPooling2D)  (None, 16, 16, 64)        0         \n",
            "                                                                 \n",
            " block2_conv1 (Conv2D)       (None, 16, 16, 128)       73856     \n",
            "                                                                 \n",
            " block2_conv2 (Conv2D)       (None, 16, 16, 128)       147584    \n",
            "                                                                 \n",
            " block2_pool (MaxPooling2D)  (None, 8, 8, 128)         0         \n",
            "                                                                 \n",
            " block3_conv1 (Conv2D)       (None, 8, 8, 256)         295168    \n",
            "                                                                 \n",
            " block3_conv2 (Conv2D)       (None, 8, 8, 256)         590080    \n",
            "                                                                 \n",
            " block3_conv3 (Conv2D)       (None, 8, 8, 256)         590080    \n",
            "                                                                 \n",
            " block3_pool (MaxPooling2D)  (None, 4, 4, 256)         0         \n",
            "                                                                 \n",
            " block4_conv1 (Conv2D)       (None, 4, 4, 512)         1180160   \n",
            "                                                                 \n",
            " block4_conv2 (Conv2D)       (None, 4, 4, 512)         2359808   \n",
            "                                                                 \n",
            " block4_conv3 (Conv2D)       (None, 4, 4, 512)         2359808   \n",
            "                                                                 \n",
            " block4_pool (MaxPooling2D)  (None, 2, 2, 512)         0         \n",
            "                                                                 \n",
            " block5_conv1 (Conv2D)       (None, 2, 2, 512)         2359808   \n",
            "                                                                 \n",
            " block5_conv2 (Conv2D)       (None, 2, 2, 512)         2359808   \n",
            "                                                                 \n",
            " block5_conv3 (Conv2D)       (None, 2, 2, 512)         2359808   \n",
            "                                                                 \n",
            " block5_pool (MaxPooling2D)  (None, 1, 1, 512)         0         \n",
            "                                                                 \n",
            "=================================================================\n",
            "Total params: 14,714,688\n",
            "Trainable params: 14,714,688\n",
            "Non-trainable params: 0\n",
            "_________________________________________________________________\n"
          ]
        }
      ]
    },
    {
      "cell_type": "code",
      "source": [
        "output = vgg.layers[-1].output\n",
        "new_output_layer = ks.layers.Flatten()(output)\n",
        "vgg_model = Model(vgg.input, new_output_layer)"
      ],
      "metadata": {
        "id": "dBK9-IlR35FN"
      },
      "execution_count": 40,
      "outputs": []
    },
    {
      "cell_type": "code",
      "source": [
        "vgg_model.summary()"
      ],
      "metadata": {
        "colab": {
          "base_uri": "https://localhost:8080/"
        },
        "id": "urFOLNfZ4jaF",
        "outputId": "d07c7ada-e25b-4f13-972b-47dcad9229f5"
      },
      "execution_count": 41,
      "outputs": [
        {
          "output_type": "stream",
          "name": "stdout",
          "text": [
            "Model: \"model\"\n",
            "_________________________________________________________________\n",
            " Layer (type)                Output Shape              Param #   \n",
            "=================================================================\n",
            " input_1 (InputLayer)        [(None, 32, 32, 3)]       0         \n",
            "                                                                 \n",
            " block1_conv1 (Conv2D)       (None, 32, 32, 64)        1792      \n",
            "                                                                 \n",
            " block1_conv2 (Conv2D)       (None, 32, 32, 64)        36928     \n",
            "                                                                 \n",
            " block1_pool (MaxPooling2D)  (None, 16, 16, 64)        0         \n",
            "                                                                 \n",
            " block2_conv1 (Conv2D)       (None, 16, 16, 128)       73856     \n",
            "                                                                 \n",
            " block2_conv2 (Conv2D)       (None, 16, 16, 128)       147584    \n",
            "                                                                 \n",
            " block2_pool (MaxPooling2D)  (None, 8, 8, 128)         0         \n",
            "                                                                 \n",
            " block3_conv1 (Conv2D)       (None, 8, 8, 256)         295168    \n",
            "                                                                 \n",
            " block3_conv2 (Conv2D)       (None, 8, 8, 256)         590080    \n",
            "                                                                 \n",
            " block3_conv3 (Conv2D)       (None, 8, 8, 256)         590080    \n",
            "                                                                 \n",
            " block3_pool (MaxPooling2D)  (None, 4, 4, 256)         0         \n",
            "                                                                 \n",
            " block4_conv1 (Conv2D)       (None, 4, 4, 512)         1180160   \n",
            "                                                                 \n",
            " block4_conv2 (Conv2D)       (None, 4, 4, 512)         2359808   \n",
            "                                                                 \n",
            " block4_conv3 (Conv2D)       (None, 4, 4, 512)         2359808   \n",
            "                                                                 \n",
            " block4_pool (MaxPooling2D)  (None, 2, 2, 512)         0         \n",
            "                                                                 \n",
            " block5_conv1 (Conv2D)       (None, 2, 2, 512)         2359808   \n",
            "                                                                 \n",
            " block5_conv2 (Conv2D)       (None, 2, 2, 512)         2359808   \n",
            "                                                                 \n",
            " block5_conv3 (Conv2D)       (None, 2, 2, 512)         2359808   \n",
            "                                                                 \n",
            " block5_pool (MaxPooling2D)  (None, 1, 1, 512)         0         \n",
            "                                                                 \n",
            " flatten_9 (Flatten)         (None, 512)               0         \n",
            "                                                                 \n",
            "=================================================================\n",
            "Total params: 14,714,688\n",
            "Trainable params: 14,714,688\n",
            "Non-trainable params: 0\n",
            "_________________________________________________________________\n"
          ]
        }
      ]
    },
    {
      "cell_type": "code",
      "source": [
        "vgg_model.trainable = True\n",
        "\n",
        "trainable = False\n",
        "for layer in vgg_model.layers:\n",
        "  if layer.name=='block4_conv1':\n",
        "    trainable = True\n",
        "\n",
        "  layer.trainable = trainable"
      ],
      "metadata": {
        "id": "ellwUrxO5292"
      },
      "execution_count": 42,
      "outputs": []
    },
    {
      "cell_type": "code",
      "source": [
        "layers = [(layer, layer.name, layer.trainable) for layer in vgg_model.layers]\n",
        "pd.DataFrame(layers, columns=['Layer type', 'Name of layer', 'Trainable?'])"
      ],
      "metadata": {
        "colab": {
          "base_uri": "https://localhost:8080/",
          "height": 677
        },
        "id": "BpQaZ3ug597v",
        "outputId": "5afa1019-6e6e-4a8a-c609-f8f33c2e1ddf"
      },
      "execution_count": 43,
      "outputs": [
        {
          "output_type": "execute_result",
          "data": {
            "text/html": [
              "\n",
              "  <div id=\"df-c61d6af9-dd07-4e1a-8ad9-716ab06e6c31\">\n",
              "    <div class=\"colab-df-container\">\n",
              "      <div>\n",
              "<style scoped>\n",
              "    .dataframe tbody tr th:only-of-type {\n",
              "        vertical-align: middle;\n",
              "    }\n",
              "\n",
              "    .dataframe tbody tr th {\n",
              "        vertical-align: top;\n",
              "    }\n",
              "\n",
              "    .dataframe thead th {\n",
              "        text-align: right;\n",
              "    }\n",
              "</style>\n",
              "<table border=\"1\" class=\"dataframe\">\n",
              "  <thead>\n",
              "    <tr style=\"text-align: right;\">\n",
              "      <th></th>\n",
              "      <th>Layer type</th>\n",
              "      <th>Name of layer</th>\n",
              "      <th>Trainable?</th>\n",
              "    </tr>\n",
              "  </thead>\n",
              "  <tbody>\n",
              "    <tr>\n",
              "      <th>0</th>\n",
              "      <td>&lt;keras.engine.input_layer.InputLayer object at...</td>\n",
              "      <td>input_1</td>\n",
              "      <td>False</td>\n",
              "    </tr>\n",
              "    <tr>\n",
              "      <th>1</th>\n",
              "      <td>&lt;keras.layers.convolutional.Conv2D object at 0...</td>\n",
              "      <td>block1_conv1</td>\n",
              "      <td>False</td>\n",
              "    </tr>\n",
              "    <tr>\n",
              "      <th>2</th>\n",
              "      <td>&lt;keras.layers.convolutional.Conv2D object at 0...</td>\n",
              "      <td>block1_conv2</td>\n",
              "      <td>False</td>\n",
              "    </tr>\n",
              "    <tr>\n",
              "      <th>3</th>\n",
              "      <td>&lt;keras.layers.pooling.MaxPooling2D object at 0...</td>\n",
              "      <td>block1_pool</td>\n",
              "      <td>False</td>\n",
              "    </tr>\n",
              "    <tr>\n",
              "      <th>4</th>\n",
              "      <td>&lt;keras.layers.convolutional.Conv2D object at 0...</td>\n",
              "      <td>block2_conv1</td>\n",
              "      <td>False</td>\n",
              "    </tr>\n",
              "    <tr>\n",
              "      <th>5</th>\n",
              "      <td>&lt;keras.layers.convolutional.Conv2D object at 0...</td>\n",
              "      <td>block2_conv2</td>\n",
              "      <td>False</td>\n",
              "    </tr>\n",
              "    <tr>\n",
              "      <th>6</th>\n",
              "      <td>&lt;keras.layers.pooling.MaxPooling2D object at 0...</td>\n",
              "      <td>block2_pool</td>\n",
              "      <td>False</td>\n",
              "    </tr>\n",
              "    <tr>\n",
              "      <th>7</th>\n",
              "      <td>&lt;keras.layers.convolutional.Conv2D object at 0...</td>\n",
              "      <td>block3_conv1</td>\n",
              "      <td>False</td>\n",
              "    </tr>\n",
              "    <tr>\n",
              "      <th>8</th>\n",
              "      <td>&lt;keras.layers.convolutional.Conv2D object at 0...</td>\n",
              "      <td>block3_conv2</td>\n",
              "      <td>False</td>\n",
              "    </tr>\n",
              "    <tr>\n",
              "      <th>9</th>\n",
              "      <td>&lt;keras.layers.convolutional.Conv2D object at 0...</td>\n",
              "      <td>block3_conv3</td>\n",
              "      <td>False</td>\n",
              "    </tr>\n",
              "    <tr>\n",
              "      <th>10</th>\n",
              "      <td>&lt;keras.layers.pooling.MaxPooling2D object at 0...</td>\n",
              "      <td>block3_pool</td>\n",
              "      <td>False</td>\n",
              "    </tr>\n",
              "    <tr>\n",
              "      <th>11</th>\n",
              "      <td>&lt;keras.layers.convolutional.Conv2D object at 0...</td>\n",
              "      <td>block4_conv1</td>\n",
              "      <td>True</td>\n",
              "    </tr>\n",
              "    <tr>\n",
              "      <th>12</th>\n",
              "      <td>&lt;keras.layers.convolutional.Conv2D object at 0...</td>\n",
              "      <td>block4_conv2</td>\n",
              "      <td>True</td>\n",
              "    </tr>\n",
              "    <tr>\n",
              "      <th>13</th>\n",
              "      <td>&lt;keras.layers.convolutional.Conv2D object at 0...</td>\n",
              "      <td>block4_conv3</td>\n",
              "      <td>True</td>\n",
              "    </tr>\n",
              "    <tr>\n",
              "      <th>14</th>\n",
              "      <td>&lt;keras.layers.pooling.MaxPooling2D object at 0...</td>\n",
              "      <td>block4_pool</td>\n",
              "      <td>True</td>\n",
              "    </tr>\n",
              "    <tr>\n",
              "      <th>15</th>\n",
              "      <td>&lt;keras.layers.convolutional.Conv2D object at 0...</td>\n",
              "      <td>block5_conv1</td>\n",
              "      <td>True</td>\n",
              "    </tr>\n",
              "    <tr>\n",
              "      <th>16</th>\n",
              "      <td>&lt;keras.layers.convolutional.Conv2D object at 0...</td>\n",
              "      <td>block5_conv2</td>\n",
              "      <td>True</td>\n",
              "    </tr>\n",
              "    <tr>\n",
              "      <th>17</th>\n",
              "      <td>&lt;keras.layers.convolutional.Conv2D object at 0...</td>\n",
              "      <td>block5_conv3</td>\n",
              "      <td>True</td>\n",
              "    </tr>\n",
              "    <tr>\n",
              "      <th>18</th>\n",
              "      <td>&lt;keras.layers.pooling.MaxPooling2D object at 0...</td>\n",
              "      <td>block5_pool</td>\n",
              "      <td>True</td>\n",
              "    </tr>\n",
              "    <tr>\n",
              "      <th>19</th>\n",
              "      <td>&lt;keras.layers.core.flatten.Flatten object at 0...</td>\n",
              "      <td>flatten_9</td>\n",
              "      <td>True</td>\n",
              "    </tr>\n",
              "  </tbody>\n",
              "</table>\n",
              "</div>\n",
              "      <button class=\"colab-df-convert\" onclick=\"convertToInteractive('df-c61d6af9-dd07-4e1a-8ad9-716ab06e6c31')\"\n",
              "              title=\"Convert this dataframe to an interactive table.\"\n",
              "              style=\"display:none;\">\n",
              "        \n",
              "  <svg xmlns=\"http://www.w3.org/2000/svg\" height=\"24px\"viewBox=\"0 0 24 24\"\n",
              "       width=\"24px\">\n",
              "    <path d=\"M0 0h24v24H0V0z\" fill=\"none\"/>\n",
              "    <path d=\"M18.56 5.44l.94 2.06.94-2.06 2.06-.94-2.06-.94-.94-2.06-.94 2.06-2.06.94zm-11 1L8.5 8.5l.94-2.06 2.06-.94-2.06-.94L8.5 2.5l-.94 2.06-2.06.94zm10 10l.94 2.06.94-2.06 2.06-.94-2.06-.94-.94-2.06-.94 2.06-2.06.94z\"/><path d=\"M17.41 7.96l-1.37-1.37c-.4-.4-.92-.59-1.43-.59-.52 0-1.04.2-1.43.59L10.3 9.45l-7.72 7.72c-.78.78-.78 2.05 0 2.83L4 21.41c.39.39.9.59 1.41.59.51 0 1.02-.2 1.41-.59l7.78-7.78 2.81-2.81c.8-.78.8-2.07 0-2.86zM5.41 20L4 18.59l7.72-7.72 1.47 1.35L5.41 20z\"/>\n",
              "  </svg>\n",
              "      </button>\n",
              "      \n",
              "  <style>\n",
              "    .colab-df-container {\n",
              "      display:flex;\n",
              "      flex-wrap:wrap;\n",
              "      gap: 12px;\n",
              "    }\n",
              "\n",
              "    .colab-df-convert {\n",
              "      background-color: #E8F0FE;\n",
              "      border: none;\n",
              "      border-radius: 50%;\n",
              "      cursor: pointer;\n",
              "      display: none;\n",
              "      fill: #1967D2;\n",
              "      height: 32px;\n",
              "      padding: 0 0 0 0;\n",
              "      width: 32px;\n",
              "    }\n",
              "\n",
              "    .colab-df-convert:hover {\n",
              "      background-color: #E2EBFA;\n",
              "      box-shadow: 0px 1px 2px rgba(60, 64, 67, 0.3), 0px 1px 3px 1px rgba(60, 64, 67, 0.15);\n",
              "      fill: #174EA6;\n",
              "    }\n",
              "\n",
              "    [theme=dark] .colab-df-convert {\n",
              "      background-color: #3B4455;\n",
              "      fill: #D2E3FC;\n",
              "    }\n",
              "\n",
              "    [theme=dark] .colab-df-convert:hover {\n",
              "      background-color: #434B5C;\n",
              "      box-shadow: 0px 1px 3px 1px rgba(0, 0, 0, 0.15);\n",
              "      filter: drop-shadow(0px 1px 2px rgba(0, 0, 0, 0.3));\n",
              "      fill: #FFFFFF;\n",
              "    }\n",
              "  </style>\n",
              "\n",
              "      <script>\n",
              "        const buttonEl =\n",
              "          document.querySelector('#df-c61d6af9-dd07-4e1a-8ad9-716ab06e6c31 button.colab-df-convert');\n",
              "        buttonEl.style.display =\n",
              "          google.colab.kernel.accessAllowed ? 'block' : 'none';\n",
              "\n",
              "        async function convertToInteractive(key) {\n",
              "          const element = document.querySelector('#df-c61d6af9-dd07-4e1a-8ad9-716ab06e6c31');\n",
              "          const dataTable =\n",
              "            await google.colab.kernel.invokeFunction('convertToInteractive',\n",
              "                                                     [key], {});\n",
              "          if (!dataTable) return;\n",
              "\n",
              "          const docLinkHtml = 'Like what you see? Visit the ' +\n",
              "            '<a target=\"_blank\" href=https://colab.research.google.com/notebooks/data_table.ipynb>data table notebook</a>'\n",
              "            + ' to learn more about interactive tables.';\n",
              "          element.innerHTML = '';\n",
              "          dataTable['output_type'] = 'display_data';\n",
              "          await google.colab.output.renderOutput(dataTable, element);\n",
              "          const docLink = document.createElement('div');\n",
              "          docLink.innerHTML = docLinkHtml;\n",
              "          element.appendChild(docLink);\n",
              "        }\n",
              "      </script>\n",
              "    </div>\n",
              "  </div>\n",
              "  "
            ],
            "text/plain": [
              "                                           Layer type Name of layer  Trainable?\n",
              "0   <keras.engine.input_layer.InputLayer object at...       input_1       False\n",
              "1   <keras.layers.convolutional.Conv2D object at 0...  block1_conv1       False\n",
              "2   <keras.layers.convolutional.Conv2D object at 0...  block1_conv2       False\n",
              "3   <keras.layers.pooling.MaxPooling2D object at 0...   block1_pool       False\n",
              "4   <keras.layers.convolutional.Conv2D object at 0...  block2_conv1       False\n",
              "5   <keras.layers.convolutional.Conv2D object at 0...  block2_conv2       False\n",
              "6   <keras.layers.pooling.MaxPooling2D object at 0...   block2_pool       False\n",
              "7   <keras.layers.convolutional.Conv2D object at 0...  block3_conv1       False\n",
              "8   <keras.layers.convolutional.Conv2D object at 0...  block3_conv2       False\n",
              "9   <keras.layers.convolutional.Conv2D object at 0...  block3_conv3       False\n",
              "10  <keras.layers.pooling.MaxPooling2D object at 0...   block3_pool       False\n",
              "11  <keras.layers.convolutional.Conv2D object at 0...  block4_conv1        True\n",
              "12  <keras.layers.convolutional.Conv2D object at 0...  block4_conv2        True\n",
              "13  <keras.layers.convolutional.Conv2D object at 0...  block4_conv3        True\n",
              "14  <keras.layers.pooling.MaxPooling2D object at 0...   block4_pool        True\n",
              "15  <keras.layers.convolutional.Conv2D object at 0...  block5_conv1        True\n",
              "16  <keras.layers.convolutional.Conv2D object at 0...  block5_conv2        True\n",
              "17  <keras.layers.convolutional.Conv2D object at 0...  block5_conv3        True\n",
              "18  <keras.layers.pooling.MaxPooling2D object at 0...   block5_pool        True\n",
              "19  <keras.layers.core.flatten.Flatten object at 0...     flatten_9        True"
            ]
          },
          "metadata": {},
          "execution_count": 43
        }
      ]
    },
    {
      "cell_type": "code",
      "source": [
        "vgg_model.summary()"
      ],
      "metadata": {
        "colab": {
          "base_uri": "https://localhost:8080/"
        },
        "id": "sQBwH7Ca95pH",
        "outputId": "43ef725f-bbca-43cb-c06d-f4dcdd508a99"
      },
      "execution_count": 44,
      "outputs": [
        {
          "output_type": "stream",
          "name": "stdout",
          "text": [
            "Model: \"model\"\n",
            "_________________________________________________________________\n",
            " Layer (type)                Output Shape              Param #   \n",
            "=================================================================\n",
            " input_1 (InputLayer)        [(None, 32, 32, 3)]       0         \n",
            "                                                                 \n",
            " block1_conv1 (Conv2D)       (None, 32, 32, 64)        1792      \n",
            "                                                                 \n",
            " block1_conv2 (Conv2D)       (None, 32, 32, 64)        36928     \n",
            "                                                                 \n",
            " block1_pool (MaxPooling2D)  (None, 16, 16, 64)        0         \n",
            "                                                                 \n",
            " block2_conv1 (Conv2D)       (None, 16, 16, 128)       73856     \n",
            "                                                                 \n",
            " block2_conv2 (Conv2D)       (None, 16, 16, 128)       147584    \n",
            "                                                                 \n",
            " block2_pool (MaxPooling2D)  (None, 8, 8, 128)         0         \n",
            "                                                                 \n",
            " block3_conv1 (Conv2D)       (None, 8, 8, 256)         295168    \n",
            "                                                                 \n",
            " block3_conv2 (Conv2D)       (None, 8, 8, 256)         590080    \n",
            "                                                                 \n",
            " block3_conv3 (Conv2D)       (None, 8, 8, 256)         590080    \n",
            "                                                                 \n",
            " block3_pool (MaxPooling2D)  (None, 4, 4, 256)         0         \n",
            "                                                                 \n",
            " block4_conv1 (Conv2D)       (None, 4, 4, 512)         1180160   \n",
            "                                                                 \n",
            " block4_conv2 (Conv2D)       (None, 4, 4, 512)         2359808   \n",
            "                                                                 \n",
            " block4_conv3 (Conv2D)       (None, 4, 4, 512)         2359808   \n",
            "                                                                 \n",
            " block4_pool (MaxPooling2D)  (None, 2, 2, 512)         0         \n",
            "                                                                 \n",
            " block5_conv1 (Conv2D)       (None, 2, 2, 512)         2359808   \n",
            "                                                                 \n",
            " block5_conv2 (Conv2D)       (None, 2, 2, 512)         2359808   \n",
            "                                                                 \n",
            " block5_conv3 (Conv2D)       (None, 2, 2, 512)         2359808   \n",
            "                                                                 \n",
            " block5_pool (MaxPooling2D)  (None, 1, 1, 512)         0         \n",
            "                                                                 \n",
            " flatten_9 (Flatten)         (None, 512)               0         \n",
            "                                                                 \n",
            "=================================================================\n",
            "Total params: 14,714,688\n",
            "Trainable params: 12,979,200\n",
            "Non-trainable params: 1,735,488\n",
            "_________________________________________________________________\n"
          ]
        }
      ]
    },
    {
      "cell_type": "code",
      "source": [
        "input_shape = vgg_model.output_shape[1]\n",
        "input_shape"
      ],
      "metadata": {
        "colab": {
          "base_uri": "https://localhost:8080/"
        },
        "id": "tpzeA3bS5alP",
        "outputId": "66715b36-4071-4733-d609-7e0615ff281f"
      },
      "execution_count": 45,
      "outputs": [
        {
          "output_type": "execute_result",
          "data": {
            "text/plain": [
              "512"
            ]
          },
          "metadata": {},
          "execution_count": 45
        }
      ]
    },
    {
      "cell_type": "code",
      "source": [
        "# MODEL DEFINITION\n",
        "print(\"DEFINITION\")\n",
        "\n",
        "model = ks.Sequential()\n",
        "\n",
        "# Neural Network Layers\n",
        "model.add(vgg_model)\n",
        "model.add(ks.layers.Dense(4096, activation='relu', input_shape = (input_shape,)))\n",
        "model.add(ks.layers.Dropout(0.25))\n",
        "model.add(ks.layers.Dense(1024, activation='relu'))\n",
        "model.add(ks.layers.Dropout(0.25))\n",
        "model.add(ks.layers.Dense(10, activation='softmax'))\n",
        "\n",
        "# review model\n",
        "model.summary()\n",
        "\n",
        "\n",
        "# COMPILING MODEL\n",
        "print(\"\\nCompiling model...\")\n",
        "model.compile(optimizer='Adam',\n",
        "              loss='sparse_categorical_crossentropy',\n",
        "              metrics=['accuracy'])\n",
        "\n",
        "\n",
        "# TRAINING\n",
        "print(\"\\nTRAINING\")\n",
        "# calculating computational time\n",
        "t = time.perf_counter()\n",
        "# training model\n",
        "history = model.fit(\n",
        "                    x_train, \n",
        "                    y_train, \n",
        "                    epochs = EPOCHS, \n",
        "                    use_multiprocessing = False, \n",
        "                    batch_size = 128, \n",
        "                    validation_data = (x_val, y_val),\n",
        "                    callbacks = [callback_accuracy, callback_loss]\n",
        "          )\n",
        "# show total elapsed time\n",
        "elapsed_time = datetime.timedelta(seconds=(time.perf_counter() - t))\n",
        "print('\\n\\nTraining time:', elapsed_time)\n",
        "\n",
        "\n",
        "# EVALUATION\n",
        "print(\"\\nEVALUATION\")\n",
        "acc = model_evaluation(model, x_test, y_test, history, False, False)"
      ],
      "metadata": {
        "colab": {
          "base_uri": "https://localhost:8080/"
        },
        "id": "9L1Lp2HC4_x-",
        "outputId": "0c04878a-2e0a-4634-a53b-1477b460caf4"
      },
      "execution_count": 46,
      "outputs": [
        {
          "output_type": "stream",
          "name": "stdout",
          "text": [
            "DEFINITION\n",
            "Model: \"sequential_9\"\n",
            "_________________________________________________________________\n",
            " Layer (type)                Output Shape              Param #   \n",
            "=================================================================\n",
            " model (Functional)          (None, 512)               14714688  \n",
            "                                                                 \n",
            " dense_36 (Dense)            (None, 4096)              2101248   \n",
            "                                                                 \n",
            " dropout_18 (Dropout)        (None, 4096)              0         \n",
            "                                                                 \n",
            " dense_37 (Dense)            (None, 1024)              4195328   \n",
            "                                                                 \n",
            " dropout_19 (Dropout)        (None, 1024)              0         \n",
            "                                                                 \n",
            " dense_38 (Dense)            (None, 10)                10250     \n",
            "                                                                 \n",
            "=================================================================\n",
            "Total params: 21,021,514\n",
            "Trainable params: 19,286,026\n",
            "Non-trainable params: 1,735,488\n",
            "_________________________________________________________________\n",
            "\n",
            "Compiling model...\n",
            "\n",
            "TRAINING\n",
            "Epoch 1/100\n",
            "313/313 [==============================] - 11s 29ms/step - loss: 2.3113 - accuracy: 0.0948 - val_loss: 2.3028 - val_accuracy: 0.0952\n",
            "Epoch 2/100\n",
            "313/313 [==============================] - 9s 28ms/step - loss: 2.3027 - accuracy: 0.0976 - val_loss: 2.3027 - val_accuracy: 0.0952\n",
            "Epoch 3/100\n",
            "313/313 [==============================] - 9s 28ms/step - loss: 2.3027 - accuracy: 0.0979 - val_loss: 2.3027 - val_accuracy: 0.0980\n",
            "Epoch 4/100\n",
            "313/313 [==============================] - 8s 27ms/step - loss: 2.3027 - accuracy: 0.0978 - val_loss: 2.3027 - val_accuracy: 0.0980\n",
            "Epoch 5/100\n",
            "313/313 [==============================] - 8s 27ms/step - loss: 2.3027 - accuracy: 0.0974 - val_loss: 2.3027 - val_accuracy: 0.0980\n",
            "Epoch 6/100\n",
            "313/313 [==============================] - 9s 27ms/step - loss: 2.3027 - accuracy: 0.0991 - val_loss: 2.3028 - val_accuracy: 0.0952\n",
            "\n",
            "\n",
            "Training time: 0:00:54.010716\n",
            "\n",
            "EVALUATION\n",
            "Test Accuracy for the model -> 10.0 %\n",
            "\n"
          ]
        }
      ]
    },
    {
      "cell_type": "code",
      "source": [
        "storing_evaluation_results(model_evaluations, 'Using already trained VGG', acc, elapsed_time)"
      ],
      "metadata": {
        "id": "wY59Bv088V-Q"
      },
      "execution_count": 47,
      "outputs": []
    },
    {
      "cell_type": "markdown",
      "metadata": {
        "id": "ZHZ5rEsUfHJu"
      },
      "source": [
        "## 5. Models comparison <a class=\"anchor\" id=\"comparison\"></a>"
      ]
    },
    {
      "cell_type": "code",
      "execution_count": 48,
      "metadata": {
        "id": "M2hKFTKXmNwI"
      },
      "outputs": [],
      "source": [
        "# generating a dataframe with all models and its results\n",
        "df = pd.DataFrame(model_evaluations)\n",
        "\n",
        "# converting training_time timedelta to seconds\n",
        "df['training_time'] = df['training_time'].apply(lambda x: round(x.total_seconds(), 2))\n"
      ]
    },
    {
      "cell_type": "code",
      "source": [
        "df"
      ],
      "metadata": {
        "colab": {
          "base_uri": "https://localhost:8080/",
          "height": 363
        },
        "id": "g8upucca-cfE",
        "outputId": "a6f71d51-a281-4833-a5fd-562c60334221"
      },
      "execution_count": 49,
      "outputs": [
        {
          "output_type": "execute_result",
          "data": {
            "text/html": [
              "\n",
              "  <div id=\"df-a2211f12-cbaa-4048-be26-7963bc92a155\">\n",
              "    <div class=\"colab-df-container\">\n",
              "      <div>\n",
              "<style scoped>\n",
              "    .dataframe tbody tr th:only-of-type {\n",
              "        vertical-align: middle;\n",
              "    }\n",
              "\n",
              "    .dataframe tbody tr th {\n",
              "        vertical-align: top;\n",
              "    }\n",
              "\n",
              "    .dataframe thead th {\n",
              "        text-align: right;\n",
              "    }\n",
              "</style>\n",
              "<table border=\"1\" class=\"dataframe\">\n",
              "  <thead>\n",
              "    <tr style=\"text-align: right;\">\n",
              "      <th></th>\n",
              "      <th>model_name</th>\n",
              "      <th>training_time</th>\n",
              "      <th>accuracy</th>\n",
              "    </tr>\n",
              "  </thead>\n",
              "  <tbody>\n",
              "    <tr>\n",
              "      <th>0</th>\n",
              "      <td>Single Dense Layer</td>\n",
              "      <td>22.12</td>\n",
              "      <td>0.4351</td>\n",
              "    </tr>\n",
              "    <tr>\n",
              "      <th>1</th>\n",
              "      <td>Several Dense Layers</td>\n",
              "      <td>26.71</td>\n",
              "      <td>0.5032</td>\n",
              "    </tr>\n",
              "    <tr>\n",
              "      <th>2</th>\n",
              "      <td>Increasing Batch Size</td>\n",
              "      <td>9.87</td>\n",
              "      <td>0.4848</td>\n",
              "    </tr>\n",
              "    <tr>\n",
              "      <th>3</th>\n",
              "      <td>Adding Dropout Layers</td>\n",
              "      <td>10.69</td>\n",
              "      <td>0.4340</td>\n",
              "    </tr>\n",
              "    <tr>\n",
              "      <th>4</th>\n",
              "      <td>Simple Convolutional Neural Network</td>\n",
              "      <td>14.13</td>\n",
              "      <td>0.6365</td>\n",
              "    </tr>\n",
              "    <tr>\n",
              "      <th>5</th>\n",
              "      <td>Complex Convolutional Neural Network</td>\n",
              "      <td>20.68</td>\n",
              "      <td>0.6963</td>\n",
              "    </tr>\n",
              "    <tr>\n",
              "      <th>6</th>\n",
              "      <td>VGG16-like CNN</td>\n",
              "      <td>35.33</td>\n",
              "      <td>0.7130</td>\n",
              "    </tr>\n",
              "    <tr>\n",
              "      <th>7</th>\n",
              "      <td>Fine tuning Adam Optimizer parameters</td>\n",
              "      <td>30.53</td>\n",
              "      <td>0.7036</td>\n",
              "    </tr>\n",
              "    <tr>\n",
              "      <th>8</th>\n",
              "      <td>CNN using Data Augmentation</td>\n",
              "      <td>104.65</td>\n",
              "      <td>0.1356</td>\n",
              "    </tr>\n",
              "    <tr>\n",
              "      <th>9</th>\n",
              "      <td>Using already trained VGG</td>\n",
              "      <td>54.01</td>\n",
              "      <td>0.1000</td>\n",
              "    </tr>\n",
              "  </tbody>\n",
              "</table>\n",
              "</div>\n",
              "      <button class=\"colab-df-convert\" onclick=\"convertToInteractive('df-a2211f12-cbaa-4048-be26-7963bc92a155')\"\n",
              "              title=\"Convert this dataframe to an interactive table.\"\n",
              "              style=\"display:none;\">\n",
              "        \n",
              "  <svg xmlns=\"http://www.w3.org/2000/svg\" height=\"24px\"viewBox=\"0 0 24 24\"\n",
              "       width=\"24px\">\n",
              "    <path d=\"M0 0h24v24H0V0z\" fill=\"none\"/>\n",
              "    <path d=\"M18.56 5.44l.94 2.06.94-2.06 2.06-.94-2.06-.94-.94-2.06-.94 2.06-2.06.94zm-11 1L8.5 8.5l.94-2.06 2.06-.94-2.06-.94L8.5 2.5l-.94 2.06-2.06.94zm10 10l.94 2.06.94-2.06 2.06-.94-2.06-.94-.94-2.06-.94 2.06-2.06.94z\"/><path d=\"M17.41 7.96l-1.37-1.37c-.4-.4-.92-.59-1.43-.59-.52 0-1.04.2-1.43.59L10.3 9.45l-7.72 7.72c-.78.78-.78 2.05 0 2.83L4 21.41c.39.39.9.59 1.41.59.51 0 1.02-.2 1.41-.59l7.78-7.78 2.81-2.81c.8-.78.8-2.07 0-2.86zM5.41 20L4 18.59l7.72-7.72 1.47 1.35L5.41 20z\"/>\n",
              "  </svg>\n",
              "      </button>\n",
              "      \n",
              "  <style>\n",
              "    .colab-df-container {\n",
              "      display:flex;\n",
              "      flex-wrap:wrap;\n",
              "      gap: 12px;\n",
              "    }\n",
              "\n",
              "    .colab-df-convert {\n",
              "      background-color: #E8F0FE;\n",
              "      border: none;\n",
              "      border-radius: 50%;\n",
              "      cursor: pointer;\n",
              "      display: none;\n",
              "      fill: #1967D2;\n",
              "      height: 32px;\n",
              "      padding: 0 0 0 0;\n",
              "      width: 32px;\n",
              "    }\n",
              "\n",
              "    .colab-df-convert:hover {\n",
              "      background-color: #E2EBFA;\n",
              "      box-shadow: 0px 1px 2px rgba(60, 64, 67, 0.3), 0px 1px 3px 1px rgba(60, 64, 67, 0.15);\n",
              "      fill: #174EA6;\n",
              "    }\n",
              "\n",
              "    [theme=dark] .colab-df-convert {\n",
              "      background-color: #3B4455;\n",
              "      fill: #D2E3FC;\n",
              "    }\n",
              "\n",
              "    [theme=dark] .colab-df-convert:hover {\n",
              "      background-color: #434B5C;\n",
              "      box-shadow: 0px 1px 3px 1px rgba(0, 0, 0, 0.15);\n",
              "      filter: drop-shadow(0px 1px 2px rgba(0, 0, 0, 0.3));\n",
              "      fill: #FFFFFF;\n",
              "    }\n",
              "  </style>\n",
              "\n",
              "      <script>\n",
              "        const buttonEl =\n",
              "          document.querySelector('#df-a2211f12-cbaa-4048-be26-7963bc92a155 button.colab-df-convert');\n",
              "        buttonEl.style.display =\n",
              "          google.colab.kernel.accessAllowed ? 'block' : 'none';\n",
              "\n",
              "        async function convertToInteractive(key) {\n",
              "          const element = document.querySelector('#df-a2211f12-cbaa-4048-be26-7963bc92a155');\n",
              "          const dataTable =\n",
              "            await google.colab.kernel.invokeFunction('convertToInteractive',\n",
              "                                                     [key], {});\n",
              "          if (!dataTable) return;\n",
              "\n",
              "          const docLinkHtml = 'Like what you see? Visit the ' +\n",
              "            '<a target=\"_blank\" href=https://colab.research.google.com/notebooks/data_table.ipynb>data table notebook</a>'\n",
              "            + ' to learn more about interactive tables.';\n",
              "          element.innerHTML = '';\n",
              "          dataTable['output_type'] = 'display_data';\n",
              "          await google.colab.output.renderOutput(dataTable, element);\n",
              "          const docLink = document.createElement('div');\n",
              "          docLink.innerHTML = docLinkHtml;\n",
              "          element.appendChild(docLink);\n",
              "        }\n",
              "      </script>\n",
              "    </div>\n",
              "  </div>\n",
              "  "
            ],
            "text/plain": [
              "                              model_name  training_time  accuracy\n",
              "0                     Single Dense Layer          22.12    0.4351\n",
              "1                   Several Dense Layers          26.71    0.5032\n",
              "2                  Increasing Batch Size           9.87    0.4848\n",
              "3                  Adding Dropout Layers          10.69    0.4340\n",
              "4    Simple Convolutional Neural Network          14.13    0.6365\n",
              "5   Complex Convolutional Neural Network          20.68    0.6963\n",
              "6                         VGG16-like CNN          35.33    0.7130\n",
              "7  Fine tuning Adam Optimizer parameters          30.53    0.7036\n",
              "8            CNN using Data Augmentation         104.65    0.1356\n",
              "9              Using already trained VGG          54.01    0.1000"
            ]
          },
          "metadata": {},
          "execution_count": 49
        }
      ]
    },
    {
      "cell_type": "code",
      "source": [
        "plt.title('Neural Network Accuracy')\n",
        "plt.bar(x = df['model_name'], height = df['accuracy'])\n",
        "plt.axhline(y=ACC_TARGET, color='g', linestyle='-')\n",
        "plt.axhline(y=ACC_TARGET - 0.1, color='r', linestyle='-')\n",
        "plt.xticks(rotation = 90)\n",
        "plt.show()\n",
        "\n",
        "plt.title('Training elapsed time')\n",
        "plt.bar(x = df['model_name'], height = df['training_time'])\n",
        "plt.xticks(rotation = 90)\n",
        "plt.show()"
      ],
      "metadata": {
        "colab": {
          "base_uri": "https://localhost:8080/",
          "height": 927
        },
        "id": "9H_9hDAR-I1U",
        "outputId": "2baf964e-c689-4f15-9f8d-118d06b269c7"
      },
      "execution_count": 53,
      "outputs": [
        {
          "output_type": "display_data",
          "data": {
            "image/png": "[encoded data removed]",
            "text/plain": [
              "<Figure size 432x288 with 1 Axes>"
            ]
          },
          "metadata": {
            "needs_background": "light"
          }
        },
        {
          "output_type": "display_data",
          "data": {
            "image/png": "[encoded data removed]",
            "text/plain": [
              "<Figure size 432x288 with 1 Axes>"
            ]
          },
          "metadata": {
            "needs_background": "light"
          }
        }
      ]
    },
    {
      "cell_type": "code",
      "source": [
        "\"\"\"\n",
        "weight_decay = 1e-4\n",
        "model = Sequential()\n",
        "model.add(Conv2D(32, (3,3), padding='same', kernel_regularizer=regularizers.l2(weight_decay), input_shape=x_train.shape[1:]))\n",
        "model.add(Activation('elu'))\n",
        "model.add(BatchNormalization())\n",
        "model.add(Conv2D(32, (3,3), padding='same', kernel_regularizer=regularizers.l2(weight_decay)))\n",
        "model.add(Activation('elu'))\n",
        "model.add(BatchNormalization())\n",
        "model.add(MaxPooling2D(pool_size=(2,2)))\n",
        "model.add(Dropout(0.2))\n",
        " \n",
        "model.add(Conv2D(64, (3,3), padding='same', kernel_regularizer=regularizers.l2(weight_decay)))\n",
        "model.add(Activation('elu'))\n",
        "model.add(BatchNormalization())\n",
        "model.add(Conv2D(64, (3,3), padding='same', kernel_regularizer=regularizers.l2(weight_decay)))\n",
        "model.add(Activation('elu'))\n",
        "model.add(BatchNormalization())\n",
        "model.add(MaxPooling2D(pool_size=(2,2)))\n",
        "model.add(Dropout(0.3))\n",
        " \n",
        "model.add(Conv2D(128, (3,3), padding='same', kernel_regularizer=regularizers.l2(weight_decay)))\n",
        "model.add(Activation('elu'))\n",
        "model.add(BatchNormalization())\n",
        "model.add(Conv2D(128, (3,3), padding='same', kernel_regularizer=regularizers.l2(weight_decay)))\n",
        "model.add(Activation('elu'))\n",
        "model.add(BatchNormalization())\n",
        "model.add(MaxPooling2D(pool_size=(2,2)))\n",
        "model.add(Dropout(0.4))\n",
        " \n",
        "model.add(Flatten())\n",
        "\"\"\""
      ],
      "metadata": {
        "colab": {
          "base_uri": "https://localhost:8080/",
          "height": 105
        },
        "id": "enOJnlEULUqq",
        "outputId": "f0e557df-f3c9-4059-bf21-c49f36479065"
      },
      "execution_count": 51,
      "outputs": [
        {
          "output_type": "execute_result",
          "data": {
            "application/vnd.google.colaboratory.intrinsic+json": {
              "type": "string"
            },
            "text/plain": [
              "\"\\nweight_decay = 1e-4\\nmodel = Sequential()\\nmodel.add(Conv2D(32, (3,3), padding='same', kernel_regularizer=regularizers.l2(weight_decay), input_shape=x_train.shape[1:]))\\nmodel.add(Activation('elu'))\\nmodel.add(BatchNormalization())\\nmodel.add(Conv2D(32, (3,3), padding='same', kernel_regularizer=regularizers.l2(weight_decay)))\\nmodel.add(Activation('elu'))\\nmodel.add(BatchNormalization())\\nmodel.add(MaxPooling2D(pool_size=(2,2)))\\nmodel.add(Dropout(0.2))\\n \\nmodel.add(Conv2D(64, (3,3), padding='same', kernel_regularizer=regularizers.l2(weight_decay)))\\nmodel.add(Activation('elu'))\\nmodel.add(BatchNormalization())\\nmodel.add(Conv2D(64, (3,3), padding='same', kernel_regularizer=regularizers.l2(weight_decay)))\\nmodel.add(Activation('elu'))\\nmodel.add(BatchNormalization())\\nmodel.add(MaxPooling2D(pool_size=(2,2)))\\nmodel.add(Dropout(0.3))\\n \\nmodel.add(Conv2D(128, (3,3), padding='same', kernel_regularizer=regularizers.l2(weight_decay)))\\nmodel.add(Activation('elu'))\\nmodel.add(BatchNormalization())\\nmodel.add(Conv2D(128, (3,3), padding='same', kernel_regularizer=regularizers.l2(weight_decay)))\\nmodel.add(Activation('elu'))\\nmodel.add(BatchNormalization())\\nmodel.add(MaxPooling2D(pool_size=(2,2)))\\nmodel.add(Dropout(0.4))\\n \\nmodel.add(Flatten())\\n\""
            ]
          },
          "metadata": {},
          "execution_count": 51
        }
      ]
    }
  ],
  "metadata": {
    "accelerator": "GPU",
    "colab": {
      "collapsed_sections": [
        "6f78h3jm6l60"
      ],
      "name": "CNN- Image Classification - CIFAR10 - {Marc_Maycas}.ipynb",
      "provenance": [],
      "machine_shape": "hm"
    },
    "kernelspec": {
      "display_name": "ml_env",
      "language": "python",
      "name": "ml_env"
    },
    "language_info": {
      "codemirror_mode": {
        "name": "ipython",
        "version": 3
      },
      "file_extension": ".py",
      "mimetype": "text/x-python",
      "name": "python",
      "nbconvert_exporter": "python",
      "pygments_lexer": "ipython3",
      "version": "3.7.4"
    }
  },
  "nbformat": 4,
  "nbformat_minor": 0
}