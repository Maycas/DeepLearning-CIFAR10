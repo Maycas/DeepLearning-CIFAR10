{
  "cells": [
    {
      "cell_type": "markdown",
      "metadata": {
        "id": "dWY7kSPW9oJm"
      },
      "source": [
        "![Nuclio logo](https://nuclio.school/wp-content/uploads/2018/12/nucleoDS-newBlack.png)"
      ]
    },
    {
      "cell_type": "markdown",
      "metadata": {
        "id": "vtYbGHwAiZh-"
      },
      "source": [
        "# Deep Learning - Using Neural Networks to classify CIFAR10 Images\n",
        "\n",
        "Can you classify an image from the CIFAR10 image library using a Neural Network?\n",
        "\n",
        "## Table of Contents\n",
        "\n",
        "* [1. Introduction](#introduction)\n",
        "* [2. Importing libraries](#libraries)\n",
        "* [3. Importing and preparing the data](#data)\n",
        "* [4. Neural Network models](#nn_models)\n",
        "    * [4.1. Simplest model](#simplest_model)\n",
        "        * [4.1.1. Model definition](#model_definition)\n",
        "        * [4.1.2. Optimizer, error function](#optimizer_error)\n",
        "        * [4.1.3. Model training](#training)\n",
        "        * [4.1.4. Model evaluation](#evaluation)\n",
        "    * [4.2. Adding more Dense layers](#more_dense_layers)\n",
        "* [5. Models comparison](#comparison)\n"
      ]
    },
    {
      "cell_type": "markdown",
      "metadata": {
        "id": "LhuRAp6JbKeV"
      },
      "source": [
        "## 1. Introduction <a class=\"anchor\" id=\"introduction\"></a>\n",
        "\n",
        "The main goal of this project is to test several Neural Networks configurations in order to do the proper classification of the CIFAR10 image dataset."
      ]
    },
    {
      "cell_type": "markdown",
      "metadata": {
        "id": "e5awq5ZU9oJn"
      },
      "source": [
        "## 2. Importing libraries <a class=\"anchor\" id=\"libraries\"></a>"
      ]
    },
    {
      "cell_type": "code",
      "execution_count": 48,
      "metadata": {
        "id": "6e89W2u_9oJo"
      },
      "outputs": [],
      "source": [
        "# data manipulation libraries\n",
        "import numpy as np\n",
        "import pandas as pd\n",
        "\n",
        "# neural network libraries\n",
        "from tensorflow import keras as ks\n",
        "from tensorflow.keras.callbacks import EarlyStopping\n",
        "from tensorflow.keras.preprocessing.image import ImageDataGenerator\n",
        "from tensorflow.keras.optimizers import Adam\n",
        "\n",
        "# plotting libraries\n",
        "from matplotlib import pyplot as plt\n",
        "\n",
        "# time libraries\n",
        "import time\n",
        "import datetime"
      ]
    },
    {
      "cell_type": "code",
      "execution_count": 2,
      "metadata": {
        "id": "NoGtbCzWgJzy"
      },
      "outputs": [],
      "source": [
        "# constants\n",
        "EPOCHS = 100\n",
        "INPUT_SHAPE = (32, 32, 3)\n",
        "ACC_TARGET = 0.8 # accuracy target we want to at least achieve with our models"
      ]
    },
    {
      "cell_type": "markdown",
      "metadata": {
        "id": "u9zAKyhKcZN-"
      },
      "source": [
        "## 3. Importing and preparing the data <a class=\"anchor\" id=\"data\"></a>"
      ]
    },
    {
      "cell_type": "markdown",
      "metadata": {
        "id": "C7DMbMPWc4oR"
      },
      "source": [
        "CIFAR10 is an existing dataset already available in the Keras library. These are already ready in train and test datasets (we'll need to create the validation dataset later).\n",
        "\n",
        "**Important detail:**\n",
        "> The neural network requires the inputs to be real numbers, and we will do it by forcing the division of the values ​​within the 28x28 matrices (which have values​​ from 0 to 255) by 255.0 (a real)"
      ]
    },
    {
      "cell_type": "code",
      "execution_count": 3,
      "metadata": {
        "id": "OD46dV17dt6U"
      },
      "outputs": [],
      "source": [
        "cifar10 = ks.datasets.cifar10\n",
        "(x_train, y_train), (x_test, y_test) = cifar10.load_data()\n",
        "x_train, x_test = x_train / 255.0, x_test / 255.0"
      ]
    },
    {
      "cell_type": "markdown",
      "metadata": {
        "id": "71MqCgF7eEGc"
      },
      "source": [
        "Let's explore the data to see what we have"
      ]
    },
    {
      "cell_type": "code",
      "execution_count": 4,
      "metadata": {
        "colab": {
          "base_uri": "https://localhost:8080/"
        },
        "id": "ng6qgszVhz5C",
        "outputId": "a57b8265-d848-4e37-8357-4e5741f6e5a1"
      },
      "outputs": [
        {
          "output_type": "stream",
          "name": "stdout",
          "text": [
            "Train: X = (50000, 32, 32, 3), y = (50000, 1)\n",
            "Test: X = (10000, 32, 32, 3), y = (10000, 1)\n"
          ]
        }
      ],
      "source": [
        "print('Train: X = %s, y = %s' % (x_train.shape, y_train.shape))\n",
        "print('Test: X = %s, y = %s' % (x_test.shape, y_test.shape))"
      ]
    },
    {
      "cell_type": "markdown",
      "metadata": {
        "id": "fmMIFvQviF4K"
      },
      "source": [
        "For training, we have 50000 images of 32x32 pixels, split in the color channels (R, G, B). For testing, we only have 1000 images, but, obviously, of the same format as the training dataset.\n",
        "\n",
        "Let's see what are the different categories we have in the dataset."
      ]
    },
    {
      "cell_type": "code",
      "execution_count": 5,
      "metadata": {
        "colab": {
          "base_uri": "https://localhost:8080/"
        },
        "id": "UbUEb0owi_Si",
        "outputId": "91492b40-902c-49ac-913b-c8309f048669"
      },
      "outputs": [
        {
          "output_type": "execute_result",
          "data": {
            "text/plain": [
              "array([0, 1, 2, 3, 4, 5, 6, 7, 8, 9], dtype=uint8)"
            ]
          },
          "metadata": {},
          "execution_count": 5
        }
      ],
      "source": [
        "np.unique(y_train)"
      ]
    },
    {
      "cell_type": "markdown",
      "metadata": {
        "id": "EluUfJNVkHP1"
      },
      "source": [
        "As expected, there are 10 categories that are already encoded into numbers. However, we will generate a label list for future plotting purposes."
      ]
    },
    {
      "cell_type": "code",
      "execution_count": 6,
      "metadata": {
        "colab": {
          "base_uri": "https://localhost:8080/"
        },
        "id": "u4bhmZ9AermK",
        "outputId": "24c1cb58-4bc6-48d5-feee-9b28f70ef80c"
      },
      "outputs": [
        {
          "output_type": "stream",
          "name": "stdout",
          "text": [
            "Number of labels: 10\n"
          ]
        }
      ],
      "source": [
        "cifar10_labels = [\n",
        "'airplane', # id 0\n",
        "'automobile', # id 1\n",
        "'bird', # id 2\n",
        "'cat', # id 3\n",
        "'deer', # id 4\n",
        "'dog', # id 5\n",
        "'frog', # id 6\n",
        "'horse', # id 7\n",
        "'ship', # id 8\n",
        "'truck', # id 9\n",
        "]\n",
        "\n",
        "print('Number of labels: %s' % len(cifar10_labels))"
      ]
    },
    {
      "cell_type": "markdown",
      "metadata": {
        "id": "wnJ_AAsUe58S"
      },
      "source": [
        "Let's show a sample of the images from the CIFAR10 dataset, to see if it looks anything like what we expect.\n",
        "\n",
        "First, we see what types of data we have, then we map those arrays in a grayscale using the **. Get_cmap ()** method of Plotly with the first nine numbers of the dataset."
      ]
    },
    {
      "cell_type": "code",
      "execution_count": 7,
      "metadata": {
        "colab": {
          "base_uri": "https://localhost:8080/",
          "height": 316
        },
        "id": "nutbRgW2fQJD",
        "outputId": "f3e7e886-9bb4-4144-f8de-bc024991eb36"
      },
      "outputs": [
        {
          "output_type": "stream",
          "name": "stdout",
          "text": [
            "Train: X=(50000, 32, 32, 3), y=(50000, 1)\n",
            "Test: X=(10000, 32, 32, 3), y=(10000, 1)\n"
          ]
        },
        {
          "output_type": "display_data",
          "data": {
            "image/png": "[encoded data removed]",
            "text/plain": [
              "<Figure size 432x288 with 9 Axes>"
            ]
          },
          "metadata": {
            "needs_background": "light"
          }
        }
      ],
      "source": [
        "# Let's show a sample of the images of CIFAR10\n",
        "\n",
        "print('Train: X=%s, y=%s' % (x_train.shape, y_train.shape))\n",
        "print('Test: X=%s, y=%s' % (x_test.shape, y_test.shape))\n",
        "\n",
        "for i in range(9):\n",
        "\n",
        "    plt.subplot(330 + 1 + i)\n",
        "    plt.imshow(x_train[i], cmap = plt.get_cmap('gray'))\n",
        "    plt.title(cifar10_labels[y_train[i,0]])\n",
        "\n",
        "plt.subplots_adjust(hspace = 1)\n",
        "plt.show()"
      ]
    },
    {
      "cell_type": "markdown",
      "metadata": {
        "id": "pj5shRnYfM6B"
      },
      "source": [
        "Let's start preparing the datasets for the models we will train. \n",
        "\n",
        "We are we going to validate while we train (very practical). We'll be removing the last 10000 entries in `x_train` for our validation dataset. "
      ]
    },
    {
      "cell_type": "code",
      "execution_count": 8,
      "metadata": {
        "id": "qnNcWFfUfpZw"
      },
      "outputs": [],
      "source": [
        "# generating the validation dataset\n",
        "x_val = x_train[-10000:]\n",
        "y_val = y_train[-10000:]\n",
        "\n",
        "# modifying the training dataset to exclude the validation dataset\n",
        "x_train = x_train[:-10000]\n",
        "y_train = y_train[:-10000]"
      ]
    },
    {
      "cell_type": "markdown",
      "metadata": {
        "id": "vN3z9WfHgUR2"
      },
      "source": [
        "When we add convolution layers, we need to \"pre-treat the data\", because **the convolution expects an array of 4 fields** (more like coloured \"images\"), in the case of MNIST. However, CIFAR10 already has the right shape, so we don't have to do anything, but as we always say: you should better check its size.\n",
        "\n",
        "Therefore, when exiting the Convolution, you always have to do a Flatten, because FullDense layers expect arrays, not matrices !!\n",
        "\n",
        "Let's validate the format."
      ]
    },
    {
      "cell_type": "code",
      "execution_count": 9,
      "metadata": {
        "colab": {
          "base_uri": "https://localhost:8080/"
        },
        "id": "tMu4txbogaC-",
        "outputId": "2a53ba5a-d0bd-4449-d3a5-551f5b4ace52"
      },
      "outputs": [
        {
          "output_type": "stream",
          "name": "stdout",
          "text": [
            "Train: X = (40000, 32, 32, 3), y = (40000, 1)\n",
            "Test: X = (10000, 32, 32, 3), y = (10000, 1)\n",
            "Validation: X = (10000, 32, 32, 3), y = (10000, 1)\n"
          ]
        }
      ],
      "source": [
        "# We validate the result\n",
        "print('Train: X = %s, y = %s' % (x_train.shape, y_train.shape))\n",
        "print('Test: X = %s, y = %s' % (x_test.shape, y_test.shape))\n",
        "print('Validation: X = %s, y = %s' % (x_val.shape, y_val.shape))"
      ]
    },
    {
      "cell_type": "markdown",
      "metadata": {
        "id": "6_dptlpJ9oJp"
      },
      "source": [
        "## 4. Neural Network Models <a class=\"anchor\" id=\"nn_models\"></a>"
      ]
    },
    {
      "cell_type": "markdown",
      "metadata": {
        "id": "VL-BxxMUwKGb"
      },
      "source": [
        "In the following sections, we are going to define and train up to 10 different Neural Network models to see which arquitecture is providing the best accuracy.\n",
        "\n",
        "Nonetheless, before starting with the models let's set a couple of previous tunings that will help us later with the training"
      ]
    },
    {
      "cell_type": "code",
      "execution_count": 10,
      "metadata": {
        "id": "EAyT8T88nkmZ"
      },
      "outputs": [],
      "source": [
        "# defining callbacks for EarlyStopping\n",
        "callback_loss = EarlyStopping(monitor = 'val_loss', patience = 3, restore_best_weights = True)\n",
        "callback_accuracy = EarlyStopping(monitor = 'val_accuracy', patience = 3, restore_best_weights = True)\n",
        "\n",
        "# list to keep the model results for final comparison\n",
        "model_evaluations = []"
      ]
    },
    {
      "cell_type": "markdown",
      "metadata": {
        "id": "cyobCD-Nwq_K"
      },
      "source": [
        "### 4.1. Simplest model <a class=\"anchor\" id=\"simplest_model\"></a>"
      ]
    },
    {
      "cell_type": "markdown",
      "metadata": {
        "id": "8umoQ2-cpnDx"
      },
      "source": [
        "Let's start with the simplest model possible with a single Dense Layer"
      ]
    },
    {
      "cell_type": "markdown",
      "metadata": {
        "id": "lA9xDzw1eZ8M"
      },
      "source": [
        "#### 4.1.1. Model definition <a class=\"anchor\" id=\"model_definition\"></a>\n"
      ]
    },
    {
      "cell_type": "code",
      "execution_count": 11,
      "metadata": {
        "colab": {
          "base_uri": "https://localhost:8080/"
        },
        "id": "JoDemzDV9oJp",
        "outputId": "f46de892-c211-4594-c679-34876afa2902"
      },
      "outputs": [
        {
          "output_type": "stream",
          "name": "stdout",
          "text": [
            "Model: \"sequential\"\n",
            "_________________________________________________________________\n",
            " Layer (type)                Output Shape              Param #   \n",
            "=================================================================\n",
            " flatten (Flatten)           (None, 3072)              0         \n",
            "                                                                 \n",
            " dense (Dense)               (None, 128)               393344    \n",
            "                                                                 \n",
            " dense_1 (Dense)             (None, 10)                1290      \n",
            "                                                                 \n",
            "=================================================================\n",
            "Total params: 394,634\n",
            "Trainable params: 394,634\n",
            "Non-trainable params: 0\n",
            "_________________________________________________________________\n"
          ]
        }
      ],
      "source": [
        "model = ks.Sequential()\n",
        "\n",
        "# Neural Network Layers\n",
        "model.add(ks.layers.Flatten(input_shape = INPUT_SHAPE))\n",
        "model.add(ks.layers.Dense(128, activation='relu'))\n",
        "model.add(ks.layers.Dense(10, activation='softmax'))\n",
        "\n",
        "# review model\n",
        "model.summary()"
      ]
    },
    {
      "cell_type": "markdown",
      "metadata": {
        "id": "Y6bEaf7l9oJq"
      },
      "source": [
        "#### 4.1.2. Optimizer, error function <a class=\"anchor\" id=\"optimizer_error\"></a>\n"
      ]
    },
    {
      "cell_type": "code",
      "execution_count": 12,
      "metadata": {
        "id": "eDfwXObn9oJr"
      },
      "outputs": [],
      "source": [
        "# compiling model\n",
        "model.compile(optimizer='Adam',\n",
        "              loss='sparse_categorical_crossentropy',\n",
        "              metrics=['accuracy'])"
      ]
    },
    {
      "cell_type": "markdown",
      "metadata": {
        "id": "x4CSQVcD9oJu"
      },
      "source": [
        "#### 4.1.3. Training <a class=\"anchor\" id=\"training\"></a>\n",
        "\n",
        "In order to train the model we have setup a global constant of 100 EPOCHS, which we expect to never reach, as we have implemented a callback to stop training once the accuracy or the cross entropy loss doesn't improve that much. Additionally, we are going to keep the best weights to get the most optimal results for the model."
      ]
    },
    {
      "cell_type": "code",
      "execution_count": 13,
      "metadata": {
        "colab": {
          "base_uri": "https://localhost:8080/"
        },
        "id": "ecp-nOVj9oJu",
        "outputId": "3445f11f-7da3-4d4d-dc71-3c726b90cb2b"
      },
      "outputs": [
        {
          "output_type": "stream",
          "name": "stdout",
          "text": [
            "Epoch 1/100\n",
            "313/313 [==============================] - 3s 8ms/step - loss: 1.9568 - accuracy: 0.3000 - val_loss: 1.8233 - val_accuracy: 0.3627\n",
            "Epoch 2/100\n",
            "313/313 [==============================] - 2s 6ms/step - loss: 1.7881 - accuracy: 0.3667 - val_loss: 1.7754 - val_accuracy: 0.3742\n",
            "Epoch 3/100\n",
            "313/313 [==============================] - 2s 5ms/step - loss: 1.7214 - accuracy: 0.3897 - val_loss: 1.7430 - val_accuracy: 0.3798\n",
            "Epoch 4/100\n",
            "313/313 [==============================] - 2s 6ms/step - loss: 1.6743 - accuracy: 0.4064 - val_loss: 1.7495 - val_accuracy: 0.3693\n",
            "Epoch 5/100\n",
            "313/313 [==============================] - 2s 6ms/step - loss: 1.6470 - accuracy: 0.4153 - val_loss: 1.6588 - val_accuracy: 0.4156\n",
            "Epoch 6/100\n",
            "313/313 [==============================] - 2s 7ms/step - loss: 1.6167 - accuracy: 0.4298 - val_loss: 1.6565 - val_accuracy: 0.4145\n",
            "Epoch 7/100\n",
            "313/313 [==============================] - 2s 6ms/step - loss: 1.5992 - accuracy: 0.4352 - val_loss: 1.6307 - val_accuracy: 0.4254\n",
            "Epoch 8/100\n",
            "313/313 [==============================] - 2s 6ms/step - loss: 1.5774 - accuracy: 0.4419 - val_loss: 1.6206 - val_accuracy: 0.4303\n",
            "Epoch 9/100\n",
            "313/313 [==============================] - 2s 5ms/step - loss: 1.5701 - accuracy: 0.4428 - val_loss: 1.6188 - val_accuracy: 0.4295\n",
            "Epoch 10/100\n",
            "313/313 [==============================] - 2s 6ms/step - loss: 1.5453 - accuracy: 0.4524 - val_loss: 1.5892 - val_accuracy: 0.4390\n",
            "Epoch 11/100\n",
            "313/313 [==============================] - 2s 6ms/step - loss: 1.5287 - accuracy: 0.4577 - val_loss: 1.6069 - val_accuracy: 0.4319\n",
            "Epoch 12/100\n",
            "313/313 [==============================] - 1s 5ms/step - loss: 1.5205 - accuracy: 0.4633 - val_loss: 1.6501 - val_accuracy: 0.4202\n",
            "Epoch 13/100\n",
            "313/313 [==============================] - 1s 4ms/step - loss: 1.5178 - accuracy: 0.4621 - val_loss: 1.5778 - val_accuracy: 0.4454\n",
            "Epoch 14/100\n",
            "313/313 [==============================] - 1s 4ms/step - loss: 1.5125 - accuracy: 0.4641 - val_loss: 1.5953 - val_accuracy: 0.4395\n",
            "Epoch 15/100\n",
            "313/313 [==============================] - 1s 3ms/step - loss: 1.5048 - accuracy: 0.4650 - val_loss: 1.6148 - val_accuracy: 0.4305\n",
            "Epoch 16/100\n",
            "313/313 [==============================] - 1s 3ms/step - loss: 1.4972 - accuracy: 0.4664 - val_loss: 1.5901 - val_accuracy: 0.4413\n",
            "\n",
            "Training time: 0:00:28.754596\n"
          ]
        }
      ],
      "source": [
        "# calculating computational time\n",
        "t = time.perf_counter()\n",
        "\n",
        "# training model\n",
        "history = model.fit(\n",
        "                    x_train, \n",
        "                    y_train, \n",
        "                    epochs = EPOCHS, \n",
        "                    use_multiprocessing = False, \n",
        "                    batch_size = 128, \n",
        "                    validation_data = (x_val, y_val),\n",
        "                    callbacks = [callback_accuracy, callback_loss]\n",
        "          )\n",
        "\n",
        "# show total elapsed time\n",
        "elapsed_time = datetime.timedelta(seconds=(time.perf_counter() - t))\n",
        "print('\\nTraining time:', elapsed_time)"
      ]
    },
    {
      "cell_type": "markdown",
      "metadata": {
        "id": "n6Byf3JG9oJu"
      },
      "source": [
        "#### 4.1.4. Evaluation <a class=\"anchor\" id=\"evaluation\"></a>"
      ]
    },
    {
      "cell_type": "markdown",
      "metadata": {
        "id": "wv_HHqewe_I8"
      },
      "source": [
        "Let's obtain a graph of how the entropy and the accuracy evolve in each epoch in the training data and in the validation"
      ]
    },
    {
      "cell_type": "code",
      "execution_count": 14,
      "metadata": {
        "colab": {
          "base_uri": "https://localhost:8080/",
          "height": 545
        },
        "id": "GrH8OFmF9oJv",
        "outputId": "b9bed9a8-7601-4129-d3c5-1f12b87f58bc"
      },
      "outputs": [
        {
          "output_type": "display_data",
          "data": {
            "image/png": "[encoded data removed]",
            "text/plain": [
              "<Figure size 432x288 with 1 Axes>"
            ]
          },
          "metadata": {
            "needs_background": "light"
          }
        },
        {
          "output_type": "display_data",
          "data": {
            "image/png": "[encoded data removed]",
            "text/plain": [
              "<Figure size 432x288 with 1 Axes>"
            ]
          },
          "metadata": {
            "needs_background": "light"
          }
        }
      ],
      "source": [
        "# cross entropy loss plot\n",
        "plt.title('Cross Entropy Loss')\n",
        "plt.plot(history.history['loss'], color='blue', label='train')\n",
        "plt.plot(history.history['val_loss'], color='orange', label='val')\n",
        "plt.legend()\n",
        "plt.show()\n",
        "\n",
        "# accuracy plot\n",
        "plt.title('Classification Accuracy')\n",
        "plt.plot(history.history['accuracy'], color='blue', label='train')\n",
        "plt.plot(history.history['val_accuracy'], color='orange', label='val')\n",
        "plt.legend()\n",
        "plt.show()"
      ]
    },
    {
      "cell_type": "markdown",
      "metadata": {
        "id": "8m1hEUQWuH-s"
      },
      "source": [
        "The callbacks have stopped before EPOCH = 100 as we reached the top accuracy a lot before, and from that training session we got the best parameters parameters. However, we have seen that the validation accuracy looks really bad, so our hopes are not that high fo the test accuracy, but let's check it out."
      ]
    },
    {
      "cell_type": "code",
      "execution_count": 15,
      "metadata": {
        "id": "j9IaZ3-W9oJv",
        "colab": {
          "base_uri": "https://localhost:8080/"
        },
        "outputId": "a9593a5b-d68d-443b-a7bd-e21e0674da0c"
      },
      "outputs": [
        {
          "output_type": "stream",
          "name": "stdout",
          "text": [
            "Test Accuracy for the model -> 45.95 %\n"
          ]
        }
      ],
      "source": [
        "_, acc = model.evaluate(x_test, y_test, verbose=0)\n",
        "print(f'Test Accuracy for the model -> {round((acc * 100.0), 4)} %')"
      ]
    },
    {
      "cell_type": "markdown",
      "metadata": {
        "id": "BT7Xpz409oJv"
      },
      "source": [
        "As expected, the model is really bad. With this accuracy we can say that this is a really bad model that requires an improvement.\n",
        "\n",
        "Let's see what kind of predictions we're getting on the test set (let's paint the images and their classifications)."
      ]
    },
    {
      "cell_type": "code",
      "execution_count": 16,
      "metadata": {
        "id": "G4gqi32X9oJw"
      },
      "outputs": [],
      "source": [
        "predictions = model.predict(x_test)"
      ]
    },
    {
      "cell_type": "code",
      "execution_count": 17,
      "metadata": {
        "id": "P02wctIA9oJw"
      },
      "outputs": [],
      "source": [
        "# plotting helper functions\n",
        "def plot_image(i, predictions_array, true_label, img):\n",
        "    predictions_array, true_label, img = predictions_array, true_label[i], img[i]\n",
        "    plt.grid(False)\n",
        "    plt.xticks([])\n",
        "    plt.yticks([])\n",
        "\n",
        "    plt.imshow(img, cmap=plt.cm.binary)\n",
        "\n",
        "    predicted_label = np.argmax(predictions_array)\n",
        "    if predicted_label == true_label:\n",
        "        color = 'blue'\n",
        "    else:\n",
        "        color = 'red'\n",
        "\n",
        "    plt.xlabel(\"{} {:2.0f}% ({})\".format(predicted_label,\n",
        "                                100*np.max(predictions_array),\n",
        "                                true_label[0]),\n",
        "                                color=color)\n",
        "\n",
        "def plot_value_array(i, predictions_array, true_label):\n",
        "    predictions_array, true_label = predictions_array, true_label[i]\n",
        "    plt.grid(False)\n",
        "    plt.xticks(range(10))\n",
        "    plt.yticks([])\n",
        "    thisplot = plt.bar(range(10), predictions_array, color=\"#777777\")\n",
        "    plt.ylim([0, 1])\n",
        "    predicted_label = np.argmax(predictions_array)\n",
        "\n",
        "    thisplot[predicted_label].set_color('red')\n",
        "    thisplot[true_label[0]].set_color('blue')\n",
        "\n",
        "def plot_cifar_results(predictions, x_test, y_test, num_rows = 5, num_cols = 4):\n",
        "    i = 0\n",
        "    for l in cifar10_labels:\n",
        "        print(i, l)\n",
        "        i += 1\n",
        "\n",
        "    num_images = num_rows * num_cols\n",
        "    start = np.random.randint(1000 - num_images)\n",
        "    plt.figure(figsize = (2 * 2 * num_cols, 2 * num_rows))\n",
        "    for i in range(num_images):\n",
        "        plt.subplot(num_rows, 2 * num_cols, 2 * i +1)\n",
        "        plot_image(i + start, predictions[i + start], y_test, x_test)\n",
        "        plt.subplot(num_rows, 2 * num_cols, 2 * i + 2)\n",
        "        plot_value_array(i + start, predictions[i + start], y_test)\n",
        "    plt.tight_layout()\n",
        "    plt.show()"
      ]
    },
    {
      "cell_type": "markdown",
      "metadata": {
        "id": "pReYC9POMGzh"
      },
      "source": [
        "We draw the first images, with the predictions and their real values ​​(a total of 20 images, so as not to abuse your laptops)\n",
        "\n",
        "We color the correct predictions in blue and the failures in red. Although I have printed the labels first so that we have a reference to the graphic."
      ]
    },
    {
      "cell_type": "code",
      "execution_count": 18,
      "metadata": {
        "colab": {
          "base_uri": "https://localhost:8080/",
          "height": 903
        },
        "id": "RdDRgwmF1dCP",
        "outputId": "732c82fc-3360-4d62-f8ac-6baa9f7b5f47"
      },
      "outputs": [
        {
          "output_type": "stream",
          "name": "stdout",
          "text": [
            "0 airplane\n",
            "1 automobile\n",
            "2 bird\n",
            "3 cat\n",
            "4 deer\n",
            "5 dog\n",
            "6 frog\n",
            "7 horse\n",
            "8 ship\n",
            "9 truck\n"
          ]
        },
        {
          "output_type": "display_data",
          "data": {
            "image/png": "[encoded data removed]",
            "text/plain": [
              "<Figure size 1152x720 with 40 Axes>"
            ]
          },
          "metadata": {
            "needs_background": "light"
          }
        }
      ],
      "source": [
        "plot_cifar_results(predictions, x_test, y_test)"
      ]
    },
    {
      "cell_type": "markdown",
      "metadata": {
        "id": "vZfe34uxMSgs"
      },
      "source": [
        "Let's see if we can build up the previous model to improve the accuracy, but before that, let's store the accuracy of this model so we can compare it at the end with all the other models."
      ]
    },
    {
      "cell_type": "code",
      "execution_count": 19,
      "metadata": {
        "id": "XSJCkokFNM-4"
      },
      "outputs": [],
      "source": [
        "# keeping accuracies for a final analysis\n",
        "model_evaluations.append(\n",
        "    {\n",
        "        'model_name': \"Single Dense Layer\",\n",
        "        'training_time': elapsed_time,\n",
        "        'accuracy': acc\n",
        "    }\n",
        ")"
      ]
    },
    {
      "cell_type": "markdown",
      "metadata": {
        "id": "MAmeAwEiP9jB"
      },
      "source": [
        "### 4.2. Adding more Dense layers <a class=\"anchor\" id=\"more_dense_layers\"></a>"
      ]
    },
    {
      "cell_type": "markdown",
      "metadata": {
        "id": "sQdTUdNURg18"
      },
      "source": [
        "Before defining the model we will create some additional functions to avoid code repetition and possible errors. The idea is to prepare as much of a pipeline as possible so we can analyse results more easily."
      ]
    },
    {
      "cell_type": "code",
      "execution_count": 20,
      "metadata": {
        "id": "SGbXu-d0l-2B"
      },
      "outputs": [],
      "source": [
        "def model_evaluation(model, x_test, y_test, history, plot_graphs = True, plot_images = True):\n",
        "    if plot_graphs:\n",
        "        # cross entropy loss plot\n",
        "        plt.title('Cross Entropy Loss')\n",
        "        plt.plot(history.history['loss'], color='blue', label='train')\n",
        "        plt.plot(history.history['val_loss'], color='orange', label='val')\n",
        "        plt.legend()\n",
        "        plt.show()\n",
        "\n",
        "        # accuracy plot\n",
        "        plt.title('Classification Accuracy')\n",
        "        plt.plot(history.history['accuracy'], color='blue', label='train')\n",
        "        plt.plot(history.history['val_accuracy'], color='orange', label='val')\n",
        "        plt.legend()\n",
        "        plt.show()\n",
        "\n",
        "    # accuracy evaluation\n",
        "    _, acc = model.evaluate(x_test, y_test, verbose=0)\n",
        "    print(f'Test Accuracy for the model -> {round((acc * 100.0), 4)} %')\n",
        "\n",
        "    predictions = model.predict(x_test)\n",
        "\n",
        "    if plot_images:\n",
        "        plot_cifar_results(predictions, x_test, y_test)\n",
        "    \n",
        "    return acc\n",
        "\n",
        "def storing_evaluation_results(model_list, model_name, accuracy, training_time):\n",
        "    model_list.append(\n",
        "        {\n",
        "          'model_name': model_name,\n",
        "          'training_time': training_time,\n",
        "          'accuracy': accuracy\n",
        "        }\n",
        "    )"
      ]
    },
    {
      "cell_type": "markdown",
      "metadata": {
        "id": "TYJwVGc1tQcg"
      },
      "source": [
        "From the previous model, we have seen that with just one fully Dense layer is not enough for the model to work properly, in this case, we will be adding more Dense Layers to see if the result improves."
      ]
    },
    {
      "cell_type": "code",
      "execution_count": 21,
      "metadata": {
        "colab": {
          "base_uri": "https://localhost:8080/"
        },
        "id": "Je-5r55WSP47",
        "outputId": "b25d3819-4e95-4f99-87f2-5ed0656dedcd"
      },
      "outputs": [
        {
          "output_type": "stream",
          "name": "stdout",
          "text": [
            "DEFINITION\n",
            "Model: \"sequential_1\"\n",
            "_________________________________________________________________\n",
            " Layer (type)                Output Shape              Param #   \n",
            "=================================================================\n",
            " flatten_1 (Flatten)         (None, 3072)              0         \n",
            "                                                                 \n",
            " dense_2 (Dense)             (None, 512)               1573376   \n",
            "                                                                 \n",
            " dense_3 (Dense)             (None, 256)               131328    \n",
            "                                                                 \n",
            " dense_4 (Dense)             (None, 128)               32896     \n",
            "                                                                 \n",
            " dense_5 (Dense)             (None, 64)                8256      \n",
            "                                                                 \n",
            " dense_6 (Dense)             (None, 10)                650       \n",
            "                                                                 \n",
            "=================================================================\n",
            "Total params: 1,746,506\n",
            "Trainable params: 1,746,506\n",
            "Non-trainable params: 0\n",
            "_________________________________________________________________\n",
            "\n",
            "Compiling model...\n",
            "\n",
            "TRAINING\n",
            "Epoch 1/100\n",
            "313/313 [==============================] - 2s 5ms/step - loss: 1.9387 - accuracy: 0.2896 - val_loss: 1.8050 - val_accuracy: 0.3543\n",
            "Epoch 2/100\n",
            "313/313 [==============================] - 1s 4ms/step - loss: 1.7353 - accuracy: 0.3737 - val_loss: 1.6797 - val_accuracy: 0.4026\n",
            "Epoch 3/100\n",
            "313/313 [==============================] - 1s 4ms/step - loss: 1.6396 - accuracy: 0.4101 - val_loss: 1.6513 - val_accuracy: 0.4018\n",
            "Epoch 4/100\n",
            "313/313 [==============================] - 1s 4ms/step - loss: 1.5807 - accuracy: 0.4346 - val_loss: 1.6953 - val_accuracy: 0.3885\n",
            "Epoch 5/100\n",
            "313/313 [==============================] - 1s 4ms/step - loss: 1.5310 - accuracy: 0.4509 - val_loss: 1.5904 - val_accuracy: 0.4300\n",
            "Epoch 6/100\n",
            "313/313 [==============================] - 1s 4ms/step - loss: 1.4955 - accuracy: 0.4637 - val_loss: 1.5191 - val_accuracy: 0.4714\n",
            "Epoch 7/100\n",
            "313/313 [==============================] - 1s 4ms/step - loss: 1.4597 - accuracy: 0.4790 - val_loss: 1.5455 - val_accuracy: 0.4529\n",
            "Epoch 8/100\n",
            "313/313 [==============================] - 1s 4ms/step - loss: 1.4301 - accuracy: 0.4882 - val_loss: 1.4985 - val_accuracy: 0.4674\n",
            "Epoch 9/100\n",
            "313/313 [==============================] - 1s 4ms/step - loss: 1.4052 - accuracy: 0.4960 - val_loss: 1.4776 - val_accuracy: 0.4789\n",
            "Epoch 10/100\n",
            "313/313 [==============================] - 1s 4ms/step - loss: 1.3827 - accuracy: 0.5095 - val_loss: 1.5068 - val_accuracy: 0.4649\n",
            "Epoch 11/100\n",
            "313/313 [==============================] - 1s 4ms/step - loss: 1.3527 - accuracy: 0.5174 - val_loss: 1.4700 - val_accuracy: 0.4831\n",
            "Epoch 12/100\n",
            "313/313 [==============================] - 1s 4ms/step - loss: 1.3242 - accuracy: 0.5246 - val_loss: 1.4671 - val_accuracy: 0.4893\n",
            "Epoch 13/100\n",
            "313/313 [==============================] - 1s 4ms/step - loss: 1.3034 - accuracy: 0.5351 - val_loss: 1.4399 - val_accuracy: 0.4937\n",
            "Epoch 14/100\n",
            "313/313 [==============================] - 1s 4ms/step - loss: 1.2880 - accuracy: 0.5376 - val_loss: 1.4680 - val_accuracy: 0.4813\n",
            "Epoch 15/100\n",
            "313/313 [==============================] - 1s 4ms/step - loss: 1.2623 - accuracy: 0.5490 - val_loss: 1.4443 - val_accuracy: 0.4964\n",
            "Epoch 16/100\n",
            "313/313 [==============================] - 1s 4ms/step - loss: 1.2408 - accuracy: 0.5551 - val_loss: 1.4792 - val_accuracy: 0.4850\n",
            "\n",
            "\n",
            "Training time: 0:00:20.949671\n",
            "\n",
            "EVALUATION\n",
            "Test Accuracy for the model -> 50.1 %\n"
          ]
        }
      ],
      "source": [
        "# MODEL DEFINITION\n",
        "print(\"DEFINITION\")\n",
        "\n",
        "model = ks.Sequential()\n",
        "\n",
        "# Neural Network Layers\n",
        "model.add(ks.layers.Flatten(input_shape = INPUT_SHAPE))\n",
        "model.add(ks.layers.Dense(512, activation='relu'))\n",
        "model.add(ks.layers.Dense(256, activation='relu'))\n",
        "model.add(ks.layers.Dense(128, activation='relu'))\n",
        "model.add(ks.layers.Dense(64, activation='relu'))\n",
        "model.add(ks.layers.Dense(10, activation='softmax'))\n",
        "\n",
        "# review model\n",
        "model.summary()\n",
        "\n",
        "\n",
        "# COMPILING MODEL\n",
        "print(\"\\nCompiling model...\")\n",
        "model.compile(optimizer='Adam',\n",
        "              loss='sparse_categorical_crossentropy',\n",
        "              metrics=['accuracy'])\n",
        "\n",
        "\n",
        "# TRAINING\n",
        "print(\"\\nTRAINING\")\n",
        "# calculating computational time\n",
        "t = time.perf_counter()\n",
        "# training model\n",
        "history = model.fit(\n",
        "                    x_train, \n",
        "                    y_train, \n",
        "                    epochs = EPOCHS, \n",
        "                    use_multiprocessing = False, \n",
        "                    batch_size = 128, \n",
        "                    validation_data = (x_val, y_val),\n",
        "                    callbacks = [callback_accuracy, callback_loss]\n",
        "          )\n",
        "# show total elapsed time\n",
        "elapsed_time = datetime.timedelta(seconds=(time.perf_counter() - t))\n",
        "print('\\n\\nTraining time:', elapsed_time)\n",
        "\n",
        "\n",
        "# EVALUATION\n",
        "print(\"\\nEVALUATION\")\n",
        "acc = model_evaluation(model, x_test, y_test, history, False, False)"
      ]
    },
    {
      "cell_type": "code",
      "execution_count": 22,
      "metadata": {
        "id": "Rxg4N2ipoUDp"
      },
      "outputs": [],
      "source": [
        "# STORING RESULTS\n",
        "\n",
        "# keeping accuracies for a final analysis\n",
        "storing_evaluation_results(model_evaluations, 'Several Dense Layers', acc, elapsed_time)"
      ]
    },
    {
      "cell_type": "markdown",
      "metadata": {
        "id": "qjnxdz8z7arp"
      },
      "source": [
        "### 4.3. Do batch sizes matter? <a class=\"anchor\" id=\"batch_sizes\"></a>"
      ]
    },
    {
      "cell_type": "markdown",
      "metadata": {
        "id": "ht8EXjUt7mmr"
      },
      "source": [
        "Let's explore if the batch sizes of data can help us improve the training of our model or not. We will increase batch_size to 512, instead of 128."
      ]
    },
    {
      "cell_type": "code",
      "execution_count": 23,
      "metadata": {
        "colab": {
          "base_uri": "https://localhost:8080/"
        },
        "id": "N3qvIBMP7vMW",
        "outputId": "b0645959-57fa-49bb-d813-1f032c6c2695"
      },
      "outputs": [
        {
          "output_type": "stream",
          "name": "stdout",
          "text": [
            "DEFINITION\n",
            "Model: \"sequential_2\"\n",
            "_________________________________________________________________\n",
            " Layer (type)                Output Shape              Param #   \n",
            "=================================================================\n",
            " flatten_2 (Flatten)         (None, 3072)              0         \n",
            "                                                                 \n",
            " dense_7 (Dense)             (None, 512)               1573376   \n",
            "                                                                 \n",
            " dense_8 (Dense)             (None, 256)               131328    \n",
            "                                                                 \n",
            " dense_9 (Dense)             (None, 128)               32896     \n",
            "                                                                 \n",
            " dense_10 (Dense)            (None, 64)                8256      \n",
            "                                                                 \n",
            " dense_11 (Dense)            (None, 10)                650       \n",
            "                                                                 \n",
            "=================================================================\n",
            "Total params: 1,746,506\n",
            "Trainable params: 1,746,506\n",
            "Non-trainable params: 0\n",
            "_________________________________________________________________\n",
            "\n",
            "Compiling model...\n",
            "\n",
            "TRAINING\n",
            "Epoch 1/100\n",
            "79/79 [==============================] - 1s 10ms/step - loss: 2.0251 - accuracy: 0.2593 - val_loss: 1.9051 - val_accuracy: 0.3146\n",
            "Epoch 2/100\n",
            "79/79 [==============================] - 1s 7ms/step - loss: 1.8076 - accuracy: 0.3514 - val_loss: 1.8168 - val_accuracy: 0.3416\n",
            "Epoch 3/100\n",
            "79/79 [==============================] - 1s 7ms/step - loss: 1.7118 - accuracy: 0.3900 - val_loss: 1.7516 - val_accuracy: 0.3816\n",
            "Epoch 4/100\n",
            "79/79 [==============================] - 1s 6ms/step - loss: 1.6359 - accuracy: 0.4167 - val_loss: 1.6682 - val_accuracy: 0.4095\n",
            "Epoch 5/100\n",
            "79/79 [==============================] - 1s 7ms/step - loss: 1.5713 - accuracy: 0.4376 - val_loss: 1.6069 - val_accuracy: 0.4256\n",
            "Epoch 6/100\n",
            "79/79 [==============================] - 1s 6ms/step - loss: 1.5454 - accuracy: 0.4504 - val_loss: 1.5554 - val_accuracy: 0.4494\n",
            "Epoch 7/100\n",
            "79/79 [==============================] - 1s 7ms/step - loss: 1.5005 - accuracy: 0.4647 - val_loss: 1.5240 - val_accuracy: 0.4637\n",
            "Epoch 8/100\n",
            "79/79 [==============================] - 1s 6ms/step - loss: 1.4766 - accuracy: 0.4747 - val_loss: 1.5278 - val_accuracy: 0.4604\n",
            "Epoch 9/100\n",
            "79/79 [==============================] - 1s 6ms/step - loss: 1.4487 - accuracy: 0.4818 - val_loss: 1.6001 - val_accuracy: 0.4386\n",
            "Epoch 10/100\n",
            "79/79 [==============================] - 1s 6ms/step - loss: 1.4208 - accuracy: 0.4929 - val_loss: 1.5298 - val_accuracy: 0.4585\n",
            "\n",
            "\n",
            "Training time: 0:00:06.623133\n",
            "\n",
            "EVALUATION\n",
            "Test Accuracy for the model -> 46.81 %\n"
          ]
        }
      ],
      "source": [
        "# MODEL DEFINITION\n",
        "print(\"DEFINITION\")\n",
        "\n",
        "model = ks.Sequential()\n",
        "\n",
        "# Neural Network Layers\n",
        "model.add(ks.layers.Flatten(input_shape = INPUT_SHAPE))\n",
        "model.add(ks.layers.Dense(512, activation='relu'))\n",
        "model.add(ks.layers.Dense(256, activation='relu'))\n",
        "model.add(ks.layers.Dense(128, activation='relu'))\n",
        "model.add(ks.layers.Dense(64, activation='relu'))\n",
        "model.add(ks.layers.Dense(10, activation='softmax'))\n",
        "\n",
        "# review model\n",
        "model.summary()\n",
        "\n",
        "\n",
        "# COMPILING MODEL\n",
        "print(\"\\nCompiling model...\")\n",
        "model.compile(optimizer='Adam',\n",
        "              loss='sparse_categorical_crossentropy',\n",
        "              metrics=['accuracy'])\n",
        "\n",
        "\n",
        "# TRAINING\n",
        "print(\"\\nTRAINING\")\n",
        "# calculating computational time\n",
        "t = time.perf_counter()\n",
        "# training model\n",
        "history = model.fit(\n",
        "                    x_train, \n",
        "                    y_train, \n",
        "                    epochs = EPOCHS, \n",
        "                    use_multiprocessing = False, \n",
        "                    batch_size = 512, \n",
        "                    validation_data = (x_val, y_val),\n",
        "                    callbacks = [callback_accuracy, callback_loss]\n",
        "          )\n",
        "# show total elapsed time\n",
        "elapsed_time = datetime.timedelta(seconds=(time.perf_counter() - t))\n",
        "print('\\n\\nTraining time:', elapsed_time)\n",
        "\n",
        "\n",
        "# EVALUATION\n",
        "print(\"\\nEVALUATION\")\n",
        "acc = model_evaluation(model, x_test, y_test, history, False, False)"
      ]
    },
    {
      "cell_type": "code",
      "execution_count": 24,
      "metadata": {
        "id": "pL21gu-Y8FFC"
      },
      "outputs": [],
      "source": [
        "storing_evaluation_results(model_evaluations, 'Increasing Batch Size', acc, elapsed_time)"
      ]
    },
    {
      "cell_type": "markdown",
      "metadata": {
        "id": "6f78h3jm6l60"
      },
      "source": [
        "### 4.4. Exploring the effects of adding Dropout <a class=\"anchor\" id=\"dropout\"></a>\n"
      ]
    },
    {
      "cell_type": "markdown",
      "metadata": {
        "id": "7lJ74-mP6vVo"
      },
      "source": [
        "Dropout is referred to the effect of randomly removing nodes in a neural network and it is a technique to avoid overfitting. This makes sense to do in the Dense or fully connected layers. \n",
        "\n",
        "Let's see if that improves the results."
      ]
    },
    {
      "cell_type": "code",
      "execution_count": 25,
      "metadata": {
        "id": "9iMfFpsi6vww",
        "colab": {
          "base_uri": "https://localhost:8080/"
        },
        "outputId": "0427d078-5540-4840-f596-c2d1aa131b4c"
      },
      "outputs": [
        {
          "output_type": "stream",
          "name": "stdout",
          "text": [
            "DEFINITION\n",
            "Model: \"sequential_3\"\n",
            "_________________________________________________________________\n",
            " Layer (type)                Output Shape              Param #   \n",
            "=================================================================\n",
            " flatten_3 (Flatten)         (None, 3072)              0         \n",
            "                                                                 \n",
            " dense_12 (Dense)            (None, 512)               1573376   \n",
            "                                                                 \n",
            " dropout (Dropout)           (None, 512)               0         \n",
            "                                                                 \n",
            " dense_13 (Dense)            (None, 256)               131328    \n",
            "                                                                 \n",
            " dropout_1 (Dropout)         (None, 256)               0         \n",
            "                                                                 \n",
            " dense_14 (Dense)            (None, 128)               32896     \n",
            "                                                                 \n",
            " dropout_2 (Dropout)         (None, 128)               0         \n",
            "                                                                 \n",
            " dense_15 (Dense)            (None, 64)                8256      \n",
            "                                                                 \n",
            " dropout_3 (Dropout)         (None, 64)                0         \n",
            "                                                                 \n",
            " dense_16 (Dense)            (None, 10)                650       \n",
            "                                                                 \n",
            "=================================================================\n",
            "Total params: 1,746,506\n",
            "Trainable params: 1,746,506\n",
            "Non-trainable params: 0\n",
            "_________________________________________________________________\n",
            "\n",
            "Compiling model...\n",
            "\n",
            "TRAINING\n",
            "Epoch 1/100\n",
            "40/40 [==============================] - 1s 25ms/step - loss: 2.2757 - accuracy: 0.1363 - val_loss: 2.1183 - val_accuracy: 0.2239\n",
            "Epoch 2/100\n",
            "40/40 [==============================] - 0s 11ms/step - loss: 2.0833 - accuracy: 0.2155 - val_loss: 1.9805 - val_accuracy: 0.2848\n",
            "Epoch 3/100\n",
            "40/40 [==============================] - 0s 11ms/step - loss: 1.9816 - accuracy: 0.2684 - val_loss: 1.9227 - val_accuracy: 0.3055\n",
            "Epoch 4/100\n",
            "40/40 [==============================] - 0s 11ms/step - loss: 1.9251 - accuracy: 0.2957 - val_loss: 1.8322 - val_accuracy: 0.3464\n",
            "Epoch 5/100\n",
            "40/40 [==============================] - 0s 12ms/step - loss: 1.8733 - accuracy: 0.3204 - val_loss: 1.8065 - val_accuracy: 0.3513\n",
            "Epoch 6/100\n",
            "40/40 [==============================] - 0s 11ms/step - loss: 1.8574 - accuracy: 0.3251 - val_loss: 1.7989 - val_accuracy: 0.3585\n",
            "Epoch 7/100\n",
            "40/40 [==============================] - 0s 11ms/step - loss: 1.8327 - accuracy: 0.3387 - val_loss: 1.7789 - val_accuracy: 0.3655\n",
            "Epoch 8/100\n",
            "40/40 [==============================] - 0s 12ms/step - loss: 1.8001 - accuracy: 0.3496 - val_loss: 1.7462 - val_accuracy: 0.3680\n",
            "Epoch 9/100\n",
            "40/40 [==============================] - 0s 11ms/step - loss: 1.7929 - accuracy: 0.3519 - val_loss: 1.7433 - val_accuracy: 0.3659\n",
            "Epoch 10/100\n",
            "40/40 [==============================] - 0s 12ms/step - loss: 1.7788 - accuracy: 0.3600 - val_loss: 1.7096 - val_accuracy: 0.3975\n",
            "Epoch 11/100\n",
            "40/40 [==============================] - 0s 11ms/step - loss: 1.7606 - accuracy: 0.3662 - val_loss: 1.6809 - val_accuracy: 0.3987\n",
            "Epoch 12/100\n",
            "40/40 [==============================] - 0s 12ms/step - loss: 1.7405 - accuracy: 0.3757 - val_loss: 1.6574 - val_accuracy: 0.4107\n",
            "Epoch 13/100\n",
            "40/40 [==============================] - 0s 11ms/step - loss: 1.7307 - accuracy: 0.3798 - val_loss: 1.6497 - val_accuracy: 0.4095\n",
            "Epoch 14/100\n",
            "40/40 [==============================] - 0s 11ms/step - loss: 1.7103 - accuracy: 0.3889 - val_loss: 1.6555 - val_accuracy: 0.4061\n",
            "Epoch 15/100\n",
            "40/40 [==============================] - 0s 11ms/step - loss: 1.7078 - accuracy: 0.3868 - val_loss: 1.6384 - val_accuracy: 0.4231\n",
            "Epoch 16/100\n",
            "40/40 [==============================] - 0s 11ms/step - loss: 1.6971 - accuracy: 0.3938 - val_loss: 1.6489 - val_accuracy: 0.4183\n",
            "Epoch 17/100\n",
            "40/40 [==============================] - 0s 11ms/step - loss: 1.6814 - accuracy: 0.3993 - val_loss: 1.6294 - val_accuracy: 0.4239\n",
            "Epoch 18/100\n",
            "40/40 [==============================] - 1s 13ms/step - loss: 1.6787 - accuracy: 0.3980 - val_loss: 1.6239 - val_accuracy: 0.4237\n",
            "Epoch 19/100\n",
            "40/40 [==============================] - 0s 11ms/step - loss: 1.6876 - accuracy: 0.3957 - val_loss: 1.6276 - val_accuracy: 0.4207\n",
            "Epoch 20/100\n",
            "40/40 [==============================] - 0s 11ms/step - loss: 1.6769 - accuracy: 0.3992 - val_loss: 1.6117 - val_accuracy: 0.4280\n",
            "Epoch 21/100\n",
            "40/40 [==============================] - 0s 12ms/step - loss: 1.6644 - accuracy: 0.4035 - val_loss: 1.6006 - val_accuracy: 0.4314\n",
            "Epoch 22/100\n",
            "40/40 [==============================] - 0s 11ms/step - loss: 1.6688 - accuracy: 0.4029 - val_loss: 1.6014 - val_accuracy: 0.4302\n",
            "Epoch 23/100\n",
            "40/40 [==============================] - 0s 12ms/step - loss: 1.6505 - accuracy: 0.4056 - val_loss: 1.5804 - val_accuracy: 0.4428\n",
            "Epoch 24/100\n",
            "40/40 [==============================] - 0s 11ms/step - loss: 1.6455 - accuracy: 0.4115 - val_loss: 1.5931 - val_accuracy: 0.4287\n",
            "Epoch 25/100\n",
            "40/40 [==============================] - 0s 11ms/step - loss: 1.6591 - accuracy: 0.4034 - val_loss: 1.6182 - val_accuracy: 0.4173\n",
            "Epoch 26/100\n",
            "40/40 [==============================] - 0s 11ms/step - loss: 1.6465 - accuracy: 0.4078 - val_loss: 1.6236 - val_accuracy: 0.4320\n",
            "\n",
            "\n",
            "Training time: 0:00:13.551103\n",
            "\n",
            "EVALUATION\n",
            "Test Accuracy for the model -> 44.65 %\n"
          ]
        }
      ],
      "source": [
        "# MODEL DEFINITION\n",
        "print(\"DEFINITION\")\n",
        "\n",
        "model = ks.Sequential()\n",
        "\n",
        "# Neural Network Layers\n",
        "model.add(ks.layers.Flatten(input_shape = INPUT_SHAPE))\n",
        "model.add(ks.layers.Dense(512, activation='relu'))\n",
        "model.add(ks.layers.Dropout(0.25))\n",
        "model.add(ks.layers.Dense(256, activation='relu'))\n",
        "model.add(ks.layers.Dropout(0.25))\n",
        "model.add(ks.layers.Dense(128, activation='relu'))\n",
        "model.add(ks.layers.Dropout(0.25))\n",
        "model.add(ks.layers.Dense(64, activation='relu'))\n",
        "model.add(ks.layers.Dropout(0.25))\n",
        "model.add(ks.layers.Dense(10, activation='softmax'))\n",
        "\n",
        "# review model\n",
        "model.summary()\n",
        "\n",
        "\n",
        "# COMPILING MODEL\n",
        "print(\"\\nCompiling model...\")\n",
        "model.compile(optimizer='Adam',\n",
        "              loss='sparse_categorical_crossentropy',\n",
        "              metrics=['accuracy'])\n",
        "\n",
        "\n",
        "# TRAINING\n",
        "print(\"\\nTRAINING\")\n",
        "# calculating computational time\n",
        "t = time.perf_counter()\n",
        "# training model\n",
        "history = model.fit(\n",
        "                    x_train, \n",
        "                    y_train, \n",
        "                    epochs = EPOCHS, \n",
        "                    use_multiprocessing = False, \n",
        "                    batch_size = 1024, \n",
        "                    validation_data = (x_val, y_val),\n",
        "                    callbacks = [callback_accuracy, callback_loss]\n",
        "          )\n",
        "# show total elapsed time\n",
        "elapsed_time = datetime.timedelta(seconds=(time.perf_counter() - t))\n",
        "print('\\n\\nTraining time:', elapsed_time)\n",
        "\n",
        "\n",
        "# EVALUATION\n",
        "print(\"\\nEVALUATION\")\n",
        "acc = model_evaluation(model, x_test, y_test, history, False, False)"
      ]
    },
    {
      "cell_type": "code",
      "source": [
        "storing_evaluation_results(model_evaluations, 'Adding Dropout Layers', acc, elapsed_time)"
      ],
      "metadata": {
        "id": "KZo_kffq-zfk"
      },
      "execution_count": 26,
      "outputs": []
    },
    {
      "cell_type": "markdown",
      "source": [
        "### 4.5. Exploring convolutional neural networks <a class=\"anchor\" id=\"simple_cnn\"></a>"
      ],
      "metadata": {
        "id": "acjdP-IMkC0C"
      }
    },
    {
      "cell_type": "markdown",
      "source": [
        "Up until now, we have tried to solve the classification problem by forcing the neural network to learn about values of pixels (features) in different color spaces, but what if we could provide it with \"vision\". If the network was able to see and understand the shapes of the image data it gets, we believe it would be more efficient.\n",
        "\n",
        "Let's start with a simple Convolutional Network and expand from there."
      ],
      "metadata": {
        "id": "ij_M9ZXikIbb"
      }
    },
    {
      "cell_type": "code",
      "source": [
        "# MODEL DEFINITION\n",
        "print(\"DEFINITION\")\n",
        "\n",
        "model = ks.Sequential()\n",
        "\n",
        "# Neural Network Layers\n",
        "model.add(ks.layers.Conv2D(32, (3, 3), strides=1, activation='relu', padding='same', input_shape=INPUT_SHAPE))\n",
        "model.add(ks.layers.MaxPooling2D((2, 2)))\n",
        "\n",
        "model.add(ks.layers.Flatten()) \n",
        "model.add(ks.layers.Dense(512, activation='relu'))\n",
        "model.add(ks.layers.Dropout(0.25))\n",
        "model.add(ks.layers.Dense(256, activation='relu'))\n",
        "model.add(ks.layers.Dropout(0.25))\n",
        "model.add(ks.layers.Dense(128, activation='relu'))\n",
        "model.add(ks.layers.Dropout(0.25))\n",
        "model.add(ks.layers.Dense(64, activation='relu'))\n",
        "model.add(ks.layers.Dropout(0.25))\n",
        "model.add(ks.layers.Dense(10, activation='softmax'))\n",
        "\n",
        "\n",
        "# review model\n",
        "model.summary()\n",
        "\n",
        "\n",
        "# COMPILING MODEL\n",
        "print(\"\\nCompiling model...\")\n",
        "model.compile(optimizer='Adam',\n",
        "              loss='sparse_categorical_crossentropy',\n",
        "              metrics=['accuracy'])\n",
        "\n",
        "\n",
        "# TRAINING\n",
        "print(\"\\nTRAINING\")\n",
        "# calculating computational time\n",
        "t = time.perf_counter()\n",
        "# training model\n",
        "history = model.fit(\n",
        "                    x_train, \n",
        "                    y_train, \n",
        "                    epochs = EPOCHS, \n",
        "                    use_multiprocessing = False, \n",
        "                    batch_size = 512, \n",
        "                    validation_data = (x_val, y_val),\n",
        "                    callbacks = [callback_accuracy, callback_loss]\n",
        "          )\n",
        "# show total elapsed time\n",
        "elapsed_time = datetime.timedelta(seconds=(time.perf_counter() - t))\n",
        "print('\\n\\nTraining time:', elapsed_time)\n",
        "\n",
        "\n",
        "# EVALUATION\n",
        "print(\"\\nEVALUATION\")\n",
        "acc = model_evaluation(model, x_test, y_test, history, False, False)"
      ],
      "metadata": {
        "colab": {
          "base_uri": "https://localhost:8080/"
        },
        "id": "Fs_9gOakkcC0",
        "outputId": "5e8d7c99-72c0-49b7-94de-ef7763f64799"
      },
      "execution_count": 27,
      "outputs": [
        {
          "output_type": "stream",
          "name": "stdout",
          "text": [
            "DEFINITION\n",
            "Model: \"sequential_4\"\n",
            "_________________________________________________________________\n",
            " Layer (type)                Output Shape              Param #   \n",
            "=================================================================\n",
            " conv2d (Conv2D)             (None, 32, 32, 32)        896       \n",
            "                                                                 \n",
            " max_pooling2d (MaxPooling2D  (None, 16, 16, 32)       0         \n",
            " )                                                               \n",
            "                                                                 \n",
            " flatten_4 (Flatten)         (None, 8192)              0         \n",
            "                                                                 \n",
            " dense_17 (Dense)            (None, 512)               4194816   \n",
            "                                                                 \n",
            " dropout_4 (Dropout)         (None, 512)               0         \n",
            "                                                                 \n",
            " dense_18 (Dense)            (None, 256)               131328    \n",
            "                                                                 \n",
            " dropout_5 (Dropout)         (None, 256)               0         \n",
            "                                                                 \n",
            " dense_19 (Dense)            (None, 128)               32896     \n",
            "                                                                 \n",
            " dropout_6 (Dropout)         (None, 128)               0         \n",
            "                                                                 \n",
            " dense_20 (Dense)            (None, 64)                8256      \n",
            "                                                                 \n",
            " dropout_7 (Dropout)         (None, 64)                0         \n",
            "                                                                 \n",
            " dense_21 (Dense)            (None, 10)                650       \n",
            "                                                                 \n",
            "=================================================================\n",
            "Total params: 4,368,842\n",
            "Trainable params: 4,368,842\n",
            "Non-trainable params: 0\n",
            "_________________________________________________________________\n",
            "\n",
            "Compiling model...\n",
            "\n",
            "TRAINING\n",
            "Epoch 1/100\n",
            "79/79 [==============================] - 3s 16ms/step - loss: 2.1135 - accuracy: 0.2014 - val_loss: 1.7236 - val_accuracy: 0.3817\n",
            "Epoch 2/100\n",
            "79/79 [==============================] - 1s 11ms/step - loss: 1.6335 - accuracy: 0.3954 - val_loss: 1.3951 - val_accuracy: 0.4966\n",
            "Epoch 3/100\n",
            "79/79 [==============================] - 1s 15ms/step - loss: 1.4108 - accuracy: 0.4913 - val_loss: 1.3013 - val_accuracy: 0.5382\n",
            "Epoch 4/100\n",
            "79/79 [==============================] - 1s 14ms/step - loss: 1.2822 - accuracy: 0.5446 - val_loss: 1.2301 - val_accuracy: 0.5697\n",
            "Epoch 5/100\n",
            "79/79 [==============================] - 1s 14ms/step - loss: 1.1704 - accuracy: 0.5845 - val_loss: 1.1446 - val_accuracy: 0.5944\n",
            "Epoch 6/100\n",
            "79/79 [==============================] - 1s 12ms/step - loss: 1.0962 - accuracy: 0.6149 - val_loss: 1.1562 - val_accuracy: 0.6010\n",
            "Epoch 7/100\n",
            "79/79 [==============================] - 1s 12ms/step - loss: 1.0190 - accuracy: 0.6437 - val_loss: 1.0614 - val_accuracy: 0.6291\n",
            "Epoch 8/100\n",
            "79/79 [==============================] - 1s 11ms/step - loss: 0.9468 - accuracy: 0.6705 - val_loss: 1.2126 - val_accuracy: 0.5889\n",
            "Epoch 9/100\n",
            "79/79 [==============================] - 1s 11ms/step - loss: 0.8997 - accuracy: 0.6875 - val_loss: 1.0658 - val_accuracy: 0.6392\n",
            "Epoch 10/100\n",
            "79/79 [==============================] - 1s 11ms/step - loss: 0.8226 - accuracy: 0.7151 - val_loss: 1.0671 - val_accuracy: 0.6453\n",
            "\n",
            "\n",
            "Training time: 0:00:12.444528\n",
            "\n",
            "EVALUATION\n",
            "Test Accuracy for the model -> 62.55 %\n"
          ]
        }
      ]
    },
    {
      "cell_type": "markdown",
      "source": [
        "With just one convolutional, the increase in accuracy has been impressive, but not enough."
      ],
      "metadata": {
        "id": "W_j200Jgk2hk"
      }
    },
    {
      "cell_type": "code",
      "source": [
        "storing_evaluation_results(model_evaluations, 'Simple Convolutional Neural Network', acc, elapsed_time)"
      ],
      "metadata": {
        "id": "jx-iG7tXkt1W"
      },
      "execution_count": 28,
      "outputs": []
    },
    {
      "cell_type": "markdown",
      "source": [
        "### 4.6. Extending convolutional neural networks <a class=\"anchor\" id=\"cnn\"></a>"
      ],
      "metadata": {
        "id": "OBZHDMDRAmKY"
      }
    },
    {
      "cell_type": "markdown",
      "source": [
        "We have seen that by adding one layer of a convolutional neural network, the accuracy of the model improves a lot. Let's try adding more convolutional layers, following the examples of more complex architectures of neural networks that have several convolutional layers and then fully connected layers at the end."
      ],
      "metadata": {
        "id": "plLjD1X3A_7h"
      }
    },
    {
      "cell_type": "code",
      "source": [
        "# MODEL DEFINITION\n",
        "print(\"DEFINITION\")\n",
        "\n",
        "model = ks.Sequential()\n",
        "\n",
        "# Neural Network Layers\n",
        "model.add(ks.layers.Conv2D(16, (3, 3), strides = 1, activation = 'relu', padding = 'same', input_shape = INPUT_SHAPE))\n",
        "model.add(ks.layers.MaxPooling2D((2, 2)))\n",
        "\n",
        "model.add(ks.layers.Conv2D(64, (3, 3), strides = 1, activation = 'relu', padding = 'same'))\n",
        "model.add(ks.layers.MaxPooling2D((2, 2)))\n",
        "\n",
        "model.add(ks.layers.Conv2D(128, (3, 3), strides = 1, activation = 'relu', padding = 'same'))\n",
        "model.add(ks.layers.MaxPooling2D((2, 2)))\n",
        "\n",
        "model.add(ks.layers.Conv2D(256, (3, 3), strides = 1, activation = 'relu', padding = 'same'))\n",
        "model.add(ks.layers.MaxPooling2D((2, 2)))\n",
        "\n",
        "model.add(ks.layers.Flatten()) \n",
        "model.add(ks.layers.Dense(512, activation='relu'))\n",
        "model.add(ks.layers.Dropout(0.25))\n",
        "model.add(ks.layers.Dense(256, activation='relu'))\n",
        "model.add(ks.layers.Dropout(0.25))\n",
        "model.add(ks.layers.Dense(128, activation='relu'))\n",
        "model.add(ks.layers.Dropout(0.25))\n",
        "model.add(ks.layers.Dense(64, activation='relu'))\n",
        "model.add(ks.layers.Dropout(0.25))\n",
        "model.add(ks.layers.Dense(10, activation='softmax'))\n",
        "\n",
        "# review model\n",
        "model.summary()\n",
        "\n",
        "\n",
        "# COMPILING MODEL\n",
        "print(\"\\nCompiling model...\")\n",
        "model.compile(optimizer='Adam',\n",
        "              loss='sparse_categorical_crossentropy',\n",
        "              metrics=['accuracy'])\n",
        "\n",
        "\n",
        "# TRAINING\n",
        "print(\"\\nTRAINING\")\n",
        "# calculating computational time\n",
        "t = time.perf_counter()\n",
        "# training model\n",
        "history = model.fit(\n",
        "                    x_train, \n",
        "                    y_train, \n",
        "                    epochs = EPOCHS, \n",
        "                    use_multiprocessing = False, \n",
        "                    batch_size = 512, \n",
        "                    validation_data = (x_val, y_val),\n",
        "                    callbacks = [callback_accuracy, callback_loss]\n",
        "          )\n",
        "# show total elapsed time\n",
        "elapsed_time = datetime.timedelta(seconds=(time.perf_counter() - t))\n",
        "print('\\n\\nTraining time:', elapsed_time)\n",
        "\n",
        "\n",
        "# EVALUATION\n",
        "print(\"\\nEVALUATION\")\n",
        "acc = model_evaluation(model, x_test, y_test, history, False, False)"
      ],
      "metadata": {
        "colab": {
          "base_uri": "https://localhost:8080/"
        },
        "id": "mKxsAfMqKxbz",
        "outputId": "72726296-1a2a-483d-f91a-68e1231071a8"
      },
      "execution_count": 29,
      "outputs": [
        {
          "output_type": "stream",
          "name": "stdout",
          "text": [
            "DEFINITION\n",
            "Model: \"sequential_5\"\n",
            "_________________________________________________________________\n",
            " Layer (type)                Output Shape              Param #   \n",
            "=================================================================\n",
            " conv2d_1 (Conv2D)           (None, 32, 32, 16)        448       \n",
            "                                                                 \n",
            " max_pooling2d_1 (MaxPooling  (None, 16, 16, 16)       0         \n",
            " 2D)                                                             \n",
            "                                                                 \n",
            " conv2d_2 (Conv2D)           (None, 16, 16, 64)        9280      \n",
            "                                                                 \n",
            " max_pooling2d_2 (MaxPooling  (None, 8, 8, 64)         0         \n",
            " 2D)                                                             \n",
            "                                                                 \n",
            " conv2d_3 (Conv2D)           (None, 8, 8, 128)         73856     \n",
            "                                                                 \n",
            " max_pooling2d_3 (MaxPooling  (None, 4, 4, 128)        0         \n",
            " 2D)                                                             \n",
            "                                                                 \n",
            " conv2d_4 (Conv2D)           (None, 4, 4, 256)         295168    \n",
            "                                                                 \n",
            " max_pooling2d_4 (MaxPooling  (None, 2, 2, 256)        0         \n",
            " 2D)                                                             \n",
            "                                                                 \n",
            " flatten_5 (Flatten)         (None, 1024)              0         \n",
            "                                                                 \n",
            " dense_22 (Dense)            (None, 512)               524800    \n",
            "                                                                 \n",
            " dropout_8 (Dropout)         (None, 512)               0         \n",
            "                                                                 \n",
            " dense_23 (Dense)            (None, 256)               131328    \n",
            "                                                                 \n",
            " dropout_9 (Dropout)         (None, 256)               0         \n",
            "                                                                 \n",
            " dense_24 (Dense)            (None, 128)               32896     \n",
            "                                                                 \n",
            " dropout_10 (Dropout)        (None, 128)               0         \n",
            "                                                                 \n",
            " dense_25 (Dense)            (None, 64)                8256      \n",
            "                                                                 \n",
            " dropout_11 (Dropout)        (None, 64)                0         \n",
            "                                                                 \n",
            " dense_26 (Dense)            (None, 10)                650       \n",
            "                                                                 \n",
            "=================================================================\n",
            "Total params: 1,076,682\n",
            "Trainable params: 1,076,682\n",
            "Non-trainable params: 0\n",
            "_________________________________________________________________\n",
            "\n",
            "Compiling model...\n",
            "\n",
            "TRAINING\n",
            "Epoch 1/100\n",
            "79/79 [==============================] - 3s 23ms/step - loss: 2.0528 - accuracy: 0.2154 - val_loss: 1.8482 - val_accuracy: 0.2970\n",
            "Epoch 2/100\n",
            "79/79 [==============================] - 2s 21ms/step - loss: 1.7101 - accuracy: 0.3470 - val_loss: 1.5015 - val_accuracy: 0.4304\n",
            "Epoch 3/100\n",
            "79/79 [==============================] - 2s 19ms/step - loss: 1.5027 - accuracy: 0.4409 - val_loss: 1.3867 - val_accuracy: 0.4836\n",
            "Epoch 4/100\n",
            "79/79 [==============================] - 1s 16ms/step - loss: 1.3474 - accuracy: 0.5092 - val_loss: 1.2070 - val_accuracy: 0.5637\n",
            "Epoch 5/100\n",
            "79/79 [==============================] - 1s 15ms/step - loss: 1.1921 - accuracy: 0.5766 - val_loss: 1.2667 - val_accuracy: 0.5587\n",
            "Epoch 6/100\n",
            "79/79 [==============================] - 1s 16ms/step - loss: 1.0791 - accuracy: 0.6202 - val_loss: 1.0864 - val_accuracy: 0.6201\n",
            "Epoch 7/100\n",
            "79/79 [==============================] - 1s 16ms/step - loss: 0.9769 - accuracy: 0.6614 - val_loss: 0.9348 - val_accuracy: 0.6725\n",
            "Epoch 8/100\n",
            "79/79 [==============================] - 1s 16ms/step - loss: 0.8702 - accuracy: 0.6999 - val_loss: 0.9306 - val_accuracy: 0.6826\n",
            "Epoch 9/100\n",
            "79/79 [==============================] - 1s 16ms/step - loss: 0.7853 - accuracy: 0.7318 - val_loss: 0.9971 - val_accuracy: 0.6691\n",
            "Epoch 10/100\n",
            "79/79 [==============================] - 1s 16ms/step - loss: 0.7087 - accuracy: 0.7600 - val_loss: 0.9881 - val_accuracy: 0.6804\n",
            "Epoch 11/100\n",
            "79/79 [==============================] - 1s 16ms/step - loss: 0.6357 - accuracy: 0.7863 - val_loss: 0.9799 - val_accuracy: 0.6764\n",
            "\n",
            "\n",
            "Training time: 0:00:16.691715\n",
            "\n",
            "EVALUATION\n",
            "Test Accuracy for the model -> 67.49 %\n"
          ]
        }
      ]
    },
    {
      "cell_type": "markdown",
      "source": [
        "Adding convolutional layers has deeply increased the accuracy of our previous neural network"
      ],
      "metadata": {
        "id": "S_0L0JkhfrUp"
      }
    },
    {
      "cell_type": "code",
      "source": [
        "storing_evaluation_results(model_evaluations, 'Complex Convolutional Neural Network', acc, elapsed_time)"
      ],
      "metadata": {
        "id": "BvYohxPbLr3t"
      },
      "execution_count": 30,
      "outputs": []
    },
    {
      "cell_type": "markdown",
      "source": [
        "### 4.7. Tweaking the convolutional layer a little bit more <a class=\"anchor\" id=\"cnn_tweaks\"></a>"
      ],
      "metadata": {
        "id": "oWudsJNQiC3_"
      }
    },
    {
      "cell_type": "markdown",
      "source": [
        "Another idea to increase the accuracy would be to make the convolutional layer bigger (VGG16 has 5 convolutional layers with higher amount of nodes than the previous model), and also make the classification layer (the fully connected one) a lot way bigger."
      ],
      "metadata": {
        "id": "6S8DYEoDowkm"
      }
    },
    {
      "cell_type": "code",
      "source": [
        "# MODEL DEFINITION\n",
        "print(\"DEFINITION\")\n",
        "\n",
        "model = ks.Sequential()\n",
        "\n",
        "# Neural Network Layers\n",
        "model.add(ks.layers.Conv2D(64, (3, 3), strides = 1, activation = 'relu', padding = 'same', input_shape = INPUT_SHAPE))\n",
        "model.add(ks.layers.MaxPooling2D((2, 2)))\n",
        "\n",
        "model.add(ks.layers.Conv2D(128, (3, 3), strides = 1, activation = 'relu', padding = 'same'))\n",
        "model.add(ks.layers.MaxPooling2D((2, 2)))\n",
        "\n",
        "model.add(ks.layers.Conv2D(256, (3, 3), strides = 1, activation = 'relu', padding = 'same'))\n",
        "model.add(ks.layers.MaxPooling2D((2, 2)))\n",
        "\n",
        "model.add(ks.layers.Conv2D(512, (3, 3), strides = 1, activation = 'relu', padding = 'same'))\n",
        "model.add(ks.layers.MaxPooling2D((2, 2)))\n",
        "\n",
        "model.add(ks.layers.Conv2D(512, (3, 3), strides = 1, activation = 'relu', padding = 'same'))\n",
        "model.add(ks.layers.MaxPooling2D((2, 2)))\n",
        "\n",
        "model.add(ks.layers.Flatten()) \n",
        "model.add(ks.layers.Dense(4096, activation='relu'))\n",
        "model.add(ks.layers.Dropout(0.25))\n",
        "model.add(ks.layers.Dense(1024, activation='relu'))\n",
        "model.add(ks.layers.Dropout(0.25))\n",
        "model.add(ks.layers.Dense(10, activation='softmax'))\n",
        "\n",
        "# review model\n",
        "model.summary()\n",
        "\n",
        "\n",
        "# COMPILING MODEL\n",
        "print(\"\\nCompiling model...\")\n",
        "model.compile(optimizer='Adam',\n",
        "              loss='sparse_categorical_crossentropy',\n",
        "              metrics=['accuracy'])\n",
        "\n",
        "\n",
        "# TRAINING\n",
        "print(\"\\nTRAINING\")\n",
        "# calculating computational time\n",
        "t = time.perf_counter()\n",
        "# training model\n",
        "history = model.fit(\n",
        "                    x_train, \n",
        "                    y_train, \n",
        "                    epochs = EPOCHS, \n",
        "                    use_multiprocessing = False, \n",
        "                    batch_size = 512, \n",
        "                    validation_data = (x_val, y_val),\n",
        "                    callbacks = [callback_accuracy, callback_loss]\n",
        "          )\n",
        "# show total elapsed time\n",
        "elapsed_time = datetime.timedelta(seconds=(time.perf_counter() - t))\n",
        "print('\\n\\nTraining time:', elapsed_time)\n",
        "\n",
        "\n",
        "# EVALUATION\n",
        "print(\"\\nEVALUATION\")\n",
        "acc = model_evaluation(model, x_test, y_test, history, False, False)"
      ],
      "metadata": {
        "colab": {
          "base_uri": "https://localhost:8080/"
        },
        "id": "M7pKBEmpnHWD",
        "outputId": "c6d98272-9491-40e9-8c28-aa42e062f29d"
      },
      "execution_count": 31,
      "outputs": [
        {
          "output_type": "stream",
          "name": "stdout",
          "text": [
            "DEFINITION\n",
            "Model: \"sequential_6\"\n",
            "_________________________________________________________________\n",
            " Layer (type)                Output Shape              Param #   \n",
            "=================================================================\n",
            " conv2d_5 (Conv2D)           (None, 32, 32, 64)        1792      \n",
            "                                                                 \n",
            " max_pooling2d_5 (MaxPooling  (None, 16, 16, 64)       0         \n",
            " 2D)                                                             \n",
            "                                                                 \n",
            " conv2d_6 (Conv2D)           (None, 16, 16, 128)       73856     \n",
            "                                                                 \n",
            " max_pooling2d_6 (MaxPooling  (None, 8, 8, 128)        0         \n",
            " 2D)                                                             \n",
            "                                                                 \n",
            " conv2d_7 (Conv2D)           (None, 8, 8, 256)         295168    \n",
            "                                                                 \n",
            " max_pooling2d_7 (MaxPooling  (None, 4, 4, 256)        0         \n",
            " 2D)                                                             \n",
            "                                                                 \n",
            " conv2d_8 (Conv2D)           (None, 4, 4, 512)         1180160   \n",
            "                                                                 \n",
            " max_pooling2d_8 (MaxPooling  (None, 2, 2, 512)        0         \n",
            " 2D)                                                             \n",
            "                                                                 \n",
            " conv2d_9 (Conv2D)           (None, 2, 2, 512)         2359808   \n",
            "                                                                 \n",
            " max_pooling2d_9 (MaxPooling  (None, 1, 1, 512)        0         \n",
            " 2D)                                                             \n",
            "                                                                 \n",
            " flatten_6 (Flatten)         (None, 512)               0         \n",
            "                                                                 \n",
            " dense_27 (Dense)            (None, 4096)              2101248   \n",
            "                                                                 \n",
            " dropout_12 (Dropout)        (None, 4096)              0         \n",
            "                                                                 \n",
            " dense_28 (Dense)            (None, 1024)              4195328   \n",
            "                                                                 \n",
            " dropout_13 (Dropout)        (None, 1024)              0         \n",
            "                                                                 \n",
            " dense_29 (Dense)            (None, 10)                10250     \n",
            "                                                                 \n",
            "=================================================================\n",
            "Total params: 10,217,610\n",
            "Trainable params: 10,217,610\n",
            "Non-trainable params: 0\n",
            "_________________________________________________________________\n",
            "\n",
            "Compiling model...\n",
            "\n",
            "TRAINING\n",
            "Epoch 1/100\n",
            "79/79 [==============================] - 5s 51ms/step - loss: 2.1645 - accuracy: 0.1629 - val_loss: 1.8095 - val_accuracy: 0.2952\n",
            "Epoch 2/100\n",
            "79/79 [==============================] - 3s 41ms/step - loss: 1.6424 - accuracy: 0.3719 - val_loss: 1.5050 - val_accuracy: 0.4243\n",
            "Epoch 3/100\n",
            "79/79 [==============================] - 3s 41ms/step - loss: 1.3339 - accuracy: 0.5072 - val_loss: 1.3339 - val_accuracy: 0.5114\n",
            "Epoch 4/100\n",
            "79/79 [==============================] - 3s 41ms/step - loss: 1.1112 - accuracy: 0.5973 - val_loss: 1.1388 - val_accuracy: 0.5952\n",
            "Epoch 5/100\n",
            "79/79 [==============================] - 3s 41ms/step - loss: 0.9421 - accuracy: 0.6592 - val_loss: 1.0123 - val_accuracy: 0.6408\n",
            "Epoch 6/100\n",
            "79/79 [==============================] - 3s 41ms/step - loss: 0.8041 - accuracy: 0.7139 - val_loss: 0.9998 - val_accuracy: 0.6565\n",
            "Epoch 7/100\n",
            "79/79 [==============================] - 3s 41ms/step - loss: 0.6907 - accuracy: 0.7571 - val_loss: 1.0231 - val_accuracy: 0.6569\n",
            "Epoch 8/100\n",
            "79/79 [==============================] - 3s 41ms/step - loss: 0.5887 - accuracy: 0.7928 - val_loss: 0.8841 - val_accuracy: 0.7128\n",
            "Epoch 9/100\n",
            "79/79 [==============================] - 3s 41ms/step - loss: 0.4574 - accuracy: 0.8432 - val_loss: 0.9139 - val_accuracy: 0.7181\n",
            "Epoch 10/100\n",
            "79/79 [==============================] - 3s 41ms/step - loss: 0.3746 - accuracy: 0.8707 - val_loss: 0.8934 - val_accuracy: 0.7302\n",
            "Epoch 11/100\n",
            "79/79 [==============================] - 3s 41ms/step - loss: 0.3062 - accuracy: 0.8945 - val_loss: 0.9781 - val_accuracy: 0.7236\n",
            "\n",
            "\n",
            "Training time: 0:00:38.621498\n",
            "\n",
            "EVALUATION\n",
            "Test Accuracy for the model -> 70.61 %\n"
          ]
        }
      ]
    },
    {
      "cell_type": "code",
      "source": [
        "storing_evaluation_results(model_evaluations, 'VGG16-like CNN', acc, elapsed_time)"
      ],
      "metadata": {
        "id": "8euIA2BHpfy5"
      },
      "execution_count": 32,
      "outputs": []
    },
    {
      "cell_type": "markdown",
      "source": [
        "### 4.8. Using Data Augmentation <a class=\"anchor\" id=\"data_augmentation\"></a>"
      ],
      "metadata": {
        "id": "34EH2rdYomWU"
      }
    },
    {
      "cell_type": "markdown",
      "source": [
        "With a pretty complex convolutional network, we managed to increase the accuracy quite a lot. However, we are always aiming for a better model. The following approach will make use of Data Augmentation to improve the accuracy of the model by using very simple techniques of image processing to artificially expand the size of the training data by creating modified versions of the images of the original data."
      ],
      "metadata": {
        "id": "uiF7HQ9eiIL6"
      }
    },
    {
      "cell_type": "markdown",
      "source": [
        "#### 4.8.1. Creating our Image Train Generator <a class=\"anchor\" id=\"train_generator\"></a>"
      ],
      "metadata": {
        "id": "UOjcMk82qaD2"
      }
    },
    {
      "cell_type": "code",
      "source": [
        "# train data\n",
        "train_datagen = ImageDataGenerator(\n",
        "      rotation_range = 40,\n",
        "      shear_range = 0.2,\n",
        "      zoom_range = 0.2,\n",
        "      horizontal_flip = True,\n",
        "      width_shift_range = 0.1,\n",
        "      height_shift_range = 0.1,\n",
        "      fill_mode='nearest'\n",
        "    )\n",
        "\n",
        "train_generator = train_datagen.flow(\n",
        "    x_train,\n",
        "    y_train, \n",
        "    batch_size = 80\n",
        ")"
      ],
      "metadata": {
        "id": "vd3zJHwxqC6x"
      },
      "execution_count": 79,
      "outputs": []
    },
    {
      "cell_type": "code",
      "source": [
        "# validation data\n",
        "validation_datagen = ImageDataGenerator()\n",
        "validation_generator = validation_datagen.flow(\n",
        "    x_val, \n",
        "    y_val, \n",
        "    batch_size = 50\n",
        ")\n"
      ],
      "metadata": {
        "id": "MvXsSMZIrJ5n"
      },
      "execution_count": 80,
      "outputs": []
    },
    {
      "cell_type": "code",
      "source": [
        "# checking the transformations of the already created generators\n",
        "\n",
        "sample = np.random.choice(range(0,4999))\n",
        "\n",
        "example_generator = train_datagen.flow(\n",
        "    x_train[sample:sample+1],\n",
        "    y_train[sample:sample+1],\n",
        "    batch_size=1\n",
        ")\n",
        "\n",
        "plt.figure(figsize=(12, 12))\n",
        "for i in range(0,15):\n",
        "    plt.subplot(5, 3, i+1)\n",
        "    for X,y in example_generator:\n",
        "        image = X[0]\n",
        "        plt.imshow(image)\n",
        "        break\n",
        "plt.tight_layout()\n",
        "plt.show()"
      ],
      "metadata": {
        "colab": {
          "base_uri": "https://localhost:8080/",
          "height": 873
        },
        "id": "pkOmUADHrUYg",
        "outputId": "6fb0f949-8038-4e03-822c-c538834e0e9a"
      },
      "execution_count": 81,
      "outputs": [
        {
          "output_type": "display_data",
          "data": {
            "image/png": "[encoded data removed]",
            "text/plain": [
              "<Figure size 864x864 with 15 Axes>"
            ]
          },
          "metadata": {
            "needs_background": "light"
          }
        }
      ]
    },
    {
      "cell_type": "markdown",
      "source": [
        "#### 4.8.2. Training the model with the image train generator <a class=\"anchor\" id=\"train_generator_training_model\"></a>"
      ],
      "metadata": {
        "id": "M-fXLseos3ek"
      }
    },
    {
      "cell_type": "code",
      "source": [
        "#TODO: Review\n",
        "\n",
        "# MODEL DEFINITION\n",
        "print(\"DEFINITION\")\n",
        "\n",
        "model = ks.Sequential()\n",
        "\n",
        "# Neural Network Layers\n",
        "\n",
        "model.add(ks.layers.Conv2D(64, (3, 3), strides = 1, activation = 'relu', padding = 'same', input_shape = INPUT_SHAPE))\n",
        "model.add(ks.layers.MaxPooling2D((2, 2)))\n",
        "\n",
        "model.add(ks.layers.Conv2D(128, (3, 3), strides = 1, activation = 'relu', padding = 'same'))\n",
        "model.add(ks.layers.MaxPooling2D((2, 2)))\n",
        "\n",
        "model.add(ks.layers.Conv2D(256, (3, 3), strides = 1, activation = 'relu', padding = 'same'))\n",
        "model.add(ks.layers.MaxPooling2D((2, 2)))\n",
        "\n",
        "model.add(ks.layers.Conv2D(512, (3, 3), strides = 1, activation = 'relu', padding = 'same'))\n",
        "model.add(ks.layers.MaxPooling2D((2, 2)))\n",
        "\n",
        "model.add(ks.layers.Conv2D(512, (3, 3), strides = 1, activation = 'relu', padding = 'same'))\n",
        "model.add(ks.layers.MaxPooling2D((2, 2)))\n",
        "\n",
        "model.add(ks.layers.Flatten()) \n",
        "model.add(ks.layers.Dense(4096, activation='relu'))\n",
        "model.add(ks.layers.Dropout(0.25))\n",
        "model.add(ks.layers.Dense(1024, activation='relu'))\n",
        "model.add(ks.layers.Dropout(0.25))\n",
        "model.add(ks.layers.Dense(10, activation='softmax'))\n",
        "\n",
        "# review model\n",
        "model.summary()\n",
        "\n",
        "\n",
        "# COMPILING MODEL\n",
        "print(\"\\nCompiling model...\")\n",
        "model.compile(optimizer = \"Adam\",\n",
        "              loss ='sparse_categorical_crossentropy',\n",
        "              metrics = ['accuracy'])\n",
        "\n",
        "\n",
        "# TRAINING\n",
        "print(\"\\nTRAINING\")\n",
        "# calculating computational time\n",
        "t = time.perf_counter()\n",
        "# training model\n",
        "history = model.fit(\n",
        "                    train_generator, \n",
        "                    validation_data = validation_generator,\n",
        "                    epochs = EPOCHS, \n",
        "                    steps_per_epoch = 100,\n",
        "                    validation_steps = 150,\n",
        "                    use_multiprocessing = False, \n",
        "                    batch_size = 64,\n",
        "                    callbacks = [callback_accuracy, callback_loss]\n",
        "          )\n",
        "# show total elapsed time\n",
        "elapsed_time = datetime.timedelta(seconds=(time.perf_counter() - t))\n",
        "print('\\n\\nTraining time:', elapsed_time)\n",
        "\n",
        "\n",
        "# EVALUATION\n",
        "print(\"\\nEVALUATION\")\n",
        "acc = model_evaluation(model, x_test, y_test, history, False, False)"
      ],
      "metadata": {
        "colab": {
          "base_uri": "https://localhost:8080/",
          "height": 1000
        },
        "id": "qa0qtfUOs31s",
        "outputId": "98afe619-4faf-4e75-9a00-9f9b4c2b0141"
      },
      "execution_count": 86,
      "outputs": [
        {
          "output_type": "stream",
          "name": "stdout",
          "text": [
            "DEFINITION\n",
            "Model: \"sequential_33\"\n",
            "_________________________________________________________________\n",
            " Layer (type)                Output Shape              Param #   \n",
            "=================================================================\n",
            " conv2d_136 (Conv2D)         (None, 32, 32, 64)        1792      \n",
            "                                                                 \n",
            " max_pooling2d_134 (MaxPooli  (None, 16, 16, 64)       0         \n",
            " ng2D)                                                           \n",
            "                                                                 \n",
            " conv2d_137 (Conv2D)         (None, 16, 16, 128)       73856     \n",
            "                                                                 \n",
            " max_pooling2d_135 (MaxPooli  (None, 8, 8, 128)        0         \n",
            " ng2D)                                                           \n",
            "                                                                 \n",
            " conv2d_138 (Conv2D)         (None, 8, 8, 256)         295168    \n",
            "                                                                 \n",
            " max_pooling2d_136 (MaxPooli  (None, 4, 4, 256)        0         \n",
            " ng2D)                                                           \n",
            "                                                                 \n",
            " conv2d_139 (Conv2D)         (None, 4, 4, 512)         1180160   \n",
            "                                                                 \n",
            " max_pooling2d_137 (MaxPooli  (None, 2, 2, 512)        0         \n",
            " ng2D)                                                           \n",
            "                                                                 \n",
            " conv2d_140 (Conv2D)         (None, 2, 2, 512)         2359808   \n",
            "                                                                 \n",
            " max_pooling2d_138 (MaxPooli  (None, 1, 1, 512)        0         \n",
            " ng2D)                                                           \n",
            "                                                                 \n",
            " flatten_31 (Flatten)        (None, 512)               0         \n",
            "                                                                 \n",
            " dense_102 (Dense)           (None, 4096)              2101248   \n",
            "                                                                 \n",
            " dropout_62 (Dropout)        (None, 4096)              0         \n",
            "                                                                 \n",
            " dense_103 (Dense)           (None, 1024)              4195328   \n",
            "                                                                 \n",
            " dropout_63 (Dropout)        (None, 1024)              0         \n",
            "                                                                 \n",
            " dense_104 (Dense)           (None, 10)                10250     \n",
            "                                                                 \n",
            "=================================================================\n",
            "Total params: 10,217,610\n",
            "Trainable params: 10,217,610\n",
            "Non-trainable params: 0\n",
            "_________________________________________________________________\n",
            "\n",
            "Compiling model...\n",
            "\n",
            "TRAINING\n",
            "Epoch 1/100\n",
            "100/100 [==============================] - 6s 58ms/step - loss: 2.1848 - accuracy: 0.2800 - val_loss: 2.0300 - val_accuracy: 0.0000e+00\n"
          ]
        },
        {
          "output_type": "error",
          "ename": "KeyboardInterrupt",
          "evalue": "ignored",
          "traceback": [
            "\u001b[0;31m---------------------------------------------------------------------------\u001b[0m",
            "\u001b[0;31mKeyboardInterrupt\u001b[0m                         Traceback (most recent call last)",
            "\u001b[0;32m<ipython-input-86-ee72a43aa762>\u001b[0m in \u001b[0;36m<module>\u001b[0;34m()\u001b[0m\n\u001b[1;32m     54\u001b[0m                     \u001b[0muse_multiprocessing\u001b[0m \u001b[0;34m=\u001b[0m \u001b[0;32mFalse\u001b[0m\u001b[0;34m,\u001b[0m\u001b[0;34m\u001b[0m\u001b[0;34m\u001b[0m\u001b[0m\n\u001b[1;32m     55\u001b[0m                     \u001b[0mbatch_size\u001b[0m \u001b[0;34m=\u001b[0m \u001b[0;36m64\u001b[0m\u001b[0;34m,\u001b[0m\u001b[0;34m\u001b[0m\u001b[0;34m\u001b[0m\u001b[0m\n\u001b[0;32m---> 56\u001b[0;31m                     \u001b[0mcallbacks\u001b[0m \u001b[0;34m=\u001b[0m \u001b[0;34m[\u001b[0m\u001b[0mcallback_accuracy\u001b[0m\u001b[0;34m,\u001b[0m \u001b[0mcallback_loss\u001b[0m\u001b[0;34m]\u001b[0m\u001b[0;34m\u001b[0m\u001b[0;34m\u001b[0m\u001b[0m\n\u001b[0m\u001b[1;32m     57\u001b[0m           )\n\u001b[1;32m     58\u001b[0m \u001b[0;31m# show total elapsed time\u001b[0m\u001b[0;34m\u001b[0m\u001b[0;34m\u001b[0m\u001b[0;34m\u001b[0m\u001b[0m\n",
            "\u001b[0;32m/usr/local/lib/python3.7/dist-packages/keras/utils/traceback_utils.py\u001b[0m in \u001b[0;36merror_handler\u001b[0;34m(*args, **kwargs)\u001b[0m\n\u001b[1;32m     62\u001b[0m     \u001b[0mfiltered_tb\u001b[0m \u001b[0;34m=\u001b[0m \u001b[0;32mNone\u001b[0m\u001b[0;34m\u001b[0m\u001b[0;34m\u001b[0m\u001b[0m\n\u001b[1;32m     63\u001b[0m     \u001b[0;32mtry\u001b[0m\u001b[0;34m:\u001b[0m\u001b[0;34m\u001b[0m\u001b[0;34m\u001b[0m\u001b[0m\n\u001b[0;32m---> 64\u001b[0;31m       \u001b[0;32mreturn\u001b[0m \u001b[0mfn\u001b[0m\u001b[0;34m(\u001b[0m\u001b[0;34m*\u001b[0m\u001b[0margs\u001b[0m\u001b[0;34m,\u001b[0m \u001b[0;34m**\u001b[0m\u001b[0mkwargs\u001b[0m\u001b[0;34m)\u001b[0m\u001b[0;34m\u001b[0m\u001b[0;34m\u001b[0m\u001b[0m\n\u001b[0m\u001b[1;32m     65\u001b[0m     \u001b[0;32mexcept\u001b[0m \u001b[0mException\u001b[0m \u001b[0;32mas\u001b[0m \u001b[0me\u001b[0m\u001b[0;34m:\u001b[0m  \u001b[0;31m# pylint: disable=broad-except\u001b[0m\u001b[0;34m\u001b[0m\u001b[0;34m\u001b[0m\u001b[0m\n\u001b[1;32m     66\u001b[0m       \u001b[0mfiltered_tb\u001b[0m \u001b[0;34m=\u001b[0m \u001b[0m_process_traceback_frames\u001b[0m\u001b[0;34m(\u001b[0m\u001b[0me\u001b[0m\u001b[0;34m.\u001b[0m\u001b[0m__traceback__\u001b[0m\u001b[0;34m)\u001b[0m\u001b[0;34m\u001b[0m\u001b[0;34m\u001b[0m\u001b[0m\n",
            "\u001b[0;32m/usr/local/lib/python3.7/dist-packages/keras/engine/training.py\u001b[0m in \u001b[0;36mfit\u001b[0;34m(self, x, y, batch_size, epochs, verbose, callbacks, validation_split, validation_data, shuffle, class_weight, sample_weight, initial_epoch, steps_per_epoch, validation_steps, validation_batch_size, validation_freq, max_queue_size, workers, use_multiprocessing)\u001b[0m\n\u001b[1;32m   1203\u001b[0m       \u001b[0mlogs\u001b[0m \u001b[0;34m=\u001b[0m \u001b[0;32mNone\u001b[0m\u001b[0;34m\u001b[0m\u001b[0;34m\u001b[0m\u001b[0m\n\u001b[1;32m   1204\u001b[0m       \u001b[0;32mfor\u001b[0m \u001b[0mepoch\u001b[0m\u001b[0;34m,\u001b[0m \u001b[0miterator\u001b[0m \u001b[0;32min\u001b[0m \u001b[0mdata_handler\u001b[0m\u001b[0;34m.\u001b[0m\u001b[0menumerate_epochs\u001b[0m\u001b[0;34m(\u001b[0m\u001b[0;34m)\u001b[0m\u001b[0;34m:\u001b[0m\u001b[0;34m\u001b[0m\u001b[0;34m\u001b[0m\u001b[0m\n\u001b[0;32m-> 1205\u001b[0;31m         \u001b[0mself\u001b[0m\u001b[0;34m.\u001b[0m\u001b[0mreset_metrics\u001b[0m\u001b[0;34m(\u001b[0m\u001b[0;34m)\u001b[0m\u001b[0;34m\u001b[0m\u001b[0;34m\u001b[0m\u001b[0m\n\u001b[0m\u001b[1;32m   1206\u001b[0m         \u001b[0mcallbacks\u001b[0m\u001b[0;34m.\u001b[0m\u001b[0mon_epoch_begin\u001b[0m\u001b[0;34m(\u001b[0m\u001b[0mepoch\u001b[0m\u001b[0;34m)\u001b[0m\u001b[0;34m\u001b[0m\u001b[0;34m\u001b[0m\u001b[0m\n\u001b[1;32m   1207\u001b[0m         \u001b[0;32mwith\u001b[0m \u001b[0mdata_handler\u001b[0m\u001b[0;34m.\u001b[0m\u001b[0mcatch_stop_iteration\u001b[0m\u001b[0;34m(\u001b[0m\u001b[0;34m)\u001b[0m\u001b[0;34m:\u001b[0m\u001b[0;34m\u001b[0m\u001b[0;34m\u001b[0m\u001b[0m\n",
            "\u001b[0;31mKeyboardInterrupt\u001b[0m: "
          ]
        }
      ]
    },
    {
      "cell_type": "code",
      "source": [
        "storing_evaluation_results(model_evaluations, 'CNN using Data Augmentation', acc, elapsed_time)"
      ],
      "metadata": {
        "id": "GmwVZWk4tYVU"
      },
      "execution_count": 37,
      "outputs": []
    },
    {
      "cell_type": "markdown",
      "metadata": {
        "id": "ZHZ5rEsUfHJu"
      },
      "source": [
        "## 5. Models comparison <a class=\"anchor\" id=\"comparison\"></a>"
      ]
    },
    {
      "cell_type": "code",
      "execution_count": 106,
      "metadata": {
        "id": "M2hKFTKXmNwI"
      },
      "outputs": [],
      "source": [
        "# generating a dataframe with all models and its results\n",
        "df = pd.DataFrame(model_evaluations)\n",
        "\n",
        "# converting training_time timedelta to seconds\n",
        "df['training_time'] = df['training_time'].apply(lambda x: round(x.total_seconds(), 2))\n"
      ]
    },
    {
      "cell_type": "code",
      "source": [
        "df"
      ],
      "metadata": {
        "colab": {
          "base_uri": "https://localhost:8080/",
          "height": 300
        },
        "id": "g8upucca-cfE",
        "outputId": "8eabeb4e-ce6a-49e5-ba9f-21f24f4ba0c3"
      },
      "execution_count": 107,
      "outputs": [
        {
          "output_type": "execute_result",
          "data": {
            "text/html": [
              "\n",
              "  <div id=\"df-1119a31b-6346-4730-b4f9-f8748cd67f7b\">\n",
              "    <div class=\"colab-df-container\">\n",
              "      <div>\n",
              "<style scoped>\n",
              "    .dataframe tbody tr th:only-of-type {\n",
              "        vertical-align: middle;\n",
              "    }\n",
              "\n",
              "    .dataframe tbody tr th {\n",
              "        vertical-align: top;\n",
              "    }\n",
              "\n",
              "    .dataframe thead th {\n",
              "        text-align: right;\n",
              "    }\n",
              "</style>\n",
              "<table border=\"1\" class=\"dataframe\">\n",
              "  <thead>\n",
              "    <tr style=\"text-align: right;\">\n",
              "      <th></th>\n",
              "      <th>model_name</th>\n",
              "      <th>training_time</th>\n",
              "      <th>accuracy</th>\n",
              "    </tr>\n",
              "  </thead>\n",
              "  <tbody>\n",
              "    <tr>\n",
              "      <th>0</th>\n",
              "      <td>Single Dense Layer</td>\n",
              "      <td>28.75</td>\n",
              "      <td>0.4595</td>\n",
              "    </tr>\n",
              "    <tr>\n",
              "      <th>1</th>\n",
              "      <td>Several Dense Layers</td>\n",
              "      <td>20.95</td>\n",
              "      <td>0.5010</td>\n",
              "    </tr>\n",
              "    <tr>\n",
              "      <th>2</th>\n",
              "      <td>Increasing Batch Size</td>\n",
              "      <td>6.62</td>\n",
              "      <td>0.4681</td>\n",
              "    </tr>\n",
              "    <tr>\n",
              "      <th>3</th>\n",
              "      <td>Adding Dropout Layers</td>\n",
              "      <td>13.55</td>\n",
              "      <td>0.4465</td>\n",
              "    </tr>\n",
              "    <tr>\n",
              "      <th>4</th>\n",
              "      <td>Simple Convolutional Neural Network</td>\n",
              "      <td>12.44</td>\n",
              "      <td>0.6255</td>\n",
              "    </tr>\n",
              "    <tr>\n",
              "      <th>5</th>\n",
              "      <td>Complex Convolutional Neural Network</td>\n",
              "      <td>16.69</td>\n",
              "      <td>0.6749</td>\n",
              "    </tr>\n",
              "    <tr>\n",
              "      <th>6</th>\n",
              "      <td>VGG16-like CNN</td>\n",
              "      <td>38.62</td>\n",
              "      <td>0.7061</td>\n",
              "    </tr>\n",
              "    <tr>\n",
              "      <th>7</th>\n",
              "      <td>CNN using Data Augmentation</td>\n",
              "      <td>22.56</td>\n",
              "      <td>0.3061</td>\n",
              "    </tr>\n",
              "  </tbody>\n",
              "</table>\n",
              "</div>\n",
              "      <button class=\"colab-df-convert\" onclick=\"convertToInteractive('df-1119a31b-6346-4730-b4f9-f8748cd67f7b')\"\n",
              "              title=\"Convert this dataframe to an interactive table.\"\n",
              "              style=\"display:none;\">\n",
              "        \n",
              "  <svg xmlns=\"http://www.w3.org/2000/svg\" height=\"24px\"viewBox=\"0 0 24 24\"\n",
              "       width=\"24px\">\n",
              "    <path d=\"M0 0h24v24H0V0z\" fill=\"none\"/>\n",
              "    <path d=\"M18.56 5.44l.94 2.06.94-2.06 2.06-.94-2.06-.94-.94-2.06-.94 2.06-2.06.94zm-11 1L8.5 8.5l.94-2.06 2.06-.94-2.06-.94L8.5 2.5l-.94 2.06-2.06.94zm10 10l.94 2.06.94-2.06 2.06-.94-2.06-.94-.94-2.06-.94 2.06-2.06.94z\"/><path d=\"M17.41 7.96l-1.37-1.37c-.4-.4-.92-.59-1.43-.59-.52 0-1.04.2-1.43.59L10.3 9.45l-7.72 7.72c-.78.78-.78 2.05 0 2.83L4 21.41c.39.39.9.59 1.41.59.51 0 1.02-.2 1.41-.59l7.78-7.78 2.81-2.81c.8-.78.8-2.07 0-2.86zM5.41 20L4 18.59l7.72-7.72 1.47 1.35L5.41 20z\"/>\n",
              "  </svg>\n",
              "      </button>\n",
              "      \n",
              "  <style>\n",
              "    .colab-df-container {\n",
              "      display:flex;\n",
              "      flex-wrap:wrap;\n",
              "      gap: 12px;\n",
              "    }\n",
              "\n",
              "    .colab-df-convert {\n",
              "      background-color: #E8F0FE;\n",
              "      border: none;\n",
              "      border-radius: 50%;\n",
              "      cursor: pointer;\n",
              "      display: none;\n",
              "      fill: #1967D2;\n",
              "      height: 32px;\n",
              "      padding: 0 0 0 0;\n",
              "      width: 32px;\n",
              "    }\n",
              "\n",
              "    .colab-df-convert:hover {\n",
              "      background-color: #E2EBFA;\n",
              "      box-shadow: 0px 1px 2px rgba(60, 64, 67, 0.3), 0px 1px 3px 1px rgba(60, 64, 67, 0.15);\n",
              "      fill: #174EA6;\n",
              "    }\n",
              "\n",
              "    [theme=dark] .colab-df-convert {\n",
              "      background-color: #3B4455;\n",
              "      fill: #D2E3FC;\n",
              "    }\n",
              "\n",
              "    [theme=dark] .colab-df-convert:hover {\n",
              "      background-color: #434B5C;\n",
              "      box-shadow: 0px 1px 3px 1px rgba(0, 0, 0, 0.15);\n",
              "      filter: drop-shadow(0px 1px 2px rgba(0, 0, 0, 0.3));\n",
              "      fill: #FFFFFF;\n",
              "    }\n",
              "  </style>\n",
              "\n",
              "      <script>\n",
              "        const buttonEl =\n",
              "          document.querySelector('#df-1119a31b-6346-4730-b4f9-f8748cd67f7b button.colab-df-convert');\n",
              "        buttonEl.style.display =\n",
              "          google.colab.kernel.accessAllowed ? 'block' : 'none';\n",
              "\n",
              "        async function convertToInteractive(key) {\n",
              "          const element = document.querySelector('#df-1119a31b-6346-4730-b4f9-f8748cd67f7b');\n",
              "          const dataTable =\n",
              "            await google.colab.kernel.invokeFunction('convertToInteractive',\n",
              "                                                     [key], {});\n",
              "          if (!dataTable) return;\n",
              "\n",
              "          const docLinkHtml = 'Like what you see? Visit the ' +\n",
              "            '<a target=\"_blank\" href=https://colab.research.google.com/notebooks/data_table.ipynb>data table notebook</a>'\n",
              "            + ' to learn more about interactive tables.';\n",
              "          element.innerHTML = '';\n",
              "          dataTable['output_type'] = 'display_data';\n",
              "          await google.colab.output.renderOutput(dataTable, element);\n",
              "          const docLink = document.createElement('div');\n",
              "          docLink.innerHTML = docLinkHtml;\n",
              "          element.appendChild(docLink);\n",
              "        }\n",
              "      </script>\n",
              "    </div>\n",
              "  </div>\n",
              "  "
            ],
            "text/plain": [
              "                             model_name  training_time  accuracy\n",
              "0                    Single Dense Layer          28.75    0.4595\n",
              "1                  Several Dense Layers          20.95    0.5010\n",
              "2                 Increasing Batch Size           6.62    0.4681\n",
              "3                 Adding Dropout Layers          13.55    0.4465\n",
              "4   Simple Convolutional Neural Network          12.44    0.6255\n",
              "5  Complex Convolutional Neural Network          16.69    0.6749\n",
              "6                        VGG16-like CNN          38.62    0.7061\n",
              "7           CNN using Data Augmentation          22.56    0.3061"
            ]
          },
          "metadata": {},
          "execution_count": 107
        }
      ]
    },
    {
      "cell_type": "code",
      "source": [
        "plt.title('Neural Network Accuracy')\n",
        "plt.bar(x = df['model_name'], height = df['accuracy'])\n",
        "plt.axhline(y=ACC_TARGET, color='r', linestyle='-')\n",
        "plt.xticks(rotation = 90)\n",
        "plt.show()\n",
        "\n",
        "plt.title('Training elapsed time')\n",
        "plt.bar(x = df['model_name'], height = df['training_time'])\n",
        "plt.xticks(rotation = 90)\n",
        "plt.show()"
      ],
      "metadata": {
        "colab": {
          "base_uri": "https://localhost:8080/",
          "height": 917
        },
        "id": "9H_9hDAR-I1U",
        "outputId": "f4827b84-ae02-4892-843e-fa20117bea22"
      },
      "execution_count": 109,
      "outputs": [
        {
          "output_type": "display_data",
          "data": {
            "image/png": "[encoded data removed]",
            "text/plain": [
              "<Figure size 432x288 with 1 Axes>"
            ]
          },
          "metadata": {
            "needs_background": "light"
          }
        },
        {
          "output_type": "display_data",
          "data": {
            "image/png": "[encoded data removed]",
            "text/plain": [
              "<Figure size 432x288 with 1 Axes>"
            ]
          },
          "metadata": {
            "needs_background": "light"
          }
        }
      ]
    },
    {
      "cell_type": "code",
      "execution_count": 40,
      "metadata": {
        "id": "h_A0S1Ua8TBl",
        "colab": {
          "base_uri": "https://localhost:8080/",
          "height": 70
        },
        "outputId": "0b09d463-33b7-4136-d9a1-7a24040f5eec"
      },
      "outputs": [
        {
          "output_type": "execute_result",
          "data": {
            "application/vnd.google.colaboratory.intrinsic+json": {
              "type": "string"
            },
            "text/plain": [
              "\"\\n\\n# Test Accuracy\\nplt.title('Cross Entropy Loss')\\nplt.plot(history.history['loss'], color='blue', label='train')\\nplt.plot(history.history['val_loss'], color='orange', label='val')\\nplt.legend()\\nplt.show()\\n\\n# accuracy plot\\nplt.title('Classification Accuracy')\\nplt.plot(history.history['accuracy'], color='blue', label='train')\\nplt.plot(history.history['val_accuracy'], color='orange', label='val')\\nplt.legend()\\nplt.show()\\n\""
            ]
          },
          "metadata": {},
          "execution_count": 40
        }
      ],
      "source": [
        "# plotting results\n",
        "\n",
        "\"\"\"\n",
        "\n",
        "# Test Accuracy\n",
        "plt.title('Cross Entropy Loss')\n",
        "plt.plot(history.history['loss'], color='blue', label='train')\n",
        "plt.plot(history.history['val_loss'], color='orange', label='val')\n",
        "plt.legend()\n",
        "plt.show()\n",
        "\n",
        "# accuracy plot\n",
        "plt.title('Classification Accuracy')\n",
        "plt.plot(history.history['accuracy'], color='blue', label='train')\n",
        "plt.plot(history.history['val_accuracy'], color='orange', label='val')\n",
        "plt.legend()\n",
        "plt.show()\n",
        "\"\"\""
      ]
    },
    {
      "cell_type": "code",
      "execution_count": 41,
      "metadata": {
        "id": "d8SVeAR8oa_y"
      },
      "outputs": [],
      "source": [
        "# TODO: Keep the model for later\n",
        "\n",
        "#model = ks.Sequential()\n",
        "\n",
        "#model.add(ks.layers.Conv2D(32, (3, 3), strides=1, activation='relu', padding='same', input_shape=INPUT_SHAPE))\n",
        "#model.add(ks.layers.MaxPooling2D((2, 2)))\n",
        "\n",
        "#model.add(ks.layers.Flatten()) \n",
        "#model.add(ks.layers.Dense(32, activation='relu'))\n",
        "#model.add(ks.layers.Dense(10, activation='softmax'))"
      ]
    },
    {
      "cell_type": "code",
      "source": [
        "\"\"\"\n",
        "weight_decay = 1e-4\n",
        "model = Sequential()\n",
        "model.add(Conv2D(32, (3,3), padding='same', kernel_regularizer=regularizers.l2(weight_decay), input_shape=x_train.shape[1:]))\n",
        "model.add(Activation('elu'))\n",
        "model.add(BatchNormalization())\n",
        "model.add(Conv2D(32, (3,3), padding='same', kernel_regularizer=regularizers.l2(weight_decay)))\n",
        "model.add(Activation('elu'))\n",
        "model.add(BatchNormalization())\n",
        "model.add(MaxPooling2D(pool_size=(2,2)))\n",
        "model.add(Dropout(0.2))\n",
        " \n",
        "model.add(Conv2D(64, (3,3), padding='same', kernel_regularizer=regularizers.l2(weight_decay)))\n",
        "model.add(Activation('elu'))\n",
        "model.add(BatchNormalization())\n",
        "model.add(Conv2D(64, (3,3), padding='same', kernel_regularizer=regularizers.l2(weight_decay)))\n",
        "model.add(Activation('elu'))\n",
        "model.add(BatchNormalization())\n",
        "model.add(MaxPooling2D(pool_size=(2,2)))\n",
        "model.add(Dropout(0.3))\n",
        " \n",
        "model.add(Conv2D(128, (3,3), padding='same', kernel_regularizer=regularizers.l2(weight_decay)))\n",
        "model.add(Activation('elu'))\n",
        "model.add(BatchNormalization())\n",
        "model.add(Conv2D(128, (3,3), padding='same', kernel_regularizer=regularizers.l2(weight_decay)))\n",
        "model.add(Activation('elu'))\n",
        "model.add(BatchNormalization())\n",
        "model.add(MaxPooling2D(pool_size=(2,2)))\n",
        "model.add(Dropout(0.4))\n",
        " \n",
        "model.add(Flatten())\n",
        "\"\"\""
      ],
      "metadata": {
        "colab": {
          "base_uri": "https://localhost:8080/",
          "height": 105
        },
        "id": "enOJnlEULUqq",
        "outputId": "3ec41804-257e-4757-8046-80c220711a8e"
      },
      "execution_count": 42,
      "outputs": [
        {
          "output_type": "execute_result",
          "data": {
            "application/vnd.google.colaboratory.intrinsic+json": {
              "type": "string"
            },
            "text/plain": [
              "\"\\nweight_decay = 1e-4\\nmodel = Sequential()\\nmodel.add(Conv2D(32, (3,3), padding='same', kernel_regularizer=regularizers.l2(weight_decay), input_shape=x_train.shape[1:]))\\nmodel.add(Activation('elu'))\\nmodel.add(BatchNormalization())\\nmodel.add(Conv2D(32, (3,3), padding='same', kernel_regularizer=regularizers.l2(weight_decay)))\\nmodel.add(Activation('elu'))\\nmodel.add(BatchNormalization())\\nmodel.add(MaxPooling2D(pool_size=(2,2)))\\nmodel.add(Dropout(0.2))\\n \\nmodel.add(Conv2D(64, (3,3), padding='same', kernel_regularizer=regularizers.l2(weight_decay)))\\nmodel.add(Activation('elu'))\\nmodel.add(BatchNormalization())\\nmodel.add(Conv2D(64, (3,3), padding='same', kernel_regularizer=regularizers.l2(weight_decay)))\\nmodel.add(Activation('elu'))\\nmodel.add(BatchNormalization())\\nmodel.add(MaxPooling2D(pool_size=(2,2)))\\nmodel.add(Dropout(0.3))\\n \\nmodel.add(Conv2D(128, (3,3), padding='same', kernel_regularizer=regularizers.l2(weight_decay)))\\nmodel.add(Activation('elu'))\\nmodel.add(BatchNormalization())\\nmodel.add(Conv2D(128, (3,3), padding='same', kernel_regularizer=regularizers.l2(weight_decay)))\\nmodel.add(Activation('elu'))\\nmodel.add(BatchNormalization())\\nmodel.add(MaxPooling2D(pool_size=(2,2)))\\nmodel.add(Dropout(0.4))\\n \\nmodel.add(Flatten())\\n\""
            ]
          },
          "metadata": {},
          "execution_count": 42
        }
      ]
    },
    {
      "cell_type": "code",
      "source": [
        "# MODEL DEFINITION\n",
        "print(\"DEFINITION\")\n",
        "\n",
        "model = ks.Sequential()\n",
        "\n",
        "# Neural Network Layers\n",
        "\n",
        "model.add(ks.layers.Conv2D(32, (3, 3), activation = 'relu', padding = 'same', input_shape = INPUT_SHAPE))\n",
        "model.add(ks.layers.BatchNormalization())\n",
        "model.add(ks.layers.Conv2D(32, (3, 3), activation = 'relu', padding = 'same'))\n",
        "model.add(ks.layers.BatchNormalization())\n",
        "model.add(ks.layers.MaxPooling2D((2, 2)))\n",
        "model.add(ks.layers.Dropout(0.25))\n",
        "\n",
        "model.add(ks.layers.Conv2D(64, (3, 3), activation = 'relu', padding = 'same'))\n",
        "model.add(ks.layers.BatchNormalization())\n",
        "model.add(ks.layers.Conv2D(64, (3, 3), activation = 'relu', padding = 'same'))\n",
        "model.add(ks.layers.BatchNormalization())\n",
        "model.add(ks.layers.MaxPooling2D((2, 2)))\n",
        "model.add(ks.layers.Dropout(0.3))\n",
        "\n",
        "model.add(ks.layers.Conv2D(128, (3, 3), activation = 'relu', padding = 'same'))\n",
        "model.add(ks.layers.BatchNormalization())\n",
        "model.add(ks.layers.Conv2D(128, (3, 3), activation = 'relu', padding = 'same'))\n",
        "model.add(ks.layers.BatchNormalization())\n",
        "model.add(ks.layers.MaxPooling2D((2, 2)))\n",
        "model.add(ks.layers.Dropout(0.4))\n",
        "\n",
        "model.add(ks.layers.Flatten()) \n",
        "model.add(ks.layers.Dense(10, activation='softmax'))\n",
        "\n",
        "# review model\n",
        "model.summary()\n",
        "\n",
        "\n",
        "# COMPILING MODEL\n",
        "print(\"\\nCompiling model...\")\n",
        "model.compile(optimizer='Adam',\n",
        "              loss='sparse_categorical_crossentropy',\n",
        "              metrics=['accuracy'])\n",
        "\n",
        "\n",
        "# TRAINING\n",
        "print(\"\\nTRAINING\")\n",
        "# calculating computational time\n",
        "t = time.perf_counter()\n",
        "# training model\n",
        "history = model.fit(\n",
        "                    x_train, \n",
        "                    y_train, \n",
        "                    epochs = EPOCHS, \n",
        "                    use_multiprocessing = False, \n",
        "                    batch_size = 512, \n",
        "                    validation_data = (x_val, y_val),\n",
        "                    callbacks = [callback_accuracy, callback_loss]\n",
        "          )\n",
        "# show total elapsed time\n",
        "elapsed_time = datetime.timedelta(seconds=(time.perf_counter() - t))\n",
        "print('\\n\\nTraining time:', elapsed_time)\n",
        "\n",
        "\n",
        "# EVALUATION\n",
        "print(\"\\nEVALUATION\")\n",
        "acc = model_evaluation(model, x_test, y_test, history, False, False)"
      ],
      "metadata": {
        "id": "yTelDrE0yOra"
      },
      "execution_count": null,
      "outputs": []
    },
    {
      "cell_type": "code",
      "source": [
        ""
      ],
      "metadata": {
        "id": "KIYzVVQDzbFl"
      },
      "execution_count": null,
      "outputs": []
    }
  ],
  "metadata": {
    "accelerator": "GPU",
    "colab": {
      "collapsed_sections": [],
      "name": "CNN- Image Classification - CIFAR10 - {Marc_Maycas}.ipynb",
      "provenance": []
    },
    "kernelspec": {
      "display_name": "ml_env",
      "language": "python",
      "name": "ml_env"
    },
    "language_info": {
      "codemirror_mode": {
        "name": "ipython",
        "version": 3
      },
      "file_extension": ".py",
      "mimetype": "text/x-python",
      "name": "python",
      "nbconvert_exporter": "python",
      "pygments_lexer": "ipython3",
      "version": "3.7.4"
    }
  },
  "nbformat": 4,
  "nbformat_minor": 0
}